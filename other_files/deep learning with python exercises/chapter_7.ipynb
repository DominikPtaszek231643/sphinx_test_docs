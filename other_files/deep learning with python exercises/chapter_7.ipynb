{
 "cells": [
  {
   "cell_type": "code",
   "execution_count": 62,
   "id": "initial_id",
   "metadata": {
    "collapsed": true,
    "ExecuteTime": {
     "end_time": "2024-03-10T15:02:37.544097Z",
     "start_time": "2024-03-10T15:02:37.536584Z"
    }
   },
   "outputs": [],
   "source": [
    "import numpy as np\n",
    "import tensorflow as tf\n",
    "\n",
    "keras = tf.keras"
   ]
  },
  {
   "cell_type": "code",
   "outputs": [],
   "source": [
    "\n",
    "num_samples =1000\n",
    "vocabulary_size = 10000\n",
    "\n",
    "num_tags = 100\n",
    "num_departments = 4 \n",
    "\n",
    "\n",
    "title_data = np.random.randint(0,2 , size = (num_samples , vocabulary_size))\n",
    "text_body_data = np.random.randint(0,2 , size = (num_samples, vocabulary_size))\n",
    "\n",
    "tags_data = np.random.randint(0,2 , size = (num_samples, num_tags))\n",
    "\n"
   ],
   "metadata": {
    "collapsed": false,
    "ExecuteTime": {
     "end_time": "2024-03-10T15:02:37.667225Z",
     "start_time": "2024-03-10T15:02:37.548235Z"
    }
   },
   "id": "3fe2b41e07f674ab",
   "execution_count": 63
  },
  {
   "cell_type": "code",
   "outputs": [],
   "source": [
    "priority_data = np.random.random(size = (num_samples, 1 ))\n",
    "# department_data=  np.random.randint(0,num_departments, size= (num_samples, num_departments))\n",
    "# \n",
    "# \n",
    "# \n",
    "# department_data[:10]\n",
    "\n",
    "random_department_labels = np.random.randint(0, num_departments , size = (num_samples,))\n",
    "\n",
    "one_hot_encoded = np.eye(num_departments)[random_department_labels]\n",
    "department_data =  one_hot_encoded\n",
    "\n",
    "\n",
    "\n"
   ],
   "metadata": {
    "collapsed": false,
    "ExecuteTime": {
     "end_time": "2024-03-10T15:02:37.682588Z",
     "start_time": "2024-03-10T15:02:37.668744Z"
    }
   },
   "id": "8c294e90597ab805",
   "execution_count": 64
  },
  {
   "cell_type": "code",
   "outputs": [],
   "source": [],
   "metadata": {
    "collapsed": false,
    "ExecuteTime": {
     "end_time": "2024-03-10T15:02:37.698392Z",
     "start_time": "2024-03-10T15:02:37.683683Z"
    }
   },
   "id": "e869ae121a8e6fb7",
   "execution_count": 64
  },
  {
   "cell_type": "code",
   "outputs": [],
   "source": [
    "from keras import Model,Input\n",
    "from keras.layers import Concatenate, Dense\n",
    "\n",
    "\n",
    "title = Input(shape=(vocabulary_size,) , name='title' )\n",
    "text_body = Input(shape=(vocabulary_size,) , name ='text_body')\n",
    "tags = Input(shape =( num_tags,  ) , name ='tags')\n",
    "\n"
   ],
   "metadata": {
    "collapsed": false,
    "ExecuteTime": {
     "end_time": "2024-03-10T15:02:37.713649Z",
     "start_time": "2024-03-10T15:02:37.700396Z"
    }
   },
   "id": "1f0a3695b8ded37d",
   "execution_count": 65
  },
  {
   "cell_type": "code",
   "outputs": [],
   "source": [
    "features = Concatenate()([title, text_body, tags])\n",
    "\n",
    "\n",
    "features = Dense(64  , activation='relu')(features)\n",
    "\n",
    "priority = Dense(1 , activation='sigmoid' , name='priority')(features)\n",
    "department = Dense(num_departments , activation='softmax' , name='department')(features)\n",
    "\n",
    "\n",
    "\n",
    "\n",
    "model  = Model(inputs=[title, text_body, tags] , outputs = [priority, department])"
   ],
   "metadata": {
    "collapsed": false,
    "ExecuteTime": {
     "end_time": "2024-03-10T15:02:37.777209Z",
     "start_time": "2024-03-10T15:02:37.716082Z"
    }
   },
   "id": "73bf61ee694d74af",
   "execution_count": 66
  },
  {
   "cell_type": "code",
   "outputs": [],
   "source": [
    "model.compile('rmsprop' , loss = {\n",
    "    'priority':'mean_squared_error',\n",
    "    'department':'categorical_crossentropy'\n",
    "} , metrics = {\n",
    "    'priority':['mae'],\n",
    "    'department':['accuracy']\n",
    "})"
   ],
   "metadata": {
    "collapsed": false,
    "ExecuteTime": {
     "end_time": "2024-03-10T15:02:37.792469Z",
     "start_time": "2024-03-10T15:02:37.778382Z"
    }
   },
   "id": "3b971a32ad235b04",
   "execution_count": 67
  },
  {
   "cell_type": "code",
   "outputs": [
    {
     "name": "stdout",
     "output_type": "stream",
     "text": [
      "Epoch 1/5\n",
      "32/32 [==============================] - 1s 6ms/step - loss: 11.3573 - priority_loss: 0.2371 - department_loss: 11.1203 - priority_mae: 0.4023 - department_accuracy: 0.2510\n",
      "Epoch 2/5\n",
      "32/32 [==============================] - 0s 6ms/step - loss: 5.3582 - priority_loss: 0.2430 - department_loss: 5.1151 - priority_mae: 0.4086 - department_accuracy: 0.2820\n",
      "Epoch 3/5\n",
      "32/32 [==============================] - 0s 6ms/step - loss: 4.0302 - priority_loss: 0.1612 - department_loss: 3.8690 - priority_mae: 0.3290 - department_accuracy: 0.2730\n",
      "Epoch 4/5\n",
      "32/32 [==============================] - 0s 6ms/step - loss: 3.6165 - priority_loss: 0.1570 - department_loss: 3.4595 - priority_mae: 0.3234 - department_accuracy: 0.2880\n",
      "Epoch 5/5\n",
      "32/32 [==============================] - 0s 7ms/step - loss: 3.1444 - priority_loss: 0.1520 - department_loss: 2.9925 - priority_mae: 0.3209 - department_accuracy: 0.3770\n"
     ]
    },
    {
     "data": {
      "text/plain": "<keras.src.callbacks.History at 0x15e9703c1f0>"
     },
     "execution_count": 68,
     "metadata": {},
     "output_type": "execute_result"
    }
   ],
   "source": [
    "from keras import callbacks\n",
    "\n",
    "tensorboard = callbacks.TensorBoard(\n",
    "    log_dir='./'\n",
    ")\n",
    "model.fit({\n",
    "    'title':title_data, 'text_body':text_body_data , 'tags':tags_data\n",
    "} , {\n",
    "    'priority':priority_data,\n",
    "    'department':department_data\n",
    "} , epochs = 5 , callbacks=[tensorboard])"
   ],
   "metadata": {
    "collapsed": false,
    "ExecuteTime": {
     "end_time": "2024-03-10T15:02:39.529802Z",
     "start_time": "2024-03-10T15:02:37.794470Z"
    }
   },
   "id": "d366499569000369",
   "execution_count": 68
  },
  {
   "cell_type": "code",
   "outputs": [
    {
     "name": "stdout",
     "output_type": "stream",
     "text": [
      "32/32 [==============================] - 0s 3ms/step - loss: 4.7178 - priority_loss: 0.1711 - department_loss: 4.5467 - priority_mae: 0.3404 - department_accuracy: 0.4690\n"
     ]
    },
    {
     "data": {
      "text/plain": "[4.717846870422363,\n 0.17113500833511353,\n 4.546711444854736,\n 0.3403919041156769,\n 0.4690000116825104]"
     },
     "execution_count": 69,
     "metadata": {},
     "output_type": "execute_result"
    }
   ],
   "source": [
    "model.evaluate({'title':title_data , 'text_body':text_body_data , 'tags':tags_data}, {'priority': priority_data  , 'department':department_data})"
   ],
   "metadata": {
    "collapsed": false,
    "ExecuteTime": {
     "end_time": "2024-03-10T15:02:39.809618Z",
     "start_time": "2024-03-10T15:02:39.530782Z"
    }
   },
   "id": "7b3cd38fd04662aa",
   "execution_count": 69
  },
  {
   "cell_type": "code",
   "outputs": [
    {
     "name": "stdout",
     "output_type": "stream",
     "text": [
      "32/32 [==============================] - 0s 3ms/step\n"
     ]
    }
   ],
   "source": [
    "priority_preds, department_preds = model.predict(\n",
    "{\"title\": title_data, \"text_body\": text_body_data, \"tags\": tags_data})"
   ],
   "metadata": {
    "collapsed": false,
    "ExecuteTime": {
     "end_time": "2024-03-10T15:02:40.012665Z",
     "start_time": "2024-03-10T15:02:39.811596Z"
    }
   },
   "id": "67f982bdffc209c9",
   "execution_count": 70
  },
  {
   "cell_type": "code",
   "outputs": [
    {
     "data": {
      "image/png": "[encoded data removed]",
      "text/plain": "<IPython.core.display.Image object>"
     },
     "execution_count": 71,
     "metadata": {},
     "output_type": "execute_result"
    }
   ],
   "source": [
    "from keras.utils import plot_model\n",
    "\n",
    "\n",
    "plot_model(model, 'ticket_classifier.png')"
   ],
   "metadata": {
    "collapsed": false,
    "ExecuteTime": {
     "end_time": "2024-03-10T15:02:40.105262Z",
     "start_time": "2024-03-10T15:02:40.015682Z"
    }
   },
   "id": "b10350db4bd098d9",
   "execution_count": 71
  },
  {
   "cell_type": "code",
   "outputs": [
    {
     "data": {
      "image/png": "[encoded data removed]",
      "text/plain": "<IPython.core.display.Image object>"
     },
     "execution_count": 72,
     "metadata": {},
     "output_type": "execute_result"
    }
   ],
   "source": [
    "plot_model(model, \"ticket_classifier_shape_info.png\", show_shapes=True)"
   ],
   "metadata": {
    "collapsed": false,
    "ExecuteTime": {
     "end_time": "2024-03-10T15:02:40.197339Z",
     "start_time": "2024-03-10T15:02:40.106325Z"
    }
   },
   "id": "649229d730c41b91",
   "execution_count": 72
  },
  {
   "cell_type": "code",
   "outputs": [],
   "source": [
    "new_features = model.layers[4].output"
   ],
   "metadata": {
    "collapsed": false,
    "ExecuteTime": {
     "end_time": "2024-03-10T15:02:40.212996Z",
     "start_time": "2024-03-10T15:02:40.198893Z"
    }
   },
   "id": "c8ed2976bb36c43e",
   "execution_count": 73
  },
  {
   "cell_type": "code",
   "outputs": [],
   "source": [
    "difficulty = Dense(3, activation='softmax', name='difficulty')(new_features)"
   ],
   "metadata": {
    "collapsed": false,
    "ExecuteTime": {
     "end_time": "2024-03-10T15:02:40.228577Z",
     "start_time": "2024-03-10T15:02:40.214009Z"
    }
   },
   "id": "bf1ea69b9fe457fc",
   "execution_count": 74
  },
  {
   "cell_type": "code",
   "outputs": [],
   "source": [
    "new_model  = Model(inputs =[title, text_body, tags] , outputs = [priority, department , difficulty])"
   ],
   "metadata": {
    "collapsed": false,
    "ExecuteTime": {
     "end_time": "2024-03-10T15:02:40.244602Z",
     "start_time": "2024-03-10T15:02:40.229577Z"
    }
   },
   "id": "d3ca953e831d39b0",
   "execution_count": 75
  },
  {
   "cell_type": "code",
   "outputs": [
    {
     "data": {
      "image/png": "[encoded data removed]",
      "text/plain": "<IPython.core.display.Image object>"
     },
     "execution_count": 76,
     "metadata": {},
     "output_type": "execute_result"
    }
   ],
   "source": [
    "plot_model(new_model , \"updated_ticket_classifier.png\" , show_shapes=True)"
   ],
   "metadata": {
    "collapsed": false,
    "ExecuteTime": {
     "end_time": "2024-03-10T15:02:40.338705Z",
     "start_time": "2024-03-10T15:02:40.246505Z"
    }
   },
   "id": "55cbd15d4fdc95ac",
   "execution_count": 76
  },
  {
   "cell_type": "code",
   "outputs": [],
   "source": [
    "from keras import layers"
   ],
   "metadata": {
    "collapsed": false,
    "ExecuteTime": {
     "end_time": "2024-03-10T15:02:40.354002Z",
     "start_time": "2024-03-10T15:02:40.340077Z"
    }
   },
   "id": "36c9ec3192443b59",
   "execution_count": 77
  },
  {
   "cell_type": "code",
   "outputs": [],
   "source": [
    "class CustomerTicketModel(keras.Model):\n",
    "    def __init__(self, num_departments):\n",
    "        super().__init__()\n",
    "        \n",
    "        self.concat_layer= layers.Concatenate()\n",
    "        self.mixing_layer = layers.Dense(64, activation='relu')\n",
    "        self.priority_scorer = layers.Dense(1, activation='sigmoid')\n",
    "        self.department_classifier = layers.Dense(num_departments, activation='softmax')\n",
    "        \n",
    "        \n",
    "    def call(self, inputs):\n",
    "        title = inputs['title']\n",
    "        text_body = inputs['text_body']\n",
    "        tags = inputs['tags']\n",
    "            \n",
    "        features = self.concat_layer([title, text_body, tags])\n",
    "        features = self.mixing_layer(features)\n",
    "            \n",
    "        priority = self.priority_scorer(features)\n",
    "            \n",
    "        department = self.department_classifier(features)\n",
    "        return priority, department "
   ],
   "metadata": {
    "collapsed": false,
    "ExecuteTime": {
     "end_time": "2024-03-10T15:02:40.369373Z",
     "start_time": "2024-03-10T15:02:40.356401Z"
    }
   },
   "id": "ddb3ad56085027d8",
   "execution_count": 78
  },
  {
   "cell_type": "code",
   "outputs": [],
   "source": [
    "model = CustomerTicketModel(num_departments = 4 )"
   ],
   "metadata": {
    "collapsed": false,
    "ExecuteTime": {
     "end_time": "2024-03-10T15:02:40.384405Z",
     "start_time": "2024-03-10T15:02:40.371374Z"
    }
   },
   "id": "512bff5570027cf6",
   "execution_count": 79
  },
  {
   "cell_type": "code",
   "outputs": [],
   "source": [
    "priority, department = model(inputs = {'title':title_data , 'text_body' : text_body_data , 'tags':tags_data})"
   ],
   "metadata": {
    "collapsed": false,
    "ExecuteTime": {
     "end_time": "2024-03-10T15:02:40.478288Z",
     "start_time": "2024-03-10T15:02:40.386410Z"
    }
   },
   "id": "2ced09bf828564e8",
   "execution_count": 80
  },
  {
   "cell_type": "code",
   "outputs": [
    {
     "name": "stdout",
     "output_type": "stream",
     "text": [
      "32/32 [==============================] - 1s 5ms/step - loss: 11.2419 - output_1_loss: 0.3308 - output_2_loss: 10.9111 - output_1_mean_absolute_error: 0.4988 - output_2_accuracy: 0.2250\n",
      "32/32 [==============================] - 0s 3ms/step - loss: 2.9735 - output_1_loss: 0.3310 - output_2_loss: 2.6425 - output_1_mean_absolute_error: 0.4979 - output_2_accuracy: 0.2720\n",
      "32/32 [==============================] - 0s 3ms/step\n"
     ]
    }
   ],
   "source": [
    "model.compile(optimizer=\"rmsprop\",\n",
    "loss=[\"mean_squared_error\", \"categorical_crossentropy\"], \n",
    "metrics=[[\"mean_absolute_error\"], [\"accuracy\"]])\n",
    "model.fit({\"title\": title_data, \n",
    "\"text_body\": text_body_data, \n",
    "\"tags\": tags_data}, \n",
    "[priority_data, department_data], \n",
    "epochs=1)\n",
    "model.evaluate({\"title\": title_data,\n",
    "\"text_body\": text_body_data,\n",
    "\"tags\": tags_data},\n",
    "[priority_data, department_data])\n",
    "priority_preds, department_preds = model.predict({\"title\": title_data,\n",
    "\"text_body\": text_body_data,\n",
    "\"tags\": tags_data})\n"
   ],
   "metadata": {
    "collapsed": false,
    "ExecuteTime": {
     "end_time": "2024-03-10T15:02:41.674429Z",
     "start_time": "2024-03-10T15:02:40.480289Z"
    }
   },
   "id": "ba0ced33f127a4ce",
   "execution_count": 81
  },
  {
   "cell_type": "code",
   "outputs": [],
   "source": [],
   "metadata": {
    "collapsed": false,
    "ExecuteTime": {
     "end_time": "2024-03-10T15:02:41.689557Z",
     "start_time": "2024-03-10T15:02:41.675410Z"
    }
   },
   "id": "ed2fa13cc789bb39",
   "execution_count": 81
  }
 ],
 "metadata": {
  "kernelspec": {
   "display_name": "Python 3",
   "language": "python",
   "name": "python3"
  },
  "language_info": {
   "codemirror_mode": {
    "name": "ipython",
    "version": 2
   },
   "file_extension": ".py",
   "mimetype": "text/x-python",
   "name": "python",
   "nbconvert_exporter": "python",
   "pygments_lexer": "ipython2",
   "version": "2.7.6"
  }
 },
 "nbformat": 4,
 "nbformat_minor": 5
}

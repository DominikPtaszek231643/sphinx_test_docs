{
 "cells": [
  {
   "cell_type": "markdown",
   "metadata": {},
   "source": [
    "# Practical Assignment I: Multilayer Perceptrons"
   ]
  },
  {
   "cell_type": "markdown",
   "metadata": {},
   "source": [
    "Multilayer perceptron (MLP) is a fully connected, feedforward neural network architecture. It consists of one input layer, one or more hidden layers, and one output layer. Each layer consists of units (also called neurons, or nodes).\n",
    "\n",
    "Each unit is connected to every unit in a neighboring layer, hence fully connected. This is why in Keras these layers are called `Dense`. Information flows from left to right, hence feedforward.\n",
    "\n",
    "<img src=\"https://edirlei.com/images/nn1.png\" width=\"800\">"
   ]
  },
  {
   "cell_type": "markdown",
   "metadata": {},
   "source": [
    "**Learning objectives:**\n",
    "\n",
    "At the end of this DataLab, you will be able to build MLPs using Keras for the following problem types:\n",
    "\n",
    " - Regression\n",
    " - Binary classification\n",
    " - Multi-class classification\n",
    " - Multi-label classification\n",
    " \n",
    "For each type, you will be given a suitable dataset. Then you will:\n",
    "\n",
    " - Pre-process the data if needed\n",
    " - Create a `Sequential()` model\n",
    " - Compile the model by defining a loss function, an optimizer and the metrics to be calculated\n",
    " - Train the model using the `fit()` method\n",
    " - Test the model using the `predict()` and `evaluate()` methods\n",
    " \n",
    " \n",
    " **Notebook contents:**\n",
    " \n",
    " 1. Regression\n",
    " 2. Binary classification\n",
    " 3. Multi-class classification\n",
    " 4. Multi-label classification"
   ]
  },
  {
   "cell_type": "markdown",
   "metadata": {},
   "source": [
    "**Packages:**\n",
    "\n",
    "Let's start by importing the basic packages required for this DataLab:"
   ]
  },
  {
   "cell_type": "code",
   "execution_count": 1,
   "metadata": {
    "ExecuteTime": {
     "end_time": "2024-03-02T16:40:06.551300800Z",
     "start_time": "2024-03-02T16:40:06.536647900Z"
    }
   },
   "outputs": [],
   "source": [
    "import pandas as pd\n",
    "import numpy as np\n",
    "import matplotlib.pyplot as plt"
   ]
  },
  {
   "cell_type": "markdown",
   "metadata": {},
   "source": [
    "## 1. Regression"
   ]
  },
  {
   "cell_type": "markdown",
   "metadata": {},
   "source": [
    "The goal of a regression task is to predict a continuous outcome variable (dependent variable) based on one or more predictor variables (independent variables).\n",
    "\n",
    "**The dataset**\n",
    "\n",
    "In this task, you will use the diabetes dataset provided by `scikit-learn`.\n",
    "\n",
    "Please read the dataset documentation before you start:\n",
    "\n",
    "https://scikit-learn.org/stable/datasets/toy_dataset.html#diabetes-dataset\n",
    "\n",
    "Now let's load the data and display some samples from the dataset:"
   ]
  },
  {
   "cell_type": "code",
   "execution_count": 2,
   "metadata": {
    "ExecuteTime": {
     "end_time": "2024-03-02T16:40:06.819804Z",
     "start_time": "2024-03-02T16:40:06.553301700Z"
    }
   },
   "outputs": [
    {
     "name": "stdout",
     "output_type": "stream",
     "text": [
      "(442, 1)\n",
      "['age', 'sex', 'bmi', 'bp', 's1', 's2', 's3', 's4', 's5', 's6']\n"
     ]
    },
    {
     "data": {
      "text/plain": "        age       sex       bmi        bp        s1        s2        s3  \\\n0  0.038076  0.050680  0.061696  0.021872 -0.044223 -0.034821 -0.043401   \n1 -0.001882 -0.044642 -0.051474 -0.026328 -0.008449 -0.019163  0.074412   \n2  0.085299  0.050680  0.044451 -0.005670 -0.045599 -0.034194 -0.032356   \n3 -0.089063 -0.044642 -0.011595 -0.036656  0.012191  0.024991 -0.036038   \n4  0.005383 -0.044642 -0.036385  0.021872  0.003935  0.015596  0.008142   \n\n         s4        s5        s6  disease progression  \n0 -0.002592  0.019907 -0.017646                151.0  \n1 -0.039493 -0.068332 -0.092204                 75.0  \n2 -0.002592  0.002861 -0.025930                141.0  \n3  0.034309  0.022688 -0.009362                206.0  \n4 -0.002592 -0.031988 -0.046641                135.0  ",
      "text/html": "<div>\n<style scoped>\n    .dataframe tbody tr th:only-of-type {\n        vertical-align: middle;\n    }\n\n    .dataframe tbody tr th {\n        vertical-align: top;\n    }\n\n    .dataframe thead th {\n        text-align: right;\n    }\n</style>\n<table border=\"1\" class=\"dataframe\">\n  <thead>\n    <tr style=\"text-align: right;\">\n      <th></th>\n      <th>age</th>\n      <th>sex</th>\n      <th>bmi</th>\n      <th>bp</th>\n      <th>s1</th>\n      <th>s2</th>\n      <th>s3</th>\n      <th>s4</th>\n      <th>s5</th>\n      <th>s6</th>\n      <th>disease progression</th>\n    </tr>\n  </thead>\n  <tbody>\n    <tr>\n      <th>0</th>\n      <td>0.038076</td>\n      <td>0.050680</td>\n      <td>0.061696</td>\n      <td>0.021872</td>\n      <td>-0.044223</td>\n      <td>-0.034821</td>\n      <td>-0.043401</td>\n      <td>-0.002592</td>\n      <td>0.019907</td>\n      <td>-0.017646</td>\n      <td>151.0</td>\n    </tr>\n    <tr>\n      <th>1</th>\n      <td>-0.001882</td>\n      <td>-0.044642</td>\n      <td>-0.051474</td>\n      <td>-0.026328</td>\n      <td>-0.008449</td>\n      <td>-0.019163</td>\n      <td>0.074412</td>\n      <td>-0.039493</td>\n      <td>-0.068332</td>\n      <td>-0.092204</td>\n      <td>75.0</td>\n    </tr>\n    <tr>\n      <th>2</th>\n      <td>0.085299</td>\n      <td>0.050680</td>\n      <td>0.044451</td>\n      <td>-0.005670</td>\n      <td>-0.045599</td>\n      <td>-0.034194</td>\n      <td>-0.032356</td>\n      <td>-0.002592</td>\n      <td>0.002861</td>\n      <td>-0.025930</td>\n      <td>141.0</td>\n    </tr>\n    <tr>\n      <th>3</th>\n      <td>-0.089063</td>\n      <td>-0.044642</td>\n      <td>-0.011595</td>\n      <td>-0.036656</td>\n      <td>0.012191</td>\n      <td>0.024991</td>\n      <td>-0.036038</td>\n      <td>0.034309</td>\n      <td>0.022688</td>\n      <td>-0.009362</td>\n      <td>206.0</td>\n    </tr>\n    <tr>\n      <th>4</th>\n      <td>0.005383</td>\n      <td>-0.044642</td>\n      <td>-0.036385</td>\n      <td>0.021872</td>\n      <td>0.003935</td>\n      <td>0.015596</td>\n      <td>0.008142</td>\n      <td>-0.002592</td>\n      <td>-0.031988</td>\n      <td>-0.046641</td>\n      <td>135.0</td>\n    </tr>\n  </tbody>\n</table>\n</div>"
     },
     "execution_count": 2,
     "metadata": {},
     "output_type": "execute_result"
    }
   ],
   "source": [
    "from sklearn import datasets\n",
    "import numpy as np\n",
    "diabetes = datasets.load_diabetes()\n",
    "X = np.array(diabetes.data)\n",
    "y = np.array(diabetes.target).reshape((-1, 1))\n",
    "print(y.shape)\n",
    "names = diabetes.feature_names\n",
    "print(names)\n",
    "Xy_combined = np.concatenate((X, y), axis=1)\n",
    "df = pd.DataFrame(Xy_combined,\n",
    "                  columns=names + ['disease progression'])\n",
    "df.head()"
   ]
  },
  {
   "cell_type": "markdown",
   "metadata": {},
   "source": [
    "Let's split the dataset into a training set and a testing set using function ``train_test_split``:"
   ]
  },
  {
   "cell_type": "code",
   "execution_count": 3,
   "metadata": {
    "ExecuteTime": {
     "end_time": "2024-03-02T16:40:06.934105100Z",
     "start_time": "2024-03-02T16:40:06.821799700Z"
    }
   },
   "outputs": [],
   "source": [
    "from sklearn.model_selection import train_test_split\n",
    "X_train, X_test, y_train, y_test = train_test_split(X,\n",
    "                                                    y,\n",
    "                                                    test_size=0.33,\n",
    "                                                    random_state=0)"
   ]
  },
  {
   "cell_type": "markdown",
   "metadata": {},
   "source": [
    "Now we can visualize the dimensions of the sets:"
   ]
  },
  {
   "cell_type": "code",
   "execution_count": 4,
   "metadata": {
    "ExecuteTime": {
     "end_time": "2024-03-02T16:40:06.935101400Z",
     "start_time": "2024-03-02T16:40:06.880440100Z"
    }
   },
   "outputs": [
    {
     "data": {
      "text/plain": "((296, 10), (146, 10), (296, 1), (146, 1))"
     },
     "execution_count": 4,
     "metadata": {},
     "output_type": "execute_result"
    }
   ],
   "source": [
    "X_train.shape, X_test.shape, y_train.shape, y_test.shape"
   ]
  },
  {
   "cell_type": "markdown",
   "metadata": {},
   "source": [
    "**Task 1.1**\n",
    "Build an MLP suitable for the diabetes dataset. Use a `Sequential()` model and `Dense` layers from Keras. You are free to pick any number of hidden layers and any number of units per layer as long as it works.  Use suitable activation functions."
   ]
  },
  {
   "cell_type": "code",
   "execution_count": 47,
   "metadata": {
    "ExecuteTime": {
     "end_time": "2024-03-02T16:53:39.820855500Z",
     "start_time": "2024-03-02T16:53:39.761119400Z"
    }
   },
   "outputs": [],
   "source": [
    "# YOUR CODE HERE #\n",
    "import tensorflow as tf\n",
    "\n",
    "keras = tf.keras\n",
    "from keras import Sequential\n",
    "from keras import  layers\n",
    "\n",
    "model = Sequential([\n",
    "    layers.Dense(units = 256 , activation='relu'),\n",
    "layers.Dense(units=64 , activation='relu'),\n",
    "layers.Dense(units = 16 , activation='relu'),\n",
    "\n",
    "layers.Dense(units = 1  , activation='linear')\n",
    "\n",
    "])\n",
    "\n",
    "\n",
    "\n",
    "\n"
   ]
  },
  {
   "cell_type": "markdown",
   "metadata": {},
   "source": [
    "**Task 1.2**\n",
    "Using `model.compile()`, compile the model. Select a suitable optimizer and a suitable loss function. Also include a metric or metrics."
   ]
  },
  {
   "cell_type": "code",
   "execution_count": 48,
   "metadata": {
    "ExecuteTime": {
     "end_time": "2024-03-02T16:53:40.516109Z",
     "start_time": "2024-03-02T16:53:40.458995900Z"
    }
   },
   "outputs": [],
   "source": [
    "# YOUR CODE HERE #\n",
    "model.compile(optimizer='Adam' , loss = 'mse' , metrics=['mae'])"
   ]
  },
  {
   "cell_type": "markdown",
   "metadata": {},
   "source": [
    "**Task 1.3** Using `model.fit()` Train the model on X_train, y_train and use X_test, y_test as validation data. Pick a suitable number of epochs and batch size."
   ]
  },
  {
   "cell_type": "code",
   "execution_count": 49,
   "metadata": {
    "ExecuteTime": {
     "end_time": "2024-03-02T16:53:45.431873200Z",
     "start_time": "2024-03-02T16:53:40.874360900Z"
    }
   },
   "outputs": [
    {
     "name": "stdout",
     "output_type": "stream",
     "text": [
      "Epoch 1/50\n",
      "13/13 [==============================] - 1s 18ms/step - loss: 29102.9297 - mae: 151.1569 - val_loss: 28860.1445 - val_mae: 153.5975\n",
      "Epoch 2/50\n",
      "13/13 [==============================] - 0s 5ms/step - loss: 28946.6562 - mae: 150.6460 - val_loss: 28580.2227 - val_mae: 152.7027\n",
      "Epoch 3/50\n",
      "13/13 [==============================] - 0s 6ms/step - loss: 28499.7812 - mae: 149.2172 - val_loss: 27850.4863 - val_mae: 150.3561\n",
      "Epoch 4/50\n",
      "13/13 [==============================] - 0s 6ms/step - loss: 27449.3984 - mae: 145.7506 - val_loss: 26215.5039 - val_mae: 144.9958\n",
      "Epoch 5/50\n",
      "13/13 [==============================] - 0s 5ms/step - loss: 25219.9102 - mae: 138.2879 - val_loss: 23102.8691 - val_mae: 134.2336\n",
      "Epoch 6/50\n",
      "13/13 [==============================] - 0s 6ms/step - loss: 21316.5059 - mae: 124.0975 - val_loss: 18053.8496 - val_mae: 114.7451\n",
      "Epoch 7/50\n",
      "13/13 [==============================] - 0s 5ms/step - loss: 15780.5928 - mae: 100.7598 - val_loss: 11563.5928 - val_mae: 86.0502\n",
      "Epoch 8/50\n",
      "13/13 [==============================] - 0s 5ms/step - loss: 9280.1973 - mae: 73.5413 - val_loss: 5911.6577 - val_mae: 59.3936\n",
      "Epoch 9/50\n",
      "13/13 [==============================] - 0s 5ms/step - loss: 5164.8066 - mae: 58.3153 - val_loss: 3828.4194 - val_mae: 50.9689\n",
      "Epoch 10/50\n",
      "13/13 [==============================] - 0s 5ms/step - loss: 4223.2173 - mae: 56.5637 - val_loss: 3811.0500 - val_mae: 51.6582\n",
      "Epoch 11/50\n",
      "13/13 [==============================] - 0s 5ms/step - loss: 4047.3669 - mae: 55.3669 - val_loss: 3571.2617 - val_mae: 49.1984\n",
      "Epoch 12/50\n",
      "13/13 [==============================] - 0s 5ms/step - loss: 3866.4553 - mae: 53.1715 - val_loss: 3503.0588 - val_mae: 48.2423\n",
      "Epoch 13/50\n",
      "13/13 [==============================] - 0s 6ms/step - loss: 3723.9712 - mae: 52.0113 - val_loss: 3410.1396 - val_mae: 47.6870\n",
      "Epoch 14/50\n",
      "13/13 [==============================] - 0s 7ms/step - loss: 3630.0977 - mae: 51.3552 - val_loss: 3350.8130 - val_mae: 47.1618\n",
      "Epoch 15/50\n",
      "13/13 [==============================] - 0s 6ms/step - loss: 3541.0408 - mae: 50.5065 - val_loss: 3298.2454 - val_mae: 46.7160\n",
      "Epoch 16/50\n",
      "13/13 [==============================] - 0s 6ms/step - loss: 3466.3301 - mae: 49.9084 - val_loss: 3251.6536 - val_mae: 46.3052\n",
      "Epoch 17/50\n",
      "13/13 [==============================] - 0s 5ms/step - loss: 3393.2612 - mae: 49.2093 - val_loss: 3210.9790 - val_mae: 45.9215\n",
      "Epoch 18/50\n",
      "13/13 [==============================] - 0s 5ms/step - loss: 3333.9866 - mae: 48.4994 - val_loss: 3182.1277 - val_mae: 45.6213\n",
      "Epoch 19/50\n",
      "13/13 [==============================] - 0s 5ms/step - loss: 3304.4387 - mae: 48.2056 - val_loss: 3150.1526 - val_mae: 45.4670\n",
      "Epoch 20/50\n",
      "13/13 [==============================] - 0s 6ms/step - loss: 3236.6836 - mae: 47.5928 - val_loss: 3124.2595 - val_mae: 45.1135\n",
      "Epoch 21/50\n",
      "13/13 [==============================] - 0s 6ms/step - loss: 3191.5696 - mae: 47.0775 - val_loss: 3099.8125 - val_mae: 44.9829\n",
      "Epoch 22/50\n",
      "13/13 [==============================] - 0s 6ms/step - loss: 3150.3586 - mae: 46.8053 - val_loss: 3085.8081 - val_mae: 44.9618\n",
      "Epoch 23/50\n",
      "13/13 [==============================] - 0s 5ms/step - loss: 3113.9949 - mae: 46.4417 - val_loss: 3067.2205 - val_mae: 44.7570\n",
      "Epoch 24/50\n",
      "13/13 [==============================] - 0s 5ms/step - loss: 3077.2820 - mae: 46.0002 - val_loss: 3052.4817 - val_mae: 44.5608\n",
      "Epoch 25/50\n",
      "13/13 [==============================] - 0s 6ms/step - loss: 3044.3030 - mae: 45.7749 - val_loss: 3044.0911 - val_mae: 44.5021\n",
      "Epoch 26/50\n",
      "13/13 [==============================] - 0s 5ms/step - loss: 3030.4871 - mae: 45.4659 - val_loss: 3037.9192 - val_mae: 44.2915\n",
      "Epoch 27/50\n",
      "13/13 [==============================] - 0s 6ms/step - loss: 2987.8335 - mae: 45.1295 - val_loss: 3032.3994 - val_mae: 44.3706\n",
      "Epoch 28/50\n",
      "13/13 [==============================] - 0s 6ms/step - loss: 2963.9338 - mae: 44.8382 - val_loss: 3024.8186 - val_mae: 44.2999\n",
      "Epoch 29/50\n",
      "13/13 [==============================] - 0s 6ms/step - loss: 2951.3867 - mae: 44.6907 - val_loss: 3025.7168 - val_mae: 44.1753\n",
      "Epoch 30/50\n",
      "13/13 [==============================] - 0s 5ms/step - loss: 2927.9390 - mae: 44.4199 - val_loss: 3021.1726 - val_mae: 44.1002\n",
      "Epoch 31/50\n",
      "13/13 [==============================] - 0s 5ms/step - loss: 2928.5361 - mae: 44.4244 - val_loss: 3022.9275 - val_mae: 44.2755\n",
      "Epoch 32/50\n",
      "13/13 [==============================] - 0s 5ms/step - loss: 2906.4219 - mae: 44.2079 - val_loss: 3020.1836 - val_mae: 44.0873\n",
      "Epoch 33/50\n",
      "13/13 [==============================] - 0s 5ms/step - loss: 2886.3540 - mae: 43.9693 - val_loss: 3029.0928 - val_mae: 44.3462\n",
      "Epoch 34/50\n",
      "13/13 [==============================] - 0s 5ms/step - loss: 2867.3853 - mae: 43.8409 - val_loss: 3022.3577 - val_mae: 44.0597\n",
      "Epoch 35/50\n",
      "13/13 [==============================] - 0s 6ms/step - loss: 2870.2974 - mae: 43.7658 - val_loss: 3033.0200 - val_mae: 44.3158\n",
      "Epoch 36/50\n",
      "13/13 [==============================] - 0s 6ms/step - loss: 2853.7893 - mae: 43.6343 - val_loss: 3035.8606 - val_mae: 44.3226\n",
      "Epoch 37/50\n",
      "13/13 [==============================] - 0s 6ms/step - loss: 2833.3582 - mae: 43.4667 - val_loss: 3034.0867 - val_mae: 44.0892\n",
      "Epoch 38/50\n",
      "13/13 [==============================] - 0s 5ms/step - loss: 2839.7981 - mae: 43.4175 - val_loss: 3042.6357 - val_mae: 44.0341\n",
      "Epoch 39/50\n",
      "13/13 [==============================] - 0s 6ms/step - loss: 2829.9265 - mae: 43.2985 - val_loss: 3046.0212 - val_mae: 44.1507\n",
      "Epoch 40/50\n",
      "13/13 [==============================] - 0s 5ms/step - loss: 2843.5583 - mae: 43.5728 - val_loss: 3058.4087 - val_mae: 44.4179\n",
      "Epoch 41/50\n",
      "13/13 [==============================] - 0s 6ms/step - loss: 2844.9934 - mae: 43.3372 - val_loss: 3066.5208 - val_mae: 43.9356\n",
      "Epoch 42/50\n",
      "13/13 [==============================] - 0s 5ms/step - loss: 2812.1143 - mae: 43.1306 - val_loss: 3065.1362 - val_mae: 44.3482\n",
      "Epoch 43/50\n",
      "13/13 [==============================] - 0s 5ms/step - loss: 2837.4270 - mae: 43.2903 - val_loss: 3080.5154 - val_mae: 44.6094\n",
      "Epoch 44/50\n",
      "13/13 [==============================] - 0s 5ms/step - loss: 2831.4258 - mae: 43.3227 - val_loss: 3083.9524 - val_mae: 44.0422\n",
      "Epoch 45/50\n",
      "13/13 [==============================] - 0s 5ms/step - loss: 2808.3967 - mae: 43.2726 - val_loss: 3090.4211 - val_mae: 44.6964\n",
      "Epoch 46/50\n",
      "13/13 [==============================] - 0s 5ms/step - loss: 2829.7993 - mae: 43.1697 - val_loss: 3080.6824 - val_mae: 44.0959\n",
      "Epoch 47/50\n",
      "13/13 [==============================] - 0s 5ms/step - loss: 2797.9065 - mae: 43.0993 - val_loss: 3095.8196 - val_mae: 44.6864\n",
      "Epoch 48/50\n",
      "13/13 [==============================] - 0s 5ms/step - loss: 2807.4990 - mae: 42.9922 - val_loss: 3085.7205 - val_mae: 44.2052\n",
      "Epoch 49/50\n",
      "13/13 [==============================] - 0s 5ms/step - loss: 2789.9653 - mae: 42.9621 - val_loss: 3095.2820 - val_mae: 44.6174\n",
      "Epoch 50/50\n",
      "13/13 [==============================] - 0s 6ms/step - loss: 2783.7209 - mae: 42.7983 - val_loss: 3091.7090 - val_mae: 44.3890\n"
     ]
    },
    {
     "data": {
      "text/plain": "<keras.src.callbacks.History at 0x25f66538370>"
     },
     "execution_count": 49,
     "metadata": {},
     "output_type": "execute_result"
    }
   ],
   "source": [
    "# YOUR CODE HERE #\n",
    "model.fit(X_train,y_train,  batch_size=24 , epochs = 50 , validation_data=(X_test, y_test) )"
   ]
  },
  {
   "cell_type": "markdown",
   "metadata": {},
   "source": [
    "**Task 1.4** Evaluate the model using `model.evaluate()`."
   ]
  },
  {
   "cell_type": "code",
   "execution_count": 50,
   "metadata": {
    "ExecuteTime": {
     "end_time": "2024-03-02T16:53:45.533280Z",
     "start_time": "2024-03-02T16:53:45.425357600Z"
    }
   },
   "outputs": [
    {
     "name": "stdout",
     "output_type": "stream",
     "text": [
      "5/5 [==============================] - 0s 2ms/step - loss: 3091.7090 - mae: 44.3890\n"
     ]
    },
    {
     "data": {
      "text/plain": "[3091.708984375, 44.38899230957031]"
     },
     "execution_count": 50,
     "metadata": {},
     "output_type": "execute_result"
    }
   ],
   "source": [
    "# YOUR CODE HERE #\n",
    "model.evaluate(X_test, y_test)"
   ]
  },
  {
   "cell_type": "code",
   "execution_count": 51,
   "outputs": [
    {
     "name": "stdout",
     "output_type": "stream",
     "text": [
      "5/5 [==============================] - 0s 2ms/step\n"
     ]
    }
   ],
   "source": [
    "y_pred = model.predict(X_test)"
   ],
   "metadata": {
    "collapsed": false,
    "ExecuteTime": {
     "end_time": "2024-03-02T16:53:45.658439600Z",
     "start_time": "2024-03-02T16:53:45.521453900Z"
    }
   }
  },
  {
   "cell_type": "code",
   "execution_count": 52,
   "outputs": [
    {
     "data": {
      "text/plain": "(146, 10)"
     },
     "execution_count": 52,
     "metadata": {},
     "output_type": "execute_result"
    }
   ],
   "source": [
    "X_test.shape"
   ],
   "metadata": {
    "collapsed": false,
    "ExecuteTime": {
     "end_time": "2024-03-02T16:53:45.716552100Z",
     "start_time": "2024-03-02T16:53:45.658439600Z"
    }
   }
  },
  {
   "cell_type": "code",
   "execution_count": 53,
   "outputs": [
    {
     "data": {
      "text/plain": "((146, 1), (146, 1))"
     },
     "execution_count": 53,
     "metadata": {},
     "output_type": "execute_result"
    }
   ],
   "source": [
    "y_pred.shape,y_test.shape"
   ],
   "metadata": {
    "collapsed": false,
    "ExecuteTime": {
     "end_time": "2024-03-02T16:53:45.737587100Z",
     "start_time": "2024-03-02T16:53:45.675357500Z"
    }
   }
  },
  {
   "cell_type": "markdown",
   "metadata": {},
   "source": [
    "**Task 1.5** Get predictions on `X_test`. Plot `y_test` vs. predictions. On the same plot, plot a $x = y$ line. Think about what this line represents."
   ]
  },
  {
   "cell_type": "code",
   "execution_count": 54,
   "metadata": {
    "ExecuteTime": {
     "end_time": "2024-03-02T16:53:45.907133200Z",
     "start_time": "2024-03-02T16:53:45.691510200Z"
    }
   },
   "outputs": [
    {
     "name": "stdout",
     "output_type": "stream",
     "text": [
      "(146, 1) (146, 1)\n"
     ]
    },
    {
     "data": {
      "text/plain": "<Figure size 640x480 with 1 Axes>",
      "image/png": "[encoded data removed]"
     },
     "metadata": {},
     "output_type": "display_data"
    }
   ],
   "source": [
    "# YOUR CODE HERE #\n",
    "print(y_pred.shape , y_test.shape)\n",
    "\n",
    "\n",
    "\n",
    "fig, ax = plt.subplots()\n",
    "\n",
    "plt.ylabel('True Values (y_test)')\n",
    "plt.xlabel('Predictions')\n",
    "plt.title('True Values vs. Predictions')\n",
    "\n",
    "ax.scatter(y_pred, y_test.reshape(-1,1 ))\n",
    "\n",
    "ax.plot([min(y_test) , max(y_test)] , [min(y_test), max(y_test)] , color='red')\n",
    "\n",
    "\n",
    "plt.show()"
   ]
  },
  {
   "cell_type": "markdown",
   "metadata": {},
   "source": [
    "## 2. Binary Classification"
   ]
  },
  {
   "cell_type": "markdown",
   "metadata": {},
   "source": [
    "Binary classification is a type of classification where a model is trained to categorize data points into one of two categories. \n",
    "\n",
    "**The dataset**\n",
    "\n",
    "In this task, you will use the breast cancer dataset provided by `scikit-learn`.\n",
    "\n",
    "Please read the dataset documentation before you start:\n",
    "\n",
    "https://scikit-learn.org/stable/datasets/toy_dataset.html#breast-cancer-dataset\n",
    "\n",
    "Now let's load the data and display some samples from the dataset:"
   ]
  },
  {
   "cell_type": "code",
   "execution_count": 56,
   "metadata": {
    "ExecuteTime": {
     "end_time": "2024-03-02T16:54:30.296654900Z",
     "start_time": "2024-03-02T16:54:30.225826300Z"
    }
   },
   "outputs": [
    {
     "data": {
      "text/plain": "   mean radius  mean texture  mean perimeter  mean area  mean smoothness  \\\n0        17.99         10.38          122.80     1001.0          0.11840   \n1        20.57         17.77          132.90     1326.0          0.08474   \n2        19.69         21.25          130.00     1203.0          0.10960   \n3        11.42         20.38           77.58      386.1          0.14250   \n4        20.29         14.34          135.10     1297.0          0.10030   \n\n   mean compactness  mean concavity  mean concave points  mean symmetry  \\\n0           0.27760          0.3001              0.14710         0.2419   \n1           0.07864          0.0869              0.07017         0.1812   \n2           0.15990          0.1974              0.12790         0.2069   \n3           0.28390          0.2414              0.10520         0.2597   \n4           0.13280          0.1980              0.10430         0.1809   \n\n   mean fractal dimension  ...  worst texture  worst perimeter  worst area  \\\n0                 0.07871  ...          17.33           184.60      2019.0   \n1                 0.05667  ...          23.41           158.80      1956.0   \n2                 0.05999  ...          25.53           152.50      1709.0   \n3                 0.09744  ...          26.50            98.87       567.7   \n4                 0.05883  ...          16.67           152.20      1575.0   \n\n   worst smoothness  worst compactness  worst concavity  worst concave points  \\\n0            0.1622             0.6656           0.7119                0.2654   \n1            0.1238             0.1866           0.2416                0.1860   \n2            0.1444             0.4245           0.4504                0.2430   \n3            0.2098             0.8663           0.6869                0.2575   \n4            0.1374             0.2050           0.4000                0.1625   \n\n   worst symmetry  worst fractal dimension  Benign  \n0          0.4601                  0.11890     0.0  \n1          0.2750                  0.08902     0.0  \n2          0.3613                  0.08758     0.0  \n3          0.6638                  0.17300     0.0  \n4          0.2364                  0.07678     0.0  \n\n[5 rows x 31 columns]",
      "text/html": "<div>\n<style scoped>\n    .dataframe tbody tr th:only-of-type {\n        vertical-align: middle;\n    }\n\n    .dataframe tbody tr th {\n        vertical-align: top;\n    }\n\n    .dataframe thead th {\n        text-align: right;\n    }\n</style>\n<table border=\"1\" class=\"dataframe\">\n  <thead>\n    <tr style=\"text-align: right;\">\n      <th></th>\n      <th>mean radius</th>\n      <th>mean texture</th>\n      <th>mean perimeter</th>\n      <th>mean area</th>\n      <th>mean smoothness</th>\n      <th>mean compactness</th>\n      <th>mean concavity</th>\n      <th>mean concave points</th>\n      <th>mean symmetry</th>\n      <th>mean fractal dimension</th>\n      <th>...</th>\n      <th>worst texture</th>\n      <th>worst perimeter</th>\n      <th>worst area</th>\n      <th>worst smoothness</th>\n      <th>worst compactness</th>\n      <th>worst concavity</th>\n      <th>worst concave points</th>\n      <th>worst symmetry</th>\n      <th>worst fractal dimension</th>\n      <th>Benign</th>\n    </tr>\n  </thead>\n  <tbody>\n    <tr>\n      <th>0</th>\n      <td>17.99</td>\n      <td>10.38</td>\n      <td>122.80</td>\n      <td>1001.0</td>\n      <td>0.11840</td>\n      <td>0.27760</td>\n      <td>0.3001</td>\n      <td>0.14710</td>\n      <td>0.2419</td>\n      <td>0.07871</td>\n      <td>...</td>\n      <td>17.33</td>\n      <td>184.60</td>\n      <td>2019.0</td>\n      <td>0.1622</td>\n      <td>0.6656</td>\n      <td>0.7119</td>\n      <td>0.2654</td>\n      <td>0.4601</td>\n      <td>0.11890</td>\n      <td>0.0</td>\n    </tr>\n    <tr>\n      <th>1</th>\n      <td>20.57</td>\n      <td>17.77</td>\n      <td>132.90</td>\n      <td>1326.0</td>\n      <td>0.08474</td>\n      <td>0.07864</td>\n      <td>0.0869</td>\n      <td>0.07017</td>\n      <td>0.1812</td>\n      <td>0.05667</td>\n      <td>...</td>\n      <td>23.41</td>\n      <td>158.80</td>\n      <td>1956.0</td>\n      <td>0.1238</td>\n      <td>0.1866</td>\n      <td>0.2416</td>\n      <td>0.1860</td>\n      <td>0.2750</td>\n      <td>0.08902</td>\n      <td>0.0</td>\n    </tr>\n    <tr>\n      <th>2</th>\n      <td>19.69</td>\n      <td>21.25</td>\n      <td>130.00</td>\n      <td>1203.0</td>\n      <td>0.10960</td>\n      <td>0.15990</td>\n      <td>0.1974</td>\n      <td>0.12790</td>\n      <td>0.2069</td>\n      <td>0.05999</td>\n      <td>...</td>\n      <td>25.53</td>\n      <td>152.50</td>\n      <td>1709.0</td>\n      <td>0.1444</td>\n      <td>0.4245</td>\n      <td>0.4504</td>\n      <td>0.2430</td>\n      <td>0.3613</td>\n      <td>0.08758</td>\n      <td>0.0</td>\n    </tr>\n    <tr>\n      <th>3</th>\n      <td>11.42</td>\n      <td>20.38</td>\n      <td>77.58</td>\n      <td>386.1</td>\n      <td>0.14250</td>\n      <td>0.28390</td>\n      <td>0.2414</td>\n      <td>0.10520</td>\n      <td>0.2597</td>\n      <td>0.09744</td>\n      <td>...</td>\n      <td>26.50</td>\n      <td>98.87</td>\n      <td>567.7</td>\n      <td>0.2098</td>\n      <td>0.8663</td>\n      <td>0.6869</td>\n      <td>0.2575</td>\n      <td>0.6638</td>\n      <td>0.17300</td>\n      <td>0.0</td>\n    </tr>\n    <tr>\n      <th>4</th>\n      <td>20.29</td>\n      <td>14.34</td>\n      <td>135.10</td>\n      <td>1297.0</td>\n      <td>0.10030</td>\n      <td>0.13280</td>\n      <td>0.1980</td>\n      <td>0.10430</td>\n      <td>0.1809</td>\n      <td>0.05883</td>\n      <td>...</td>\n      <td>16.67</td>\n      <td>152.20</td>\n      <td>1575.0</td>\n      <td>0.1374</td>\n      <td>0.2050</td>\n      <td>0.4000</td>\n      <td>0.1625</td>\n      <td>0.2364</td>\n      <td>0.07678</td>\n      <td>0.0</td>\n    </tr>\n  </tbody>\n</table>\n<p>5 rows × 31 columns</p>\n</div>"
     },
     "execution_count": 56,
     "metadata": {},
     "output_type": "execute_result"
    }
   ],
   "source": [
    "from sklearn.datasets import load_breast_cancer\n",
    "cancer = load_breast_cancer()\n",
    "X = cancer.data\n",
    "y = cancer.target\n",
    "names = list(cancer.feature_names)\n",
    "Xy_combined = np.concatenate((X, y[:, np.newaxis]), axis=1)\n",
    "df = pd.DataFrame(Xy_combined,\n",
    "                  columns=names + ['Benign'])\n",
    "df.head()"
   ]
  },
  {
   "cell_type": "markdown",
   "metadata": {},
   "source": [
    "Let's split the dataset into a training set and a testing set using function ``train_test_split``:"
   ]
  },
  {
   "cell_type": "code",
   "execution_count": 57,
   "metadata": {
    "ExecuteTime": {
     "end_time": "2024-03-02T16:54:30.692263600Z",
     "start_time": "2024-03-02T16:54:30.648664200Z"
    }
   },
   "outputs": [],
   "source": [
    "from sklearn.model_selection import train_test_split\n",
    "X_train, X_test, y_train, y_test = train_test_split(X,\n",
    "                                                    y,\n",
    "                                                    test_size=0.33,\n",
    "                                                    random_state=0)"
   ]
  },
  {
   "cell_type": "markdown",
   "metadata": {},
   "source": [
    "Now we can visualize the dimensions of the sets:"
   ]
  },
  {
   "cell_type": "code",
   "execution_count": 58,
   "metadata": {
    "ExecuteTime": {
     "end_time": "2024-03-02T16:54:32.345551500Z",
     "start_time": "2024-03-02T16:54:32.306527800Z"
    }
   },
   "outputs": [
    {
     "data": {
      "text/plain": "((381, 30), (188, 30), (381,), (188,))"
     },
     "execution_count": 58,
     "metadata": {},
     "output_type": "execute_result"
    }
   ],
   "source": [
    "X_train.shape, X_test.shape, y_train.shape, y_test.shape"
   ]
  },
  {
   "cell_type": "markdown",
   "metadata": {},
   "source": [
    "**Task 2.1**\n",
    "Build an MLP suitable for the breast cancer dataset. Use a `Sequential()` model and `Dense` layers from Keras. You are free to pick any number of hidden layers and any number of units per layer as long as it works. Use suitable activation functions."
   ]
  },
  {
   "cell_type": "code",
   "execution_count": 60,
   "metadata": {
    "ExecuteTime": {
     "end_time": "2024-03-02T16:55:55.094865200Z",
     "start_time": "2024-03-02T16:55:55.068782700Z"
    }
   },
   "outputs": [],
   "source": [
    "model = Sequential(\n",
    "    [layers.Dense(256, activation='relu'),\n",
    "    layers.Dense(64, activation='relu'),\n",
    "    layers.Dense(32, activation='relu'),\n",
    "    layers.Dense(1, activation='sigmoid')],\n",
    ")\n",
    "\n",
    "\n"
   ]
  },
  {
   "cell_type": "markdown",
   "metadata": {},
   "source": [
    "**Task 2.2**\n",
    "Compile the model by selecting a suitable optimizer and a suitable loss function. Also include a metric or metrics."
   ]
  },
  {
   "cell_type": "code",
   "execution_count": 61,
   "metadata": {
    "ExecuteTime": {
     "end_time": "2024-03-02T16:57:47.482496500Z",
     "start_time": "2024-03-02T16:57:47.417277400Z"
    }
   },
   "outputs": [],
   "source": [
    "# YOUR CODE HERE #\n",
    "model.compile(optimizer='adam', loss='binary_crossentropy' , metrics=['accuracy'])"
   ]
  },
  {
   "cell_type": "markdown",
   "metadata": {},
   "source": [
    "**Task 2.3**\n",
    "Train the model on X_train, y_train and use X_test, y_test as validation data. Pick a suitable number of epochs and batch size."
   ]
  },
  {
   "cell_type": "code",
   "execution_count": 116,
   "metadata": {
    "ExecuteTime": {
     "end_time": "2024-03-02T17:24:59.310885200Z",
     "start_time": "2024-03-02T17:24:55.232971300Z"
    }
   },
   "outputs": [
    {
     "name": "stdout",
     "output_type": "stream",
     "text": [
      "Epoch 1/50\n",
      "12/12 [==============================] - 0s 39ms/step - loss: 0.2475 - accuracy: 0.9213 - val_loss: 0.2714 - val_accuracy: 0.8883\n",
      "Epoch 2/50\n",
      "12/12 [==============================] - 0s 6ms/step - loss: 0.2243 - accuracy: 0.9186 - val_loss: 0.1522 - val_accuracy: 0.9574\n",
      "Epoch 3/50\n",
      "12/12 [==============================] - 0s 6ms/step - loss: 0.2107 - accuracy: 0.9239 - val_loss: 0.1394 - val_accuracy: 0.9521\n",
      "Epoch 4/50\n",
      "12/12 [==============================] - 0s 6ms/step - loss: 0.2602 - accuracy: 0.8924 - val_loss: 0.1361 - val_accuracy: 0.9468\n",
      "Epoch 5/50\n",
      "12/12 [==============================] - 0s 6ms/step - loss: 0.5825 - accuracy: 0.8399 - val_loss: 0.2263 - val_accuracy: 0.9096\n",
      "Epoch 6/50\n",
      "12/12 [==============================] - 0s 6ms/step - loss: 0.7472 - accuracy: 0.7979 - val_loss: 0.7342 - val_accuracy: 0.8830\n",
      "Epoch 7/50\n",
      "12/12 [==============================] - 0s 6ms/step - loss: 0.5418 - accuracy: 0.8766 - val_loss: 0.5188 - val_accuracy: 0.9149\n",
      "Epoch 8/50\n",
      "12/12 [==============================] - 0s 5ms/step - loss: 0.3806 - accuracy: 0.9055 - val_loss: 0.1810 - val_accuracy: 0.9468\n",
      "Epoch 9/50\n",
      "12/12 [==============================] - 0s 6ms/step - loss: 0.2554 - accuracy: 0.9160 - val_loss: 0.1963 - val_accuracy: 0.9362\n",
      "Epoch 10/50\n",
      "12/12 [==============================] - 0s 6ms/step - loss: 0.2805 - accuracy: 0.9081 - val_loss: 0.1858 - val_accuracy: 0.9255\n",
      "Epoch 11/50\n",
      "12/12 [==============================] - 0s 6ms/step - loss: 0.2023 - accuracy: 0.9239 - val_loss: 0.1563 - val_accuracy: 0.9521\n",
      "Epoch 12/50\n",
      "12/12 [==============================] - 0s 7ms/step - loss: 0.2520 - accuracy: 0.9108 - val_loss: 0.2516 - val_accuracy: 0.8989\n",
      "Epoch 13/50\n",
      "12/12 [==============================] - 0s 6ms/step - loss: 0.2141 - accuracy: 0.9265 - val_loss: 0.2445 - val_accuracy: 0.8989\n",
      "Epoch 14/50\n",
      "12/12 [==============================] - 0s 6ms/step - loss: 0.2345 - accuracy: 0.9213 - val_loss: 0.2569 - val_accuracy: 0.9415\n",
      "Epoch 15/50\n",
      "12/12 [==============================] - 0s 6ms/step - loss: 0.1873 - accuracy: 0.9291 - val_loss: 0.1777 - val_accuracy: 0.9468\n",
      "Epoch 16/50\n",
      "12/12 [==============================] - 0s 5ms/step - loss: 0.3346 - accuracy: 0.8950 - val_loss: 0.1538 - val_accuracy: 0.9521\n",
      "Epoch 17/50\n",
      "12/12 [==============================] - 0s 6ms/step - loss: 0.3314 - accuracy: 0.9134 - val_loss: 0.2445 - val_accuracy: 0.8883\n",
      "Epoch 18/50\n",
      "12/12 [==============================] - 0s 6ms/step - loss: 0.2254 - accuracy: 0.9213 - val_loss: 0.1567 - val_accuracy: 0.9521\n",
      "Epoch 19/50\n",
      "12/12 [==============================] - 0s 6ms/step - loss: 0.2751 - accuracy: 0.9318 - val_loss: 0.1638 - val_accuracy: 0.9521\n",
      "Epoch 20/50\n",
      "12/12 [==============================] - 0s 7ms/step - loss: 0.1720 - accuracy: 0.9318 - val_loss: 0.1319 - val_accuracy: 0.9628\n",
      "Epoch 21/50\n",
      "12/12 [==============================] - 0s 6ms/step - loss: 0.1846 - accuracy: 0.9370 - val_loss: 0.1923 - val_accuracy: 0.9415\n",
      "Epoch 22/50\n",
      "12/12 [==============================] - 0s 5ms/step - loss: 0.2177 - accuracy: 0.9186 - val_loss: 0.1265 - val_accuracy: 0.9628\n",
      "Epoch 23/50\n",
      "12/12 [==============================] - 0s 6ms/step - loss: 0.2100 - accuracy: 0.9370 - val_loss: 0.1449 - val_accuracy: 0.9521\n",
      "Epoch 24/50\n",
      "12/12 [==============================] - 0s 5ms/step - loss: 0.1704 - accuracy: 0.9186 - val_loss: 0.1320 - val_accuracy: 0.9521\n",
      "Epoch 25/50\n",
      "12/12 [==============================] - 0s 5ms/step - loss: 0.1747 - accuracy: 0.9239 - val_loss: 0.1204 - val_accuracy: 0.9628\n",
      "Epoch 26/50\n",
      "12/12 [==============================] - 0s 6ms/step - loss: 0.2668 - accuracy: 0.9134 - val_loss: 0.2555 - val_accuracy: 0.9202\n",
      "Epoch 27/50\n",
      "12/12 [==============================] - 0s 6ms/step - loss: 0.2009 - accuracy: 0.9213 - val_loss: 0.2258 - val_accuracy: 0.8936\n",
      "Epoch 28/50\n",
      "12/12 [==============================] - 0s 6ms/step - loss: 0.1872 - accuracy: 0.9239 - val_loss: 0.1146 - val_accuracy: 0.9681\n",
      "Epoch 29/50\n",
      "12/12 [==============================] - 0s 5ms/step - loss: 0.1674 - accuracy: 0.9344 - val_loss: 0.1994 - val_accuracy: 0.9362\n",
      "Epoch 30/50\n",
      "12/12 [==============================] - 0s 6ms/step - loss: 0.5617 - accuracy: 0.8530 - val_loss: 0.1380 - val_accuracy: 0.9574\n",
      "Epoch 31/50\n",
      "12/12 [==============================] - 0s 6ms/step - loss: 0.3739 - accuracy: 0.8688 - val_loss: 0.1334 - val_accuracy: 0.9574\n",
      "Epoch 32/50\n",
      "12/12 [==============================] - 0s 6ms/step - loss: 0.2302 - accuracy: 0.9239 - val_loss: 0.2161 - val_accuracy: 0.9362\n",
      "Epoch 33/50\n",
      "12/12 [==============================] - 0s 6ms/step - loss: 0.3128 - accuracy: 0.8898 - val_loss: 0.2879 - val_accuracy: 0.8830\n",
      "Epoch 34/50\n",
      "12/12 [==============================] - 0s 6ms/step - loss: 0.2303 - accuracy: 0.9160 - val_loss: 0.1264 - val_accuracy: 0.9628\n",
      "Epoch 35/50\n",
      "12/12 [==============================] - 0s 7ms/step - loss: 0.1929 - accuracy: 0.9239 - val_loss: 0.1262 - val_accuracy: 0.9521\n",
      "Epoch 36/50\n",
      "12/12 [==============================] - 0s 7ms/step - loss: 0.1851 - accuracy: 0.9239 - val_loss: 0.1634 - val_accuracy: 0.9415\n",
      "Epoch 37/50\n",
      "12/12 [==============================] - 0s 6ms/step - loss: 0.2026 - accuracy: 0.9239 - val_loss: 0.1225 - val_accuracy: 0.9468\n",
      "Epoch 38/50\n",
      "12/12 [==============================] - 0s 6ms/step - loss: 0.2002 - accuracy: 0.9291 - val_loss: 0.1265 - val_accuracy: 0.9468\n",
      "Epoch 39/50\n",
      "12/12 [==============================] - 0s 6ms/step - loss: 0.2557 - accuracy: 0.9134 - val_loss: 0.2646 - val_accuracy: 0.8830\n",
      "Epoch 40/50\n",
      "12/12 [==============================] - 0s 6ms/step - loss: 0.2403 - accuracy: 0.9213 - val_loss: 0.1236 - val_accuracy: 0.9574\n",
      "Epoch 41/50\n",
      "12/12 [==============================] - 0s 6ms/step - loss: 0.1515 - accuracy: 0.9344 - val_loss: 0.1738 - val_accuracy: 0.9362\n",
      "Epoch 42/50\n",
      "12/12 [==============================] - 0s 6ms/step - loss: 0.1611 - accuracy: 0.9370 - val_loss: 0.2832 - val_accuracy: 0.8777\n",
      "Epoch 43/50\n",
      "12/12 [==============================] - 0s 6ms/step - loss: 0.2124 - accuracy: 0.9239 - val_loss: 0.1153 - val_accuracy: 0.9628\n",
      "Epoch 44/50\n",
      "12/12 [==============================] - 0s 6ms/step - loss: 0.1553 - accuracy: 0.9318 - val_loss: 0.1179 - val_accuracy: 0.9681\n",
      "Epoch 45/50\n",
      "12/12 [==============================] - 0s 6ms/step - loss: 0.1850 - accuracy: 0.9186 - val_loss: 0.1634 - val_accuracy: 0.9362\n",
      "Epoch 46/50\n",
      "12/12 [==============================] - 0s 6ms/step - loss: 0.1576 - accuracy: 0.9344 - val_loss: 0.1243 - val_accuracy: 0.9628\n",
      "Epoch 47/50\n",
      "12/12 [==============================] - 0s 6ms/step - loss: 0.1552 - accuracy: 0.9370 - val_loss: 0.1145 - val_accuracy: 0.9681\n",
      "Epoch 48/50\n",
      "12/12 [==============================] - 0s 6ms/step - loss: 0.1537 - accuracy: 0.9344 - val_loss: 0.1139 - val_accuracy: 0.9681\n",
      "Epoch 49/50\n",
      "12/12 [==============================] - 0s 6ms/step - loss: 0.1500 - accuracy: 0.9370 - val_loss: 0.1640 - val_accuracy: 0.9309\n",
      "Epoch 50/50\n",
      "12/12 [==============================] - 0s 7ms/step - loss: 0.2035 - accuracy: 0.9108 - val_loss: 0.2691 - val_accuracy: 0.9043\n"
     ]
    },
    {
     "data": {
      "text/plain": "<keras.src.callbacks.History at 0x25f6b9cfd30>"
     },
     "execution_count": 116,
     "metadata": {},
     "output_type": "execute_result"
    }
   ],
   "source": [
    "model.fit(X_train, y_train , validation_data=(X_test, y_test) ,epochs = 50 , batch_size=32)"
   ]
  },
  {
   "cell_type": "markdown",
   "metadata": {},
   "source": [
    "**Task 2.4**\n",
    "Evaluate the model using `model.evaluate()`."
   ]
  },
  {
   "cell_type": "code",
   "execution_count": 117,
   "metadata": {
    "ExecuteTime": {
     "end_time": "2024-03-02T17:24:59.403850300Z",
     "start_time": "2024-03-02T17:24:59.301757Z"
    }
   },
   "outputs": [
    {
     "name": "stdout",
     "output_type": "stream",
     "text": [
      "6/6 [==============================] - 0s 2ms/step - loss: 0.2691 - accuracy: 0.9043\n"
     ]
    },
    {
     "data": {
      "text/plain": "[0.2690914571285248, 0.9042553305625916]"
     },
     "execution_count": 117,
     "metadata": {},
     "output_type": "execute_result"
    }
   ],
   "source": [
    "model.evaluate(X_test, y_test)"
   ]
  },
  {
   "cell_type": "markdown",
   "metadata": {},
   "source": [
    "**Task 2.5**\n",
    "Plot the confusion matrix for your trained model on the test set."
   ]
  },
  {
   "cell_type": "code",
   "execution_count": 118,
   "metadata": {
    "ExecuteTime": {
     "end_time": "2024-03-02T17:24:59.530600200Z",
     "start_time": "2024-03-02T17:24:59.395295500Z"
    }
   },
   "outputs": [
    {
     "name": "stdout",
     "output_type": "stream",
     "text": [
      "6/6 [==============================] - 0s 1ms/step\n"
     ]
    }
   ],
   "source": [
    "# YOUR CODE HERE #\n",
    "\n",
    "from sklearn.metrics import confusion_matrix\n",
    "y_pred = model.predict(X_test)\n"
   ]
  },
  {
   "cell_type": "code",
   "execution_count": 119,
   "outputs": [
    {
     "data": {
      "text/plain": "((188, 1), (188, 1))"
     },
     "execution_count": 119,
     "metadata": {},
     "output_type": "execute_result"
    }
   ],
   "source": [
    "y_pred.shape, y_test.shape"
   ],
   "metadata": {
    "collapsed": false,
    "ExecuteTime": {
     "end_time": "2024-03-02T17:24:59.531748500Z",
     "start_time": "2024-03-02T17:24:59.492443300Z"
    }
   }
  },
  {
   "cell_type": "code",
   "execution_count": 120,
   "outputs": [
    {
     "data": {
      "text/plain": "(dtype('float32'), dtype('int32'))"
     },
     "execution_count": 120,
     "metadata": {},
     "output_type": "execute_result"
    }
   ],
   "source": [
    "y_pred.dtype, y_test.dtype"
   ],
   "metadata": {
    "collapsed": false,
    "ExecuteTime": {
     "end_time": "2024-03-02T17:24:59.533194100Z",
     "start_time": "2024-03-02T17:24:59.505518600Z"
    }
   }
  },
  {
   "cell_type": "code",
   "execution_count": 121,
   "outputs": [],
   "source": [
    "import math\n",
    "\n",
    "\n",
    "y_pred  , y_test   = np.round(y_pred),  np.round(y_test)"
   ],
   "metadata": {
    "collapsed": false,
    "ExecuteTime": {
     "end_time": "2024-03-02T17:24:59.577605100Z",
     "start_time": "2024-03-02T17:24:59.522376100Z"
    }
   }
  },
  {
   "cell_type": "code",
   "execution_count": 122,
   "outputs": [],
   "source": [
    "y_test = y_test.reshape(-1, 1)"
   ],
   "metadata": {
    "collapsed": false,
    "ExecuteTime": {
     "end_time": "2024-03-02T17:24:59.591407800Z",
     "start_time": "2024-03-02T17:24:59.537829100Z"
    }
   }
  },
  {
   "cell_type": "code",
   "execution_count": 123,
   "outputs": [
    {
     "data": {
      "text/plain": "(188, 1)"
     },
     "execution_count": 123,
     "metadata": {},
     "output_type": "execute_result"
    }
   ],
   "source": [
    "y_test.shape"
   ],
   "metadata": {
    "collapsed": false,
    "ExecuteTime": {
     "end_time": "2024-03-02T17:24:59.658836100Z",
     "start_time": "2024-03-02T17:24:59.552693500Z"
    }
   }
  },
  {
   "cell_type": "code",
   "execution_count": 124,
   "outputs": [
    {
     "data": {
      "text/plain": "(188, 1)"
     },
     "execution_count": 124,
     "metadata": {},
     "output_type": "execute_result"
    }
   ],
   "source": [
    "y_pred.shape"
   ],
   "metadata": {
    "collapsed": false,
    "ExecuteTime": {
     "end_time": "2024-03-02T17:24:59.682118200Z",
     "start_time": "2024-03-02T17:24:59.569433800Z"
    }
   }
  },
  {
   "cell_type": "code",
   "execution_count": 125,
   "outputs": [
    {
     "data": {
      "text/plain": "array([[ 49,  18],\n       [  0, 121]], dtype=int64)"
     },
     "execution_count": 125,
     "metadata": {},
     "output_type": "execute_result"
    }
   ],
   "source": [
    "import seaborn as sns\n",
    "\n",
    "mtrx = confusion_matrix(y_test, y_pred)\n",
    "\n",
    "mtrx"
   ],
   "metadata": {
    "collapsed": false,
    "ExecuteTime": {
     "end_time": "2024-03-02T17:24:59.703031800Z",
     "start_time": "2024-03-02T17:24:59.587884300Z"
    }
   }
  },
  {
   "cell_type": "code",
   "execution_count": 126,
   "outputs": [
    {
     "data": {
      "text/plain": "<Axes: >"
     },
     "execution_count": 126,
     "metadata": {},
     "output_type": "execute_result"
    },
    {
     "data": {
      "text/plain": "<Figure size 640x480 with 2 Axes>",
      "image/png": "[encoded data removed]"
     },
     "metadata": {},
     "output_type": "display_data"
    }
   ],
   "source": [
    "sns.heatmap(mtrx, annot=True , fmt='d')"
   ],
   "metadata": {
    "collapsed": false,
    "ExecuteTime": {
     "end_time": "2024-03-02T17:24:59.828173700Z",
     "start_time": "2024-03-02T17:24:59.609807600Z"
    }
   }
  },
  {
   "cell_type": "markdown",
   "metadata": {},
   "source": [
    "## 3. Multi-class Classification"
   ]
  },
  {
   "cell_type": "markdown",
   "metadata": {},
   "source": [
    "Multi-class classification is a task where an instance or sample can be classified into more than two categories or classes.\n",
    "\n",
    "**The dataset**\n",
    "\n",
    "In this task, you will use the MNIST dataset provided by `keras`.\n",
    "\n",
    "Please read the dataset documentation before you start:\n",
    "\n",
    "https://keras.io/api/datasets/mnist/"
   ]
  },
  {
   "cell_type": "markdown",
   "metadata": {},
   "source": [
    "Now let's load the dataset (notice that function ``mnist.load_data`` automatizally splits the data into a training set and a testing set):"
   ]
  },
  {
   "cell_type": "code",
   "execution_count": 127,
   "metadata": {
    "ExecuteTime": {
     "end_time": "2024-03-02T17:25:31.514129200Z",
     "start_time": "2024-03-02T17:25:31.243241300Z"
    }
   },
   "outputs": [],
   "source": [
    "from keras.datasets import mnist\n",
    "(X_train, y_train), (X_test, y_test) = mnist.load_data()"
   ]
  },
  {
   "cell_type": "markdown",
   "metadata": {},
   "source": [
    "To visualize how the samples look like, we can display a random sample from the dataset:"
   ]
  },
  {
   "cell_type": "code",
   "execution_count": 129,
   "metadata": {
    "ExecuteTime": {
     "end_time": "2024-03-02T17:25:41.766229800Z",
     "start_time": "2024-03-02T17:25:41.537719600Z"
    }
   },
   "outputs": [
    {
     "name": "stdout",
     "output_type": "stream",
     "text": [
      "Label: 3\n"
     ]
    },
    {
     "data": {
      "text/plain": "<Figure size 640x480 with 1 Axes>",
      "image/png": "[encoded data removed]"
     },
     "metadata": {},
     "output_type": "display_data"
    }
   ],
   "source": [
    "# View random digit\n",
    "index = np.random.randint(0, 60000)\n",
    "plt.imshow(X_train[index])\n",
    "print('Label:', y_train[index])"
   ]
  },
  {
   "cell_type": "markdown",
   "metadata": {},
   "source": [
    "We can also visualize the dimensions of the sets:"
   ]
  },
  {
   "cell_type": "code",
   "execution_count": 130,
   "metadata": {
    "ExecuteTime": {
     "end_time": "2024-03-02T17:25:43.410621500Z",
     "start_time": "2024-03-02T17:25:43.282064Z"
    }
   },
   "outputs": [
    {
     "data": {
      "text/plain": "((60000, 28, 28), (10000, 28, 28), (60000,), (10000,))"
     },
     "execution_count": 130,
     "metadata": {},
     "output_type": "execute_result"
    }
   ],
   "source": [
    "X_train.shape, X_test.shape, y_train.shape, y_test.shape"
   ]
  },
  {
   "cell_type": "markdown",
   "metadata": {},
   "source": [
    "**Task 3.1**\n",
    "The MLP architecture you will build is given below. 784 input units, two hidden layers with 30 units each, one output layer with 10 units. \n",
    "\n",
    "<img src=\"https://edirlei.com/images/nn2.png\" width=\"500\">\n",
    "\n",
    "**Important**: Notice that X_train/X_test shape and the input layer shape of the network are not compatible (X_train shape is ``(, 28, 28)``, but the expected input layer shape is ``(, 784)``). Similarly, y_train/y_test and the output layer shape of the network, are not compatible (y_train shape is ``(,1)``, but the expected output layer shape is ``(,10)``). To solve this problem, you need to preprocess the data to make them compatible. Here are some hints on how to solve this problem:\n",
    "\n",
    "- You can solve the incompatibility of the input by using the [reshape function](https://numpy.org/doc/stable/reference/generated/numpy.reshape.html).\n",
    "- You can solve the incompatibility of the output by using one-hot encoding through the [to_categorical function](https://www.tensorflow.org/api_docs/python/tf/keras/utils/to_categorical).\n",
    "\n"
   ]
  },
  {
   "cell_type": "code",
   "execution_count": 134,
   "metadata": {
    "ExecuteTime": {
     "end_time": "2024-03-02T17:27:45.553905500Z",
     "start_time": "2024-03-02T17:27:45.360199800Z"
    }
   },
   "outputs": [],
   "source": [
    "# YOUR CODE HERE #\n",
    "X_train,X_test  = X_train.reshape(-1, 784)  / 255 , X_test.reshape(-1,784) / 255\n"
   ]
  },
  {
   "cell_type": "code",
   "execution_count": 140,
   "outputs": [
    {
     "data": {
      "text/plain": "array([[5],\n       [0],\n       [4],\n       ...,\n       [5],\n       [6],\n       [8]], dtype=uint8)"
     },
     "execution_count": 140,
     "metadata": {},
     "output_type": "execute_result"
    }
   ],
   "source": [
    "y_train"
   ],
   "metadata": {
    "collapsed": false,
    "ExecuteTime": {
     "end_time": "2024-03-02T17:32:40.421072200Z",
     "start_time": "2024-03-02T17:32:40.360130100Z"
    }
   }
  },
  {
   "cell_type": "code",
   "execution_count": 137,
   "outputs": [],
   "source": [
    "y_train,y_test = y_train.reshape(-1, 1 ) , y_test.reshape(-1, 1)"
   ],
   "metadata": {
    "collapsed": false,
    "ExecuteTime": {
     "end_time": "2024-03-02T17:28:28.679988100Z",
     "start_time": "2024-03-02T17:28:28.625939200Z"
    }
   }
  },
  {
   "cell_type": "code",
   "execution_count": 138,
   "outputs": [
    {
     "data": {
      "text/plain": "((60000, 784), (10000, 784), (60000, 1), (10000, 1))"
     },
     "execution_count": 138,
     "metadata": {},
     "output_type": "execute_result"
    }
   ],
   "source": [
    "X_train.shape, X_test.shape ,y_train.shape, y_test.shape"
   ],
   "metadata": {
    "collapsed": false,
    "ExecuteTime": {
     "end_time": "2024-03-02T17:28:38.603233500Z",
     "start_time": "2024-03-02T17:28:38.571339600Z"
    }
   }
  },
  {
   "cell_type": "markdown",
   "metadata": {},
   "source": [
    "**Task 3.2**\n",
    "Build an MLP suitable for the MNIST dataset. Use a `Sequential()` model and `Dense` layers from Keras. Build the architecture shown in Task 3.1 Use suitable activation functions."
   ]
  },
  {
   "cell_type": "code",
   "execution_count": 139,
   "metadata": {
    "ExecuteTime": {
     "end_time": "2024-03-02T17:31:45.603437900Z",
     "start_time": "2024-03-02T17:31:45.494960300Z"
    }
   },
   "outputs": [],
   "source": [
    "# YOUR CODE HERE #\n",
    "model = Sequential([\n",
    "    layers.Dense(units = 784 , activation='relu' ),\n",
    "    layers.Dense(units = 30 , activation='relu'),\n",
    "    layers.Dense(30,  activation='relu'),\n",
    "    layers.Dense(10,  activation='softmax')\n",
    "])"
   ]
  },
  {
   "cell_type": "markdown",
   "metadata": {},
   "source": [
    "**Task 3.3**\n",
    "Compile the model by selecting a suitable optimizer and a suitable loss function. Also include a metric or metrics."
   ]
  },
  {
   "cell_type": "markdown",
   "source": [],
   "metadata": {
    "collapsed": false
   }
  },
  {
   "cell_type": "code",
   "execution_count": 141,
   "metadata": {
    "ExecuteTime": {
     "end_time": "2024-03-02T17:33:36.093026600Z",
     "start_time": "2024-03-02T17:33:36.014301400Z"
    }
   },
   "outputs": [],
   "source": [
    "# YOUR CODE HERE #\n",
    "model.compile(optimizer='adam' , loss='sparse_categorical_crossentropy' , metrics=['accuracy'])"
   ]
  },
  {
   "cell_type": "markdown",
   "metadata": {},
   "source": [
    "**Task 3.4**\n",
    "Train the model on X_train, y_train and use X_test, y_test as validation data. Pick a suitable number of epochs and batch size."
   ]
  },
  {
   "cell_type": "code",
   "execution_count": 142,
   "metadata": {
    "ExecuteTime": {
     "end_time": "2024-03-02T17:37:08.480851700Z",
     "start_time": "2024-03-02T17:34:17.502069600Z"
    }
   },
   "outputs": [
    {
     "name": "stdout",
     "output_type": "stream",
     "text": [
      "Epoch 1/20\n",
      "1875/1875 [==============================] - 10s 5ms/step - loss: 0.2159 - accuracy: 0.9363 - val_loss: 0.1107 - val_accuracy: 0.9655\n",
      "Epoch 2/20\n",
      "1875/1875 [==============================] - 9s 5ms/step - loss: 0.0868 - accuracy: 0.9733 - val_loss: 0.0807 - val_accuracy: 0.9750\n",
      "Epoch 3/20\n",
      "1875/1875 [==============================] - 8s 5ms/step - loss: 0.0590 - accuracy: 0.9812 - val_loss: 0.1163 - val_accuracy: 0.9629\n",
      "Epoch 4/20\n",
      "1875/1875 [==============================] - 8s 4ms/step - loss: 0.0455 - accuracy: 0.9855 - val_loss: 0.0755 - val_accuracy: 0.9781\n",
      "Epoch 5/20\n",
      "1875/1875 [==============================] - 9s 5ms/step - loss: 0.0343 - accuracy: 0.9889 - val_loss: 0.0735 - val_accuracy: 0.9791\n",
      "Epoch 6/20\n",
      "1875/1875 [==============================] - 9s 5ms/step - loss: 0.0296 - accuracy: 0.9904 - val_loss: 0.0926 - val_accuracy: 0.9766\n",
      "Epoch 7/20\n",
      "1875/1875 [==============================] - 9s 5ms/step - loss: 0.0244 - accuracy: 0.9924 - val_loss: 0.0757 - val_accuracy: 0.9784\n",
      "Epoch 8/20\n",
      "1875/1875 [==============================] - 9s 5ms/step - loss: 0.0211 - accuracy: 0.9933 - val_loss: 0.0730 - val_accuracy: 0.9806\n",
      "Epoch 9/20\n",
      "1875/1875 [==============================] - 9s 5ms/step - loss: 0.0193 - accuracy: 0.9939 - val_loss: 0.0778 - val_accuracy: 0.9801\n",
      "Epoch 10/20\n",
      "1875/1875 [==============================] - 8s 4ms/step - loss: 0.0164 - accuracy: 0.9948 - val_loss: 0.0925 - val_accuracy: 0.9780\n",
      "Epoch 11/20\n",
      "1875/1875 [==============================] - 8s 4ms/step - loss: 0.0150 - accuracy: 0.9949 - val_loss: 0.0779 - val_accuracy: 0.9835\n",
      "Epoch 12/20\n",
      "1875/1875 [==============================] - 8s 4ms/step - loss: 0.0141 - accuracy: 0.9956 - val_loss: 0.0919 - val_accuracy: 0.9794\n",
      "Epoch 13/20\n",
      "1875/1875 [==============================] - 8s 4ms/step - loss: 0.0138 - accuracy: 0.9957 - val_loss: 0.0880 - val_accuracy: 0.9815\n",
      "Epoch 14/20\n",
      "1875/1875 [==============================] - 8s 4ms/step - loss: 0.0129 - accuracy: 0.9961 - val_loss: 0.0936 - val_accuracy: 0.9806\n",
      "Epoch 15/20\n",
      "1875/1875 [==============================] - 8s 4ms/step - loss: 0.0110 - accuracy: 0.9965 - val_loss: 0.0950 - val_accuracy: 0.9818\n",
      "Epoch 16/20\n",
      "1875/1875 [==============================] - 8s 4ms/step - loss: 0.0116 - accuracy: 0.9967 - val_loss: 0.0967 - val_accuracy: 0.9805\n",
      "Epoch 17/20\n",
      "1875/1875 [==============================] - 8s 5ms/step - loss: 0.0106 - accuracy: 0.9967 - val_loss: 0.0876 - val_accuracy: 0.9818\n",
      "Epoch 18/20\n",
      "1875/1875 [==============================] - 8s 4ms/step - loss: 0.0100 - accuracy: 0.9971 - val_loss: 0.1043 - val_accuracy: 0.9827\n",
      "Epoch 19/20\n",
      "1875/1875 [==============================] - 8s 4ms/step - loss: 0.0101 - accuracy: 0.9968 - val_loss: 0.1198 - val_accuracy: 0.9812\n",
      "Epoch 20/20\n",
      "1875/1875 [==============================] - 8s 4ms/step - loss: 0.0084 - accuracy: 0.9975 - val_loss: 0.0979 - val_accuracy: 0.9835\n"
     ]
    },
    {
     "data": {
      "text/plain": "<keras.src.callbacks.History at 0x25f701f3490>"
     },
     "execution_count": 142,
     "metadata": {},
     "output_type": "execute_result"
    }
   ],
   "source": [
    "# YOUR CODE HERE #\n",
    "model.fit(X_train, y_train , validation_data=(X_test, y_test) , epochs = 20 , batch_size=32)"
   ]
  },
  {
   "cell_type": "markdown",
   "metadata": {},
   "source": [
    "**Task 3.5**\n",
    "Evaluate the model using `model.evaluate()`."
   ]
  },
  {
   "cell_type": "code",
   "execution_count": 143,
   "metadata": {
    "ExecuteTime": {
     "end_time": "2024-03-02T17:37:09.410952700Z",
     "start_time": "2024-03-02T17:37:08.478341800Z"
    }
   },
   "outputs": [
    {
     "name": "stdout",
     "output_type": "stream",
     "text": [
      "313/313 [==============================] - 1s 3ms/step - loss: 0.0979 - accuracy: 0.9835\n"
     ]
    },
    {
     "data": {
      "text/plain": "[0.09788033366203308, 0.9835000038146973]"
     },
     "execution_count": 143,
     "metadata": {},
     "output_type": "execute_result"
    }
   ],
   "source": [
    "# YOUR CODE HERE #\n",
    "model.evaluate(X_test, y_test)"
   ]
  },
  {
   "cell_type": "markdown",
   "metadata": {},
   "source": [
    "**Challenge:**\n",
    "Find the worst prediction. If you struggle with this task, try it later."
   ]
  },
  {
   "cell_type": "code",
   "execution_count": null,
   "metadata": {
    "ExecuteTime": {
     "start_time": "2024-03-02T16:40:16.804663100Z"
    }
   },
   "outputs": [],
   "source": [
    "# YOUR CODE HERE #"
   ]
  },
  {
   "cell_type": "markdown",
   "metadata": {},
   "source": [
    "## 4. Multi-label Classification"
   ]
  },
  {
   "cell_type": "markdown",
   "metadata": {},
   "source": [
    "Multi-label classification is a type of classification where an instance (or data point) can be classified into multiple classes or categories simultaneously. This is different from multi-class classification, where each instance is assigned to only one class.\n",
    "\n",
    "**The dataset**\n",
    "\n",
    "In this task you will use a simulated dataset.\n",
    "\n",
    "You are given 4 random integers ($x_1, x_2, x_3, x_4$) between -5 and 5 ($x_i \\in [-5, 5]$). Your task is to develop an MLP that predicts parity and sign of the product of these four numbers ($x_1 \\times x_2 \\times x_3 \\times x_4$).\n",
    "\n",
    "**Definitions**\n",
    "\n",
    "In mathematics, parity is the property of an integer of whether it is even or odd.\n",
    "\n",
    "In mathematics, the sign of a real number is its property of being either positive, negative, or zero.\n",
    "\n",
    "**Example**\n",
    "\n",
    "$x_1=-1, x_2=1, x_3=-3, x_4=-5$\n",
    "\n",
    "$ product = x_1 \\times x_2 \\times x_3 \\times x_4 = -15$\n",
    "\n",
    "parity of -15 is `odd` and sign of -15 is `negative`.\n",
    "\n",
    "**Columns**\n",
    "\n",
    "$x_i$: Integers between -5 (inclusive) and 5 (inclusive).\n",
    "\n",
    "Parity column: $x_1 \\times x_2 \\times x_3 \\times x_4$ is even (0) or odd (1).\n",
    "\n",
    "Sign column: $x_1 \\times x_2 \\times x_3 \\times x_4$ is negative (-1), or zero (0) or positive (1).\n",
    "\n",
    "|$x_1$|$x_2$|$x_3$|$x_4$|$Parity$|$Sign$|\n",
    "|:--|:--|:--|:--|:--|:--|\n",
    "|-2|-4|-1|1|0|-1|\n",
    "|-3|5|-3|3|1|1|\n",
    "|-4|-2|5|3|0|1|\n",
    "|-4|0|-5|0|0|0|\n",
    "|1|1|2|-4|0|-1|\n",
    "|-1|1|-3|-5|1|-1|\n"
   ]
  },
  {
   "cell_type": "markdown",
   "metadata": {},
   "source": [
    "Based on these definitions, we can write a function to generate a simulated dataset:"
   ]
  },
  {
   "cell_type": "code",
   "execution_count": 6,
   "metadata": {
    "code_folding": [],
    "ExecuteTime": {
     "end_time": "2024-03-02T18:00:24.131319100Z",
     "start_time": "2024-03-02T18:00:24.099008400Z"
    }
   },
   "outputs": [],
   "source": [
    "import numpy as np\n",
    "import pandas as pd\n",
    "def simulator(n):\n",
    "    \n",
    "    # x_i numbers with shape (n, 4)\n",
    "    X = np.random.randint(-5, 6, size=(n, 4))\n",
    "\n",
    "    # product of 4 numbers for each row\n",
    "    # this will be used to calculate labels\n",
    "    # but this won't be part of the dataset\n",
    "    product = np.prod(X, axis=1)\n",
    "\n",
    "    # label 1\n",
    "    parity_col = product % 2\n",
    "    parity_col = parity_col.reshape(-1, 1)\n",
    "\n",
    "    # label 2\n",
    "    pos = (product > 0)*1\n",
    "    neg = (product < 0)*-1\n",
    "    zero = (product == 0)*0\n",
    "    sign_col = pos + neg + zero\n",
    "    sign_col = sign_col.reshape(-1, 1)\n",
    "\n",
    "    # concatenate columns to create the dataset\n",
    "    dataset = np.concatenate((X, parity_col, sign_col), axis=1)\n",
    "    \n",
    "    return dataset"
   ]
  },
  {
   "cell_type": "markdown",
   "metadata": {},
   "source": [
    "Now we can create the dataset:"
   ]
  },
  {
   "cell_type": "code",
   "execution_count": 7,
   "metadata": {
    "ExecuteTime": {
     "end_time": "2024-03-02T18:00:24.979132400Z",
     "start_time": "2024-03-02T18:00:24.921729200Z"
    }
   },
   "outputs": [],
   "source": [
    "dataset = simulator(n=10000)"
   ]
  },
  {
   "cell_type": "markdown",
   "metadata": {},
   "source": [
    "To see how the data look like, we can display some samples from the dataset:"
   ]
  },
  {
   "cell_type": "code",
   "execution_count": 8,
   "metadata": {
    "ExecuteTime": {
     "end_time": "2024-03-02T18:00:27.259346200Z",
     "start_time": "2024-03-02T18:00:27.205629300Z"
    }
   },
   "outputs": [
    {
     "data": {
      "text/plain": "   x_1  x_2  x_3  x_4  Parity  Sign\n0    2    0    3   -5       0     0\n1    2   -1   -5    5       0     1\n2    2    5    0    5       0     0\n3    3    5    5   -4       0    -1\n4    5    5   -5    3       1    -1\n5    0    5   -5   -2       0     0\n6   -2   -1   -1    4       0    -1\n7   -4    0    3   -5       0     0\n8    2   -4    2    4       0    -1\n9   -4    1   -3   -2       0    -1",
      "text/html": "<div>\n<style scoped>\n    .dataframe tbody tr th:only-of-type {\n        vertical-align: middle;\n    }\n\n    .dataframe tbody tr th {\n        vertical-align: top;\n    }\n\n    .dataframe thead th {\n        text-align: right;\n    }\n</style>\n<table border=\"1\" class=\"dataframe\">\n  <thead>\n    <tr style=\"text-align: right;\">\n      <th></th>\n      <th>x_1</th>\n      <th>x_2</th>\n      <th>x_3</th>\n      <th>x_4</th>\n      <th>Parity</th>\n      <th>Sign</th>\n    </tr>\n  </thead>\n  <tbody>\n    <tr>\n      <th>0</th>\n      <td>2</td>\n      <td>0</td>\n      <td>3</td>\n      <td>-5</td>\n      <td>0</td>\n      <td>0</td>\n    </tr>\n    <tr>\n      <th>1</th>\n      <td>2</td>\n      <td>-1</td>\n      <td>-5</td>\n      <td>5</td>\n      <td>0</td>\n      <td>1</td>\n    </tr>\n    <tr>\n      <th>2</th>\n      <td>2</td>\n      <td>5</td>\n      <td>0</td>\n      <td>5</td>\n      <td>0</td>\n      <td>0</td>\n    </tr>\n    <tr>\n      <th>3</th>\n      <td>3</td>\n      <td>5</td>\n      <td>5</td>\n      <td>-4</td>\n      <td>0</td>\n      <td>-1</td>\n    </tr>\n    <tr>\n      <th>4</th>\n      <td>5</td>\n      <td>5</td>\n      <td>-5</td>\n      <td>3</td>\n      <td>1</td>\n      <td>-1</td>\n    </tr>\n    <tr>\n      <th>5</th>\n      <td>0</td>\n      <td>5</td>\n      <td>-5</td>\n      <td>-2</td>\n      <td>0</td>\n      <td>0</td>\n    </tr>\n    <tr>\n      <th>6</th>\n      <td>-2</td>\n      <td>-1</td>\n      <td>-1</td>\n      <td>4</td>\n      <td>0</td>\n      <td>-1</td>\n    </tr>\n    <tr>\n      <th>7</th>\n      <td>-4</td>\n      <td>0</td>\n      <td>3</td>\n      <td>-5</td>\n      <td>0</td>\n      <td>0</td>\n    </tr>\n    <tr>\n      <th>8</th>\n      <td>2</td>\n      <td>-4</td>\n      <td>2</td>\n      <td>4</td>\n      <td>0</td>\n      <td>-1</td>\n    </tr>\n    <tr>\n      <th>9</th>\n      <td>-4</td>\n      <td>1</td>\n      <td>-3</td>\n      <td>-2</td>\n      <td>0</td>\n      <td>-1</td>\n    </tr>\n  </tbody>\n</table>\n</div>"
     },
     "execution_count": 8,
     "metadata": {},
     "output_type": "execute_result"
    }
   ],
   "source": [
    "df = pd.DataFrame(dataset, columns=['x_1', 'x_2', 'x_3', 'x_4', 'Parity', 'Sign'])\n",
    "df.head(10)"
   ]
  },
  {
   "cell_type": "markdown",
   "metadata": {},
   "source": [
    "**Task 4.1**\n",
    "Use the numpy array `dataset` to create `X` and `y`. Preprocess the data if needed."
   ]
  },
  {
   "cell_type": "code",
   "execution_count": 15,
   "metadata": {
    "ExecuteTime": {
     "end_time": "2024-03-02T18:01:20.299435100Z",
     "start_time": "2024-03-02T18:01:20.221440100Z"
    }
   },
   "outputs": [
    {
     "data": {
      "text/plain": "((10000, 4), (10000, 2))"
     },
     "execution_count": 15,
     "metadata": {},
     "output_type": "execute_result"
    }
   ],
   "source": [
    "# YOUR CODE HERE #\n",
    "X,  y  = df.iloc[:, :-2 ] , df.iloc[:,-2:]\n",
    "X.shape, y.shape "
   ]
  },
  {
   "cell_type": "markdown",
   "metadata": {},
   "source": [
    "After preprocessing the data, we can split the dataset into a training set and a testing set using function ``train_test_split``:"
   ]
  },
  {
   "cell_type": "code",
   "execution_count": 16,
   "metadata": {
    "ExecuteTime": {
     "end_time": "2024-03-02T18:01:24.660938500Z",
     "start_time": "2024-03-02T18:01:24.459620800Z"
    }
   },
   "outputs": [],
   "source": [
    "from sklearn.model_selection import train_test_split\n",
    "X_train, X_test, y_train, y_test = train_test_split(X,\n",
    "                                                    y,\n",
    "                                                    test_size=0.33,\n",
    "                                                    random_state=0)"
   ]
  },
  {
   "cell_type": "markdown",
   "metadata": {},
   "source": [
    "Then we can visualize the dimensions of the sets:"
   ]
  },
  {
   "cell_type": "code",
   "execution_count": 17,
   "metadata": {
    "ExecuteTime": {
     "end_time": "2024-03-02T18:01:25.939142500Z",
     "start_time": "2024-03-02T18:01:25.885173400Z"
    }
   },
   "outputs": [
    {
     "data": {
      "text/plain": "((6700, 4), (6700, 2), (3300, 4), (3300, 2))"
     },
     "execution_count": 17,
     "metadata": {},
     "output_type": "execute_result"
    }
   ],
   "source": [
    "X_train.shape, y_train.shape, X_test.shape, y_test.shape"
   ]
  },
  {
   "cell_type": "code",
   "execution_count": 18,
   "outputs": [
    {
     "data": {
      "text/plain": "      Parity  Sign\n6596       0     1\n1292       0     0\n2011       1     1\n4957       0    -1\n5164       0     0\n...      ...   ...\n9225       0     1\n4859       0     0\n3264       0     1\n9845       0    -1\n2732       0     0\n\n[6700 rows x 2 columns]",
      "text/html": "<div>\n<style scoped>\n    .dataframe tbody tr th:only-of-type {\n        vertical-align: middle;\n    }\n\n    .dataframe tbody tr th {\n        vertical-align: top;\n    }\n\n    .dataframe thead th {\n        text-align: right;\n    }\n</style>\n<table border=\"1\" class=\"dataframe\">\n  <thead>\n    <tr style=\"text-align: right;\">\n      <th></th>\n      <th>Parity</th>\n      <th>Sign</th>\n    </tr>\n  </thead>\n  <tbody>\n    <tr>\n      <th>6596</th>\n      <td>0</td>\n      <td>1</td>\n    </tr>\n    <tr>\n      <th>1292</th>\n      <td>0</td>\n      <td>0</td>\n    </tr>\n    <tr>\n      <th>2011</th>\n      <td>1</td>\n      <td>1</td>\n    </tr>\n    <tr>\n      <th>4957</th>\n      <td>0</td>\n      <td>-1</td>\n    </tr>\n    <tr>\n      <th>5164</th>\n      <td>0</td>\n      <td>0</td>\n    </tr>\n    <tr>\n      <th>...</th>\n      <td>...</td>\n      <td>...</td>\n    </tr>\n    <tr>\n      <th>9225</th>\n      <td>0</td>\n      <td>1</td>\n    </tr>\n    <tr>\n      <th>4859</th>\n      <td>0</td>\n      <td>0</td>\n    </tr>\n    <tr>\n      <th>3264</th>\n      <td>0</td>\n      <td>1</td>\n    </tr>\n    <tr>\n      <th>9845</th>\n      <td>0</td>\n      <td>-1</td>\n    </tr>\n    <tr>\n      <th>2732</th>\n      <td>0</td>\n      <td>0</td>\n    </tr>\n  </tbody>\n</table>\n<p>6700 rows × 2 columns</p>\n</div>"
     },
     "execution_count": 18,
     "metadata": {},
     "output_type": "execute_result"
    }
   ],
   "source": [
    "y_train"
   ],
   "metadata": {
    "collapsed": false,
    "ExecuteTime": {
     "end_time": "2024-03-02T18:02:13.576452600Z",
     "start_time": "2024-03-02T18:02:13.445137300Z"
    }
   }
  },
  {
   "cell_type": "markdown",
   "metadata": {},
   "source": [
    "**Task 4.2**\n",
    "Build a MLP suitable for this simulated dataset. Use a `Sequential()` model and `Dense` layers from Keras. Use suitable activation functions."
   ]
  },
  {
   "cell_type": "code",
   "execution_count": 33,
   "metadata": {
    "ExecuteTime": {
     "end_time": "2024-03-02T18:14:04.499887700Z",
     "start_time": "2024-03-02T18:14:04.458917Z"
    }
   },
   "outputs": [],
   "source": [
    "# YOUR CODE HERE #\n",
    "import tensorflow as tf\n",
    "keras = tf.keras\n",
    "\n",
    "from keras import Sequential\n",
    "from keras.layers import Dense\n",
    "model = Sequential([\n",
    "\n",
    "    Dense(64 , activation='relu'),\n",
    "    Dense(32 , activation='relu'),\n",
    "    Dense(2 , activation='sigmoid'),\n",
    "    \n",
    "])"
   ]
  },
  {
   "cell_type": "markdown",
   "metadata": {},
   "source": [
    "**Task 4.3**\n",
    "Compile the model by selecting a suitable optimizer and a suitable loss function. Also include a metric or metrics."
   ]
  },
  {
   "cell_type": "code",
   "execution_count": 34,
   "metadata": {
    "ExecuteTime": {
     "end_time": "2024-03-02T18:14:05.119735100Z",
     "start_time": "2024-03-02T18:14:05.064029500Z"
    }
   },
   "outputs": [],
   "source": [
    "# YOUR CODE HERE #\n",
    "model.compile(optimizer='adam' , loss='binary_crossentropy' , metrics=['accuracy'])"
   ]
  },
  {
   "cell_type": "markdown",
   "metadata": {},
   "source": [
    "**Task 4.4**\n",
    "Train the model on X_train, y_train and use X_test, y_test as validation data. Pick a suitable number of epochs and batch size."
   ]
  },
  {
   "cell_type": "code",
   "execution_count": 35,
   "metadata": {
    "ExecuteTime": {
     "end_time": "2024-03-02T18:14:10.989684100Z",
     "start_time": "2024-03-02T18:14:05.669408500Z"
    }
   },
   "outputs": [
    {
     "name": "stdout",
     "output_type": "stream",
     "text": [
      "Epoch 1/15\n",
      "105/105 [==============================] - 1s 4ms/step - loss: 0.2520 - accuracy: 0.6316 - val_loss: 0.0648 - val_accuracy: 0.6948\n",
      "Epoch 2/15\n",
      "105/105 [==============================] - 0s 3ms/step - loss: -0.1827 - accuracy: 0.7136 - val_loss: -0.3496 - val_accuracy: 0.7133\n",
      "Epoch 3/15\n",
      "105/105 [==============================] - 0s 3ms/step - loss: -0.9134 - accuracy: 0.7276 - val_loss: -1.3559 - val_accuracy: 0.7267\n",
      "Epoch 4/15\n",
      "105/105 [==============================] - 0s 3ms/step - loss: -2.6987 - accuracy: 0.7272 - val_loss: -3.7285 - val_accuracy: 0.7115\n",
      "Epoch 5/15\n",
      "105/105 [==============================] - 0s 2ms/step - loss: -6.5809 - accuracy: 0.7185 - val_loss: -8.5756 - val_accuracy: 0.7052\n",
      "Epoch 6/15\n",
      "105/105 [==============================] - 0s 2ms/step - loss: -13.6399 - accuracy: 0.7216 - val_loss: -16.3995 - val_accuracy: 0.7000\n",
      "Epoch 7/15\n",
      "105/105 [==============================] - 0s 2ms/step - loss: -24.7399 - accuracy: 0.7121 - val_loss: -28.8059 - val_accuracy: 0.7082\n",
      "Epoch 8/15\n",
      "105/105 [==============================] - 0s 3ms/step - loss: -40.6409 - accuracy: 0.7169 - val_loss: -45.4348 - val_accuracy: 0.7067\n",
      "Epoch 9/15\n",
      "105/105 [==============================] - 0s 3ms/step - loss: -61.8209 - accuracy: 0.7203 - val_loss: -66.2573 - val_accuracy: 0.7039\n",
      "Epoch 10/15\n",
      "105/105 [==============================] - 0s 2ms/step - loss: -88.4823 - accuracy: 0.7157 - val_loss: -93.0961 - val_accuracy: 0.7067\n",
      "Epoch 11/15\n",
      "105/105 [==============================] - 0s 3ms/step - loss: -121.6008 - accuracy: 0.7155 - val_loss: -125.7700 - val_accuracy: 0.7058\n",
      "Epoch 12/15\n",
      "105/105 [==============================] - 0s 3ms/step - loss: -161.1702 - accuracy: 0.7170 - val_loss: -164.5817 - val_accuracy: 0.7058\n",
      "Epoch 13/15\n",
      "105/105 [==============================] - 0s 3ms/step - loss: -207.5970 - accuracy: 0.7143 - val_loss: -210.0893 - val_accuracy: 0.7082\n",
      "Epoch 14/15\n",
      "105/105 [==============================] - 0s 3ms/step - loss: -261.8669 - accuracy: 0.7184 - val_loss: -262.3529 - val_accuracy: 0.7067\n",
      "Epoch 15/15\n",
      "105/105 [==============================] - 0s 3ms/step - loss: -322.9372 - accuracy: 0.7161 - val_loss: -320.7565 - val_accuracy: 0.7079\n"
     ]
    },
    {
     "data": {
      "text/plain": "<keras.src.callbacks.History at 0x1bcaee170a0>"
     },
     "execution_count": 35,
     "metadata": {},
     "output_type": "execute_result"
    }
   ],
   "source": [
    "# YOUR CODE HERE #\n",
    "\n",
    "model.fit(X_train,y_train  , validation_data = (X_test, y_test) , epochs = 15 , batch_size= 64 )"
   ]
  },
  {
   "cell_type": "code",
   "execution_count": 36,
   "outputs": [
    {
     "name": "stdout",
     "output_type": "stream",
     "text": [
      "104/104 [==============================] - 0s 2ms/step - loss: -320.7565 - accuracy: 0.7079\n"
     ]
    },
    {
     "data": {
      "text/plain": "[-320.7564697265625, 0.7078787684440613]"
     },
     "execution_count": 36,
     "metadata": {},
     "output_type": "execute_result"
    }
   ],
   "source": [
    "model.evaluate(X_test,y_test)"
   ],
   "metadata": {
    "collapsed": false,
    "ExecuteTime": {
     "end_time": "2024-03-02T18:14:11.252653500Z",
     "start_time": "2024-03-02T18:14:10.992208900Z"
    }
   }
  },
  {
   "cell_type": "code",
   "execution_count": null,
   "outputs": [],
   "source": [],
   "metadata": {
    "collapsed": false
   }
  }
 ],
 "metadata": {
  "kernelspec": {
   "display_name": "Python 3",
   "language": "python",
   "name": "python3"
  },
  "language_info": {
   "codemirror_mode": {
    "name": "ipython",
    "version": 3
   },
   "file_extension": ".py",
   "mimetype": "text/x-python",
   "name": "python",
   "nbconvert_exporter": "python",
   "pygments_lexer": "ipython3",
   "version": "3.10.13"
  }
 },
 "nbformat": 4,
 "nbformat_minor": 2
}

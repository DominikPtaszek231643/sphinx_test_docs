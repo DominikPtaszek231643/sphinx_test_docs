{
 "cells": [
  {
   "cell_type": "code",
   "execution_count": 1,
   "id": "initial_id",
   "metadata": {
    "collapsed": true,
    "ExecuteTime": {
     "end_time": "2024-03-04T15:10:13.550854500Z",
     "start_time": "2024-03-04T15:10:13.546333200Z"
    }
   },
   "outputs": [],
   "source": [
    "import os\n",
    "\n",
    "os.environ[\"BING_COOKIES\"] = \"_C_Auth=; MC1=GUID=0c5548469550477fb74484ed5ce8825f&HASH=0c55&LV=202402&V=4&LU=1708520665381; MUID=4369e2bf8c0a498eb0dc3c1a09434310; fptctx2=H3ihr9e92IdW6yd1ZgQ9S9GE%252fyxCfNn1WRJjtpTkl7anSWJOb1QXSCiuB8XaFaQcNY6PqJ0FpO1iXwIHeqJoPiIgTXEVqOjPscVfKnELqJGtIRuwVNd9aONPtM3tQdMVVQJuTpuFbLqC9hipjjoeGO9mCu%252bUSJz2ytn8tHxwXiRvw6ukCVpIPenC65sVJqyyUy0P4ys6uAxgd7r54s7YhPd1iYZpS6iXXRGTP%252b3kFuBp72e5y9AU%252bxYZSuB7wnbZqR%252bNTiQHaJDr6N%252fgQzNCcX1fMU6z%252fropiQr86Jcx2PCJ%252fJndPDt7RN4sz1vxNWGoZ6B5%252bqrdfXUCwFmNizVxKg%253d%253d; MS0=edfabf1ff807408f9926c2d38700139d; _C_Auth=; SRCHD=AF=NOFORM; _Rwho=u=d; BCP=AD=1&AL=1&SM=1; CSRFCookie=3c3dc33f-3251-4135-b8b3-83d1a5bda81c; SRCHUSR=DOB=20240304&POEX=W; MUID=1E22CA91FE6C69DF17E8DEA9FFBE689F; _EDGE_V=1; SRCHUID=V=2&GUID=7BC94905A98C4989B97DFEDCA5ECF8DA&dmnchg=1; ANON=A=7427E43FF155B1DD2C5FDC4DFFFFFFFF&E=1d7c&W=1; NAP=V=1.9&E=1d22&C=-_lzjq1FKJtX00oGRDyNgiyav1k9Cf9V4qgA4zg0-MNHkUbhoMZeLA&W=1; PPLState=1; KievRPSSecAuth=FABqBBRaTOJILtFsMkpLVWSG6AN6C/svRwNmAAAEgAAACBLTduYmgC06KAR6ffGykTO/4+tc6mDWoH4vzNu270wvp/G1LpQlJCMUu01ZJNz7D0MwKz3JduGBgqT9UblwqPuwhLWTEdqKUZoNfrZ0N/g7qTe62E4ovrWzeU0vLqTkB6sdGsVM19zeJm1C6Ao6NoeteXPwq3pbeHWbkdUG2npDxyWQhyw83jHV49G76Sekbgoo1SYMWn2UxmVbcwM9qoHPut5phG6J4vNG3/gIzWp6ah3N1qc1Q7LZvCmoxV0OGJNwBq1OWkvyY7JLXP+ymhxOxZV/IL/Ob0JKYrgL6AeBlAwYlwdepFhdN4cZe9yM1GFRpsdIhuILw6iJrv1fzS1RRuOKH0fHRydJTULUnBrb0Be6BzgAuXWlC1o7EoSepAqNZYkA2eHlBQMuurDL03YZtrXwBpiWYIi0MQmgx1jgODCaDcJkEB7KhSojMbM09fwhs4O6+rRIsrfdxB8Lt+BdyZObu/Mr/MWfoj/eJvTfhjKAJH6f1/bn+x4NgYMCT//DZTgrOv+iSFjQSWuf1ZirrWW+WWzoV5CRWxZOK+lasmPR9iH+GPmaCgWJOpDxsNI27zFRB8sTafo0ugYhTtDh5q5r3Fbq7ckkHQv53NAP59rmLr8aqA7VPCOt5dvd4WaeGvlRTK4hh+Wb+osTRT4B6Bogh9YgbOezeTPAmQ6N+4NYZly4xjw8lL20flBmUeDdi9TFPfJdkj1EAdayjgkxiVL6efIvV+yXsGOIOuGifu7e1k3DFriKwf5MNhOsydUJb9943GAdGtXT6TMWZp8ACwGU/9+trKbagvaP4xnX6dWgyRkvXB+PMverrKO3/al15pOH+KsFE5/JZB/xgGztcUtsBmXH5IgA7fTqfCWFebrqjStsPrtAOn2bsQGYUzI2xiXNVqXeQNg2j0rMzt1cNER3xF5SdTK2RRlvNGFz1Cce2yCqK3VqZciKF7zIwlE5cEscmXYEueMFE3AuytmuCb7KsKHtOPgr6d1SnzR1z7lZzSukqt5n3+zl3pF0rI+t7YfyHt469DUhehujm47QBWoAaoWXsb3Oq4O4NLYEL95PXhrZGZ4GBXS7ynL0IL+6/UfN5LY8xbepsNxkwLXOD3sKh+clYLL1/8+Oz446Qvr2GLWu/HoNx0MyqSfwPN157bFbqDVq4O/oK83bq5Jt5fb6iQyv4BDE1ApIugr4IJlx2pkbgjtbukvNVBj3qWwj70rezaOgjFKuqUTTArELsrt5rq0+lqD6I293q8BCWgq0SxBOG6j9YlpyGcy+2lluZfE6zXfqe17BJkIcESyEvKmzB3fdei/s9bXPu5frsKj2+4DwBbx1i0PIhaB6uw6dEBWzTP+K/8P+4tbN9ecdEFzNhIeW2yEbm9vpBtgoxdCwR66+tRrD7aKvCdWOpvphVGEO53/oYmxql/KYbWOpRBQAjcwwV0xp5G1KFtcHHYDVV0seC3E=; _U=12KBjlixu89HsZHpJgeIJ7cAq_1d1BNFp_cN5msrZkVENhqtpFPOhtiYaWXtAosy4wOc0Pp39FPLUFDB8MhwhfiAHL08yNKoQ5AS8jY-GVsyDw_A2CqhiYm9VbiX-z1grHt3zlygWqwy8WwK4-Qj0-DGwIuPEZfPRAJXqmmVxy490eNb_B74SqoLvZoopvZrOll9bKnW_bYz9fN-xB_BskA; WLS=C=26590fe78de2c2c7&N=igor; MUIDB=4369E2BF8C0A498EB0DC3C1A09434310; WLID=o1pTGwV949bOZGQ+yrW3Zv1w+4TRdUj4meOIT1Jnod/uQBb/Jg9C9dvpQoxxJ3FAa5mLoVXIQfQrA7ez0oC/reUiHL84aV4eja1fzGSj5Wg=; _EDGE_S=F=1&SID=2ADE4156BC20612E0641556EBDF260DB&mkt=pl-pl&ui=pl-pl; _SS=SID=2ADE4156BC20612E0641556EBDF260DB&R=7349&RB=7349&GB=0&RG=0&RP=7349; SRCHHPGUSR=SRCHLANG=pl&HV=1709563048&BRW=XW&BRH=T&CW=1886&CH=1330&SCW=1871&SCH=1315&DPR=1.0&UTC=60&DM=1&CIBV=1.1600.1&PV=10.0.0&PRVCW=1886&PRVCH=1330; _RwBf=r=0&ilt=1&ihpd=1&ispd=0&rc=7349&rb=7349&gb=0&rg=0&pc=7349&mtu=0&rbb=0&g=0&cid=&clo=0&v=3&l=2024-03-04T08:00:00.0000000Z&lft=0001-01-01T00:00:00.0000000&aof=0&ard=0001-01-01T00:00:00.0000000&rwdbt=2024-01-01T07:25:37.8494359-08:00&rwflt=2023-09-15T02:49:11.3679913-07:00&o=0&p=BINGTRIAL5TO250P201808&c=MY00IA&t=8520&s=2022-05-09T15:20:51.8660940+00:00&ts=2024-03-04T14:37:29.1814909+00:00&rwred=0&wls=2&wlb=0&wle=0&ccp=0&lka=0&lkt=0&aad=0&TH=&mta=0&e=tCCLVq6-FGvrwgBZ8Fshx-fB0b7Z2kYv5yEFmCbVk3It9f732C6oVgy-jySxk6xC8X6w7DwDX9O1f7ocVIbsrA&A=7427E43FF155B1DD2C5FDC4DFFFFFFFF\"\n",
    "\n",
    "\n"
   ]
  },
  {
   "cell_type": "code",
   "execution_count": 2,
   "outputs": [
    {
     "name": "stdout",
     "output_type": "stream",
     "text": [
      "Bot: Oczywiście, oto przykładowe pytania do quizu dla uczniów na poziomie A1, którzy uczą się języka polskiego, a ich językiem ojczystym jest angielski:\n",
      "\n",
      "1. Jak się nazywasz?\n",
      "    - (a) I am John.\n",
      "    - (b) My name is John.\n",
      "    - (c) John is my name.\n",
      "\n",
      "2. Gdzie mieszkasz?\n",
      "    - (a) I live in London.\n",
      "    - (b) London is my home.\n",
      "    - (c) I am from London.\n",
      "3. Ile masz lat?\n",
      "    - (a) I have 20 years.\n",
      "    - (b) I am 20 years old.\n",
      "    - (c) My age is 20.\n",
      "4. Czy mówisz po polsku?\n",
      "    - (a) Yes, I speak.\n",
      "    - (b) Yes, I speak Polish.\n",
      "    - (c) Polish, I speak.\n",
      "5. Jakie jest twoje ulubione jedzenie?\n",
      "    - (a) My favorite food is pizza.\n",
      "    - (b) I like to eat pizza.\n",
      "    - (c) Pizza is my favorite.\n",
      "6. Jakie jest twoje hobby?\n",
      "    - (a) My hobby is reading.\n",
      "    - (b) I like reading.\n",
      "    - (c) Reading is my hobby.\n",
      "\n",
      "7. Jak masz na imię?\n",
      "    - (a) My name is Anna.\n",
      "    - (b) I am Anna.\n",
      "    - (c) Anna is my name.\n",
      "\n",
      "8. Skąd pochodzisz?\n",
      "    - (a) I am from Spain.\n",
      "    - (b) I come from Spain.\n",
      "    - (c) Spain is my country.\n",
      "\n",
      "9. Jaki jest twój numer telefonu?\n",
      "    - (a) My phone number is 123456789.\n",
      "    - (b) 123456789 is my number.\n",
      "    - (c) I have 123456789 number.\n",
      "\n",
      "10. Gdzie pracujesz?\n",
      "    - (a) I work in a school.\n",
      "    - (b) My work is at a school.\n",
      "    - (c) School is my workplace.\n",
      "\n",
      "Pamiętaj, że odpowiedzi powinny być dostosowane do poziomu ucznia. Powodzenia! \n",
      "\n",
      "\n",
      "------------------------------------------------------------------------------------------------------------------------------------------------------------------------------------------------------------------------------------------------------------------------------------------------------------\n",
      "['O', 'czy', 'wi', 'ście', ',', ' o', 'to', ' przy', 'k', 'ł', 'adow', 'e', ' pyt', 'ania', ' do', ' quiz', 'u', ' dla', ' ucz', 'ni', 'ów', ' na', ' po', 'zi', 'om', 'ie', ' A', '1', ',', ' któ', 'rzy', ' ucz', 'ą', ' się', ' j', 'ę', 'zy', 'ka', ' pol', 'sk', 'iego', ',', ' a', ' ich', ' j', 'ę', 'zy', 'kiem', ' o', 'j', 'cz', 'yst', 'ym', ' jest', ' angi', 'els', 'ki', ':\\n\\n', '1', '.', ' Jak', ' się', ' n', 'azy', 'was', 'z', '?\\n', '   ', ' -', ' (', 'a', ')', ' I', ' am', ' John', '.\\n', '   ', ' -', ' (', 'b', ')', ' My', ' name', ' is', ' John', '.\\n', '   ', ' -', ' (', 'c', ')', ' John', ' is', ' my', ' name', '.\\n\\n', '2', '.', ' G', 'd', 'zie', ' mies', 'zk', 'asz', '?\\n', '   ', ' -', ' (', 'a', ')', ' I', ' live', ' in', ' London', '.\\n', '   ', ' -', ' (', 'b', ')', ' London', ' is', ' my', ' home', '.\\n', '   ', ' -', ' (', 'c', ')', ' I', ' am', ' from', ' London', '.\\n\\n', '3', '.', ' I', 'le', ' mas', 'z', ' lat', '?\\n', '   ', ' -', ' (', 'a', ')', ' I', ' have', ' ', '20', ' years', '.\\n', '   ', ' -', ' (', 'b', ')', ' I', ' am', ' ', '20', ' years', ' old', '.\\n', '   ', ' -', ' (', 'c', ')', ' My', ' age', ' is', ' ', '20', '.\\n\\n', '4', '.', ' C', 'zy', ' m', 'ów', 'isz', ' po', ' pol', 'sku', '?\\n', '   ', ' -', ' (', 'a', ')', ' Yes', ',', ' I', ' speak', '.\\n', '   ', ' -', ' (', 'b', ')', ' Yes', ',', ' I', ' speak', ' Polish', '.\\n', '   ', ' -', ' (', 'c', ')', ' Polish', ',', ' I', ' speak', '.\\n\\n', '5', '.', ' Jak', 'ie', ' jest', ' two', 'je', ' ul', 'ub', 'ione', ' jed', 'zenie', '?\\n', '   ', ' -', ' (', 'a', ')', ' My', ' favorite', ' food', ' is', ' pizza', '.\\n', '   ', ' -', ' (', 'b', ')', ' I', ' like', ' to', ' eat', ' pizza', '.\\n', '   ', ' -', ' (', 'c', ')', ' Pizza', ' is', ' my', ' favorite', '.\\n\\n', '6', '.', ' Jak', 'ie', ' jest', ' two', 'je', ' hobby', '?\\n', '   ', ' -', ' (', 'a', ')', ' My', ' hobby', ' is', ' reading', '.\\n', '   ', ' -', ' (', 'b', ')', ' I', ' like', ' reading', '.\\n', '   ', ' -', ' (', 'c', ')', ' Reading', ' is', ' my', ' hobby', '.\\n\\n', '7', '.', ' Jak', ' mas', 'z', ' na', ' im', 'ię', '?\\n', '   ', ' -', ' (', 'a', ')', ' My', ' name', ' is', ' Anna', '.\\n', '   ', ' -', ' (', 'b', ')', ' I', ' am', ' Anna', '.\\n', '   ', ' -', ' (', 'c', ')', ' Anna', ' is', ' my', ' name', '.\\n\\n', '8', '.', ' Sk', 'ąd', ' po', 'ch', 'od', 'z', 'isz', '?\\n', '   ', ' -', ' (', 'a', ')', ' I', ' am', ' from', ' Spain', '.\\n', '   ', ' -', ' (', 'b', ')', ' I', ' come', ' from', ' Spain', '.\\n', '   ', ' -', ' (', 'c', ')', ' Spain', ' is', ' my', ' country', '.\\n\\n', '9', '.', ' J', 'aki', ' jest', ' tw', 'ój', ' numer', ' telefon', 'u', '?\\n', '   ', ' -', ' (', 'a', ')', ' My', ' phone', ' number', ' is', ' ', '123', '456', '789', '.\\n', '   ', ' -', ' (', 'b', ')', ' ', '123', '456', '789', ' is', ' my', ' number', '.\\n', '   ', ' -', ' (', 'c', ')', ' I', ' have', ' ', '123', '456', '789', ' number', '.\\n\\n', '10', '.', ' G', 'd', 'zie', ' prac', 'uj', 'esz', '?\\n', '   ', ' -', ' (', 'a', ')', ' I', ' work', ' in', ' a', ' school', '.\\n', '   ', ' -', ' (', 'b', ')', ' My', ' work', ' is', ' at', ' a', ' school', '.\\n', '   ', ' -', ' (', 'c', ')', ' School', ' is', ' my', ' workplace', '.\\n\\n', 'P', 'ami', 'ę', 't', 'aj', ',', ' że', ' odpowied', 'zi', ' pow', 'in', 'ny', ' być', ' dost', 'os', 'owane', ' do', ' po', 'zi', 'om', 'u', ' ucz', 'nia', '.', ' Pow', 'od', 'zenia', '!', ' \\n', '', '', '']\n"
     ]
    }
   ],
   "source": [
    "import asyncio\n",
    "from sydney import SydneyClient\n",
    "\n",
    "initial_prompt ='''\n",
    " Wyobraz ze masz taka platforme: Platforma do nauki języków obcych: platformę e-learningową umożliwiającą użytkownikom\\n\n",
    " naukę języków obcych poprzez interaktywne lekcje, quizy, ćwiczenia gramatyczne, konwersacje z botem, a także wymianę wiedzy i doświadczeń z innymi użytkownikami. |n\n",
    " I teraz chcesz zaprojektowac zadania, cwiczenia, i quizy dla swoich uczniow ktorzy chca sie nauczyc jezyka polskiego na A1 a ich jezyk ojczysty to angielski, zacznij od zrobienia dla nich prostych ale uczacych quizow, chce 10 pytan \n",
    "'''\n",
    "\n",
    "\n",
    "response_lst = []\n",
    "async def main():\n",
    "    async with SydneyClient(style='precise') as sydney:\n",
    "            prompt = initial_prompt\n",
    "\n",
    "          \n",
    "            print(\"Bot: \", end=\"\", flush=True)\n",
    "            async for response in sydney.ask_stream(prompt):\n",
    "                print(response, end=\"\", flush=True)\n",
    "                response_lst.append(response)\n",
    "            print(\"\\n\")\n",
    "            print('---' *100)\n",
    "            print(response_lst)\n",
    "\n",
    "\n",
    "\n",
    "await main()\n"
   ],
   "metadata": {
    "collapsed": false,
    "ExecuteTime": {
     "end_time": "2024-03-04T15:10:54.926481400Z",
     "start_time": "2024-03-04T15:10:13.553859100Z"
    }
   },
   "id": "650cc69abbfc829f"
  },
  {
   "cell_type": "code",
   "execution_count": 32,
   "outputs": [
    {
     "name": "stdout",
     "output_type": "stream",
     "text": [
      "['\\n\\n1. Jak się nazywasz?\\n    - (a) I am John.\\n    - (b) My name is John.\\n    - (c) John is my name', '2. Gdzie mieszkasz?\\n    - (a) I live in London.\\n    - (b) London is my home.\\n    - (c) I am from London', '3. Ile masz lat?\\n    - (a) I have 20 years.\\n    - (b) I am 20 years old.\\n    - (c) My age is 20', '4. Czy mówisz po polsku?\\n    - (a) Yes, I speak.\\n    - (b) Yes, I speak Polish.\\n    - (c) Polish, I speak', '5. Jakie jest twoje ulubione jedzenie?\\n    - (a) My favorite food is pizza.\\n    - (b) I like to eat pizza.\\n    - (c) Pizza is my favorite', '6. Jakie jest twoje hobby?\\n    - (a) My hobby is reading.\\n    - (b) I like reading.\\n    - (c) Reading is my hobby', '7. Jak masz na imię?\\n    - (a) My name is Anna.\\n    - (b) I am Anna.\\n    - (c) Anna is my name', '8. Skąd pochodzisz?\\n    - (a) I am from Spain.\\n    - (b) I come from Spain.\\n    - (c) Spain is my country', '9. Jaki jest twój numer telefonu?\\n    - (a) My phone number is 123456789.\\n    - (b) 123456789 is my number.\\n    - (c) I have 123456789 number', '10. Gdzie pracujesz?\\n    - (a) I work in a school.\\n    - (b) My work is at a school.\\n    - (c) School is my workplace', '']\n",
      "0 \n",
      "\n",
      "1. Jak się nazywasz?\n",
      "    - (a) I am John.\n",
      "    - (b) My name is John.\n",
      "    - (c) John is my name \n",
      "\n",
      "1 2. Gdzie mieszkasz?\n",
      "    - (a) I live in London.\n",
      "    - (b) London is my home.\n",
      "    - (c) I am from London \n",
      "\n",
      "2 3. Ile masz lat?\n",
      "    - (a) I have 20 years.\n",
      "    - (b) I am 20 years old.\n",
      "    - (c) My age is 20 \n",
      "\n",
      "3 4. Czy mówisz po polsku?\n",
      "    - (a) Yes, I speak.\n",
      "    - (b) Yes, I speak Polish.\n",
      "    - (c) Polish, I speak \n",
      "\n",
      "4 5. Jakie jest twoje ulubione jedzenie?\n",
      "    - (a) My favorite food is pizza.\n",
      "    - (b) I like to eat pizza.\n",
      "    - (c) Pizza is my favorite \n",
      "\n",
      "5 6. Jakie jest twoje hobby?\n",
      "    - (a) My hobby is reading.\n",
      "    - (b) I like reading.\n",
      "    - (c) Reading is my hobby \n",
      "\n",
      "6 7. Jak masz na imię?\n",
      "    - (a) My name is Anna.\n",
      "    - (b) I am Anna.\n",
      "    - (c) Anna is my name \n",
      "\n",
      "7 8. Skąd pochodzisz?\n",
      "    - (a) I am from Spain.\n",
      "    - (b) I come from Spain.\n",
      "    - (c) Spain is my country \n",
      "\n",
      "8 9. Jaki jest twój numer telefonu?\n",
      "    - (a) My phone number is 123456789.\n",
      "    - (b) 123456789 is my number.\n",
      "    - (c) I have 123456789 number \n",
      "\n",
      "9 10. Gdzie pracujesz?\n",
      "    - (a) I work in a school.\n",
      "    - (b) My work is at a school.\n",
      "    - (c) School is my workplace \n"
     ]
    }
   ],
   "source": [
    "questions = \"\".join(response_lst).split(':')[1].split('Pamiętaj, że odpowiedzi powinny być dostosowane do poziomu ucznia.')[0]\n",
    "\n",
    "\n",
    "\n",
    "pytania_jako_lista = questions.split('.\\n\\n')\n",
    "\n",
    "print(pytania_jako_lista)\n",
    "\n",
    "for idx, element in enumerate(questions.split('.\\n\\n')[0:-1]):\n",
    "    print(idx, element , '\\n')\n",
    "\n"
   ],
   "metadata": {
    "collapsed": false,
    "ExecuteTime": {
     "end_time": "2024-03-04T15:22:46.731212300Z",
     "start_time": "2024-03-04T15:22:46.716639900Z"
    }
   },
   "id": "8234ea335aa0a1be"
  }
 ],
 "metadata": {
  "kernelspec": {
   "display_name": "Python 3",
   "language": "python",
   "name": "python3"
  },
  "language_info": {
   "codemirror_mode": {
    "name": "ipython",
    "version": 2
   },
   "file_extension": ".py",
   "mimetype": "text/x-python",
   "name": "python",
   "nbconvert_exporter": "python",
   "pygments_lexer": "ipython2",
   "version": "2.7.6"
  }
 },
 "nbformat": 4,
 "nbformat_minor": 5
}

{
 "cells": [
  {
   "cell_type": "markdown",
   "metadata": {},
   "source": [
    "# Block C: Creative Brief Template\n",
    "\n",
    "Please, use this template to write down your solutions to the [DataLab Tasks](). If you have any questions, please, contact your mentor or the content responsible. \n",
    "\n",
    "## Important Notes:\n",
    "- [ ] Please, rename the file to ```CreativeBrief_<your_name>_<studentnumber>.ipynb``` before submitting it. \n",
    "- [ ] Upload this template to the 'Deliverables' folder in you BUas GitHub repository.\n",
    "- [ ] You are allowed to add as many (Markdown/Python) cells as you need. \n",
    "- [ ] If more iteration steps were performed for the tasks in Section 3, please add more iteration sections.\n",
    "- [ ] If less iteration steps were needed for the tasks in Section 3, please remove the empty iteration sections.\n",
    "- [ ] If the task requires you to only write code or text, please, delete the unnecessary cell.\n",
    "- [ ] Your work should be reproducible, meaning that we should be able to run your code in the template and get the same results as you did. Tip: use relative paths to load your data!\n",
    "- [ ] Ensure that before you hand in the template, you press ```Restart & Run all```; we should be able to see the results of your code in the notebook (i.e., output cells).\n",
    "- [ ] Ensure that your code in the template is ```error-free```. In other words, we should not see any error messages when we run your code."
   ],
   "id": "94050b5c30ada578"
  },
  {
   "cell_type": "markdown",
   "id": "3c68774b",
   "metadata": {},
   "source": [
    "# Section 1 - Business Understanding (Week 1, Market Research for Product Development, Stakeholders & DAPS)"
   ]
  },
  {
   "cell_type": "markdown",
   "id": "c86b48db54e695c5",
   "metadata": {},
   "source": [
    "## Task 1.1: Market Research\n"
   ]
  },
  {
   "cell_type": "markdown",
   "source": [
    "**Market Research Process for Classroom Occupancy Detection Tool:**\n",
    "\n",
    "1. **Identifying Unmet Needs:**\n",
    " Provided a problem analysis in university settings, focusing on students' and staff's inability to quickly identify and book accessible study rooms. This has been recognized as a key unmet requirement with an impact on productivity.\n",
    "\n",
    "2. **Image Classifier Product Feature:**\n",
    "   I explored the possibilities of an image method of classification for classroom occupancy. Identified the requirement for a user-friendly, current time dashboard that offers insights into occupied and unoccupied areas while improving the space management procedure.\n",
    "\n",
    "\n",
    "3. **Improving Organizational Life:**\n",
    "Acknowledged that the Classroom Occupancy Detection Tool enhances organizational life by improving space usage. Given the requirement for rapid space identification, which helps with meeting scheduling and increases overall effectiveness.\n",
    "\n",
    "\n",
    "4. **Alleviating Organizational Challenge:**\n",
    "Recognized the tool's importance for dealing with the problem of poor space management in institutions. The program simplifies the process, offering a realistic answer for increasing productivity and reducing scheduling problems.\n",
    "\n",
    "\n"
   ],
   "metadata": {
    "collapsed": false
   },
   "id": "720ffebb87996019"
  },
  {
   "cell_type": "markdown",
   "source": [
    "**Market Research Findings: Addressing Facility Management Needs**\n",
    "\n",
    "\n",
    "*During my independent study*, I researched industry trends, concentrating on the global facility management business. The statistics, gathered from respected sources such as the National Center for Education Statistics (NCES), showed a considerable increase in market size from 2020 to 2030.\n",
    "\n",
    "*A appealing bar chart demonstrated this trend*, emphasizing the growing demand for facility management systems. This data not only demonstrates the growing industry, but it also indicates the evident need for creative goods in this field.\n",
    "\n",
    "\n",
    "\n",
    "*As I progress with my image recognition app project*, these discoveries become increasingly important, providing a contextual backdrop to the unmet demands in facility management. The expected expansion highlights the importance of my product, connecting it with the changing marketplace and stressing its potential influence.\n",
    "\n",
    "\n"
   ],
   "metadata": {
    "collapsed": false
   },
   "id": "a494e9d473928f6d"
  },
  {
   "cell_type": "markdown",
   "id": "428d384a0be87ad9",
   "metadata": {},
   "source": [
    "\n",
    "![Market size](./market_size.png)"
   ]
  },
  {
   "cell_type": "code",
   "execution_count": null,
   "outputs": [],
   "source": [],
   "metadata": {
    "collapsed": false,
    "ExecuteTime": {
     "end_time": "2024-03-10T15:05:48.012207Z",
     "start_time": "2024-03-10T15:05:48.008202Z"
    }
   },
   "id": "cf5bef34c93f8496"
  },
  {
   "cell_type": "markdown",
   "id": "d81cdb8be547379",
   "metadata": {},
   "source": [
    "## Task 1.2: Stakeholder Analysis"
   ]
  },
  {
   "cell_type": "markdown",
   "id": "d28881bd977934e3",
   "metadata": {},
   "source": [
    "__1. Characteristics__\n",
    "**University Administration:**\n",
    "\n",
    "Power: High, as they can allocate resources and approve implementations.\n",
    "Influence: Significant, as their decisions impact the entire university.\n",
    "Interest: High, as efficient space management aligns with the university's goals.\n",
    "Expectations: Improved processes, enhanced campus utilization.\n",
    "\n",
    "**Students:**\n",
    "Power: Moderate, as they directly benefit from improved space availability.\n",
    "Influence: Moderate, through feedback and usage patterns.\n",
    "Interest: High, as it affects their daily activities on campus.\n",
    "Expectations: Quick access to available study spaces.\n",
    "\n",
    "**Faculty:**\n",
    "Power: Moderate, as they may require specific spaces for classes and meetings.\n",
    "Influence: Moderate, through teaching and space utilization needs.\n",
    "Interest: High, for optimal classroom allocation.\n",
    "Expectations: Availability of suitable spaces for teaching and meetings.\n",
    "\n",
    "__2. Prioritization__\n",
    "\n",
    "*Power and Interest Grid:*\n",
    "\n",
    "The stakeholders can be categorized into four quadrants based on their power and interest:\n",
    "\n",
    "1. **High Power, High Interest:**\n",
    "   - University Administration\n",
    "\n",
    "2. **High Power, Low Interest:**\n",
    "   - N/A\n",
    "\n",
    "3. **Low Power, High Interest:**\n",
    "   - Students, Faculty\n",
    "\n",
    "4. **Low Power, Low Interest:**\n",
    "   - N/A\n",
    "\n",
    "\n",
    "__3. Main stakeholder__\n",
    "**Main Stakeholder:**\n",
    "\n",
    "*University Administration*\n",
    "\n",
    "**Decision-Making Context:**\n",
    "\n",
    "Due to their substantial authority, influence, and strong interest in the project, the University Administration takes the lead as the primary stakeholder. Their decision-making power include planning a strategy, distribution of resources, and campus administration. Major responsibilities include developing regulations, ensuring effective space management, and fostering a welcoming atmosphere for pupils as well as educators. Considering the University Administration's requirements and desires is critical for connecting the project with the institution's broader goals and ensuring effective execution.\n"
   ]
  },
  {
   "cell_type": "markdown",
   "id": "de7775f13563ce41",
   "metadata": {},
   "source": [
    "Add additional text here!"
   ]
  },
  {
   "cell_type": "markdown",
   "id": "388f61178c58de8c",
   "metadata": {},
   "source": [
    "## Task 1.3: The DAPS Diagram"
   ]
  },
  {
   "cell_type": "markdown",
   "id": "22272c34",
   "metadata": {},
   "source": [
    "Add a link to your DAPS diagram here!"
   ]
  },
  {
   "cell_type": "markdown",
   "id": "2d990c28ecac7a52",
   "metadata": {},
   "source": [
    "__1. The data-analytic problem__\n",
    "- [Fill in the lower part of the DAPS]\n",
    "\n",
    "__2. The decision framework__\n",
    "- [Fill in the middle part of the DAPS]\n",
    "\n",
    "__3. The business value__\n",
    "- [Fill in the upper part of the DAPS]"
   ]
  },
  {
   "cell_type": "markdown",
   "id": "8b730cfe795b291d",
   "metadata": {},
   "source": [
    "Add additional text here!"
   ]
  },
  {
   "cell_type": "markdown",
   "id": "2b010bfd385426e6",
   "metadata": {},
   "source": [
    "## Task 1.4: The First Idea"
   ]
  },
  {
   "cell_type": "markdown",
   "id": "731511bfd5e36c3e",
   "metadata": {},
   "source": [
    "Add your text here!"
   ]
  },
  {
   "cell_type": "markdown",
   "id": "bd741dabd9eb15ff",
   "metadata": {},
   "source": [
    "# Section 2A - Responsible AI (Fairness & Bias, Week 1)"
   ]
  },
  {
   "cell_type": "markdown",
   "id": "7ffbbcf23c9b0e62",
   "metadata": {},
   "source": [
    "## Task 2.1: Create a Dataset "
   ]
  },
  {
   "cell_type": "markdown",
   "id": "97211c700d8ef6b1",
   "metadata": {},
   "source": [
    " I gathered images for my dataset using Google Image Scraper repository and adjusting it by fixing errors and issues the initial repo had"
   ]
  },
  {
   "cell_type": "code",
   "execution_count": 1,
   "id": "9ad2cec5",
   "metadata": {
    "ExecuteTime": {
     "end_time": "2024-03-10T15:05:48.028237Z",
     "start_time": "2024-03-10T15:05:48.014208Z"
    }
   },
   "outputs": [],
   "source": [
    "# Add your code here!\n",
    "# Link do dataset in sharepoint template : https://edubuas.sharepoint.com/:u:/r/teams/deeplearning/SitePages/CollabHome.aspx?csf=1&web=1&share=EeXRxaaz4-pNpPaDnASa8UwBE1JQg-1FgmeoAvzCMHBkLw&e=RQj1KH"
   ]
  },
  {
   "cell_type": "markdown",
   "id": "d38ae05389855495",
   "metadata": {},
   "source": [
    "## Task 2.2: Identify, and Describe Bias"
   ]
  },
  {
   "cell_type": "markdown",
   "id": "f43771e9",
   "metadata": {},
   "source": [
    "\n",
    "*In my examination of the dataset for the image classification task focused on detecting classroom occupancy, I have identified biases that are relevant to the task and crucial to resolve to guarantee the fairness and accuracy of the model.*    \n",
    "## Defining Bias in the Dataset\n",
    "From the start, it is crucial to define the bias within our data set. Bias is a systematic preference or bias towards certain groups or characteristics in the data set, which can lead to unfair treatment or incorrect predictions from the model.\n",
    "### Types of prejudice identified   \n",
    " **Underrepresentation of people with disabilities:**\n",
    " A closer look at the images reveals that people with disabilities are significantly underrepresented. Lack of representation can lead to bias if the model has difficulty accurately identifying the occupancy of areas where disabled people reside. Consequently, this bias could lead to incorrect predictions and harm those who have difficulty accessing resources or opportunities at universities.\n",
    "**Lack of diversity in terms of race or ethnicity:**\n",
    "Another notable trend is the lack of diversity in terms of color or ethnicity within the dataset. Most of the people depicted in the photos are white, showing a wide disparity in representation across racial and ethnic lines. This lack of diversity can lead to a bias where the model performs better on photos of white people than on people from different racial or ethnic backgrounds. As a result, this bias can lead to unequal outcomes, further marginalizing certain racial or ethnic groups and limiting their access to resources or opportunities in academic contexts.\n",
    "### Effects of prejudice:\n",
    "Considering the potential consequences of these biases, it is important to recognize their negative impact on fairness:    \n",
    " **Disproportionate Impact:**\n",
    " The underrepresentation of people with disabilities and the lack of racial or ethnic diversity can disproportionately impact these disadvantaged groups and lead to unfair treatment or limited access to resources and opportunities in academic settings.\n",
    " **Timing of negative effects:**   \n",
    " The adverse effects of these biases can manifest themselves at several stages, including during  training, deployment, and use of the model. For example, if the model is trained on a biased data set, it may perpetuate and exaggerate existing biases after implementation, resulting in unequal treatment and outcomes for certain groups.\n",
    " ### Documentation and mitigation\n",
    " When documenting the process of discovering and explaining biases in the data set, it is important to provide detailed explanations and perhaps Python code examples to show the procedures performed to identify and address these biases. This documentation serves as a reference for future research and model modifications and ensures that equity principles are incorporated into the development and implementation of the image classification system for classroom occupancy detection.\n"
   ]
  },
  {
   "cell_type": "code",
   "execution_count": 2,
   "id": "d0eff6db",
   "metadata": {
    "ExecuteTime": {
     "end_time": "2024-03-10T15:05:48.043752Z",
     "start_time": "2024-03-10T15:05:48.029238Z"
    }
   },
   "outputs": [],
   "source": [
    "# Add your code here!"
   ]
  },
  {
   "cell_type": "markdown",
   "id": "88da7e10",
   "metadata": {},
   "source": [
    "## Task 2.3: Propose Individual Fairness Method"
   ]
  },
  {
   "cell_type": "markdown",
   "id": "2448ba5f",
   "metadata": {},
   "source": [
    "Add your text here!"
   ]
  },
  {
   "cell_type": "markdown",
   "source": [
    "### Individual Fairness Method Proposal:\n",
    "\n",
    "**Sensitive/Protected Attribute:**\n",
    "In the context of our image classification project for classroom occupancy, a sensitive characteristic may be the time of day when pictures are taken. This feature has the potential to impact occupancy and create bias accidentally.\n",
    "\n",
    "\n",
    "**Fairness Through Awareness:**\n",
    "I propose to use the 'Fairness Through Awareness' technique. This involves rendering the dataset more comprehensive by deliberately varying the time-of-day examples. By include a realistic mix of morning, afternoon, and evening photos, the model becomes more resilient to changes in occupation trends during the day.\n",
    "\n",
    "\n",
    "**Elaboration:**\n",
    "By purposely incorporating cases from different periods, the model is trained on a larger dataset, reducing bias associated with certain time-related occupancy patterns. This strategy improves fairness by identifying and resolving any temporal biases, ensuring that the model's predictions are equal at different times of day. Recognition of temporal variability helps to build a more robust and impartial model, which aligns with the overall objective of fair AI methods.\n"
   ],
   "metadata": {
    "collapsed": false
   },
   "id": "470b080e1cda168a"
  },
  {
   "cell_type": "markdown",
   "id": "44b4b1cd",
   "metadata": {},
   "source": [
    "## Task 2.4: Create Infographic; Group Fairness Metrics"
   ]
  },
  {
   "cell_type": "markdown",
   "id": "3a0d70d6da1f27f8",
   "metadata": {},
   "source": [
    "__1. Strengths__\n",
    "\n",
    "**Strengths Identified by Myself:**\n",
    "**Clarity and Comprehension:** The infographic effectively simplifies complicated ideas of group fairness criteria, making them intelligible to a wide audience. It combines simple language and an orderly progression from beginning to the end, which improves the learning experience.\n",
    "\n",
    "**Visual Design:** The selected color scheme and visual components (such as icons) are visually appealing and successfully highlight crucial ideas, making the infographic entertaining and simple to use.\n",
    "\n",
    "**Accuracy of Information:** The information has been well researched and properly illustrates the ideas of group fairness measurements, such as calibration, predictive parity, and equalized odds. Illustrations and instances are relevant and accurately conveyed.\n",
    "\n",
    "**Innovative Approach:** The use case offered is unique and imaginatively connects theoretical principles to real-world applications, exhibiting a thorough mastery of the subject.\n",
    "** Educational Value:** The infographic is an effective instructional tool, presenting complicated material in an easy-to-digest manner that is appropriate for both beginners and those with prior knowledge of the subject.\n",
    "\n",
    "\n",
    "**Peer Reviewer Information:**\n",
    "- **Name:** Spyros Georgiou\n",
    "- **Student Number:** 231999\n",
    "\n",
    "#### Strengths Identified by Peer Reviewer:\n",
    "**Clarity and Comprehension:**\n",
    "\"The infographic effectively simplifies complex fairness metrics into clear, understandable segments. However, some sections could benefit from additional examples to further aid comprehension.\"\n",
    "\n",
    "**Visual Design:**\n",
    "\"The visual design impresses with its appealing color scheme and relevant icons. Yet, a few areas might be too crowded, potentially overwhelming readers new to the subject.\"\n",
    "\n",
    "**Accuracy of Information:**\n",
    "\"Accurate and reflects a strong understanding of fairness metrics, with well-chosen examples. Nonetheless, including more current research could enhance its relevance.\"\n",
    "\n",
    "**Innovative Approach:**\n",
    "\"The use case integration showcases practical applications innovatively. However, exploring additional scenarios could demonstrate a broader application of fairness metrics.\"\n",
    "\n",
    "**Educational Value:**\n",
    "\"An excellent educational tool, engaging and accessible. A glossary of terms might be a valuable addition for those unfamiliar with the subject matter.\"\n",
    "__2. Areas for Improvement__\n",
    "\n",
    "### Areas for Improvement\n",
    "\n",
    "**Areas for Improvement Identified by Myself:**\n",
    "\n",
    "**Data Visualization Clarity:** Simplify complex texts for greater clarity.\n",
    "**Content Balance:** Ensure equal depth across all sections to cover each subject comprehensively.\n",
    "Accessibility Enhancements: Increase accessibility, aiming for broader inclusivity.\n",
    "\n",
    "**Peer Reviewer Information:**\n",
    "- **Name:** Spyros Georgiou\n",
    "- **Student Number:** 231999\n",
    "\n",
    "**Concise Areas for Improvement Identified by Peer Reviewer:**\n",
    "\n",
    "**Design Consistency:** \"Further refine the consistency in visual design for a more cohesive look.\"\n",
    "**Use of White Space:** \"Balancing content with adequate white space could improve readability and make the infographic feel less crowded, allowing key points to stand out more effectively.\"\n",
    "**Narrative Flow:** \"Slight adjustments to the narrative flow can make the content even more engaging.\"\n",
    "\n",
    "\n",
    "__3. Next Steps for Improvement__\n",
    "\n",
    "\n",
    "1. **Standardize Design Elements**: Ensure uniform use of fonts, icons, and layout styles.\n",
    "2. **Clarify Terms**: Add short definitions for complex concepts directly on the infographic.\n",
    "3. **Enhance Flow**: Arrange content to guide readers smoothly from one section to the next.\n",
    "4. **Optimize White Space**: Balance text and visuals with white space to improve readability.\n",
    "\n",
    "__4. Reflection__\n",
    "Considering on my infographic and the peer response, I am grateful for the favorable acknowledgment of the project's merits, notably in making complicated topics accessible and entertaining through visual design. The constructive ideas brought to light issues that I had not fully addressed, such as the necessity for more uniform design components and greater clarity of words. This input has been quite helpful, forcing me to reflect more carefully about design consistency and content clarity. Moving forward, I'm inspired to improve my infographic by mixing accurate data with appealing design to make it both educational and consumable. This approach has been a beneficial educational experience, helping me improve my ability to create effective teaching materials.\n",
    "\n",
    "\n",
    "__5. Infographic__\n",
    "-https://github.com/BredaUniversityADSAI/2023-24c-fai1-adsai-DominikPtaszek231643/blob/main/Deliverables/2_4_infographic/2_4_Infographic.pdf\n",
    "My repo path to the infographic is: Deliverables/2_4_infographic/2_4_Infographic.pdf"
   ]
  },
  {
   "cell_type": "markdown",
   "id": "8cbb674e042736a1",
   "metadata": {},
   "source": [
    "Add your text here!"
   ]
  },
  {
   "cell_type": "code",
   "execution_count": 3,
   "id": "81b2ad92",
   "metadata": {
    "ExecuteTime": {
     "end_time": "2024-03-10T15:05:48.059864Z",
     "start_time": "2024-03-10T15:05:48.044753Z"
    }
   },
   "outputs": [],
   "source": [
    "# Add your code here!"
   ]
  },
  {
   "cell_type": "markdown",
   "id": "e47d8897e3d945d1",
   "metadata": {},
   "source": [
    "## Task 2.5: Write Python Function; Group Fairness Taxonomy"
   ]
  },
  {
   "cell_type": "markdown",
   "id": "e818077f",
   "metadata": {},
   "source": [
    "Add your text here! (e.g., links to Jupyter Notebook or Python script(s), and model weight file or confusion matrices of the two test sets)."
   ]
  },
  {
   "cell_type": "code",
   "execution_count": 4,
   "id": "b375a427",
   "metadata": {
    "ExecuteTime": {
     "end_time": "2024-03-10T15:05:48.075719Z",
     "start_time": "2024-03-10T15:05:48.062839Z"
    }
   },
   "outputs": [],
   "source": [
    "# Add your code here!"
   ]
  },
  {
   "cell_type": "markdown",
   "id": "ddcca7c8",
   "metadata": {},
   "source": [
    "# Section 2B - Responsible AI (Transparency & Interpretability, Week 6)"
   ]
  },
  {
   "cell_type": "markdown",
   "id": "9427b394",
   "metadata": {},
   "source": [
    "## Task 2.6: Apply One/Multiple Explainable AI Method(s) to the Image Classifier"
   ]
  },
  {
   "cell_type": "markdown",
   "id": "c71c29a9",
   "metadata": {},
   "source": [
    "Add your text here! "
   ]
  },
  {
   "cell_type": "code",
   "execution_count": 5,
   "id": "e191cffc",
   "metadata": {
    "ExecuteTime": {
     "end_time": "2024-03-10T15:05:48.091428Z",
     "start_time": "2024-03-10T15:05:48.078221Z"
    }
   },
   "outputs": [],
   "source": [
    "# Add your code here!"
   ]
  },
  {
   "cell_type": "markdown",
   "id": "7a17155d",
   "metadata": {},
   "source": [
    "# Section 3 - Neural Networks and Deep Learning (Weeks 2 to 5)"
   ]
  },
  {
   "cell_type": "markdown",
   "id": "e55e9b90",
   "metadata": {},
   "source": [
    "## Task 3.1: Baselines"
   ]
  },
  {
   "cell_type": "markdown",
   "id": "0c206b86",
   "metadata": {},
   "source": [
    "### 1. Random Guess Accuracy"
   ]
  },
  {
   "cell_type": "markdown",
   "id": "1a334c22",
   "metadata": {},
   "source": [
    "In my study, which focuses on categorizing university classrooms as filled or unoccupied, the random guess accuracy is 50%. This acts as a baseline, allowing us to compare the performance of more powerful machine learning models."
   ]
  },
  {
   "cell_type": "markdown",
   "id": "0f2364af",
   "metadata": {},
   "source": [
    "### 2. Human-Level Performance Accuracy"
   ]
  },
  {
   "cell_type": "markdown",
   "id": "b60fad98",
   "metadata": {},
   "source": [
    "Link: https://forms.office.com/e/br79P0Rdd2\n",
    "Results:\n",
    "![Human level performance accuracy results](./human_level_performance_accuracy_results_image.png)\n",
    "\n",
    "Average Human-Level Performance: (24/24+ 24/24 + 24/24 ) / 3 = 3/3 -> 100%\n",
    "\n",
    "The average human-level performance is 100%. This acts as a baseline, allowing us to compare the performance of more powerful machine learning models.\n"
   ]
  },
  {
   "cell_type": "markdown",
   "id": "defined-diesel",
   "metadata": {},
   "source": [
    "### 3. Basic Multilayer Perceptron Accuracy\n",
    "In the Classroom Occupancy Detection project, which uses Image Classification, I am in the process of testing a basic Multilayer Perceptron (MLP) neural network. The project aims to identify the current state of occupancy of university classrooms through image analysis, improving campus space utilization. This evaluation of a simple model, using an MLP accuracy as a reference, sets the framework for more complicated neural networks, helping to build a reliable classroom occupancy detection system."
   ]
  },
  {
   "cell_type": "markdown",
   "source": [
    "### Data Preprocessing\n",
    "The presented code sample uses the TensorFlow library's ImageDataGenerator for data preparation. This step is critical for processing images to feed into a neural network model. "
   ],
   "metadata": {
    "collapsed": false
   },
   "id": "25ad0e54483bf205"
  },
  {
   "cell_type": "code",
   "execution_count": 6,
   "outputs": [
    {
     "name": "stdout",
     "output_type": "stream",
     "text": [
      "WARNING:tensorflow:From C:\\Users\\kacsa\\AppData\\Local\\Programs\\Python\\Python310\\lib\\site-packages\\keras\\src\\losses.py:2976: The name tf.losses.sparse_softmax_cross_entropy is deprecated. Please use tf.compat.v1.losses.sparse_softmax_cross_entropy instead.\n"
     ]
    }
   ],
   "source": [
    "from tensorflow.keras.preprocessing.image import ImageDataGenerator\n",
    "\n",
    "\n",
    "def generate_images(_batch_size=32, _img_height=224, _img_width=224):\n",
    "    # Define the paths to your training and testing data\n",
    "    train_data_dir = 'dataset/train'\n",
    "    test_data_dir = 'dataset/test'\n",
    "    val_data_dir = 'dataset/val'\n",
    "\n",
    "    # Set up an ImageDataGenerator for preprocessing and data augmentation\n",
    "    datagen = ImageDataGenerator(\n",
    "        rescale=1./255,        # Normalize pixel values to be between 0 and 1\n",
    "        shear_range=0.2,        # Shear transformations\n",
    "        zoom_range=0.2,         # Zoom transformations\n",
    "        horizontal_flip=True    # Horizontal flips\n",
    "    )\n",
    "\n",
    " \n",
    "\n",
    "\n",
    "    # Create a flow from the training data directory\n",
    "    _train_generator = datagen.flow_from_directory(\n",
    "        train_data_dir,\n",
    "        target_size=(_img_height, _img_width),\n",
    "        batch_size=_batch_size,\n",
    "        class_mode='binary'  # 'categorical' for multi-class classification\n",
    "    )\n",
    "\n",
    "    _test_generator = datagen.flow_from_directory(\n",
    "        test_data_dir,\n",
    "        target_size=(_img_height, _img_width),\n",
    "        batch_size=_batch_size,\n",
    "        class_mode='binary'  # 'categorical' for multi-class clas\n",
    "        # sification\n",
    "    )\n",
    "    \n",
    "    \n",
    "    _val_generator = datagen.flow_from_directory(\n",
    "        val_data_dir,\n",
    "        target_size=(_img_height, _img_width),\n",
    "        batch_size=_batch_size,\n",
    "        class_mode='binary'  # 'categorical' for multi-class classification\n",
    "    )\n",
    "    \n",
    "    return _train_generator, _test_generator,_val_generator\n",
    "\n"
   ],
   "metadata": {
    "collapsed": false,
    "ExecuteTime": {
     "end_time": "2024-03-10T15:05:52.834074Z",
     "start_time": "2024-03-10T15:05:48.092429Z"
    }
   },
   "id": "104359a3b73d53d3"
  },
  {
   "cell_type": "markdown",
   "source": [
    "### Visualization\n",
    "In the given code sample, the component plots the training and validation accuracy over epochs and displays the test accuracy. Here's a thorough description of this visualization section:"
   ],
   "metadata": {
    "collapsed": false
   },
   "id": "744a888cf4bc2b54"
  },
  {
   "cell_type": "code",
   "execution_count": 7,
   "outputs": [],
   "source": [
    "import matplotlib.pyplot as plt\n",
    "\n",
    "def plot_results(hist, test_loss,test_acc):\n",
    "        \n",
    "    # Plot training & validation accuracy values \n",
    "    plt.plot(hist.history['accuracy'], label='Train Accuracy')\n",
    "    plt.plot(hist.history['val_accuracy'], label='Validation Accuracy')\n",
    "    \n",
    "    plt.xlabel('Epochs')\n",
    "    plt.ylabel('Metrics')\n",
    "    plt.legend()\n",
    "    plt.show()\n",
    "    \n",
    "    \n",
    "    # Now show accuracy on the test set\n",
    "   \n",
    "    print('Test accuracy:', test_acc , test_loss)\n",
    "    "
   ],
   "metadata": {
    "collapsed": false,
    "ExecuteTime": {
     "end_time": "2024-03-10T15:05:53.609608Z",
     "start_time": "2024-03-10T15:05:52.835057Z"
    }
   },
   "id": "a54bd9b763062996"
  },
  {
   "cell_type": "markdown",
   "source": [
    "### Model Architecture\n",
    "The baseline MLP model is made up of a sequence of dense (completely connected) layers with ReLU activation functions, followed by a sigmoid activation at the output layer to perform binary classification. The model architecture is described as follows:"
   ],
   "metadata": {
    "collapsed": false
   },
   "id": "cceeac3f831ada80"
  },
  {
   "cell_type": "code",
   "execution_count": 8,
   "outputs": [],
   "source": [
    "from tensorflow.keras.optimizers import Adam\n",
    "from tensorflow.keras.models import Sequential\n",
    "from tensorflow.keras.layers import Conv2D, MaxPooling2D, Dense, Flatten, Dropout\n",
    "from tensorflow.keras.callbacks import EarlyStopping, TensorBoard\n",
    "from tensorflow.keras.applications import MobileNetV2\n",
    "from tensorflow.keras.preprocessing.image import ImageDataGenerator\n",
    "\n",
    "\n",
    "def train_and_evaluate_model(learning_rate, train, test, val, _img_height=224, _img_width=224, use_pretrained=False):\n",
    "    if use_pretrained:\n",
    "        # Load a pre-trained model (MobileNetV2) without the top layer (include_top=False)\n",
    "        base_model = MobileNetV2(input_shape=(_img_height, _img_width, 3), include_top=False, weights='imagenet')\n",
    "        base_model.trainable = False  # Freeze the base model\n",
    "\n",
    "        model = Sequential([\n",
    "            base_model,\n",
    "            Flatten(),\n",
    "            Dense(256, activation='relu'),\n",
    "            Dropout(0.5),  # Add dropout for regularization\n",
    "            Dense(1, activation='sigmoid')\n",
    "        ])\n",
    "    else:\n",
    "        model = Sequential([\n",
    "            Conv2D(32, (3, 3), activation='relu', input_shape=(_img_height, _img_width, 3)),\n",
    "            MaxPooling2D(2, 2),\n",
    "            Conv2D(64, (3, 3), activation='relu'),\n",
    "            MaxPooling2D(2, 2),\n",
    "            Conv2D(128, (3, 3), activation='relu'),\n",
    "            MaxPooling2D(2, 2),\n",
    "            Flatten(),\n",
    "            Dense(512, activation='relu'),\n",
    "            Dropout(0.5),  # Add dropout for regularization\n",
    "            Dense(1, activation='sigmoid')\n",
    "        ])\n",
    "\n",
    "    # Compile the model with the specified learning rate\n",
    "    optimizer = Adam(learning_rate=learning_rate)\n",
    "    model.compile(optimizer=optimizer, loss='binary_crossentropy', metrics=['accuracy'])\n",
    "\n",
    "    early_stopping = EarlyStopping(monitor='val_loss', patience=3)\n",
    "    tensorboard = TensorBoard(log_dir='./')\n",
    "\n",
    "    # Fit the model\n",
    "    model_var = model.fit(train, epochs=10, batch_size=32, validation_data=val, callbacks=[early_stopping , tensorboard])\n",
    "\n",
    "    # Evaluate the model on the test set\n",
    "    test_loss, test_acc = model.evaluate(test)\n",
    "    print(f'Test accuracy with learning rate {learning_rate}: {test_acc}')\n",
    "\n",
    "    # Return the model training history, test accuracy, and test loss value for record-keeping\n",
    "    return model_var, test_acc, test_loss\n"
   ],
   "metadata": {
    "collapsed": false,
    "ExecuteTime": {
     "end_time": "2024-03-10T15:05:53.625088Z",
     "start_time": "2024-03-10T15:05:53.611637Z"
    }
   },
   "id": "d5d1b1abaa4cdccf"
  },
  {
   "cell_type": "markdown",
   "source": [
    "### Training and Evaluation\n",
    "We train and assess the baseline model using various learning rates. A list of learning rates is established, and a loop iterates over each one, training the model and saving the test accuracy."
   ],
   "metadata": {
    "collapsed": false
   },
   "id": "e23006a376255cc4"
  },
  {
   "cell_type": "code",
   "execution_count": 9,
   "outputs": [],
   "source": [
    "# Define a list of learning rates to try\n",
    "learning_rates = [0.001]"
   ],
   "metadata": {
    "collapsed": false,
    "ExecuteTime": {
     "end_time": "2024-03-10T15:05:53.641103Z",
     "start_time": "2024-03-10T15:05:53.626068Z"
    }
   },
   "id": "19efcd4a8629d981"
  },
  {
   "cell_type": "code",
   "execution_count": 10,
   "outputs": [],
   "source": [
    "# Set the batch size and image dimensions\n",
    "batch_size = 32\n",
    "img_height, img_width = 224, 224  # Adjust these dimensions based on my images"
   ],
   "metadata": {
    "collapsed": false,
    "ExecuteTime": {
     "end_time": "2024-03-10T15:05:53.656615Z",
     "start_time": "2024-03-10T15:05:53.642105Z"
    }
   },
   "id": "aa6c7fe4fe1f5b5e"
  },
  {
   "cell_type": "code",
   "execution_count": 11,
   "outputs": [
    {
     "name": "stdout",
     "output_type": "stream",
     "text": [
      "Found 141 images belonging to 2 classes.\n",
      "Found 22 images belonging to 2 classes.\n",
      "Found 40 images belonging to 2 classes.\n"
     ]
    }
   ],
   "source": [
    "train_generator, test_generator,val_generator = generate_images(batch_size,_img_height=img_height, _img_width=img_width)"
   ],
   "metadata": {
    "collapsed": false,
    "ExecuteTime": {
     "end_time": "2024-03-10T15:05:53.703513Z",
     "start_time": "2024-03-10T15:05:53.657615Z"
    }
   },
   "id": "e9026bf5047322ea"
  },
  {
   "cell_type": "code",
   "execution_count": 12,
   "outputs": [
    {
     "name": "stdout",
     "output_type": "stream",
     "text": [
      "WARNING:tensorflow:From C:\\Users\\kacsa\\AppData\\Local\\Programs\\Python\\Python310\\lib\\site-packages\\keras\\src\\backend.py:873: The name tf.get_default_graph is deprecated. Please use tf.compat.v1.get_default_graph instead.\n",
      "WARNING:tensorflow:From C:\\Users\\kacsa\\AppData\\Local\\Programs\\Python\\Python310\\lib\\site-packages\\keras\\src\\layers\\pooling\\max_pooling2d.py:161: The name tf.nn.max_pool is deprecated. Please use tf.nn.max_pool2d instead.\n",
      "Epoch 1/10\n",
      "WARNING:tensorflow:From C:\\Users\\kacsa\\AppData\\Local\\Programs\\Python\\Python310\\lib\\site-packages\\keras\\src\\utils\\tf_utils.py:492: The name tf.ragged.RaggedTensorValue is deprecated. Please use tf.compat.v1.ragged.RaggedTensorValue instead.\n",
      "WARNING:tensorflow:From C:\\Users\\kacsa\\AppData\\Local\\Programs\\Python\\Python310\\lib\\site-packages\\keras\\src\\engine\\base_layer_utils.py:384: The name tf.executing_eagerly_outside_functions is deprecated. Please use tf.compat.v1.executing_eagerly_outside_functions instead.\n",
      "5/5 [==============================] - 6s 1s/step - loss: 2.1474 - accuracy: 0.4681 - val_loss: 0.7295 - val_accuracy: 0.5000\n",
      "Epoch 2/10\n",
      "5/5 [==============================] - 5s 887ms/step - loss: 0.6918 - accuracy: 0.5674 - val_loss: 0.6880 - val_accuracy: 0.5750\n",
      "Epoch 3/10\n",
      "5/5 [==============================] - 5s 935ms/step - loss: 0.6860 - accuracy: 0.5106 - val_loss: 0.8743 - val_accuracy: 0.5000\n",
      "Epoch 4/10\n",
      "5/5 [==============================] - 4s 867ms/step - loss: 0.6885 - accuracy: 0.5816 - val_loss: 0.6813 - val_accuracy: 0.6000\n",
      "Epoch 5/10\n",
      "5/5 [==============================] - 4s 683ms/step - loss: 0.6477 - accuracy: 0.6454 - val_loss: 0.6926 - val_accuracy: 0.5750\n",
      "Epoch 6/10\n",
      "5/5 [==============================] - 4s 697ms/step - loss: 0.5913 - accuracy: 0.7021 - val_loss: 0.7011 - val_accuracy: 0.5000\n",
      "Epoch 7/10\n",
      "5/5 [==============================] - 4s 819ms/step - loss: 0.5782 - accuracy: 0.7021 - val_loss: 0.7611 - val_accuracy: 0.5000\n",
      "1/1 [==============================] - 0s 286ms/step - loss: 0.6741 - accuracy: 0.5455\n",
      "Test accuracy with learning rate 0.001: 0.5454545617103577\n"
     ]
    },
    {
     "data": {
      "text/plain": "<Figure size 640x480 with 1 Axes>",
      "image/png": "[encoded data removed]"
     },
     "metadata": {},
     "output_type": "display_data"
    },
    {
     "name": "stdout",
     "output_type": "stream",
     "text": [
      "Test accuracy: 0.5454545617103577 0.6740555763244629\n"
     ]
    }
   ],
   "source": [
    "# Train and evaluate the model for different learning rates\n",
    "results = {}\n",
    "for lr in learning_rates:\n",
    "    history, accuracy , loss  = train_and_evaluate_model(lr , train_generator, test_generator, val_generator )\n",
    "    results[lr] = accuracy\n",
    "    \n",
    "    plot_results(history, loss, accuracy)\n",
    "    \n",
    "    \n",
    "\n",
    "    "
   ],
   "metadata": {
    "collapsed": false,
    "ExecuteTime": {
     "end_time": "2024-03-10T15:06:27.039389Z",
     "start_time": "2024-03-10T15:05:53.705515Z"
    }
   },
   "id": "73825c5e0cfde12b"
  },
  {
   "cell_type": "markdown",
   "source": [
    "### Results\n",
    "The results, including test accuracy at each learning rate, are printed. Learning curves (accuracy and validation accuracy across epochs) are also presented to help understand the model's training progress and potential overfitting."
   ],
   "metadata": {
    "collapsed": false
   },
   "id": "bbfc49d91e769168"
  },
  {
   "cell_type": "code",
   "execution_count": 13,
   "outputs": [
    {
     "name": "stdout",
     "output_type": "stream",
     "text": [
      "Results:\n",
      "Learning Rate 0.001: Test Accuracy 0.5454545617103577\n"
     ]
    }
   ],
   "source": [
    "\n",
    "# Print the results\n",
    "print(\"Results:\")\n",
    "for lr, acc in results.items():\n",
    "    print(f'Learning Rate {lr}: Test Accuracy {acc}')"
   ],
   "metadata": {
    "collapsed": false,
    "ExecuteTime": {
     "end_time": "2024-03-10T15:06:27.054956Z",
     "start_time": "2024-03-10T15:06:27.041391Z"
    }
   },
   "id": "256f1d690c7a69fb"
  },
  {
   "cell_type": "markdown",
   "source": [
    "### Conclusion\n",
    "The given code uses Keras to build a simple Convolutional Neural Network for binary image classification. The image data generator is used to train, construct, and test the model. Key phases include dataset organization, model building, compilation, and learning curve visualization. Particular requirements can be accommodated through adjustments."
   ],
   "metadata": {
    "collapsed": false
   },
   "id": "53a5fde1ab1d00ce"
  },
  {
   "cell_type": "markdown",
   "id": "indonesian-myrtle",
   "metadata": {},
   "source": [
    "## Task 3.2 Preprocessing"
   ]
  },
  {
   "cell_type": "markdown",
   "id": "3567d3b8",
   "metadata": {},
   "source": [
    "### Iteration 1"
   ]
  },
  {
   "cell_type": "markdown",
   "id": "f16e8745",
   "metadata": {},
   "source": [
    "Add your text here!"
   ]
  },
  {
   "cell_type": "code",
   "execution_count": 14,
   "id": "1b8fe625",
   "metadata": {
    "ExecuteTime": {
     "end_time": "2024-03-10T15:06:27.071447Z",
     "start_time": "2024-03-10T15:06:27.057411Z"
    }
   },
   "outputs": [],
   "source": [
    "# Add your code here!"
   ]
  },
  {
   "cell_type": "markdown",
   "id": "c6caa43c",
   "metadata": {},
   "source": [
    "### Iteration 2"
   ]
  },
  {
   "cell_type": "markdown",
   "id": "ff5edb17",
   "metadata": {},
   "source": [
    "Add your text here!"
   ]
  },
  {
   "cell_type": "code",
   "execution_count": 15,
   "id": "ef58d660",
   "metadata": {
    "ExecuteTime": {
     "end_time": "2024-03-10T15:06:27.086606Z",
     "start_time": "2024-03-10T15:06:27.075345Z"
    }
   },
   "outputs": [],
   "source": [
    "# Add your code here"
   ]
  },
  {
   "cell_type": "markdown",
   "id": "47f6f8b8",
   "metadata": {},
   "source": [
    "### Iteration 3"
   ]
  },
  {
   "cell_type": "code",
   "execution_count": 16,
   "id": "63309528",
   "metadata": {
    "ExecuteTime": {
     "end_time": "2024-03-10T15:06:27.103148Z",
     "start_time": "2024-03-10T15:06:27.087610Z"
    }
   },
   "outputs": [],
   "source": [
    "# Add your code here!"
   ]
  },
  {
   "cell_type": "markdown",
   "id": "26e8f5bb",
   "metadata": {},
   "source": [
    "Add your text here!"
   ]
  },
  {
   "cell_type": "markdown",
   "id": "spiritual-madison",
   "metadata": {},
   "source": [
    "## Task 3.3 CNN Architecture"
   ]
  },
  {
   "cell_type": "markdown",
   "id": "aa9b05ad",
   "metadata": {},
   "source": [
    "### Iteration 1"
   ]
  },
  {
   "cell_type": "markdown",
   "id": "5f8e7dc2",
   "metadata": {},
   "source": [
    "Add your text here!"
   ]
  },
  {
   "cell_type": "code",
   "execution_count": 17,
   "id": "f2853fae",
   "metadata": {
    "ExecuteTime": {
     "end_time": "2024-03-10T15:06:27.118359Z",
     "start_time": "2024-03-10T15:06:27.105148Z"
    }
   },
   "outputs": [],
   "source": [
    "# Add your code here!"
   ]
  },
  {
   "cell_type": "markdown",
   "id": "12c4fc02",
   "metadata": {},
   "source": [
    "### Iteration 2"
   ]
  },
  {
   "cell_type": "markdown",
   "id": "c058d264",
   "metadata": {},
   "source": [
    "Add your text here!"
   ]
  },
  {
   "cell_type": "code",
   "execution_count": 18,
   "id": "12be3b02",
   "metadata": {
    "ExecuteTime": {
     "end_time": "2024-03-10T15:06:27.133989Z",
     "start_time": "2024-03-10T15:06:27.120359Z"
    }
   },
   "outputs": [],
   "source": [
    "# Add your code here!"
   ]
  },
  {
   "cell_type": "markdown",
   "id": "c8489b78",
   "metadata": {},
   "source": [
    "### Iteration 3"
   ]
  },
  {
   "cell_type": "markdown",
   "id": "4c2c6420",
   "metadata": {},
   "source": [
    "Add your text here!"
   ]
  },
  {
   "cell_type": "code",
   "execution_count": 19,
   "id": "37be5cc7",
   "metadata": {
    "ExecuteTime": {
     "end_time": "2024-03-10T15:06:27.149583Z",
     "start_time": "2024-03-10T15:06:27.135508Z"
    }
   },
   "outputs": [],
   "source": [
    "# Add your code here!"
   ]
  },
  {
   "cell_type": "markdown",
   "id": "parallel-pulse",
   "metadata": {},
   "source": [
    "## Task 3.4 CNN Training"
   ]
  },
  {
   "cell_type": "markdown",
   "id": "670c12b5",
   "metadata": {},
   "source": [
    "### Iteration 1"
   ]
  },
  {
   "cell_type": "markdown",
   "id": "f35ddb96",
   "metadata": {},
   "source": [
    "Add your text here!"
   ]
  },
  {
   "cell_type": "code",
   "execution_count": 20,
   "id": "e78c8b2d",
   "metadata": {
    "ExecuteTime": {
     "end_time": "2024-03-10T15:06:27.164714Z",
     "start_time": "2024-03-10T15:06:27.151585Z"
    }
   },
   "outputs": [],
   "source": [
    "# Add your code here!"
   ]
  },
  {
   "cell_type": "markdown",
   "id": "6046afee",
   "metadata": {},
   "source": [
    "### Iteration 2"
   ]
  },
  {
   "cell_type": "markdown",
   "id": "847eee66",
   "metadata": {},
   "source": [
    "Add your text here!"
   ]
  },
  {
   "cell_type": "code",
   "execution_count": 21,
   "id": "82c74e31",
   "metadata": {
    "ExecuteTime": {
     "end_time": "2024-03-10T15:06:27.180238Z",
     "start_time": "2024-03-10T15:06:27.166715Z"
    }
   },
   "outputs": [],
   "source": [
    "# Add your code here!"
   ]
  },
  {
   "cell_type": "markdown",
   "id": "4fed0e99",
   "metadata": {},
   "source": [
    "### Iteration 3"
   ]
  },
  {
   "cell_type": "markdown",
   "id": "9aac024a",
   "metadata": {},
   "source": [
    "Add your text here!"
   ]
  },
  {
   "cell_type": "code",
   "execution_count": 22,
   "id": "ad7799d5",
   "metadata": {
    "ExecuteTime": {
     "end_time": "2024-03-10T15:06:27.195299Z",
     "start_time": "2024-03-10T15:06:27.182281Z"
    }
   },
   "outputs": [],
   "source": [
    "# Add your code here!"
   ]
  },
  {
   "cell_type": "markdown",
   "id": "stable-quilt",
   "metadata": {},
   "source": [
    "## Task 3.5 Model Performance"
   ]
  },
  {
   "cell_type": "markdown",
   "id": "c73547a9",
   "metadata": {},
   "source": [
    "### Iteration 1"
   ]
  },
  {
   "cell_type": "markdown",
   "id": "99de1b09",
   "metadata": {},
   "source": [
    "Add your text here!"
   ]
  },
  {
   "cell_type": "code",
   "execution_count": 23,
   "id": "89f35c65",
   "metadata": {
    "ExecuteTime": {
     "end_time": "2024-03-10T15:06:27.211235Z",
     "start_time": "2024-03-10T15:06:27.197306Z"
    }
   },
   "outputs": [],
   "source": [
    "# Add your code here!"
   ]
  },
  {
   "cell_type": "markdown",
   "id": "ac9758eb",
   "metadata": {},
   "source": [
    "### Iteration 2"
   ]
  },
  {
   "cell_type": "markdown",
   "id": "2b59d694",
   "metadata": {},
   "source": [
    "Add your text here!"
   ]
  },
  {
   "cell_type": "code",
   "execution_count": 24,
   "id": "1fef5a68",
   "metadata": {
    "ExecuteTime": {
     "end_time": "2024-03-10T15:06:27.227148Z",
     "start_time": "2024-03-10T15:06:27.213415Z"
    }
   },
   "outputs": [],
   "source": [
    "# Add your code here!"
   ]
  },
  {
   "cell_type": "markdown",
   "id": "d9552de2",
   "metadata": {},
   "source": [
    "### Iteration 3"
   ]
  },
  {
   "cell_type": "markdown",
   "id": "d3fa1357",
   "metadata": {},
   "source": [
    "Add your text here!"
   ]
  },
  {
   "cell_type": "code",
   "execution_count": 25,
   "id": "36100bd2",
   "metadata": {
    "ExecuteTime": {
     "end_time": "2024-03-10T15:06:27.243051Z",
     "start_time": "2024-03-10T15:06:27.229141Z"
    }
   },
   "outputs": [],
   "source": [
    "# Add your code here!"
   ]
  },
  {
   "cell_type": "markdown",
   "id": "rapid-chocolate",
   "metadata": {},
   "source": [
    "## Task 3.6 Error Analysis"
   ]
  },
  {
   "cell_type": "markdown",
   "id": "3d3904f4",
   "metadata": {},
   "source": [
    "### Iteration 1"
   ]
  },
  {
   "cell_type": "markdown",
   "id": "f41a9a42",
   "metadata": {},
   "source": [
    "Add your text here!"
   ]
  },
  {
   "cell_type": "code",
   "execution_count": 26,
   "id": "80b62bb0",
   "metadata": {
    "ExecuteTime": {
     "end_time": "2024-03-10T15:06:27.258565Z",
     "start_time": "2024-03-10T15:06:27.244051Z"
    }
   },
   "outputs": [],
   "source": [
    "# Add your code here!"
   ]
  },
  {
   "cell_type": "markdown",
   "id": "5759a727",
   "metadata": {},
   "source": [
    "### Iteration 2"
   ]
  },
  {
   "cell_type": "markdown",
   "id": "1e1d9859",
   "metadata": {},
   "source": [
    "Add your text here!"
   ]
  },
  {
   "cell_type": "code",
   "execution_count": 27,
   "id": "4f1da48c",
   "metadata": {
    "ExecuteTime": {
     "end_time": "2024-03-10T15:06:27.274609Z",
     "start_time": "2024-03-10T15:06:27.260572Z"
    }
   },
   "outputs": [],
   "source": [
    "# Add your code here!"
   ]
  },
  {
   "cell_type": "markdown",
   "id": "7136a897",
   "metadata": {},
   "source": [
    "### Iteration 3"
   ]
  },
  {
   "cell_type": "markdown",
   "id": "74711ccf",
   "metadata": {},
   "source": [
    "Add your text here!"
   ]
  },
  {
   "cell_type": "code",
   "execution_count": 28,
   "id": "d34215fd",
   "metadata": {
    "ExecuteTime": {
     "end_time": "2024-03-10T15:06:27.290698Z",
     "start_time": "2024-03-10T15:06:27.275608Z"
    }
   },
   "outputs": [],
   "source": [
    "# Add your code here!"
   ]
  },
  {
   "cell_type": "markdown",
   "id": "9fbf3b39",
   "metadata": {},
   "source": [
    "## Task 3.7 MLP From Scratch"
   ]
  },
  {
   "cell_type": "markdown",
   "id": "af2e93f6",
   "metadata": {},
   "source": [
    "Add your text here!"
   ]
  },
  {
   "cell_type": "code",
   "execution_count": 29,
   "id": "e2de617f",
   "metadata": {
    "ExecuteTime": {
     "end_time": "2024-03-10T15:06:27.306605Z",
     "start_time": "2024-03-10T15:06:27.291699Z"
    }
   },
   "outputs": [],
   "source": [
    "# Add your code here!"
   ]
  },
  {
   "cell_type": "markdown",
   "id": "49538dd8",
   "metadata": {},
   "source": [
    "# Section 4 - Human-Centered AI (Weeks 7 and 8)"
   ]
  },
  {
   "cell_type": "markdown",
   "id": "57b61e5d",
   "metadata": {},
   "source": [
    "## Task 4.1: Think-Aloud Study"
   ]
  },
  {
   "cell_type": "markdown",
   "id": "f872a9fc",
   "metadata": {},
   "source": [
    "Add a link to your results of the think-aloud study here!"
   ]
  },
  {
   "cell_type": "markdown",
   "id": "05bd00ec",
   "metadata": {},
   "source": [
    "## Task 4.2: A/B Testing"
   ]
  },
  {
   "cell_type": "markdown",
   "id": "0eba4336",
   "metadata": {},
   "source": [
    "Add a link to the set-up of your A/B tests and the results here!"
   ]
  },
  {
   "cell_type": "markdown",
   "id": "158509c1",
   "metadata": {},
   "source": [
    "## Task 4.3:  Create a Final Wireframe and Demo Video\n"
   ]
  },
  {
   "cell_type": "markdown",
   "id": "ee6ac2be",
   "metadata": {},
   "source": [
    "Add a link to your final wireframe and a link to your demo video here!"
   ]
  },
  {
   "cell_type": "markdown",
   "id": "134405c3",
   "metadata": {},
   "source": [
    "# Section 5 - Final Project Presentation (Week 8)"
   ]
  },
  {
   "cell_type": "markdown",
   "id": "cc1bf0fd",
   "metadata": {},
   "source": [
    "## Task 5: Presentation Slides"
   ]
  },
  {
   "cell_type": "markdown",
   "id": "538aab21",
   "metadata": {},
   "source": [
    "Add a link to your presentation slides here!"
   ]
  }
 ],
 "metadata": {
  "kernelspec": {
   "display_name": "Python 3",
   "language": "python",
   "name": "python3"
  },
  "language_info": {
   "codemirror_mode": {
    "name": "ipython",
    "version": 3
   },
   "file_extension": ".py",
   "mimetype": "text/x-python",
   "name": "python",
   "nbconvert_exporter": "python",
   "pygments_lexer": "ipython3",
   "version": "3.9.10"
  }
 },
 "nbformat": 4,
 "nbformat_minor": 5
}

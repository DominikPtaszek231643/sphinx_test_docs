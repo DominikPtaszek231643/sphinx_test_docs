{
 "cells": [
  {
   "cell_type": "code",
   "execution_count": 28,
   "id": "initial_id",
   "metadata": {
    "collapsed": true,
    "ExecuteTime": {
     "end_time": "2024-03-02T10:53:26.518918700Z",
     "start_time": "2024-03-02T10:53:26.207612400Z"
    }
   },
   "outputs": [],
   "source": [
    "from tensorflow.keras.datasets import mnist\n",
    "\n",
    "dataset_photos = mnist.load_data()"
   ]
  },
  {
   "cell_type": "code",
   "execution_count": 29,
   "outputs": [],
   "source": [
    "(train_images, train_labels) , (test_images,test_labels) = dataset_photos"
   ],
   "metadata": {
    "collapsed": false,
    "ExecuteTime": {
     "end_time": "2024-03-02T10:53:26.519937300Z",
     "start_time": "2024-03-02T10:53:26.466932300Z"
    }
   },
   "id": "10ad42af923319dc"
  },
  {
   "cell_type": "code",
   "execution_count": 30,
   "outputs": [
    {
     "data": {
      "text/plain": "((60000, 28, 28), (60000,))"
     },
     "execution_count": 30,
     "metadata": {},
     "output_type": "execute_result"
    }
   ],
   "source": [
    "train_images.shape , train_labels.shape"
   ],
   "metadata": {
    "collapsed": false,
    "ExecuteTime": {
     "end_time": "2024-03-02T10:53:26.519937300Z",
     "start_time": "2024-03-02T10:53:26.481047400Z"
    }
   },
   "id": "e3cae0fa9da1f97a"
  },
  {
   "cell_type": "code",
   "execution_count": 31,
   "outputs": [],
   "source": [
    "import tensorflow as tf\n",
    "keras = tf.keras\n",
    "\n",
    "\n",
    "\n"
   ],
   "metadata": {
    "collapsed": false,
    "ExecuteTime": {
     "end_time": "2024-03-02T10:53:26.520946Z",
     "start_time": "2024-03-02T10:53:26.497278400Z"
    }
   },
   "id": "8da1fc08583fccdf"
  },
  {
   "cell_type": "code",
   "execution_count": 32,
   "outputs": [],
   "source": [
    "from keras import layers\n",
    "model = keras.Sequential([\n",
    "    layers.Dense(512, activation=\"relu\"),\n",
    "    layers.Dense(10, activation=\"softmax\")\n",
    "])\n"
   ],
   "metadata": {
    "collapsed": false,
    "ExecuteTime": {
     "end_time": "2024-03-02T10:53:26.542032100Z",
     "start_time": "2024-03-02T10:53:26.512918100Z"
    }
   },
   "id": "ebc20d314c1f5e91"
  },
  {
   "cell_type": "code",
   "execution_count": 33,
   "outputs": [],
   "source": [
    "model.compile(optimizer=\"rmsprop\", loss=\"sparse_categorical_crossentropy\" , metrics=[\"accuracy\"])"
   ],
   "metadata": {
    "collapsed": false,
    "ExecuteTime": {
     "end_time": "2024-03-02T10:53:26.553062200Z",
     "start_time": "2024-03-02T10:53:26.529469Z"
    }
   },
   "id": "f823449dd53ed916"
  },
  {
   "cell_type": "code",
   "execution_count": 34,
   "outputs": [],
   "source": [
    "# we reshape data from 0-255 to float (0-1) to normalize the pixel values\n",
    "\n",
    "train_images = train_images.reshape(60000, 28 * 28 )\n",
    "train_images = train_images.astype('float32') / 255 \n",
    "\n",
    "test_images = test_images.reshape(10000, 28 * 28)\n",
    "test_images =  test_images.astype('float32') / 255 \n",
    "\n"
   ],
   "metadata": {
    "collapsed": false,
    "ExecuteTime": {
     "end_time": "2024-03-02T10:53:26.684280700Z",
     "start_time": "2024-03-02T10:53:26.544023300Z"
    }
   },
   "id": "cbbcb3b71d2bd719"
  },
  {
   "cell_type": "code",
   "execution_count": 35,
   "outputs": [
    {
     "data": {
      "text/plain": "(60000, 784)"
     },
     "execution_count": 35,
     "metadata": {},
     "output_type": "execute_result"
    }
   ],
   "source": [
    "train_images.shape"
   ],
   "metadata": {
    "collapsed": false,
    "ExecuteTime": {
     "end_time": "2024-03-02T10:53:26.699034300Z",
     "start_time": "2024-03-02T10:53:26.687278800Z"
    }
   },
   "id": "695a07bb6999cb86"
  },
  {
   "cell_type": "code",
   "execution_count": 36,
   "outputs": [
    {
     "name": "stdout",
     "output_type": "stream",
     "text": [
      "Epoch 1/5\n",
      "469/469 [==============================] - 2s 4ms/step - loss: 0.2652 - accuracy: 0.9231\n",
      "Epoch 2/5\n",
      "469/469 [==============================] - 2s 5ms/step - loss: 0.1061 - accuracy: 0.9686\n",
      "Epoch 3/5\n",
      "469/469 [==============================] - 2s 5ms/step - loss: 0.0702 - accuracy: 0.9794\n",
      "Epoch 4/5\n",
      "469/469 [==============================] - 3s 5ms/step - loss: 0.0509 - accuracy: 0.9842\n",
      "Epoch 5/5\n",
      "469/469 [==============================] - 2s 5ms/step - loss: 0.0378 - accuracy: 0.9885\n"
     ]
    },
    {
     "data": {
      "text/plain": "<keras.src.callbacks.History at 0x2084aef5990>"
     },
     "execution_count": 36,
     "metadata": {},
     "output_type": "execute_result"
    }
   ],
   "source": [
    "model.fit(train_images, train_labels , epochs = 5 , batch_size = 128)"
   ],
   "metadata": {
    "collapsed": false,
    "ExecuteTime": {
     "end_time": "2024-03-02T10:53:38.800151500Z",
     "start_time": "2024-03-02T10:53:26.703306800Z"
    }
   },
   "id": "1654eaf51f1ae66e"
  },
  {
   "cell_type": "code",
   "execution_count": 37,
   "outputs": [
    {
     "data": {
      "text/plain": "array([[0., 0., 0., ..., 0., 0., 0.],\n       [0., 0., 0., ..., 0., 0., 0.],\n       [0., 0., 0., ..., 0., 0., 0.],\n       ...,\n       [0., 0., 0., ..., 0., 0., 0.],\n       [0., 0., 0., ..., 0., 0., 0.],\n       [0., 0., 0., ..., 0., 0., 0.]], dtype=float32)"
     },
     "execution_count": 37,
     "metadata": {},
     "output_type": "execute_result"
    }
   ],
   "source": [
    "test_digits = test_images[0:10]\n",
    "\n",
    "test_digits"
   ],
   "metadata": {
    "collapsed": false,
    "ExecuteTime": {
     "end_time": "2024-03-02T10:53:38.857995500Z",
     "start_time": "2024-03-02T10:53:38.799140Z"
    }
   },
   "id": "ee0b7b53590d6d5c"
  },
  {
   "cell_type": "code",
   "execution_count": 38,
   "outputs": [
    {
     "name": "stdout",
     "output_type": "stream",
     "text": [
      "1/1 [==============================] - 0s 51ms/step\n"
     ]
    }
   ],
   "source": [
    "predictions = model.predict(test_digits)"
   ],
   "metadata": {
    "collapsed": false,
    "ExecuteTime": {
     "end_time": "2024-03-02T10:53:38.924188500Z",
     "start_time": "2024-03-02T10:53:38.817671900Z"
    }
   },
   "id": "4e6e6c96f19e208b"
  },
  {
   "cell_type": "code",
   "execution_count": 39,
   "outputs": [
    {
     "data": {
      "text/plain": "7"
     },
     "execution_count": 39,
     "metadata": {},
     "output_type": "execute_result"
    }
   ],
   "source": [
    "predictions[0].argmax()"
   ],
   "metadata": {
    "collapsed": false,
    "ExecuteTime": {
     "end_time": "2024-03-02T10:53:38.984867800Z",
     "start_time": "2024-03-02T10:53:38.926189100Z"
    }
   },
   "id": "a4dbcbd17c15658e"
  },
  {
   "cell_type": "code",
   "execution_count": 40,
   "outputs": [
    {
     "data": {
      "text/plain": "7"
     },
     "execution_count": 40,
     "metadata": {},
     "output_type": "execute_result"
    }
   ],
   "source": [
    "predictions[0].argmax()"
   ],
   "metadata": {
    "collapsed": false,
    "ExecuteTime": {
     "end_time": "2024-03-02T10:53:38.997387100Z",
     "start_time": "2024-03-02T10:53:38.946149800Z"
    }
   },
   "id": "ed3ada612ed38912"
  },
  {
   "cell_type": "code",
   "execution_count": 41,
   "outputs": [
    {
     "data": {
      "text/plain": "7"
     },
     "execution_count": 41,
     "metadata": {},
     "output_type": "execute_result"
    }
   ],
   "source": [
    "test_labels[0]"
   ],
   "metadata": {
    "collapsed": false,
    "ExecuteTime": {
     "end_time": "2024-03-02T10:53:38.998892900Z",
     "start_time": "2024-03-02T10:53:38.961256500Z"
    }
   },
   "id": "7169660bbba6e423"
  },
  {
   "cell_type": "code",
   "execution_count": 42,
   "outputs": [
    {
     "name": "stdout",
     "output_type": "stream",
     "text": [
      "313/313 [==============================] - 1s 2ms/step - loss: 0.0646 - accuracy: 0.9803\n",
      "test_acc : 0.9803000092506409\n"
     ]
    }
   ],
   "source": [
    "test_loss, test_acc = model.evaluate(test_images, test_labels)\n",
    "\n",
    "print('test_acc :', test_acc)"
   ],
   "metadata": {
    "collapsed": false,
    "ExecuteTime": {
     "end_time": "2024-03-02T10:53:39.726668600Z",
     "start_time": "2024-03-02T10:53:38.974776200Z"
    }
   },
   "id": "25cd732e76c0e407"
  },
  {
   "cell_type": "code",
   "execution_count": 43,
   "outputs": [],
   "source": [
    "from tensorflow.keras.datasets import mnist\n",
    "\n",
    "dataset_photos = mnist.load_data()\n",
    "\n",
    "(train_images,train_labels) , (test_images, test_labels) = dataset_photos"
   ],
   "metadata": {
    "collapsed": false,
    "ExecuteTime": {
     "end_time": "2024-03-02T10:53:39.972313200Z",
     "start_time": "2024-03-02T10:53:39.728670600Z"
    }
   },
   "id": "f617e6f00a187df4"
  },
  {
   "cell_type": "code",
   "execution_count": 44,
   "outputs": [
    {
     "data": {
      "text/plain": "<Figure size 640x480 with 1 Axes>",
      "image/png": "[encoded data removed]"
     },
     "metadata": {},
     "output_type": "display_data"
    }
   ],
   "source": [
    "import matplotlib.pyplot as plt\n",
    "\n",
    "digit = train_images[4]\n",
    "plt.imshow(digit, cmap= plt.cm.binary)\n",
    "plt.show()"
   ],
   "metadata": {
    "collapsed": false,
    "ExecuteTime": {
     "end_time": "2024-03-02T10:53:40.083673900Z",
     "start_time": "2024-03-02T10:53:39.973315100Z"
    }
   },
   "id": "ccf7d0c987a155f"
  },
  {
   "cell_type": "code",
   "execution_count": 45,
   "outputs": [
    {
     "data": {
      "text/plain": "9"
     },
     "execution_count": 45,
     "metadata": {},
     "output_type": "execute_result"
    }
   ],
   "source": [
    "train_labels[4]"
   ],
   "metadata": {
    "collapsed": false,
    "ExecuteTime": {
     "end_time": "2024-03-02T10:53:40.155666600Z",
     "start_time": "2024-03-02T10:53:40.087132600Z"
    }
   },
   "id": "15d4ed607d00d3a2"
  },
  {
   "cell_type": "code",
   "execution_count": 45,
   "outputs": [],
   "source": [],
   "metadata": {
    "collapsed": false,
    "ExecuteTime": {
     "end_time": "2024-03-02T10:53:40.156680100Z",
     "start_time": "2024-03-02T10:53:40.101697300Z"
    }
   },
   "id": "1313c20ff4125b6b"
  },
  {
   "cell_type": "code",
   "execution_count": 46,
   "outputs": [],
   "source": [
    "import tensorflow as tf\n",
    "\n",
    "\n",
    "x = tf.Variable(tf.random.uniform((2, 2)))"
   ],
   "metadata": {
    "collapsed": false,
    "ExecuteTime": {
     "end_time": "2024-03-02T10:53:40.156680100Z",
     "start_time": "2024-03-02T10:53:40.122281500Z"
    }
   },
   "id": "8a23c7039d4a7ac3"
  },
  {
   "cell_type": "code",
   "execution_count": 47,
   "outputs": [
    {
     "data": {
      "text/plain": "<tf.Variable 'Variable:0' shape=(2, 2) dtype=float32, numpy=\narray([[0.40120304, 0.7080059 ],\n       [0.18285453, 0.19738126]], dtype=float32)>"
     },
     "execution_count": 47,
     "metadata": {},
     "output_type": "execute_result"
    }
   ],
   "source": [
    "x"
   ],
   "metadata": {
    "collapsed": false,
    "ExecuteTime": {
     "end_time": "2024-03-02T10:53:40.172679Z",
     "start_time": "2024-03-02T10:53:40.132202100Z"
    }
   },
   "id": "bc21843f1fae2761"
  },
  {
   "cell_type": "code",
   "execution_count": 48,
   "outputs": [
    {
     "name": "stdout",
     "output_type": "stream",
     "text": [
      "tf.Tensor(\n",
      "[[2. 2.]\n",
      " [2. 2.]], shape=(2, 2), dtype=float32)\n"
     ]
    }
   ],
   "source": [
    "with tf.GradientTape() as tape:\n",
    "    y = 2*x + 3\n",
    "    grad_of_y_wrt_x = tape.gradient(y, x)\n",
    "    \n",
    "    print(grad_of_y_wrt_x) # the ouput shows how y will change (loss_func) when we change x "
   ],
   "metadata": {
    "collapsed": false,
    "ExecuteTime": {
     "end_time": "2024-03-02T10:53:40.202912300Z",
     "start_time": "2024-03-02T10:53:40.146734700Z"
    }
   },
   "id": "725fb53d5cd5f15a"
  },
  {
   "cell_type": "code",
   "execution_count": 53,
   "outputs": [
    {
     "name": "stdout",
     "output_type": "stream",
     "text": [
      "<tf.Variable 'Variable:0' shape=(2, 2) dtype=float32, numpy=\n",
      "array([[0.06352568, 0.5937128 ],\n",
      "       [0.5381793 , 0.15477395]], dtype=float32)>\n",
      "<tf.Variable 'Variable:0' shape=(2,) dtype=float32, numpy=array([0., 0.], dtype=float32)>\n",
      "tf.Tensor(\n",
      "[[0.37856615 0.07188118]\n",
      " [0.5514411  0.7951398 ]], shape=(2, 2), dtype=float32)\n"
     ]
    },
    {
     "data": {
      "text/plain": "[<tf.Tensor: shape=(2, 2), dtype=float32, numpy=\n array([[0.9300072 , 0.9300072 ],\n        [0.86702096, 0.86702096]], dtype=float32)>,\n <tf.Tensor: shape=(2,), dtype=float32, numpy=array([2., 2.], dtype=float32)>]"
     },
     "metadata": {},
     "output_type": "display_data"
    }
   ],
   "source": [
    "W = tf.Variable(tf.random.uniform((2, 2)))\n",
    "b = tf.Variable(tf.zeros((2,)))\n",
    "x = tf.random.uniform((2, 2))\n",
    "print(W)\n",
    "print(b)\n",
    "print(x)\n",
    "with tf.GradientTape() as tape:\n",
    "    y = tf.matmul(x, W) + b \n",
    "    grad_of_y_wrt_W_and_b = tape.gradient(y, [W, b])\n",
    "    \n",
    "    display(grad_of_y_wrt_W_and_b)"
   ],
   "metadata": {
    "collapsed": false,
    "ExecuteTime": {
     "end_time": "2024-03-02T10:55:11.489045500Z",
     "start_time": "2024-03-02T10:55:11.437282300Z"
    }
   },
   "id": "588f7324b6e1ea27"
  },
  {
   "cell_type": "code",
   "execution_count": 54,
   "outputs": [],
   "source": [
    "from tensorflow.keras.datasets import mnist\n",
    "\n",
    "dataset_photos = mnist.load_data()\n",
    "(train_images, train_labels), (test_images, test_labels) = dataset_photos"
   ],
   "metadata": {
    "collapsed": false,
    "ExecuteTime": {
     "end_time": "2024-03-02T11:09:49.868185600Z",
     "start_time": "2024-03-02T11:09:49.602277900Z"
    }
   },
   "id": "87351bc5c5c03743"
  },
  {
   "cell_type": "code",
   "execution_count": 55,
   "outputs": [],
   "source": [
    "\n",
    "train_images = train_images.reshape(60000, 28 * 28 )\n",
    "train_images = train_images.astype('float32') / 255 \n",
    "\n",
    "test_images = test_images.reshape(10000, 28 * 28)\n",
    "test_images =  test_images.astype('float32') / 255 "
   ],
   "metadata": {
    "collapsed": false,
    "ExecuteTime": {
     "end_time": "2024-03-02T11:09:50.071740100Z",
     "start_time": "2024-03-02T11:09:49.931682600Z"
    }
   },
   "id": "5ad53ffa2a914899"
  },
  {
   "cell_type": "code",
   "execution_count": 57,
   "outputs": [],
   "source": [
    "import tensorflow as tf\n",
    "\n",
    "\n",
    "class NaiveDense:\n",
    "    \n",
    "    def __init__(self,input_size, output_size, activation):\n",
    "        self.activation  = activation\n",
    "        \n",
    "        w_shape = (input_size, output_size)\n",
    "        \n",
    "        w_initial_value = tf.random.uniform(w_shape , min_val = 0 , max_val = 1e-1)\n",
    "        \n",
    "        \n",
    "        self.W = tf.Variable(w_initial_value)\n",
    "        \n",
    "        b_shape = (output_size)\n",
    "        \n",
    "        b_initial_value = tf.zeros(b_shape)\n",
    "        \n",
    "        self.b = tf.Variable(b_initial_value)\n",
    "        \n",
    "        \n",
    "    def __call__(self, inputs):\n",
    "        return self.activation(tf.matmul(inputs, self.W) + self.b )"
   ],
   "metadata": {
    "collapsed": false,
    "ExecuteTime": {
     "end_time": "2024-03-02T11:14:12.022212500Z",
     "start_time": "2024-03-02T11:14:12.008071300Z"
    }
   },
   "id": "f6f8102ed4e2cd3b"
  },
  {
   "cell_type": "code",
   "execution_count": null,
   "outputs": [],
   "source": [
    "class NaiveSequential:\n",
    "    def __init__(self, layers):\n",
    "        self.layers = layers\n",
    "        \n",
    "    def __call__(self,inputs):\n",
    "        x = inputs\n",
    "        for layer in self.layers:\n",
    "            x = layer(x)\n",
    "        \n",
    "        \n",
    "        return x\n",
    "    \n",
    "    @property\n",
    "    \n",
    "    def weights(self):\n",
    "        weights = []\n",
    "        \n",
    "        for layer in self.layers:\n",
    "            weights+=layer.weights\n",
    "        \n",
    "        return weights"
   ],
   "metadata": {
    "collapsed": false
   },
   "id": "9fa5ca8977b617c1"
  },
  {
   "cell_type": "code",
   "execution_count": null,
   "outputs": [],
   "source": [
    "model = NaiveSequential([\n",
    "    NaiveDense(input_size=28 * 28 , output_size= 512, activation=tf.nn.relu),\n",
    "    NaiveDense(input_size=512, output_size=10 , activation=tf.nn.softmax)\n",
    "])"
   ],
   "metadata": {
    "collapsed": false
   },
   "id": "87d412b4c29d2dd4"
  },
  {
   "cell_type": "code",
   "execution_count": null,
   "outputs": [],
   "source": [
    "assert  len(model.weights) == 4"
   ],
   "metadata": {
    "collapsed": false
   },
   "id": "e0333bb138bfbca"
  },
  {
   "cell_type": "code",
   "execution_count": null,
   "outputs": [],
   "source": [],
   "metadata": {
    "collapsed": false
   },
   "id": "5a070bb4d174b5cc"
  }
 ],
 "metadata": {
  "kernelspec": {
   "display_name": "Python 3",
   "language": "python",
   "name": "python3"
  },
  "language_info": {
   "codemirror_mode": {
    "name": "ipython",
    "version": 2
   },
   "file_extension": ".py",
   "mimetype": "text/x-python",
   "name": "python",
   "nbconvert_exporter": "python",
   "pygments_lexer": "ipython2",
   "version": "2.7.6"
  }
 },
 "nbformat": 4,
 "nbformat_minor": 5
}

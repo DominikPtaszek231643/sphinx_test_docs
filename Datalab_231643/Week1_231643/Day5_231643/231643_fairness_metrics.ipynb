{
 "cells": [
  {
   "cell_type": "code",
   "execution_count": 105,
   "id": "initial_id",
   "metadata": {
    "collapsed": true,
    "ExecuteTime": {
     "end_time": "2024-02-23T09:46:47.202566400Z",
     "start_time": "2024-02-23T09:46:47.102281400Z"
    }
   },
   "outputs": [],
   "source": [
    "\n",
    "import numpy as np\n"
   ]
  },
  {
   "cell_type": "markdown",
   "source": [
    "Three selected fairness metrics selected:\n",
    "\n",
    "### Calibration\n",
    "**Measures the difference between predicted probabilities and actual outcomes.**\n",
    "N: Number of bins, B_i: Each bin, n: Total instances\n",
    "accuracy(B_i): Accuracy within the bin, confidence(B_i): Average predicted probability within the bin\n",
    "C = sum(|B_i|/n * |accuracy(B_i) - confidence(B_i)|) for i in 1 to N\n",
    "\n",
    "\n",
    "### Predictive Parity\n",
    "**Assesses if positive predictions are made at similar rates across different groups.**\n",
    "a_1, a_2: Different values of the sensitive attribute\n",
    "P(Y=1 | A=a_1): Probability of a positive prediction for group a_1\n",
    "P(Y=1 | A=a_2): Probability of a positive prediction for group a_2\n",
    "PP = |P(Y=1 | A=a_1) - P(Y=1 | A=a_2)|\n",
    "\n",
    "\n",
    "### Equalized Odds\n",
    "**Assesses if true positive rates and false positive rates are equal across different groups.**\n",
    "TPR: True Positive Rate, FPR: False Positive Rate\n",
    "a_1, a_2: Different values of the sensitive attribute\n",
    "Equalized Odds = |TPR_a1 - TPR_a2| + |FPR_a1 - FPR_a2|\n",
    "\n"
   ],
   "metadata": {
    "collapsed": false
   },
   "id": "329a1758b9775960"
  },
  {
   "cell_type": "code",
   "execution_count": 106,
   "outputs": [
    {
     "data": {
      "text/plain": "[[26, 23, 12, 37], [34, 15, 14, 35]]"
     },
     "execution_count": 106,
     "metadata": {},
     "output_type": "execute_result"
    }
   ],
   "source": [
    "def load_confusion_matrices():\n",
    "    cm_priv = np.load('./confusion_matrix_priv_female.npy')\n",
    "    tn_priv = cm_priv[0][0]\n",
    "    fp_priv = cm_priv[0][1]\n",
    "    fn_priv = cm_priv[1][0]\n",
    "    tp_priv = cm_priv[1][1]\n",
    "    cm_unpriv = np.load('./confusion_matrix_unpriv_male.npy')\n",
    "    tn_unpriv = cm_unpriv[0][0]\n",
    "    fp_unpriv = cm_unpriv[0][1]\n",
    "    fn_unpriv = cm_unpriv[1][0]\n",
    "    tp_unpriv = cm_unpriv[1][1]\n",
    "    return [[tn_priv, fp_priv, fn_priv, tp_priv], [tn_unpriv, fp_unpriv, fn_unpriv, tp_unpriv]]\n",
    "\n",
    "load_confusion_matrices()"
   ],
   "metadata": {
    "collapsed": false,
    "ExecuteTime": {
     "end_time": "2024-02-23T09:46:47.255300700Z",
     "start_time": "2024-02-23T09:46:47.122338400Z"
    }
   },
   "id": "94d17695f3983cce"
  },
  {
   "cell_type": "code",
   "execution_count": 107,
   "outputs": [],
   "source": [
    "\n",
    "\n",
    "\n",
    "def calibration(confusion_matrix_priv, confusion_matrix_unpriv):\n",
    "    \"\"\"\n",
    "    Calculate the calibration metric using confusion matrices for privileged and unprivileged groups.\n",
    "\n",
    "    Args:\n",
    "    confusion_matrix_priv (list): Confusion matrix for the privileged group [TN, FP, FN, TP].\n",
    "    confusion_matrix_unpriv (list): Confusion matrix for the unprivileged group [TN, FP, FN, TP].\n",
    "\n",
    "    Returns:\n",
    "    list: [privileged group value, unprivileged group value, Absolute difference between unprivileged and privileged group].\n",
    "    \"\"\"\n",
    "    tn_priv, fp_priv, fn_priv, tp_priv = confusion_matrix_priv\n",
    "    tn_unpriv, fp_unpriv, fn_unpriv, tp_unpriv = confusion_matrix_unpriv\n",
    "\n",
    "    prob_pos_priv = (tp_priv + fp_priv) / (tp_priv + fp_priv + tn_priv + fn_priv) if (tp_priv + fp_priv + tn_priv + fn_priv) > 0 else 0\n",
    "    prob_pos_unpriv = (tp_unpriv + fp_unpriv) / (tp_unpriv + fp_unpriv + tn_unpriv + fn_unpriv) if (tp_unpriv + fp_unpriv + tn_unpriv + fn_unpriv) > 0 else 0\n",
    "\n",
    "    privileged_value = (tp_priv + tn_priv) / (tp_priv + fp_priv + tn_priv + fn_priv) if (tp_priv + fp_priv + tn_priv + fn_priv) > 0 else 0\n",
    "    unprivileged_value = prob_pos_unpriv\n",
    "\n",
    "    absolute_difference = np.abs(unprivileged_value - privileged_value)\n",
    "\n",
    "    return [privileged_value, unprivileged_value, absolute_difference]\n",
    "\n",
    "\n",
    "\n",
    "\n"
   ],
   "metadata": {
    "collapsed": false,
    "ExecuteTime": {
     "end_time": "2024-02-23T09:46:47.256296500Z",
     "start_time": "2024-02-23T09:46:47.146561700Z"
    }
   },
   "id": "b0edba5291127d80"
  },
  {
   "cell_type": "code",
   "execution_count": 108,
   "outputs": [],
   "source": [
    "\n",
    "def predictive_parity(confusion_matrix_priv, confusion_matrix_unpriv):\n",
    "    \"\"\"\n",
    "    Calculate the Predictive Parity metric using two confusion matrices (for privileged and unprivileged groups).\n",
    "\n",
    "    Args:\n",
    "    confusion_matrix_priv (list): List containing [TN, FP, FN, TP] for the privileged group.\n",
    "    confusion_matrix_unpriv (list): List containing [TN, FP, FN, TP] for the unprivileged group.\n",
    "\n",
    "    Returns:\n",
    "    list: [privileged group value, unprivileged group value, Absolute difference between unprivileged and privileged group].\n",
    "    \"\"\"\n",
    "    _, _, fn_priv, tp_priv = confusion_matrix_priv\n",
    "    _, _, fn_unpriv, tp_unpriv = confusion_matrix_unpriv\n",
    "    prob_pos_priv = tp_priv / (tp_priv + fn_priv) if (tp_priv + fn_priv) > 0 else 0\n",
    "    prob_pos_unpriv = tp_unpriv / (tp_unpriv + fn_unpriv) if (tp_unpriv + fn_unpriv) > 0 else 0\n",
    "    privileged_value = prob_pos_priv if (tp_priv + fn_priv) > 0 else 0\n",
    "    unprivileged_value = prob_pos_unpriv if (tp_unpriv + fn_unpriv) > 0 else 0\n",
    "    absolute_difference = np.abs(unprivileged_value - privileged_value)\n",
    "    return [privileged_value, unprivileged_value, absolute_difference]\n",
    "\n",
    "\n"
   ],
   "metadata": {
    "collapsed": false,
    "ExecuteTime": {
     "end_time": "2024-02-23T09:46:47.256296500Z",
     "start_time": "2024-02-23T09:46:47.166277800Z"
    }
   },
   "id": "fca7c65e138b563e"
  },
  {
   "cell_type": "code",
   "execution_count": 109,
   "outputs": [],
   "source": [
    "def equalized_odds(confusion_matrix_priv, confusion_matrix_unpriv):\n",
    "    \"\"\"\n",
    "    Calculate the Equalized Odds metric using two confusion matrices (for privileged and unprivileged groups).\n",
    "\n",
    "    Args:\n",
    "    confusion_matrix_priv (list): List containing [TN, FP, FN, TP] for the privileged group.\n",
    "    confusion_matrix_unpriv (list): List containing [TN, FP, FN, TP] for the unprivileged group.\n",
    "\n",
    "    Returns:\n",
    "    list: [privileged group value, unprivileged group value, Absolute difference between unprivileged and privileged group].\n",
    "    \"\"\"\n",
    "    _, _, fn_priv, tp_priv = confusion_matrix_priv\n",
    "    _, _, fn_unpriv, tp_unpriv = confusion_matrix_unpriv\n",
    "    tpr_priv = tp_priv / (tp_priv + fn_priv) if (tp_priv + fn_priv) > 0 else 0\n",
    "    fpr_priv = 1 - (tp_priv / (tp_priv + fn_priv)) if (tp_priv + fn_priv) > 0 else 0\n",
    "    tpr_unpriv = tp_unpriv / (tp_unpriv + fn_unpriv) if (tp_unpriv + fn_unpriv) > 0 else 0\n",
    "    fpr_unpriv = 1 - (tp_unpriv / (tp_unpriv + fn_unpriv)) if (tp_unpriv + fn_unpriv) > 0 else 0\n",
    "    privileged_value = tpr_priv if (tp_priv + fn_priv) > 0 else 0\n",
    "    unprivileged_value = tpr_unpriv if (tp_unpriv + fn_unpriv) > 0 else 0\n",
    "    absolute_difference = np.abs(unprivileged_value - privileged_value)\n",
    "    return [privileged_value, unprivileged_value, absolute_difference]\n"
   ],
   "metadata": {
    "collapsed": false,
    "ExecuteTime": {
     "end_time": "2024-02-23T09:46:47.256296500Z",
     "start_time": "2024-02-23T09:46:47.182452600Z"
    }
   },
   "id": "6834a86acdf10204"
  },
  {
   "cell_type": "code",
   "execution_count": 110,
   "outputs": [],
   "source": [
    "\n",
    "# Load confusion matrices\n",
    "confusion_matrices = load_confusion_matrices()\n",
    "confusion_matrix_priv, confusion_matrix_unpriv = confusion_matrices\n",
    "\n"
   ],
   "metadata": {
    "collapsed": false,
    "ExecuteTime": {
     "end_time": "2024-02-23T09:46:47.282864800Z",
     "start_time": "2024-02-23T09:46:47.194625800Z"
    }
   },
   "id": "965798034984cbd7"
  },
  {
   "cell_type": "code",
   "execution_count": 111,
   "outputs": [],
   "source": [
    "# [privileged group value, unprivileged group value, Absolute difference between unprivileged and privileged group]"
   ],
   "metadata": {
    "collapsed": false,
    "ExecuteTime": {
     "end_time": "2024-02-23T09:46:47.284385500Z",
     "start_time": "2024-02-23T09:46:47.210648300Z"
    }
   },
   "id": "6351e07d0fea4edf"
  },
  {
   "cell_type": "code",
   "execution_count": 112,
   "outputs": [],
   "source": [
    "methods = {\n",
    "    \"calibration_func\":calibration,\n",
    "    \"predictive_parity_func\":predictive_parity,\n",
    "    \"equalized_odds_func\":equalized_odds\n",
    "}\n"
   ],
   "metadata": {
    "collapsed": false,
    "ExecuteTime": {
     "end_time": "2024-02-23T09:46:47.284385500Z",
     "start_time": "2024-02-23T09:46:47.225216100Z"
    }
   },
   "id": "f400644484d457ee"
  },
  {
   "cell_type": "code",
   "execution_count": 113,
   "outputs": [],
   "source": [
    "\n",
    "scores = {}\n",
    "\n",
    "priv_matrix,unpriv_matrix = load_confusion_matrices()\n",
    "\n",
    " \n",
    "    "
   ],
   "metadata": {
    "collapsed": false,
    "ExecuteTime": {
     "end_time": "2024-02-23T09:46:47.285393700Z",
     "start_time": "2024-02-23T09:46:47.240259Z"
    }
   },
   "id": "77d4814853de7eca"
  },
  {
   "cell_type": "code",
   "execution_count": 114,
   "outputs": [
    {
     "data": {
      "text/plain": "{'calibration_func': [0.6428571428571429,\n  0.5102040816326531,\n  0.13265306122448983],\n 'predictive_parity_func': [0.7551020408163265,\n  0.7142857142857143,\n  0.04081632653061218],\n 'equalized_odds_func': [0.7551020408163265,\n  0.7142857142857143,\n  0.04081632653061218]}"
     },
     "execution_count": 114,
     "metadata": {},
     "output_type": "execute_result"
    }
   ],
   "source": [
    "for func_key, func in methods.items():\n",
    "       scores[func_key]  = func(priv_matrix,unpriv_matrix)\n",
    "     \n",
    "\n",
    "scores"
   ],
   "metadata": {
    "collapsed": false,
    "ExecuteTime": {
     "end_time": "2024-02-23T09:46:47.298340200Z",
     "start_time": "2024-02-23T09:46:47.258304Z"
    }
   },
   "id": "3d70d929b625266d"
  },
  {
   "cell_type": "markdown",
   "source": [
    "**Calibration:**\n",
    "Analyzing the calibration metric, I discovered that the privileged group has a calibration value of around 0.64, whereas the unprivileged group has a value of around 0.51. The absolute difference between these numbers is around 0.13. This shows a significant difference in prediction accuracy between the privileged and unprivileged groups. It suggests that the model's projected probability may not correlate equally well with the actual results for both groups.\n",
    "\n",
    "**Predictive Parity:**\n",
    "Focusing at the predictive parity measure, I found a privileged group value of around 0.76 and an unprivileged group value of approximately 0.71. The absolute difference is around 0.04. While the difference is slight, it indicates a difference in the frequencies of positive predictions between both sets.\n",
    "\n",
    "**Equalized Odds:**\n",
    "For the equalized odds measure, all the privileged and unprivileged groups have values close to 0.76. The absolute difference is again around 0.04. This means that there is a modest disparity in true and false positive rates between the privileged and unprivileged groups.\n",
    "\n",
    "Overall, these data show that the model may include some bias, particularly in terms of calibration and predictive parity. It is critical to carefully analyze these findings in the light of the specific case and fairness criteria. Further analysis and model tweaks may be required to resolve any discovered inequalities and improve fairness.\n",
    "\n",
    "\n",
    "\n"
   ],
   "metadata": {
    "collapsed": false
   },
   "id": "17a8f00f1557455d"
  }
 ],
 "metadata": {
  "kernelspec": {
   "display_name": "Python 3",
   "language": "python",
   "name": "python3"
  },
  "language_info": {
   "codemirror_mode": {
    "name": "ipython",
    "version": 2
   },
   "file_extension": ".py",
   "mimetype": "text/x-python",
   "name": "python",
   "nbconvert_exporter": "python",
   "pygments_lexer": "ipython2",
   "version": "2.7.6"
  }
 },
 "nbformat": 4,
 "nbformat_minor": 5
}

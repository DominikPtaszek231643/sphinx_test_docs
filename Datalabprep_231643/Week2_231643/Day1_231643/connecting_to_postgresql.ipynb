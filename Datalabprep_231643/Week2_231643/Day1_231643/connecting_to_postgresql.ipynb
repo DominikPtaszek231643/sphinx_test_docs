{
 "cells": [
  {
   "cell_type": "markdown",
   "id": "7b5302001885b28b",
   "metadata": {},
   "source": [
    "# Connecting to a PostgreSQL Database\n",
    "\n",
    "The following notebook will show you two methods of interacting with a PostgrSQL database using Python. We will establish a connection to your local database you should have set up during the Introduction to Databases module. If you do not have a PostgreSQL instance running on this device please set one up now using the methods from Introduction to Databases. Don't forget to take note of your password, username and instance name."
   ]
  },
  {
   "cell_type": "markdown",
   "id": "6522ac69d96306a1",
   "metadata": {},
   "source": [
    "## Step 0: Import required Packages"
   ]
  },
  {
   "cell_type": "code",
   "execution_count": 1,
   "id": "61dd84af2ea4407e",
   "metadata": {
    "ExecuteTime": {
     "end_time": "2024-05-13T17:11:12.727892Z",
     "start_time": "2024-05-13T17:11:12.515233Z"
    }
   },
   "outputs": [],
   "source": [
    "import psycopg2\n",
    "\n",
    "from sqlalchemy import create_engine, Column, Integer, String\n",
    "from sqlalchemy.ext.declarative import declarative_base\n",
    "from sqlalchemy.orm import sessionmaker"
   ]
  },
  {
   "cell_type": "markdown",
   "id": "3b1603571daf59e0",
   "metadata": {},
   "source": [
    "Define your database connection parameters.\n",
    "Note! You need to replace the values of `your_database_name`, `your_username` and `your_password` with the correct values for the database you created in the Introduction to Databases module."
   ]
  },
  {
   "cell_type": "code",
   "execution_count": 2,
   "id": "ea22f87ebcaf1d4",
   "metadata": {
    "ExecuteTime": {
     "end_time": "2024-05-13T17:11:12.732234Z",
     "start_time": "2024-05-13T17:11:12.728896Z"
    }
   },
   "outputs": [],
   "source": [
    "db_params = {\n",
    "    'host': 'localhost',\n",
    "    'port': '5432',\n",
    "    'database': 'data',\n",
    "    'user': 'postgres',\n",
    "    'password': '1234'\n",
    "}"
   ]
  },
  {
   "cell_type": "markdown",
   "id": "8fc8d16337e43aa2",
   "metadata": {},
   "source": []
  },
  {
   "cell_type": "markdown",
   "id": "c4849b8d07eb93fd",
   "metadata": {},
   "source": [
    "## Step 1: Establishing a Connection"
   ]
  },
  {
   "cell_type": "code",
   "execution_count": 3,
   "id": "7ec2799fec001213",
   "metadata": {
    "ExecuteTime": {
     "end_time": "2024-05-13T17:11:12.772956Z",
     "start_time": "2024-05-13T17:11:12.733240Z"
    }
   },
   "outputs": [],
   "source": [
    "# Method 1: Psycopg2\n",
    "\n",
    "conn_psycopg2 = psycopg2.connect(**db_params)"
   ]
  },
  {
   "cell_type": "markdown",
   "id": "7493ddd72a4d3bf3",
   "metadata": {},
   "source": [
    "## Step 2: Creating a Table"
   ]
  },
  {
   "cell_type": "code",
   "execution_count": 4,
   "id": "65fca09f9204ea1d",
   "metadata": {
    "ExecuteTime": {
     "end_time": "2024-05-13T17:11:12.779337Z",
     "start_time": "2024-05-13T17:11:12.773960Z"
    }
   },
   "outputs": [
    {
     "name": "stdout",
     "output_type": "stream",
     "text": [
      "Table created successfully!\n"
     ]
    }
   ],
   "source": [
    "# Method 1: Psycopg2\n",
    "\n",
    " # Step 1: Create a cursor object\n",
    "cursor = conn_psycopg2.cursor()\n",
    "\n",
    "# Step 2: Execute SQL command to create the table\n",
    "create_table_query = '''\n",
    "        CREATE TABLE IF NOT EXISTS psycop_users (\n",
    "            id SERIAL PRIMARY KEY,\n",
    "            name VARCHAR(100),\n",
    "            age INT\n",
    "        )\n",
    "    '''\n",
    "cursor.execute(create_table_query)\n",
    "\n",
    "# Step 3: Commit the transaction\n",
    "conn_psycopg2.commit()\n",
    "print(\"Table created successfully!\")"
   ]
  },
  {
   "cell_type": "markdown",
   "id": "7174251a5dfb454e",
   "metadata": {},
   "source": [
    "## Step3: Inserting Data Into The Table"
   ]
  },
  {
   "cell_type": "code",
   "execution_count": 5,
   "id": "737b3fbcb57557e8",
   "metadata": {
    "ExecuteTime": {
     "end_time": "2024-05-13T17:11:12.787971Z",
     "start_time": "2024-05-13T17:11:12.780342Z"
    }
   },
   "outputs": [],
   "source": [
    "# Method 1: Psycopg2\n",
    "from random import randint\n",
    "cursor.execute(\"INSERT INTO psycop_users (name, age) VALUES (%s, %s)\", ('Alice',randint(1,40) ))\n",
    "conn_psycopg2.commit()"
   ]
  },
  {
   "cell_type": "markdown",
   "id": "54ad0d3ed5d9707d",
   "metadata": {},
   "source": [
    "## Step4: Running a Simple Query"
   ]
  },
  {
   "cell_type": "code",
   "execution_count": 6,
   "id": "4bb501be3ddc45cd",
   "metadata": {
    "ExecuteTime": {
     "end_time": "2024-05-13T17:11:12.796499Z",
     "start_time": "2024-05-13T17:11:12.790979Z"
    }
   },
   "outputs": [
    {
     "name": "stdout",
     "output_type": "stream",
     "text": [
      "Using psycopg2:\n",
      "(32, 'Alice', 13, None)\n",
      "(1, 'Alice', 30, 4)\n",
      "(3, 'Alice', 30, 1)\n",
      "(4, 'Alice', 30, 5)\n",
      "(5, 'Alice', 30, 8)\n",
      "(6, 'Alice', 30, None)\n",
      "(7, 'Alice', 30, None)\n",
      "(8, 'Alice', 30, None)\n",
      "(9, 'Alice', 30, None)\n",
      "(10, 'Alice', 30, None)\n",
      "(11, 'Alice', 30, None)\n",
      "(12, 'Alice', 30, None)\n",
      "(13, 'Alice', 30, None)\n",
      "(14, 'Alice', 30, None)\n",
      "(15, 'Alice', 30, None)\n",
      "(16, 'Alice', 30, None)\n",
      "(17, 'Alice', 30, None)\n",
      "(18, 'Alice', 30, None)\n",
      "(19, 'Alice', 30, None)\n",
      "(20, 'Alice', 30, None)\n",
      "(21, 'Alice', 30, None)\n",
      "(22, 'Alice', 30, None)\n",
      "(23, 'Alice', 30, None)\n",
      "(24, 'Alice', 30, None)\n",
      "(25, 'Alice', 30, None)\n",
      "(26, 'Alice', 30, None)\n",
      "(27, 'Alice', 30, None)\n",
      "(28, 'Alice', 30, None)\n",
      "(29, 'Alice', 30, None)\n",
      "(30, 'Alice', 30, None)\n",
      "(31, 'Alice', 33, None)\n",
      "(33, 'Alice', 14, None)\n"
     ]
    }
   ],
   "source": [
    "# Method 1: Psycopg2\n",
    "\n",
    "cursor.execute(\"SELECT * FROM psycop_users\")\n",
    "rows_psycopg2 = cursor.fetchall()\n",
    "print(\"Using psycopg2:\")\n",
    "for row in rows_psycopg2:\n",
    "    print(row)"
   ]
  },
  {
   "cell_type": "markdown",
   "id": "c2182dcb573eed41",
   "metadata": {},
   "source": [
    "## Step5: Closing Connections"
   ]
  },
  {
   "cell_type": "code",
   "execution_count": 7,
   "id": "d5937ae94d7d51c5",
   "metadata": {
    "ExecuteTime": {
     "end_time": "2024-05-13T17:11:12.800596Z",
     "start_time": "2024-05-13T17:11:12.797505Z"
    }
   },
   "outputs": [],
   "source": [
    "# Method 1: Psycopg2\n",
    "\n",
    "conn_psycopg2.close()"
   ]
  },
  {
   "cell_type": "markdown",
   "source": [
    "## Excersize\n",
    "\n",
    "Using your preferred method:\n",
    "- Create a new table called hats with the columns; id, type, colour (make sure you select appropriate types for each of these columns\n",
    "- Create a new column in your users table, call this column hat_id and make it a foreign key to your hats table\n",
    "- Insert some data into your hats table\n",
    "- Update the data in your users table so the hat_id column is not null for the rows that already exist\n",
    "- Execute a query that joins the data in users and hats. You should return the users name, age, type of hat and hat colour\n",
    "- Don't forget to close your connection once you are done"
   ],
   "metadata": {
    "collapsed": false
   },
   "id": "bb42aa4c2274b3b5"
  },
  {
   "cell_type": "code",
   "execution_count": 8,
   "outputs": [],
   "source": [
    "db_params = {\n",
    "    'host': 'localhost',\n",
    "    'port': '5432',\n",
    "    'database': 'data',\n",
    "    'user': 'postgres',\n",
    "    'password': '1234'\n",
    "}"
   ],
   "metadata": {
    "collapsed": false,
    "ExecuteTime": {
     "end_time": "2024-05-13T17:11:12.806440Z",
     "start_time": "2024-05-13T17:11:12.801602Z"
    }
   },
   "id": "d173230f91bc54d8"
  },
  {
   "cell_type": "code",
   "outputs": [],
   "source": [
    "\n",
    "conn_psycopg2 = psycopg2.connect(**db_params)"
   ],
   "metadata": {
    "collapsed": false,
    "ExecuteTime": {
     "end_time": "2024-05-13T17:11:12.841494Z",
     "start_time": "2024-05-13T17:11:12.807444Z"
    }
   },
   "id": "948c4913757b24bb",
   "execution_count": 9
  },
  {
   "cell_type": "code",
   "outputs": [
    {
     "name": "stdout",
     "output_type": "stream",
     "text": [
      "Table created successfully!\n"
     ]
    }
   ],
   "source": [
    "\n",
    " # Step 1: Create a cursor object\n",
    "cursor = conn_psycopg2.cursor()\n",
    "\n",
    "# Step 2: Execute SQL command to create the table\n",
    "create_table_query = '''\n",
    "        CREATE TABLE IF NOT EXISTS hats (\n",
    "        id SERIAL PRIMARY KEY,\n",
    "        type VARCHAR(100),\n",
    "        colour VARCHAR(100)\n",
    "        )\n",
    "    '''\n",
    "cursor.execute(create_table_query)\n",
    "\n",
    "\n",
    "conn_psycopg2.commit()\n",
    "print(\"Table created successfully!\")"
   ],
   "metadata": {
    "collapsed": false,
    "ExecuteTime": {
     "end_time": "2024-05-13T17:11:12.847569Z",
     "start_time": "2024-05-13T17:11:12.842499Z"
    }
   },
   "id": "2ef0bcee95f9d606",
   "execution_count": 10
  },
  {
   "cell_type": "code",
   "outputs": [],
   "source": [
    "## Function to see current table status\n",
    "\n",
    "def show_table(received_cursor, table_name):\n",
    "    # Method 1: Psycopg2\n",
    "    received_cursor.execute(f'''SELECT * FROM {table_name}''')\n",
    "    rows = received_cursor.fetchall()\n",
    "    \n",
    "    for row in rows:\n",
    "        print(row)"
   ],
   "metadata": {
    "collapsed": false,
    "ExecuteTime": {
     "end_time": "2024-05-13T17:11:12.853472Z",
     "start_time": "2024-05-13T17:11:12.849577Z"
    }
   },
   "id": "8f22668399937574",
   "execution_count": 11
  },
  {
   "cell_type": "code",
   "outputs": [
    {
     "name": "stdout",
     "output_type": "stream",
     "text": [
      "(1, 'fedora', 'black')\n",
      "(2, 'cap', 'yellow')\n",
      "(3, 'cap', 'purple')\n",
      "(4, 'summer cap', 'red')\n",
      "(5, 'fedora', 'black')\n",
      "(6, 'cap', 'yellow')\n",
      "(7, 'cap', 'purple')\n",
      "(8, 'summer cap', 'red')\n",
      "(9, 'fedora', 'black')\n",
      "(10, 'cap', 'yellow')\n",
      "(11, 'cap', 'purple')\n",
      "(12, 'summer cap', 'red')\n",
      "(13, 'fedora', 'black')\n",
      "(14, 'cap', 'yellow')\n",
      "(15, 'cap', 'purple')\n",
      "(16, 'summer cap', 'red')\n"
     ]
    }
   ],
   "source": [
    "show_table(cursor,'hats')"
   ],
   "metadata": {
    "collapsed": false,
    "ExecuteTime": {
     "end_time": "2024-05-13T17:11:12.861219Z",
     "start_time": "2024-05-13T17:11:12.854987Z"
    }
   },
   "id": "c359cdef098fd737",
   "execution_count": 12
  },
  {
   "cell_type": "code",
   "outputs": [],
   "source": [
    "alter_table_query = '''\n",
    "    DO $$\n",
    "BEGIN\n",
    "IF NOT EXISTS (SELECT 1\n",
    "                   FROM information_schema.columns \n",
    "                   WHERE table_name='psycop_users' AND column_name='hat_id') THEN\n",
    "        -- Add the column if it does not exist\n",
    "        ALTER TABLE psycop_users ADD COLUMN hat_id INT;\n",
    "        -- Optionally, add a foreign key constraint if needed\n",
    "        ALTER TABLE psycop_users ADD CONSTRAINT fk_hat FOREIGN KEY (hat_id) REFERENCES hats(id);\n",
    "    END IF;\n",
    "END $$;\n",
    "\n",
    "'''\n",
    "\n",
    "cursor.execute(alter_table_query)\n",
    "\n",
    "conn_psycopg2.commit()\n",
    "\n"
   ],
   "metadata": {
    "collapsed": false,
    "ExecuteTime": {
     "end_time": "2024-05-13T17:11:12.882217Z",
     "start_time": "2024-05-13T17:11:12.862224Z"
    }
   },
   "id": "a69dbd40792488d1",
   "execution_count": 13
  },
  {
   "cell_type": "code",
   "outputs": [
    {
     "name": "stdout",
     "output_type": "stream",
     "text": [
      "(32, 'Alice', 13, None)\n",
      "(1, 'Alice', 30, 4)\n",
      "(3, 'Alice', 30, 1)\n",
      "(4, 'Alice', 30, 5)\n",
      "(5, 'Alice', 30, 8)\n",
      "(6, 'Alice', 30, None)\n",
      "(7, 'Alice', 30, None)\n",
      "(8, 'Alice', 30, None)\n",
      "(9, 'Alice', 30, None)\n",
      "(10, 'Alice', 30, None)\n",
      "(11, 'Alice', 30, None)\n",
      "(12, 'Alice', 30, None)\n",
      "(13, 'Alice', 30, None)\n",
      "(14, 'Alice', 30, None)\n",
      "(15, 'Alice', 30, None)\n",
      "(16, 'Alice', 30, None)\n",
      "(17, 'Alice', 30, None)\n",
      "(18, 'Alice', 30, None)\n",
      "(19, 'Alice', 30, None)\n",
      "(20, 'Alice', 30, None)\n",
      "(21, 'Alice', 30, None)\n",
      "(22, 'Alice', 30, None)\n",
      "(23, 'Alice', 30, None)\n",
      "(24, 'Alice', 30, None)\n",
      "(25, 'Alice', 30, None)\n",
      "(26, 'Alice', 30, None)\n",
      "(27, 'Alice', 30, None)\n",
      "(28, 'Alice', 30, None)\n",
      "(29, 'Alice', 30, None)\n",
      "(30, 'Alice', 30, None)\n",
      "(31, 'Alice', 33, None)\n",
      "(33, 'Alice', 14, None)\n"
     ]
    }
   ],
   "source": [
    "show_table(cursor,'psycop_users')"
   ],
   "metadata": {
    "collapsed": false,
    "ExecuteTime": {
     "end_time": "2024-05-13T17:11:12.888977Z",
     "start_time": "2024-05-13T17:11:12.883223Z"
    }
   },
   "id": "5853e687e229643f",
   "execution_count": 14
  },
  {
   "cell_type": "code",
   "outputs": [],
   "source": [
    "insert_data_query  ='''\n",
    "INSERT INTO hats(type,colour) VALUES \n",
    "('fedora','black'),\n",
    "('cap', 'yellow'),\n",
    "('cap','purple'),\n",
    "('summer cap', 'red')'''\n",
    "\n",
    "cursor.execute(insert_data_query)\n",
    "\n",
    "conn_psycopg2.commit()"
   ],
   "metadata": {
    "collapsed": false,
    "ExecuteTime": {
     "end_time": "2024-05-13T17:11:12.895994Z",
     "start_time": "2024-05-13T17:11:12.889984Z"
    }
   },
   "id": "9340c98d414b37c8",
   "execution_count": 15
  },
  {
   "cell_type": "code",
   "outputs": [
    {
     "name": "stdout",
     "output_type": "stream",
     "text": [
      "(1, 'fedora', 'black')\n",
      "(2, 'cap', 'yellow')\n",
      "(3, 'cap', 'purple')\n",
      "(4, 'summer cap', 'red')\n",
      "(5, 'fedora', 'black')\n",
      "(6, 'cap', 'yellow')\n",
      "(7, 'cap', 'purple')\n",
      "(8, 'summer cap', 'red')\n",
      "(9, 'fedora', 'black')\n",
      "(10, 'cap', 'yellow')\n",
      "(11, 'cap', 'purple')\n",
      "(12, 'summer cap', 'red')\n",
      "(13, 'fedora', 'black')\n",
      "(14, 'cap', 'yellow')\n",
      "(15, 'cap', 'purple')\n",
      "(16, 'summer cap', 'red')\n",
      "(17, 'fedora', 'black')\n",
      "(18, 'cap', 'yellow')\n",
      "(19, 'cap', 'purple')\n",
      "(20, 'summer cap', 'red')\n"
     ]
    }
   ],
   "source": [
    "show_table(cursor,'hats')"
   ],
   "metadata": {
    "collapsed": false,
    "ExecuteTime": {
     "end_time": "2024-05-13T17:11:12.901454Z",
     "start_time": "2024-05-13T17:11:12.896999Z"
    }
   },
   "id": "d9c0234e7f890ffa",
   "execution_count": 16
  },
  {
   "cell_type": "code",
   "outputs": [],
   "source": [
    "update_user_hat_ids_query = '''\n",
    "UPDATE psycop_users SET hat_id  = (CASE \n",
    "\n",
    "    WHEN id = 1 THEN 4\n",
    "    WHEN id =2 THEN 2\n",
    "    WHEN id  =3 THEN 1\n",
    "    WHEN id = 4 THEN 5\n",
    "    WHEN id = 5 THEN 8\n",
    "    END)\n",
    "'''\n",
    "\n",
    "cursor.execute(update_user_hat_ids_query)\n",
    "\n",
    "conn_psycopg2.commit()"
   ],
   "metadata": {
    "collapsed": false,
    "ExecuteTime": {
     "end_time": "2024-05-13T17:11:12.906801Z",
     "start_time": "2024-05-13T17:11:12.902462Z"
    }
   },
   "id": "9163c9cccd1e0ad1",
   "execution_count": 17
  },
  {
   "cell_type": "code",
   "outputs": [
    {
     "name": "stdout",
     "output_type": "stream",
     "text": [
      "(32, 'Alice', 13, None)\n",
      "(1, 'Alice', 30, 4)\n",
      "(3, 'Alice', 30, 1)\n",
      "(4, 'Alice', 30, 5)\n",
      "(5, 'Alice', 30, 8)\n",
      "(6, 'Alice', 30, None)\n",
      "(7, 'Alice', 30, None)\n",
      "(8, 'Alice', 30, None)\n",
      "(9, 'Alice', 30, None)\n",
      "(10, 'Alice', 30, None)\n",
      "(11, 'Alice', 30, None)\n",
      "(12, 'Alice', 30, None)\n",
      "(13, 'Alice', 30, None)\n",
      "(14, 'Alice', 30, None)\n",
      "(15, 'Alice', 30, None)\n",
      "(16, 'Alice', 30, None)\n",
      "(17, 'Alice', 30, None)\n",
      "(18, 'Alice', 30, None)\n",
      "(19, 'Alice', 30, None)\n",
      "(20, 'Alice', 30, None)\n",
      "(21, 'Alice', 30, None)\n",
      "(22, 'Alice', 30, None)\n",
      "(23, 'Alice', 30, None)\n",
      "(24, 'Alice', 30, None)\n",
      "(25, 'Alice', 30, None)\n",
      "(26, 'Alice', 30, None)\n",
      "(27, 'Alice', 30, None)\n",
      "(28, 'Alice', 30, None)\n",
      "(29, 'Alice', 30, None)\n",
      "(30, 'Alice', 30, None)\n",
      "(31, 'Alice', 33, None)\n",
      "(33, 'Alice', 14, None)\n"
     ]
    }
   ],
   "source": [
    "show_table(cursor,'psycop_users')"
   ],
   "metadata": {
    "collapsed": false,
    "ExecuteTime": {
     "end_time": "2024-05-13T17:11:12.913679Z",
     "start_time": "2024-05-13T17:11:12.908809Z"
    }
   },
   "id": "d5f60f42db9b9c99",
   "execution_count": 18
  },
  {
   "cell_type": "code",
   "outputs": [],
   "source": [
    "join_hats_and_users_query ='''\n",
    "CREATE TABLE IF NOT EXISTS joined_user_and_hat AS\n",
    "SELECT psycop_users.id AS id , name AS user_name, age AS user_age, type AS hat_type, colour AS hat_colour\n",
    "FROM psycop_users\n",
    "INNER JOIN hats\n",
    "ON psycop_users.hat_id = hats.id\n",
    "ORDER BY id ASC;\n",
    "'''\n",
    "\n",
    "\n",
    "cursor.execute(join_hats_and_users_query)\n",
    "\n",
    "conn_psycopg2.commit()\n"
   ],
   "metadata": {
    "collapsed": false,
    "ExecuteTime": {
     "end_time": "2024-05-13T17:11:12.919706Z",
     "start_time": "2024-05-13T17:11:12.914685Z"
    }
   },
   "id": "826ec99f8bf94e2d",
   "execution_count": 19
  },
  {
   "cell_type": "code",
   "outputs": [],
   "source": [
    "conn_psycopg2.close()"
   ],
   "metadata": {
    "collapsed": false,
    "ExecuteTime": {
     "end_time": "2024-05-13T17:11:12.925219Z",
     "start_time": "2024-05-13T17:11:12.920711Z"
    }
   },
   "id": "b11477051f98df83",
   "execution_count": 20
  }
 ],
 "metadata": {
  "kernelspec": {
   "display_name": "Python 3 (ipykernel)",
   "language": "python",
   "name": "python3"
  },
  "language_info": {
   "codemirror_mode": {
    "name": "ipython",
    "version": 3
   },
   "file_extension": ".py",
   "mimetype": "text/x-python",
   "name": "python",
   "nbconvert_exporter": "python",
   "pygments_lexer": "ipython3",
   "version": "3.7.16"
  }
 },
 "nbformat": 4,
 "nbformat_minor": 5
}

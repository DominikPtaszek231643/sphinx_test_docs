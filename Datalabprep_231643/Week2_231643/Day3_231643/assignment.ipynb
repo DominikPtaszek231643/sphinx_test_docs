{
 "cells": [
  {
   "cell_type": "code",
   "execution_count": 1,
   "id": "initial_id",
   "metadata": {
    "collapsed": true,
    "ExecuteTime": {
     "end_time": "2024-05-19T15:59:23.794120Z",
     "start_time": "2024-05-19T15:59:23.773182Z"
    }
   },
   "outputs": [],
   "source": [
    "import pandas as pd\n",
    "import numpy as np\n",
    "import matplotlib.pyplot as plt\n",
    "\n",
    "\n",
    "import seaborn as sns\n",
    "from datetime import datetime, date, time, timedelta\n",
    "\n",
    "# Display matplotlib inline\n",
    "%matplotlib inline\n",
    "\n",
    "# Set the default figure size for matplotlib\n",
    "plt.rcParams['figure.figsize'] = (10, 6)"
   ]
  },
  {
   "cell_type": "code",
   "outputs": [
    {
     "name": "stdout",
     "output_type": "stream",
     "text": [
      "Current Date and Time: 2024-05-19 17:59:23.799130\n",
      "Specific Past Date: 2022-05-20\n",
      "Late Morning Specific Time: 11:45:00\n"
     ]
    }
   ],
   "source": [
    "\n",
    "\n",
    "# Example: Creating Date and Time Objects with Changed Dates\n",
    "current_datetime = datetime.now()\n",
    "specific_date = date(2022, 5, 20)\n",
    "specific_time = time(11, 45)\n",
    "\n",
    "print(\"Current Date and Time:\", current_datetime)\n",
    "print(\"Specific Past Date:\", specific_date)\n",
    "print(\"Late Morning Specific Time:\", specific_time)\n"
   ],
   "metadata": {
    "collapsed": false,
    "ExecuteTime": {
     "end_time": "2024-05-19T15:59:23.803317Z",
     "start_time": "2024-05-19T15:59:23.797128Z"
    }
   },
   "id": "240436e9bf87d44b",
   "execution_count": 2
  },
  {
   "cell_type": "code",
   "outputs": [
    {
     "name": "stdout",
     "output_type": "stream",
     "text": [
      "\n",
      "Formatted Date with Full Month Name: Sunday, 19 May 2024 17:59:23\n",
      "Parsed Date String to Datetime Object: 2022-05-20 14:30:00\n"
     ]
    }
   ],
   "source": [
    "# Example: Formatting and Parsing with Different Formats\n",
    "formatted_date = current_datetime.strftime(\"%A, %d %B %Y %H:%M:%S\")\n",
    "parsed_date = datetime.strptime(\"20 May 2022 14:30\", \"%d %B %Y %H:%M\")\n",
    "\n",
    "print(\"\\nFormatted Date with Full Month Name:\", formatted_date)\n",
    "print(\"Parsed Date String to Datetime Object:\", parsed_date)"
   ],
   "metadata": {
    "collapsed": false,
    "ExecuteTime": {
     "end_time": "2024-05-19T15:59:23.810325Z",
     "start_time": "2024-05-19T15:59:23.805327Z"
    }
   },
   "id": "b286fb7db0afaeab",
   "execution_count": 3
  },
  {
   "cell_type": "code",
   "outputs": [
    {
     "name": "stdout",
     "output_type": "stream",
     "text": [
      "\n",
      "Date One Day Ago: 2024-05-18 17:59:23.813847\n",
      "Date Eight Weeks Ago: 2024-03-24 17:59:23.813847\n"
     ]
    }
   ],
   "source": [
    "\n",
    "\n",
    "\n",
    "# Example: Arithmetic Operations with Smaller Intervals\n",
    "yesterday = datetime.now() - timedelta(days=1)\n",
    "recent_past = datetime.now() - timedelta(weeks=8)\n",
    "\n",
    "print(\"\\nDate One Day Ago:\", yesterday)\n",
    "print(\"Date Eight Weeks Ago:\", recent_past)"
   ],
   "metadata": {
    "collapsed": false,
    "ExecuteTime": {
     "end_time": "2024-05-19T15:59:23.816076Z",
     "start_time": "2024-05-19T15:59:23.811845Z"
    }
   },
   "id": "9178edb65fbb3404",
   "execution_count": 4
  },
  {
   "cell_type": "code",
   "outputs": [
    {
     "name": "stdout",
     "output_type": "stream",
     "text": [
      "2024-05-19 17:59:23.820090\n",
      "2024-05-19 17:59:23.820599\n",
      "2024-05-19 15:59:23.820599+00:00\n"
     ]
    }
   ],
   "source": [
    "import datetime\n",
    "\n",
    "# tday = datetime.date.today()\n",
    "\n",
    "# print(tday.day)\n",
    "# Monday 0 Sunday 6\n",
    "# print(tday.weekday())\n",
    "\n",
    "# Monday 1 Sunday 7\n",
    "# print(tday.isoweekday())\n",
    "\n",
    "\n",
    "\n",
    "# tdelta = datetime.timedelta(days = 7 \n",
    "#                             )\n",
    "# \n",
    "# \n",
    "# print(tday - tdelta)\n",
    "# date2 = date1 + timedelta\n",
    "# timedelta = date1+ date2\n",
    "\n",
    "# bday = datetime.date(2024,6,4)\n",
    "\n",
    "\n",
    "# till_bday  = bday - tday\n",
    "\n",
    "# print(till_bday.total_seconds())\n",
    "\n",
    "# t = datetime.time(9, 30, 45 , 10000)\n",
    "# print(t.hour)\n",
    "\n",
    "\n",
    "# dt = datetime.datetime(2016,7,26,12,30,45,100000)\n",
    "# \n",
    "# print(dt.year)\n",
    "# \n",
    "# tdelta = datetime.timedelta(hours= 11245)\n",
    "# \n",
    "# print(dt + tdelta)\n",
    "\n",
    "\n",
    "dt_today = datetime.datetime.today()\n",
    "dt_now = datetime.datetime.now()\n",
    "dt_utcnow = datetime.datetime.now(datetime.UTC)\n",
    "\n",
    "\n",
    "print(dt_today)\n",
    "print(dt_now)\n",
    "print(dt_utcnow)"
   ],
   "metadata": {
    "collapsed": false,
    "ExecuteTime": {
     "end_time": "2024-05-19T15:59:23.822834Z",
     "start_time": "2024-05-19T15:59:23.817086Z"
    }
   },
   "id": "f29a15c052b069cd",
   "execution_count": 5
  },
  {
   "cell_type": "code",
   "outputs": [
    {
     "data": {
      "text/plain": "(datetime.datetime(2024, 4, 21, 12, 30, 45, tzinfo=<UTC>),\n datetime.datetime(2024, 5, 19, 15, 59, 23, 826847, tzinfo=<UTC>),\n datetime.datetime(2024, 5, 19, 15, 59, 23, 826847, tzinfo=<UTC>))"
     },
     "execution_count": 6,
     "metadata": {},
     "output_type": "execute_result"
    }
   ],
   "source": [
    "import pytz\n",
    "\n",
    "dt = datetime.datetime(2024, 4, 21 , 12 , 30  , 45 , tzinfo=pytz.UTC)\n",
    "\n",
    "\n",
    "dt_now = datetime.datetime.now(tz = pytz.UTC)\n",
    "\n",
    "dt_utcnow = datetime.datetime.now(datetime.UTC).replace(tzinfo=pytz.UTC)\n",
    "\n",
    "\n",
    "dt, dt_now, dt_utcnow"
   ],
   "metadata": {
    "collapsed": false,
    "ExecuteTime": {
     "end_time": "2024-05-19T15:59:23.830855Z",
     "start_time": "2024-05-19T15:59:23.823846Z"
    }
   },
   "id": "9112e76173547300",
   "execution_count": 6
  },
  {
   "cell_type": "code",
   "outputs": [
    {
     "name": "stdout",
     "output_type": "stream",
     "text": [
      "2024-05-19 15:59:23.833865+00:00\n",
      "2024-05-19 17:59:23.833865+02:00\n"
     ]
    }
   ],
   "source": [
    "dt_utcnow = datetime.datetime.now(tz = pytz.UTC)\n",
    "\n",
    "print(dt_utcnow)\n",
    "# print(pytz.all_timezones)\n",
    "dt_mtn = dt_utcnow.astimezone(pytz.timezone('Europe/Warsaw'))\n",
    "\n",
    "print(dt_mtn)"
   ],
   "metadata": {
    "collapsed": false,
    "ExecuteTime": {
     "end_time": "2024-05-19T15:59:24.019461Z",
     "start_time": "2024-05-19T15:59:23.831864Z"
    }
   },
   "id": "c9106d9132a77ec1",
   "execution_count": 7
  },
  {
   "cell_type": "code",
   "outputs": [
    {
     "name": "stdout",
     "output_type": "stream",
     "text": [
      "Europe/Amsterdam\n",
      "Europe/Andorra\n",
      "Europe/Astrakhan\n",
      "Europe/Athens\n",
      "Europe/Belfast\n",
      "Europe/Belgrade\n",
      "Europe/Berlin\n",
      "Europe/Bratislava\n",
      "Europe/Brussels\n",
      "Europe/Bucharest\n",
      "Europe/Budapest\n",
      "Europe/Busingen\n",
      "Europe/Chisinau\n",
      "Europe/Copenhagen\n",
      "Europe/Dublin\n",
      "Europe/Gibraltar\n",
      "Europe/Guernsey\n",
      "Europe/Helsinki\n",
      "Europe/Isle_of_Man\n",
      "Europe/Istanbul\n",
      "Europe/Jersey\n",
      "Europe/Kaliningrad\n",
      "Europe/Kiev\n",
      "Europe/Kirov\n",
      "Europe/Kyiv\n",
      "Europe/Lisbon\n",
      "Europe/Ljubljana\n",
      "Europe/London\n",
      "Europe/Luxembourg\n",
      "Europe/Madrid\n",
      "Europe/Malta\n",
      "Europe/Mariehamn\n",
      "Europe/Minsk\n",
      "Europe/Monaco\n",
      "Europe/Moscow\n",
      "Europe/Nicosia\n",
      "Europe/Oslo\n",
      "Europe/Paris\n",
      "Europe/Podgorica\n",
      "Europe/Prague\n",
      "Europe/Riga\n",
      "Europe/Rome\n",
      "Europe/Samara\n",
      "Europe/San_Marino\n",
      "Europe/Sarajevo\n",
      "Europe/Saratov\n",
      "Europe/Simferopol\n",
      "Europe/Skopje\n",
      "Europe/Sofia\n",
      "Europe/Stockholm\n",
      "Europe/Tallinn\n",
      "Europe/Tirane\n",
      "Europe/Tiraspol\n",
      "Europe/Ulyanovsk\n",
      "Europe/Uzhgorod\n",
      "Europe/Vaduz\n",
      "Europe/Vatican\n",
      "Europe/Vienna\n",
      "Europe/Vilnius\n",
      "Europe/Volgograd\n",
      "Europe/Warsaw\n",
      "Europe/Zagreb\n",
      "Europe/Zaporozhye\n",
      "Europe/Zurich\n"
     ]
    }
   ],
   "source": [
    "for tz in pytz.all_timezones:\n",
    "    if str(tz).lower().startswith('europe'):\n",
    "        \n",
    "        print(tz)"
   ],
   "metadata": {
    "collapsed": false,
    "ExecuteTime": {
     "end_time": "2024-05-19T15:59:24.025759Z",
     "start_time": "2024-05-19T15:59:24.021048Z"
    }
   },
   "id": "416527dc3c6e0963",
   "execution_count": 8
  },
  {
   "cell_type": "code",
   "outputs": [
    {
     "name": "stdout",
     "output_type": "stream",
     "text": [
      "2024-05-19 17:59:24.031415 2024-05-19 17:59:24.031415+02:00\n",
      "2024-05-19 17:59:24.031415+02:00\n"
     ]
    }
   ],
   "source": [
    "dt_mtn = datetime.datetime.now()\n",
    "dt_east = dt_mtn.astimezone(pytz.timezone('Europe/Warsaw'))\n",
    "\n",
    "print(dt_mtn, dt_east)\n",
    "\n",
    "\n",
    "dt_mtn  = pytz.timezone('Europe/Warsaw').localize(dt_mtn)\n",
    "print(dt_mtn)"
   ],
   "metadata": {
    "collapsed": false,
    "ExecuteTime": {
     "end_time": "2024-05-19T15:59:24.034184Z",
     "start_time": "2024-05-19T15:59:24.026804Z"
    }
   },
   "id": "f1a20bf16c367e71",
   "execution_count": 9
  },
  {
   "cell_type": "code",
   "outputs": [
    {
     "data": {
      "text/plain": "datetime.datetime(2024, 5, 17, 0, 0)"
     },
     "execution_count": 10,
     "metadata": {},
     "output_type": "execute_result"
    }
   ],
   "source": [
    "dt_mtn = datetime.datetime.now(tz = pytz.timezone('Europe/Warsaw'))\n",
    "\n",
    "dt_mtn.strftime('%B %d, %Y')\n",
    "\n",
    "\n",
    "dt_str  = 'May 17, 2024' \n",
    "dt =  datetime.datetime.strptime(dt_str , '%B %d, %Y')\n",
    "\n",
    "dt"
   ],
   "metadata": {
    "collapsed": false,
    "ExecuteTime": {
     "end_time": "2024-05-19T15:59:24.042253Z",
     "start_time": "2024-05-19T15:59:24.035225Z"
    }
   },
   "id": "d2d050d3c46842a",
   "execution_count": 10
  },
  {
   "cell_type": "code",
   "outputs": [
    {
     "name": "stdout",
     "output_type": "stream",
     "text": [
      "\n",
      "Loaded Daily Temperature Data:\n",
      "            Temp\n",
      "Date            \n",
      "1981-01-01  20.7\n",
      "1981-01-02  17.9\n",
      "1981-01-03  18.8\n",
      "1981-01-04  14.6\n",
      "1981-01-05  15.8\n"
     ]
    }
   ],
   "source": [
    "\n",
    "\n",
    "# Example: Loading Time Series Data\n",
    "data = pd.read_csv('daily_min_temperatures.csv', parse_dates=['Date'], index_col='Date')\n",
    "print(\"\\nLoaded Daily Temperature Data:\")\n",
    "print(data.head())"
   ],
   "metadata": {
    "collapsed": false,
    "ExecuteTime": {
     "end_time": "2024-05-19T15:59:24.059683Z",
     "start_time": "2024-05-19T15:59:24.043300Z"
    }
   },
   "id": "1aef1f610ab9163b",
   "execution_count": 11
  },
  {
   "cell_type": "code",
   "outputs": [
    {
     "name": "stdout",
     "output_type": "stream",
     "text": [
      "\n",
      "Converted Date String to Datetime Object: 2022-05-20 00:00:00\n",
      "Converted List of Date Strings to Datetime Objects: DatetimeIndex(['2022-05-20', '2022-05-21', '2022-05-22'], dtype='datetime64[ns]', freq=None)\n"
     ]
    },
    {
     "data": {
      "text/plain": "0   2025-06-05\n1   2069-01-10\n2          NaT\ndtype: datetime64[ns]"
     },
     "execution_count": 12,
     "metadata": {},
     "output_type": "execute_result"
    }
   ],
   "source": [
    "\n",
    "\n",
    "\n",
    "# Example: Converting to Timestamps with Various Formats\n",
    "date_string = '2022-05-20'\n",
    "date_as_datetime = pd.to_datetime(date_string)\n",
    "date_strings = ['2022-05-20', '2022-05-21', '2022-05-22']\n",
    "dates_as_datetime = pd.to_datetime(date_strings)\n",
    "\n",
    "print(\"\\nConverted Date String to Datetime Object:\", date_as_datetime)\n",
    "print(\"Converted List of Date Strings to Datetime Objects:\", dates_as_datetime)\n",
    "\n",
    "pd.to_datetime(pd.Series([\"Jun 5, 2025\", \"Jan 10, 2069\", None]))"
   ],
   "metadata": {
    "collapsed": false,
    "ExecuteTime": {
     "end_time": "2024-05-19T15:59:24.069726Z",
     "start_time": "2024-05-19T15:59:24.060210Z"
    }
   },
   "id": "3b624032c90d55e1",
   "execution_count": 12
  },
  {
   "cell_type": "code",
   "outputs": [
    {
     "data": {
      "text/plain": "           Close/Last    Volume      Open      High        Low\nDate                                                          \n2024-05-16    $189.84  52845230   $190.47  $191.095  $189.6601\n2024-05-15    $189.72  70399990   $187.91   $190.65    $187.37\n2024-05-14    $187.43  52393620   $187.51   $188.30    $186.29\n2024-05-13    $186.28  72044810  $185.435   $187.10    $184.62\n2024-05-10    $183.05  50759500   $184.90   $185.09    $182.13",
      "text/html": "<div>\n<style scoped>\n    .dataframe tbody tr th:only-of-type {\n        vertical-align: middle;\n    }\n\n    .dataframe tbody tr th {\n        vertical-align: top;\n    }\n\n    .dataframe thead th {\n        text-align: right;\n    }\n</style>\n<table border=\"1\" class=\"dataframe\">\n  <thead>\n    <tr style=\"text-align: right;\">\n      <th></th>\n      <th>Close/Last</th>\n      <th>Volume</th>\n      <th>Open</th>\n      <th>High</th>\n      <th>Low</th>\n    </tr>\n    <tr>\n      <th>Date</th>\n      <th></th>\n      <th></th>\n      <th></th>\n      <th></th>\n      <th></th>\n    </tr>\n  </thead>\n  <tbody>\n    <tr>\n      <th>2024-05-16</th>\n      <td>$189.84</td>\n      <td>52845230</td>\n      <td>$190.47</td>\n      <td>$191.095</td>\n      <td>$189.6601</td>\n    </tr>\n    <tr>\n      <th>2024-05-15</th>\n      <td>$189.72</td>\n      <td>70399990</td>\n      <td>$187.91</td>\n      <td>$190.65</td>\n      <td>$187.37</td>\n    </tr>\n    <tr>\n      <th>2024-05-14</th>\n      <td>$187.43</td>\n      <td>52393620</td>\n      <td>$187.51</td>\n      <td>$188.30</td>\n      <td>$186.29</td>\n    </tr>\n    <tr>\n      <th>2024-05-13</th>\n      <td>$186.28</td>\n      <td>72044810</td>\n      <td>$185.435</td>\n      <td>$187.10</td>\n      <td>$184.62</td>\n    </tr>\n    <tr>\n      <th>2024-05-10</th>\n      <td>$183.05</td>\n      <td>50759500</td>\n      <td>$184.90</td>\n      <td>$185.09</td>\n      <td>$182.13</td>\n    </tr>\n  </tbody>\n</table>\n</div>"
     },
     "execution_count": 13,
     "metadata": {},
     "output_type": "execute_result"
    }
   ],
   "source": [
    "apple_prices_df = pd.read_csv('./apple_historical_data.csv' , parse_dates=['Date'] , index_col='Date')\n",
    "\n",
    "\n",
    "apple_prices_df.head()"
   ],
   "metadata": {
    "collapsed": false,
    "ExecuteTime": {
     "end_time": "2024-05-19T15:59:24.084164Z",
     "start_time": "2024-05-19T15:59:24.071272Z"
    }
   },
   "id": "1bf7b4ee4feff573",
   "execution_count": 13
  },
  {
   "cell_type": "code",
   "outputs": [],
   "source": [
    "apple_prices_df['Close/Last_float'] = apple_prices_df['Close/Last'].apply(lambda row: float(row.split('$')[1]) )\n",
    "\n",
    "apple_prices_df['Open_float'] = apple_prices_df['Open'].apply(lambda row: float(row.split('$')[1]))"
   ],
   "metadata": {
    "collapsed": false,
    "ExecuteTime": {
     "end_time": "2024-05-19T15:59:24.091794Z",
     "start_time": "2024-05-19T15:59:24.085094Z"
    }
   },
   "id": "4038c847913a3fcd",
   "execution_count": 14
  },
  {
   "cell_type": "code",
   "outputs": [],
   "source": [
    "apple_prices_df['avg_day_price'] = (apple_prices_df['Close/Last_float'] + apple_prices_df['Open_float']) / 2"
   ],
   "metadata": {
    "collapsed": false,
    "ExecuteTime": {
     "end_time": "2024-05-19T15:59:24.096998Z",
     "start_time": "2024-05-19T15:59:24.092801Z"
    }
   },
   "id": "bc25c8315a80d0f9",
   "execution_count": 15
  },
  {
   "cell_type": "code",
   "outputs": [
    {
     "data": {
      "text/plain": "           Close/Last    Volume      Open       High        Low  \\\nDate                                                              \n2024-01-31    $184.40  55467800   $187.04   $187.095    $184.35   \n2024-01-30    $188.04  55859370   $190.94    $191.80    $187.47   \n2024-01-29    $191.73  47145620   $192.01    $192.20    $189.58   \n2024-01-26    $192.42  44594010   $194.27    $194.76    $191.94   \n2024-01-25    $194.17  54822130   $195.22  $196.2675  $193.1125   \n2024-01-24    $194.50  53631320   $195.42    $196.38    $194.34   \n2024-01-23    $195.18  42355590   $195.02    $195.75  $193.8299   \n2024-01-22    $193.89  60133850   $192.30    $195.33    $192.26   \n2024-01-19    $191.56  68902990   $189.33    $191.95    $188.82   \n2024-01-18    $188.63  78005750   $186.09    $189.14    $185.83   \n2024-01-17    $182.68  47317430   $181.27    $182.93    $180.30   \n2024-01-16    $183.63  65603040   $182.16    $184.26   $180.934   \n2024-01-12    $185.92  40477780   $186.06    $186.74    $185.19   \n2024-01-11    $185.59  49128410   $186.54    $187.05    $183.62   \n2024-01-10    $186.19  46792910   $184.35    $186.40    $183.92   \n2024-01-09    $185.14  42841810   $183.92    $185.15    $182.73   \n2024-01-08    $185.56  59144470  $182.085    $185.60    $181.50   \n2024-01-05    $181.18  62379660   $181.99    $182.76    $180.17   \n2024-01-04    $181.91  71983570   $182.15  $183.0872    $180.88   \n2024-01-03    $184.25  58414460   $184.22    $185.88    $183.43   \n2024-01-02    $185.64  82488670   $187.15    $188.44   $183.885   \n\n            Close/Last_float  Open_float  avg_day_price  \nDate                                                     \n2024-01-31            184.40     187.040       185.7200  \n2024-01-30            188.04     190.940       189.4900  \n2024-01-29            191.73     192.010       191.8700  \n2024-01-26            192.42     194.270       193.3450  \n2024-01-25            194.17     195.220       194.6950  \n2024-01-24            194.50     195.420       194.9600  \n2024-01-23            195.18     195.020       195.1000  \n2024-01-22            193.89     192.300       193.0950  \n2024-01-19            191.56     189.330       190.4450  \n2024-01-18            188.63     186.090       187.3600  \n2024-01-17            182.68     181.270       181.9750  \n2024-01-16            183.63     182.160       182.8950  \n2024-01-12            185.92     186.060       185.9900  \n2024-01-11            185.59     186.540       186.0650  \n2024-01-10            186.19     184.350       185.2700  \n2024-01-09            185.14     183.920       184.5300  \n2024-01-08            185.56     182.085       183.8225  \n2024-01-05            181.18     181.990       181.5850  \n2024-01-04            181.91     182.150       182.0300  \n2024-01-03            184.25     184.220       184.2350  \n2024-01-02            185.64     187.150       186.3950  ",
      "text/html": "<div>\n<style scoped>\n    .dataframe tbody tr th:only-of-type {\n        vertical-align: middle;\n    }\n\n    .dataframe tbody tr th {\n        vertical-align: top;\n    }\n\n    .dataframe thead th {\n        text-align: right;\n    }\n</style>\n<table border=\"1\" class=\"dataframe\">\n  <thead>\n    <tr style=\"text-align: right;\">\n      <th></th>\n      <th>Close/Last</th>\n      <th>Volume</th>\n      <th>Open</th>\n      <th>High</th>\n      <th>Low</th>\n      <th>Close/Last_float</th>\n      <th>Open_float</th>\n      <th>avg_day_price</th>\n    </tr>\n    <tr>\n      <th>Date</th>\n      <th></th>\n      <th></th>\n      <th></th>\n      <th></th>\n      <th></th>\n      <th></th>\n      <th></th>\n      <th></th>\n    </tr>\n  </thead>\n  <tbody>\n    <tr>\n      <th>2024-01-31</th>\n      <td>$184.40</td>\n      <td>55467800</td>\n      <td>$187.04</td>\n      <td>$187.095</td>\n      <td>$184.35</td>\n      <td>184.40</td>\n      <td>187.040</td>\n      <td>185.7200</td>\n    </tr>\n    <tr>\n      <th>2024-01-30</th>\n      <td>$188.04</td>\n      <td>55859370</td>\n      <td>$190.94</td>\n      <td>$191.80</td>\n      <td>$187.47</td>\n      <td>188.04</td>\n      <td>190.940</td>\n      <td>189.4900</td>\n    </tr>\n    <tr>\n      <th>2024-01-29</th>\n      <td>$191.73</td>\n      <td>47145620</td>\n      <td>$192.01</td>\n      <td>$192.20</td>\n      <td>$189.58</td>\n      <td>191.73</td>\n      <td>192.010</td>\n      <td>191.8700</td>\n    </tr>\n    <tr>\n      <th>2024-01-26</th>\n      <td>$192.42</td>\n      <td>44594010</td>\n      <td>$194.27</td>\n      <td>$194.76</td>\n      <td>$191.94</td>\n      <td>192.42</td>\n      <td>194.270</td>\n      <td>193.3450</td>\n    </tr>\n    <tr>\n      <th>2024-01-25</th>\n      <td>$194.17</td>\n      <td>54822130</td>\n      <td>$195.22</td>\n      <td>$196.2675</td>\n      <td>$193.1125</td>\n      <td>194.17</td>\n      <td>195.220</td>\n      <td>194.6950</td>\n    </tr>\n    <tr>\n      <th>2024-01-24</th>\n      <td>$194.50</td>\n      <td>53631320</td>\n      <td>$195.42</td>\n      <td>$196.38</td>\n      <td>$194.34</td>\n      <td>194.50</td>\n      <td>195.420</td>\n      <td>194.9600</td>\n    </tr>\n    <tr>\n      <th>2024-01-23</th>\n      <td>$195.18</td>\n      <td>42355590</td>\n      <td>$195.02</td>\n      <td>$195.75</td>\n      <td>$193.8299</td>\n      <td>195.18</td>\n      <td>195.020</td>\n      <td>195.1000</td>\n    </tr>\n    <tr>\n      <th>2024-01-22</th>\n      <td>$193.89</td>\n      <td>60133850</td>\n      <td>$192.30</td>\n      <td>$195.33</td>\n      <td>$192.26</td>\n      <td>193.89</td>\n      <td>192.300</td>\n      <td>193.0950</td>\n    </tr>\n    <tr>\n      <th>2024-01-19</th>\n      <td>$191.56</td>\n      <td>68902990</td>\n      <td>$189.33</td>\n      <td>$191.95</td>\n      <td>$188.82</td>\n      <td>191.56</td>\n      <td>189.330</td>\n      <td>190.4450</td>\n    </tr>\n    <tr>\n      <th>2024-01-18</th>\n      <td>$188.63</td>\n      <td>78005750</td>\n      <td>$186.09</td>\n      <td>$189.14</td>\n      <td>$185.83</td>\n      <td>188.63</td>\n      <td>186.090</td>\n      <td>187.3600</td>\n    </tr>\n    <tr>\n      <th>2024-01-17</th>\n      <td>$182.68</td>\n      <td>47317430</td>\n      <td>$181.27</td>\n      <td>$182.93</td>\n      <td>$180.30</td>\n      <td>182.68</td>\n      <td>181.270</td>\n      <td>181.9750</td>\n    </tr>\n    <tr>\n      <th>2024-01-16</th>\n      <td>$183.63</td>\n      <td>65603040</td>\n      <td>$182.16</td>\n      <td>$184.26</td>\n      <td>$180.934</td>\n      <td>183.63</td>\n      <td>182.160</td>\n      <td>182.8950</td>\n    </tr>\n    <tr>\n      <th>2024-01-12</th>\n      <td>$185.92</td>\n      <td>40477780</td>\n      <td>$186.06</td>\n      <td>$186.74</td>\n      <td>$185.19</td>\n      <td>185.92</td>\n      <td>186.060</td>\n      <td>185.9900</td>\n    </tr>\n    <tr>\n      <th>2024-01-11</th>\n      <td>$185.59</td>\n      <td>49128410</td>\n      <td>$186.54</td>\n      <td>$187.05</td>\n      <td>$183.62</td>\n      <td>185.59</td>\n      <td>186.540</td>\n      <td>186.0650</td>\n    </tr>\n    <tr>\n      <th>2024-01-10</th>\n      <td>$186.19</td>\n      <td>46792910</td>\n      <td>$184.35</td>\n      <td>$186.40</td>\n      <td>$183.92</td>\n      <td>186.19</td>\n      <td>184.350</td>\n      <td>185.2700</td>\n    </tr>\n    <tr>\n      <th>2024-01-09</th>\n      <td>$185.14</td>\n      <td>42841810</td>\n      <td>$183.92</td>\n      <td>$185.15</td>\n      <td>$182.73</td>\n      <td>185.14</td>\n      <td>183.920</td>\n      <td>184.5300</td>\n    </tr>\n    <tr>\n      <th>2024-01-08</th>\n      <td>$185.56</td>\n      <td>59144470</td>\n      <td>$182.085</td>\n      <td>$185.60</td>\n      <td>$181.50</td>\n      <td>185.56</td>\n      <td>182.085</td>\n      <td>183.8225</td>\n    </tr>\n    <tr>\n      <th>2024-01-05</th>\n      <td>$181.18</td>\n      <td>62379660</td>\n      <td>$181.99</td>\n      <td>$182.76</td>\n      <td>$180.17</td>\n      <td>181.18</td>\n      <td>181.990</td>\n      <td>181.5850</td>\n    </tr>\n    <tr>\n      <th>2024-01-04</th>\n      <td>$181.91</td>\n      <td>71983570</td>\n      <td>$182.15</td>\n      <td>$183.0872</td>\n      <td>$180.88</td>\n      <td>181.91</td>\n      <td>182.150</td>\n      <td>182.0300</td>\n    </tr>\n    <tr>\n      <th>2024-01-03</th>\n      <td>$184.25</td>\n      <td>58414460</td>\n      <td>$184.22</td>\n      <td>$185.88</td>\n      <td>$183.43</td>\n      <td>184.25</td>\n      <td>184.220</td>\n      <td>184.2350</td>\n    </tr>\n    <tr>\n      <th>2024-01-02</th>\n      <td>$185.64</td>\n      <td>82488670</td>\n      <td>$187.15</td>\n      <td>$188.44</td>\n      <td>$183.885</td>\n      <td>185.64</td>\n      <td>187.150</td>\n      <td>186.3950</td>\n    </tr>\n  </tbody>\n</table>\n</div>"
     },
     "execution_count": 16,
     "metadata": {},
     "output_type": "execute_result"
    }
   ],
   "source": [
    "apple_prices_df.loc['2024-01']"
   ],
   "metadata": {
    "collapsed": false,
    "ExecuteTime": {
     "end_time": "2024-05-19T15:59:24.110572Z",
     "start_time": "2024-05-19T15:59:24.098008Z"
    }
   },
   "id": "228a15e69e87ef96",
   "execution_count": 16
  },
  {
   "cell_type": "code",
   "outputs": [
    {
     "data": {
      "text/plain": "187.66059523809523"
     },
     "execution_count": 17,
     "metadata": {},
     "output_type": "execute_result"
    }
   ],
   "source": [
    "apple_prices_df.loc['2024-01' , \n",
    "'avg_day_price'].mean()"
   ],
   "metadata": {
    "collapsed": false,
    "ExecuteTime": {
     "end_time": "2024-05-19T15:59:24.117982Z",
     "start_time": "2024-05-19T15:59:24.111580Z"
    }
   },
   "id": "f8c631c59cf314e6",
   "execution_count": 17
  },
  {
   "cell_type": "code",
   "outputs": [
    {
     "data": {
      "text/plain": "<Axes: xlabel='Date'>"
     },
     "execution_count": 18,
     "metadata": {},
     "output_type": "execute_result"
    },
    {
     "data": {
      "text/plain": "<Figure size 1000x600 with 1 Axes>",
      "image/png": "[encoded data removed]"
     },
     "metadata": {},
     "output_type": "display_data"
    }
   ],
   "source": [
    "apple_prices_df.avg_day_price.resample('QE').mean().plot()"
   ],
   "metadata": {
    "collapsed": false,
    "ExecuteTime": {
     "end_time": "2024-05-19T15:59:24.279320Z",
     "start_time": "2024-05-19T15:59:24.119007Z"
    }
   },
   "id": "93f047db6a3c46b7",
   "execution_count": 18
  },
  {
   "cell_type": "code",
   "outputs": [],
   "source": [],
   "metadata": {
    "collapsed": false,
    "ExecuteTime": {
     "end_time": "2024-05-19T15:59:24.283285Z",
     "start_time": "2024-05-19T15:59:24.280941Z"
    }
   },
   "id": "7152037b5abdaffc",
   "execution_count": 18
  },
  {
   "cell_type": "code",
   "outputs": [],
   "source": [],
   "metadata": {
    "collapsed": false,
    "ExecuteTime": {
     "end_time": "2024-05-19T15:59:24.286932Z",
     "start_time": "2024-05-19T15:59:24.284340Z"
    }
   },
   "id": "79d54e2d8a53e916",
   "execution_count": 18
  },
  {
   "cell_type": "code",
   "outputs": [
    {
     "name": "stdout",
     "output_type": "stream",
     "text": [
      "\n",
      "DatetimeIndex with Quarterly Intervals:\n",
      "2022-01-01    0\n",
      "2022-04-01    1\n",
      "2022-07-01    2\n",
      "2022-10-01    3\n",
      "dtype: int64\n"
     ]
    }
   ],
   "source": [
    "# Example: DatetimeIndex with Non-Standard Intervals\n",
    "date_strings = ['2022-1-1', '2022-4-1', '2022-7-1', '2022-10-1']\n",
    "drng = pd.to_datetime(date_strings)\n",
    "ts = pd.Series(range(len(drng)), index=drng)\n",
    "print(\"\\nDatetimeIndex with Quarterly Intervals:\")\n",
    "print(ts)\n"
   ],
   "metadata": {
    "collapsed": false,
    "ExecuteTime": {
     "end_time": "2024-05-19T15:59:24.294218Z",
     "start_time": "2024-05-19T15:59:24.287931Z"
    }
   },
   "id": "5bf10e6931c99cdc",
   "execution_count": 19
  },
  {
   "cell_type": "code",
   "outputs": [
    {
     "name": "stdout",
     "output_type": "stream",
     "text": [
      "\n",
      "Generated Index with Weekly Timestamps: DatetimeIndex(['2020-01-01', '2021-01-01', '2022-01-01'], dtype='datetime64[ns]', freq=None)\n",
      "DatetimeIndex(['2022-01-02', '2022-01-09', '2022-01-16', '2022-01-23',\n",
      "               '2022-01-30', '2022-02-06', '2022-02-13', '2022-02-20',\n",
      "               '2022-02-27', '2022-03-06', '2022-03-13', '2022-03-20',\n",
      "               '2022-03-27', '2022-04-03', '2022-04-10', '2022-04-17',\n",
      "               '2022-04-24', '2022-05-01', '2022-05-08', '2022-05-15',\n",
      "               '2022-05-22', '2022-05-29', '2022-06-05', '2022-06-12',\n",
      "               '2022-06-19', '2022-06-26', '2022-07-03', '2022-07-10',\n",
      "               '2022-07-17', '2022-07-24', '2022-07-31', '2022-08-07',\n",
      "               '2022-08-14', '2022-08-21', '2022-08-28', '2022-09-04',\n",
      "               '2022-09-11', '2022-09-18', '2022-09-25', '2022-10-02',\n",
      "               '2022-10-09', '2022-10-16', '2022-10-23', '2022-10-30',\n",
      "               '2022-11-06', '2022-11-13', '2022-11-20', '2022-11-27',\n",
      "               '2022-12-04', '2022-12-11', '2022-12-18', '2022-12-25'],\n",
      "              dtype='datetime64[ns]', freq='W-SUN')\n"
     ]
    }
   ],
   "source": [
    "# Example: Generating Ranges of Timestamps with Different Frequencies\n",
    "from datetime import datetime\n",
    "dates = [datetime(2020, 1, 1), datetime(2021, 1, 1), datetime(2022, 1, 1)]\n",
    "index = pd.DatetimeIndex(dates)\n",
    "start = datetime(2022, 1, 1)\n",
    "end = datetime(2022, 12, 31)\n",
    "index_ = pd.date_range(start, end , freq='W')\n",
    "\n",
    "print(\"\\nGenerated Index with Weekly Timestamps:\", index)\n",
    "print(index_)"
   ],
   "metadata": {
    "collapsed": false,
    "ExecuteTime": {
     "end_time": "2024-05-19T15:59:24.301799Z",
     "start_time": "2024-05-19T15:59:24.295269Z"
    }
   },
   "id": "bc378e283689ccf2",
   "execution_count": 20
  },
  {
   "cell_type": "code",
   "outputs": [
    {
     "data": {
      "text/plain": "           Close/Last    Volume     Open       High        Low\nDate                                                          \n2023-05-17    $172.69  57951600  $171.71   $172.925  $170.4201\n2023-05-18    $175.05  65496660  $173.00    $175.24    $172.58\n2023-05-19    $175.16  55809480  $176.39    $176.39    $174.94\n2023-05-22    $174.20  43570930  $173.98    $174.71    $173.45\n2023-05-23    $171.56  50747260  $173.13  $173.3794   $171.275",
      "text/html": "<div>\n<style scoped>\n    .dataframe tbody tr th:only-of-type {\n        vertical-align: middle;\n    }\n\n    .dataframe tbody tr th {\n        vertical-align: top;\n    }\n\n    .dataframe thead th {\n        text-align: right;\n    }\n</style>\n<table border=\"1\" class=\"dataframe\">\n  <thead>\n    <tr style=\"text-align: right;\">\n      <th></th>\n      <th>Close/Last</th>\n      <th>Volume</th>\n      <th>Open</th>\n      <th>High</th>\n      <th>Low</th>\n    </tr>\n    <tr>\n      <th>Date</th>\n      <th></th>\n      <th></th>\n      <th></th>\n      <th></th>\n      <th></th>\n    </tr>\n  </thead>\n  <tbody>\n    <tr>\n      <th>2023-05-17</th>\n      <td>$172.69</td>\n      <td>57951600</td>\n      <td>$171.71</td>\n      <td>$172.925</td>\n      <td>$170.4201</td>\n    </tr>\n    <tr>\n      <th>2023-05-18</th>\n      <td>$175.05</td>\n      <td>65496660</td>\n      <td>$173.00</td>\n      <td>$175.24</td>\n      <td>$172.58</td>\n    </tr>\n    <tr>\n      <th>2023-05-19</th>\n      <td>$175.16</td>\n      <td>55809480</td>\n      <td>$176.39</td>\n      <td>$176.39</td>\n      <td>$174.94</td>\n    </tr>\n    <tr>\n      <th>2023-05-22</th>\n      <td>$174.20</td>\n      <td>43570930</td>\n      <td>$173.98</td>\n      <td>$174.71</td>\n      <td>$173.45</td>\n    </tr>\n    <tr>\n      <th>2023-05-23</th>\n      <td>$171.56</td>\n      <td>50747260</td>\n      <td>$173.13</td>\n      <td>$173.3794</td>\n      <td>$171.275</td>\n    </tr>\n  </tbody>\n</table>\n</div>"
     },
     "execution_count": 21,
     "metadata": {},
     "output_type": "execute_result"
    }
   ],
   "source": [
    "apple_df = pd.read_csv('apple_historical_data.csv' , parse_dates=['Date'], index_col='Date')\n",
    "apple_df = apple_df.sort_index()\n",
    "\n",
    "apple_df.head()"
   ],
   "metadata": {
    "collapsed": false,
    "ExecuteTime": {
     "end_time": "2024-05-19T15:59:24.314686Z",
     "start_time": "2024-05-19T15:59:24.303748Z"
    }
   },
   "id": "a061edfb8b1e88c",
   "execution_count": 21
  },
  {
   "cell_type": "code",
   "outputs": [],
   "source": [
    "apple_df['Close/Last'] = apple_df['Close/Last'].apply(lambda  x:float(x.split('$')[1]))"
   ],
   "metadata": {
    "collapsed": false,
    "ExecuteTime": {
     "end_time": "2024-05-19T15:59:24.320220Z",
     "start_time": "2024-05-19T15:59:24.315695Z"
    }
   },
   "id": "103f139ad8f1daa0",
   "execution_count": 22
  },
  {
   "cell_type": "code",
   "outputs": [
    {
     "data": {
      "text/plain": "Close/Last    float64\nVolume          int64\nOpen           object\nHigh           object\nLow            object\ndtype: object"
     },
     "execution_count": 23,
     "metadata": {},
     "output_type": "execute_result"
    }
   ],
   "source": [
    "apple_df.dtypes"
   ],
   "metadata": {
    "collapsed": false,
    "ExecuteTime": {
     "end_time": "2024-05-19T15:59:24.327198Z",
     "start_time": "2024-05-19T15:59:24.321233Z"
    }
   },
   "id": "287eee7210e5c2ce",
   "execution_count": 23
  },
  {
   "cell_type": "code",
   "outputs": [
    {
     "data": {
      "text/plain": "<Axes: xlabel='Date'>"
     },
     "execution_count": 24,
     "metadata": {},
     "output_type": "execute_result"
    },
    {
     "data": {
      "text/plain": "<Figure size 1000x600 with 1 Axes>",
      "image/png": "[encoded data removed]"
     },
     "metadata": {},
     "output_type": "display_data"
    }
   ],
   "source": [
    "apple_df.loc['2023-06-17':'2023-06-26' , 'Close/Last'].plot()"
   ],
   "metadata": {
    "collapsed": false,
    "ExecuteTime": {
     "end_time": "2024-05-19T15:59:24.646570Z",
     "start_time": "2024-05-19T15:59:24.331728Z"
    }
   },
   "id": "bf6ec94624c747a6",
   "execution_count": 24
  },
  {
   "cell_type": "code",
   "outputs": [
    {
     "data": {
      "text/plain": "                     Close/Last    Volume     Open      High        Low\nDate                                                                   \n2023-05-17 00:00:00      172.69  57951600  $171.71  $172.925  $170.4201\n2023-05-17 01:00:00      172.69  57951600  $171.71  $172.925  $170.4201\n2023-05-17 02:00:00      172.69  57951600  $171.71  $172.925  $170.4201\n2023-05-17 03:00:00      172.69  57951600  $171.71  $172.925  $170.4201\n2023-05-17 04:00:00      172.69  57951600  $171.71  $172.925  $170.4201\n...                         ...       ...      ...       ...        ...\n2024-05-15 20:00:00      189.72  70399990  $187.91   $190.65    $187.37\n2024-05-15 21:00:00      189.72  70399990  $187.91   $190.65    $187.37\n2024-05-15 22:00:00      189.72  70399990  $187.91   $190.65    $187.37\n2024-05-15 23:00:00      189.72  70399990  $187.91   $190.65    $187.37\n2024-05-16 00:00:00      189.84  52845230  $190.47  $191.095  $189.6601\n\n[8761 rows x 5 columns]",
      "text/html": "<div>\n<style scoped>\n    .dataframe tbody tr th:only-of-type {\n        vertical-align: middle;\n    }\n\n    .dataframe tbody tr th {\n        vertical-align: top;\n    }\n\n    .dataframe thead th {\n        text-align: right;\n    }\n</style>\n<table border=\"1\" class=\"dataframe\">\n  <thead>\n    <tr style=\"text-align: right;\">\n      <th></th>\n      <th>Close/Last</th>\n      <th>Volume</th>\n      <th>Open</th>\n      <th>High</th>\n      <th>Low</th>\n    </tr>\n    <tr>\n      <th>Date</th>\n      <th></th>\n      <th></th>\n      <th></th>\n      <th></th>\n      <th></th>\n    </tr>\n  </thead>\n  <tbody>\n    <tr>\n      <th>2023-05-17 00:00:00</th>\n      <td>172.69</td>\n      <td>57951600</td>\n      <td>$171.71</td>\n      <td>$172.925</td>\n      <td>$170.4201</td>\n    </tr>\n    <tr>\n      <th>2023-05-17 01:00:00</th>\n      <td>172.69</td>\n      <td>57951600</td>\n      <td>$171.71</td>\n      <td>$172.925</td>\n      <td>$170.4201</td>\n    </tr>\n    <tr>\n      <th>2023-05-17 02:00:00</th>\n      <td>172.69</td>\n      <td>57951600</td>\n      <td>$171.71</td>\n      <td>$172.925</td>\n      <td>$170.4201</td>\n    </tr>\n    <tr>\n      <th>2023-05-17 03:00:00</th>\n      <td>172.69</td>\n      <td>57951600</td>\n      <td>$171.71</td>\n      <td>$172.925</td>\n      <td>$170.4201</td>\n    </tr>\n    <tr>\n      <th>2023-05-17 04:00:00</th>\n      <td>172.69</td>\n      <td>57951600</td>\n      <td>$171.71</td>\n      <td>$172.925</td>\n      <td>$170.4201</td>\n    </tr>\n    <tr>\n      <th>...</th>\n      <td>...</td>\n      <td>...</td>\n      <td>...</td>\n      <td>...</td>\n      <td>...</td>\n    </tr>\n    <tr>\n      <th>2024-05-15 20:00:00</th>\n      <td>189.72</td>\n      <td>70399990</td>\n      <td>$187.91</td>\n      <td>$190.65</td>\n      <td>$187.37</td>\n    </tr>\n    <tr>\n      <th>2024-05-15 21:00:00</th>\n      <td>189.72</td>\n      <td>70399990</td>\n      <td>$187.91</td>\n      <td>$190.65</td>\n      <td>$187.37</td>\n    </tr>\n    <tr>\n      <th>2024-05-15 22:00:00</th>\n      <td>189.72</td>\n      <td>70399990</td>\n      <td>$187.91</td>\n      <td>$190.65</td>\n      <td>$187.37</td>\n    </tr>\n    <tr>\n      <th>2024-05-15 23:00:00</th>\n      <td>189.72</td>\n      <td>70399990</td>\n      <td>$187.91</td>\n      <td>$190.65</td>\n      <td>$187.37</td>\n    </tr>\n    <tr>\n      <th>2024-05-16 00:00:00</th>\n      <td>189.84</td>\n      <td>52845230</td>\n      <td>$190.47</td>\n      <td>$191.095</td>\n      <td>$189.6601</td>\n    </tr>\n  </tbody>\n</table>\n<p>8761 rows × 5 columns</p>\n</div>"
     },
     "execution_count": 25,
     "metadata": {},
     "output_type": "execute_result"
    }
   ],
   "source": [
    "apple_df.asfreq('1h' , method='pad')"
   ],
   "metadata": {
    "collapsed": false,
    "ExecuteTime": {
     "end_time": "2024-05-19T15:59:24.658009Z",
     "start_time": "2024-05-19T15:59:24.647578Z"
    }
   },
   "id": "3eeeacd907eb7b68",
   "execution_count": 25
  },
  {
   "cell_type": "code",
   "outputs": [
    {
     "data": {
      "text/plain": "DatetimeIndex(['2017-01-02', '2017-01-03', '2017-01-04', '2017-01-05',\n               '2017-01-06', '2017-01-09', '2017-01-10', '2017-01-11',\n               '2017-01-12', '2017-01-13',\n               ...\n               '2017-12-06', '2017-12-07', '2017-12-08', '2017-12-11',\n               '2017-12-12', '2017-12-13', '2017-12-14', '2017-12-15',\n               '2017-12-18', '2017-12-19'],\n              dtype='datetime64[ns]', length=252, freq='B')"
     },
     "execution_count": 26,
     "metadata": {},
     "output_type": "execute_result"
    }
   ],
   "source": [
    "rng = pd.date_range(start= '1/1/2017', periods=252 , freq='B')\n",
    "\n",
    "rng"
   ],
   "metadata": {
    "collapsed": false,
    "ExecuteTime": {
     "end_time": "2024-05-19T15:59:24.672747Z",
     "start_time": "2024-05-19T15:59:24.659018Z"
    }
   },
   "id": "aa5aa0d536ff66da",
   "execution_count": 26
  },
  {
   "cell_type": "code",
   "outputs": [
    {
     "data": {
      "text/plain": "           Close/Last    Volume      Open       High        Low\n2017-01-02    $189.84  52845230   $190.47   $191.095  $189.6601\n2017-01-03    $189.72  70399990   $187.91    $190.65    $187.37\n2017-01-04    $187.43  52393620   $187.51    $188.30    $186.29\n2017-01-05    $186.28  72044810  $185.435    $187.10    $184.62\n2017-01-06    $183.05  50759500   $184.90    $185.09    $182.13\n...               ...       ...       ...        ...        ...\n2017-12-13    $171.56  50747260   $173.13  $173.3794   $171.275\n2017-12-14    $174.20  43570930   $173.98    $174.71    $173.45\n2017-12-15    $175.16  55809480   $176.39    $176.39    $174.94\n2017-12-18    $175.05  65496660   $173.00    $175.24    $172.58\n2017-12-19    $172.69  57951600   $171.71   $172.925  $170.4201\n\n[252 rows x 5 columns]",
      "text/html": "<div>\n<style scoped>\n    .dataframe tbody tr th:only-of-type {\n        vertical-align: middle;\n    }\n\n    .dataframe tbody tr th {\n        vertical-align: top;\n    }\n\n    .dataframe thead th {\n        text-align: right;\n    }\n</style>\n<table border=\"1\" class=\"dataframe\">\n  <thead>\n    <tr style=\"text-align: right;\">\n      <th></th>\n      <th>Close/Last</th>\n      <th>Volume</th>\n      <th>Open</th>\n      <th>High</th>\n      <th>Low</th>\n    </tr>\n  </thead>\n  <tbody>\n    <tr>\n      <th>2017-01-02</th>\n      <td>$189.84</td>\n      <td>52845230</td>\n      <td>$190.47</td>\n      <td>$191.095</td>\n      <td>$189.6601</td>\n    </tr>\n    <tr>\n      <th>2017-01-03</th>\n      <td>$189.72</td>\n      <td>70399990</td>\n      <td>$187.91</td>\n      <td>$190.65</td>\n      <td>$187.37</td>\n    </tr>\n    <tr>\n      <th>2017-01-04</th>\n      <td>$187.43</td>\n      <td>52393620</td>\n      <td>$187.51</td>\n      <td>$188.30</td>\n      <td>$186.29</td>\n    </tr>\n    <tr>\n      <th>2017-01-05</th>\n      <td>$186.28</td>\n      <td>72044810</td>\n      <td>$185.435</td>\n      <td>$187.10</td>\n      <td>$184.62</td>\n    </tr>\n    <tr>\n      <th>2017-01-06</th>\n      <td>$183.05</td>\n      <td>50759500</td>\n      <td>$184.90</td>\n      <td>$185.09</td>\n      <td>$182.13</td>\n    </tr>\n    <tr>\n      <th>...</th>\n      <td>...</td>\n      <td>...</td>\n      <td>...</td>\n      <td>...</td>\n      <td>...</td>\n    </tr>\n    <tr>\n      <th>2017-12-13</th>\n      <td>$171.56</td>\n      <td>50747260</td>\n      <td>$173.13</td>\n      <td>$173.3794</td>\n      <td>$171.275</td>\n    </tr>\n    <tr>\n      <th>2017-12-14</th>\n      <td>$174.20</td>\n      <td>43570930</td>\n      <td>$173.98</td>\n      <td>$174.71</td>\n      <td>$173.45</td>\n    </tr>\n    <tr>\n      <th>2017-12-15</th>\n      <td>$175.16</td>\n      <td>55809480</td>\n      <td>$176.39</td>\n      <td>$176.39</td>\n      <td>$174.94</td>\n    </tr>\n    <tr>\n      <th>2017-12-18</th>\n      <td>$175.05</td>\n      <td>65496660</td>\n      <td>$173.00</td>\n      <td>$175.24</td>\n      <td>$172.58</td>\n    </tr>\n    <tr>\n      <th>2017-12-19</th>\n      <td>$172.69</td>\n      <td>57951600</td>\n      <td>$171.71</td>\n      <td>$172.925</td>\n      <td>$170.4201</td>\n    </tr>\n  </tbody>\n</table>\n<p>252 rows × 5 columns</p>\n</div>"
     },
     "execution_count": 27,
     "metadata": {},
     "output_type": "execute_result"
    }
   ],
   "source": [
    "pd.read_csv('apple_historical_data.csv').drop(columns=['Date']).set_index(rng)"
   ],
   "metadata": {
    "collapsed": false,
    "ExecuteTime": {
     "end_time": "2024-05-19T15:59:24.687686Z",
     "start_time": "2024-05-19T15:59:24.673756Z"
    }
   },
   "id": "f56168a4adbd9305",
   "execution_count": 27
  },
  {
   "cell_type": "code",
   "outputs": [
    {
     "data": {
      "text/plain": "2017-01-02    9\n2017-01-03    6\n2017-01-04    1\n2017-01-05    3\n2017-01-06    2\n             ..\n2017-12-13    3\n2017-12-14    8\n2017-12-15    6\n2017-12-18    2\n2017-12-19    3\nFreq: B, Length: 252, dtype: int32"
     },
     "execution_count": 28,
     "metadata": {},
     "output_type": "execute_result"
    }
   ],
   "source": [
    "import numpy as np\n",
    "\n",
    "ts = pd.Series(np.random.randint(1,10, len(rng)) , index=  rng)\n",
    "\n",
    "ts"
   ],
   "metadata": {
    "collapsed": false,
    "ExecuteTime": {
     "end_time": "2024-05-19T15:59:24.696215Z",
     "start_time": "2024-05-19T15:59:24.688695Z"
    }
   },
   "id": "2a17ca699c8db1f5",
   "execution_count": 28
  },
  {
   "cell_type": "code",
   "outputs": [
    {
     "name": "stdout",
     "output_type": "stream",
     "text": [
      "\n",
      "Period Arithmetic with Monthly Frequency:\n",
      "2022-02\n",
      "2021-12\n",
      "Generated Monthly Period Range: PeriodIndex(['2022-01', '2022-02', '2022-03', '2022-04', '2022-05', '2022-06',\n",
      "             '2022-07', '2022-08', '2022-09', '2022-10', '2022-11', '2022-12',\n",
      "             '2023-01'],\n",
      "            dtype='period[M]')\n",
      "Series with Monthly PeriodIndex:\n",
      "2022-01   -1.945343\n",
      "2022-02    1.194625\n",
      "2022-03    0.698935\n",
      "2022-04    1.834465\n",
      "2022-05    2.540276\n",
      "2022-06    0.264035\n",
      "2022-07    0.240740\n",
      "2022-08   -0.101228\n",
      "2022-09    1.202731\n",
      "2022-10   -0.544397\n",
      "2022-11    1.682294\n",
      "2022-12    0.144011\n",
      "2023-01   -1.957105\n",
      "Freq: M, dtype: float64\n"
     ]
    }
   ],
   "source": [
    "\n",
    "# Example: Time Span Representation with Different Frequencies\n",
    "p = pd.Period(\"2022-01\", freq=\"M\")\n",
    "prng = pd.period_range(\"2022\", \"2023\", freq=\"M\")\n",
    "ps = pd.Series(np.random.randn(len(prng)), prng)\n",
    "\n",
    "print(\"\\nPeriod Arithmetic with Monthly Frequency:\")\n",
    "print(p + 1)\n",
    "print(p - 1)\n",
    "print(\"Generated Monthly Period Range:\", prng)\n",
    "print(\"Series with Monthly PeriodIndex:\")\n",
    "print(ps)"
   ],
   "metadata": {
    "collapsed": false,
    "ExecuteTime": {
     "end_time": "2024-05-19T15:59:24.703388Z",
     "start_time": "2024-05-19T15:59:24.696722Z"
    }
   },
   "id": "60763ec50eabdf89",
   "execution_count": 29
  },
  {
   "cell_type": "code",
   "outputs": [
    {
     "data": {
      "text/plain": "Period('2016', 'Y-DEC')"
     },
     "execution_count": 30,
     "metadata": {},
     "output_type": "execute_result"
    }
   ],
   "source": [
    "y = pd.Period('2016')\n",
    "\n",
    "y"
   ],
   "metadata": {
    "collapsed": false,
    "ExecuteTime": {
     "end_time": "2024-05-19T15:59:24.711376Z",
     "start_time": "2024-05-19T15:59:24.705397Z"
    }
   },
   "id": "339a4a03a48e636",
   "execution_count": 30
  },
  {
   "cell_type": "code",
   "outputs": [
    {
     "data": {
      "text/plain": "Timestamp('2016-01-01 00:00:00')"
     },
     "execution_count": 31,
     "metadata": {},
     "output_type": "execute_result"
    }
   ],
   "source": [
    "y.start_time"
   ],
   "metadata": {
    "collapsed": false,
    "ExecuteTime": {
     "end_time": "2024-05-19T15:59:24.717929Z",
     "start_time": "2024-05-19T15:59:24.712385Z"
    }
   },
   "id": "4b75ea5feafc677",
   "execution_count": 31
  },
  {
   "cell_type": "code",
   "outputs": [
    {
     "data": {
      "text/plain": "Timestamp('2016-12-31 23:59:59.999999999')"
     },
     "execution_count": 32,
     "metadata": {},
     "output_type": "execute_result"
    }
   ],
   "source": [
    "y.end_time"
   ],
   "metadata": {
    "collapsed": false,
    "ExecuteTime": {
     "end_time": "2024-05-19T15:59:24.725065Z",
     "start_time": "2024-05-19T15:59:24.718940Z"
    }
   },
   "id": "bf71dfa69d29510b",
   "execution_count": 32
  },
  {
   "cell_type": "code",
   "outputs": [
    {
     "data": {
      "text/plain": "Period('2011-01', 'M')"
     },
     "execution_count": 33,
     "metadata": {},
     "output_type": "execute_result"
    }
   ],
   "source": [
    "m = pd.Period('2011-1' , freq='M')\n",
    "m"
   ],
   "metadata": {
    "collapsed": false,
    "ExecuteTime": {
     "end_time": "2024-05-19T15:59:24.732105Z",
     "start_time": "2024-05-19T15:59:24.726073Z"
    }
   },
   "id": "839cf315a76246dd",
   "execution_count": 33
  },
  {
   "cell_type": "code",
   "outputs": [
    {
     "data": {
      "text/plain": "Timestamp('2011-01-01 00:00:00')"
     },
     "execution_count": 34,
     "metadata": {},
     "output_type": "execute_result"
    }
   ],
   "source": [
    "m.start_time"
   ],
   "metadata": {
    "collapsed": false,
    "ExecuteTime": {
     "end_time": "2024-05-19T15:59:24.738786Z",
     "start_time": "2024-05-19T15:59:24.733111Z"
    }
   },
   "id": "da76c5dfadcbcbb6",
   "execution_count": 34
  },
  {
   "cell_type": "code",
   "outputs": [
    {
     "data": {
      "text/plain": "Timestamp('2011-01-31 23:59:59.999999999')"
     },
     "execution_count": 35,
     "metadata": {},
     "output_type": "execute_result"
    }
   ],
   "source": [
    "m.end_time"
   ],
   "metadata": {
    "collapsed": false,
    "ExecuteTime": {
     "end_time": "2024-05-19T15:59:24.745862Z",
     "start_time": "2024-05-19T15:59:24.738786Z"
    }
   },
   "id": "54b4269e22aeb9a0",
   "execution_count": 35
  },
  {
   "cell_type": "code",
   "outputs": [
    {
     "data": {
      "text/plain": "Period('2011-02', 'M')"
     },
     "execution_count": 36,
     "metadata": {},
     "output_type": "execute_result"
    }
   ],
   "source": [
    "m+1"
   ],
   "metadata": {
    "collapsed": false,
    "ExecuteTime": {
     "end_time": "2024-05-19T15:59:24.752876Z",
     "start_time": "2024-05-19T15:59:24.746872Z"
    }
   },
   "id": "7370ad3794b24d85",
   "execution_count": 36
  },
  {
   "cell_type": "code",
   "outputs": [
    {
     "data": {
      "text/plain": "Period('2016-01-01 23:00', 'h')"
     },
     "execution_count": 37,
     "metadata": {},
     "output_type": "execute_result"
    }
   ],
   "source": [
    "d = pd.Period('2016-01-01 23:00:00' , freq='h')\n",
    "d"
   ],
   "metadata": {
    "collapsed": false,
    "ExecuteTime": {
     "end_time": "2024-05-19T15:59:24.760180Z",
     "start_time": "2024-05-19T15:59:24.754180Z"
    }
   },
   "id": "f01f1f8a6ca04ae7",
   "execution_count": 37
  },
  {
   "cell_type": "code",
   "outputs": [
    {
     "data": {
      "text/plain": "Period('2016-01-02 01:00', 'h')"
     },
     "execution_count": 38,
     "metadata": {},
     "output_type": "execute_result"
    }
   ],
   "source": [
    "d+2"
   ],
   "metadata": {
    "collapsed": false,
    "ExecuteTime": {
     "end_time": "2024-05-19T15:59:24.769537Z",
     "start_time": "2024-05-19T15:59:24.763258Z"
    }
   },
   "id": "eb52462322a0b42d",
   "execution_count": 38
  },
  {
   "cell_type": "code",
   "outputs": [
    {
     "data": {
      "text/plain": "Timestamp('2016-01-01 23:00:00')"
     },
     "execution_count": 39,
     "metadata": {},
     "output_type": "execute_result"
    }
   ],
   "source": [
    "d.start_time"
   ],
   "metadata": {
    "collapsed": false,
    "ExecuteTime": {
     "end_time": "2024-05-19T15:59:24.776416Z",
     "start_time": "2024-05-19T15:59:24.771050Z"
    }
   },
   "id": "4eb39127686133d",
   "execution_count": 39
  },
  {
   "cell_type": "code",
   "outputs": [
    {
     "data": {
      "text/plain": "Timestamp('2016-01-01 23:59:59.999999999')"
     },
     "execution_count": 40,
     "metadata": {},
     "output_type": "execute_result"
    }
   ],
   "source": [
    "d.end_time"
   ],
   "metadata": {
    "collapsed": false,
    "ExecuteTime": {
     "end_time": "2024-05-19T15:59:24.782850Z",
     "start_time": "2024-05-19T15:59:24.777424Z"
    }
   },
   "id": "1b0d57ac57d4dd3c",
   "execution_count": 40
  },
  {
   "cell_type": "code",
   "outputs": [
    {
     "data": {
      "text/plain": "Period('2016-01-02 14:00', 'h')"
     },
     "execution_count": 41,
     "metadata": {},
     "output_type": "execute_result"
    }
   ],
   "source": [
    "d + pd.offsets.Hour(15)"
   ],
   "metadata": {
    "collapsed": false,
    "ExecuteTime": {
     "end_time": "2024-05-19T15:59:24.789168Z",
     "start_time": "2024-05-19T15:59:24.783859Z"
    }
   },
   "id": "7cec8dd3fa3e684f",
   "execution_count": 41
  },
  {
   "cell_type": "code",
   "outputs": [
    {
     "data": {
      "text/plain": "Period('2017Q2', 'Q-DEC')"
     },
     "execution_count": 42,
     "metadata": {},
     "output_type": "execute_result"
    }
   ],
   "source": [
    "q = pd.Period('2017Q1')\n",
    "\n",
    "q +1"
   ],
   "metadata": {
    "collapsed": false,
    "ExecuteTime": {
     "end_time": "2024-05-19T15:59:24.796830Z",
     "start_time": "2024-05-19T15:59:24.790178Z"
    }
   },
   "id": "ed28f1fbdab38ac5",
   "execution_count": 42
  },
  {
   "cell_type": "code",
   "outputs": [
    {
     "data": {
      "text/plain": "Timestamp('2017-01-01 00:00:00')"
     },
     "execution_count": 43,
     "metadata": {},
     "output_type": "execute_result"
    }
   ],
   "source": [
    "q.start_time"
   ],
   "metadata": {
    "collapsed": false,
    "ExecuteTime": {
     "end_time": "2024-05-19T15:59:24.803354Z",
     "start_time": "2024-05-19T15:59:24.797848Z"
    }
   },
   "id": "57244673d034cfc",
   "execution_count": 43
  },
  {
   "cell_type": "code",
   "outputs": [
    {
     "data": {
      "text/plain": "Timestamp('2017-03-31 23:59:59.999999999')"
     },
     "execution_count": 44,
     "metadata": {},
     "output_type": "execute_result"
    }
   ],
   "source": [
    "q.end_time"
   ],
   "metadata": {
    "collapsed": false,
    "ExecuteTime": {
     "end_time": "2024-05-19T15:59:24.810408Z",
     "start_time": "2024-05-19T15:59:24.804365Z"
    }
   },
   "id": "3b67ae96bf225213",
   "execution_count": 44
  },
  {
   "cell_type": "code",
   "outputs": [],
   "source": [
    "q_ = pd.Period('2017Q1' , freq='Q-JAN')\n",
    "\n"
   ],
   "metadata": {
    "collapsed": false,
    "ExecuteTime": {
     "end_time": "2024-05-19T15:59:24.816273Z",
     "start_time": "2024-05-19T15:59:24.811419Z"
    }
   },
   "id": "72d29933a36617bf",
   "execution_count": 45
  },
  {
   "cell_type": "code",
   "outputs": [
    {
     "data": {
      "text/plain": "Period('2017Q1', 'Q-JAN')"
     },
     "execution_count": 46,
     "metadata": {},
     "output_type": "execute_result"
    }
   ],
   "source": [
    "q_"
   ],
   "metadata": {
    "collapsed": false,
    "ExecuteTime": {
     "end_time": "2024-05-19T15:59:24.822523Z",
     "start_time": "2024-05-19T15:59:24.817282Z"
    }
   },
   "id": "d0965f6a7f24286c",
   "execution_count": 46
  },
  {
   "cell_type": "code",
   "outputs": [
    {
     "data": {
      "text/plain": "Timestamp('2016-02-01 00:00:00')"
     },
     "execution_count": 47,
     "metadata": {},
     "output_type": "execute_result"
    }
   ],
   "source": [
    "q_.start_time"
   ],
   "metadata": {
    "collapsed": false,
    "ExecuteTime": {
     "end_time": "2024-05-19T15:59:24.830634Z",
     "start_time": "2024-05-19T15:59:24.823533Z"
    }
   },
   "id": "c20ebb272085c635",
   "execution_count": 47
  },
  {
   "cell_type": "code",
   "outputs": [
    {
     "data": {
      "text/plain": "Timestamp('2016-04-30 23:59:59.999999999')"
     },
     "execution_count": 48,
     "metadata": {},
     "output_type": "execute_result"
    }
   ],
   "source": [
    "q_.end_time"
   ],
   "metadata": {
    "collapsed": false,
    "ExecuteTime": {
     "end_time": "2024-05-19T15:59:24.838115Z",
     "start_time": "2024-05-19T15:59:24.832575Z"
    }
   },
   "id": "fda646969ac34f14",
   "execution_count": 48
  },
  {
   "cell_type": "code",
   "outputs": [
    {
     "data": {
      "text/plain": "Period('2017-03', 'M')"
     },
     "execution_count": 49,
     "metadata": {},
     "output_type": "execute_result"
    }
   ],
   "source": [
    "q.asfreq('M', how='end')\n"
   ],
   "metadata": {
    "collapsed": false,
    "ExecuteTime": {
     "end_time": "2024-05-19T15:59:24.846873Z",
     "start_time": "2024-05-19T15:59:24.840126Z"
    }
   },
   "id": "717f5baa91c4ece7",
   "execution_count": 49
  },
  {
   "cell_type": "code",
   "outputs": [],
   "source": [
    "q2 = pd.Period('2018Q2' , freq='Q-JAN')"
   ],
   "metadata": {
    "collapsed": false,
    "ExecuteTime": {
     "end_time": "2024-05-19T15:59:24.852971Z",
     "start_time": "2024-05-19T15:59:24.848880Z"
    }
   },
   "id": "bcc31eb0b48e872",
   "execution_count": 50
  },
  {
   "cell_type": "code",
   "outputs": [
    {
     "data": {
      "text/plain": "<5 * QuarterEnds: startingMonth=1>"
     },
     "execution_count": 51,
     "metadata": {},
     "output_type": "execute_result"
    }
   ],
   "source": [
    "q2-q_"
   ],
   "metadata": {
    "collapsed": false,
    "ExecuteTime": {
     "end_time": "2024-05-19T15:59:24.860993Z",
     "start_time": "2024-05-19T15:59:24.854978Z"
    }
   },
   "id": "170714223e9a485c",
   "execution_count": 51
  },
  {
   "cell_type": "code",
   "outputs": [
    {
     "data": {
      "text/plain": "PeriodIndex(['2011Q4', '2012Q1', '2012Q2', '2012Q3', '2012Q4', '2013Q1',\n             '2013Q2', '2013Q3', '2013Q4', '2014Q1', '2014Q2', '2014Q3',\n             '2014Q4', '2015Q1', '2015Q2', '2015Q3', '2015Q4', '2016Q1',\n             '2016Q2', '2016Q3', '2016Q4', '2017Q1', '2017Q2', '2017Q3',\n             '2017Q4'],\n            dtype='period[Q-JAN]')"
     },
     "execution_count": 52,
     "metadata": {},
     "output_type": "execute_result"
    }
   ],
   "source": [
    "idx = pd.period_range('2011', '2017' , freq = 'Q-JAN')\n",
    "idx"
   ],
   "metadata": {
    "collapsed": false,
    "ExecuteTime": {
     "end_time": "2024-05-19T15:59:24.869294Z",
     "start_time": "2024-05-19T15:59:24.863143Z"
    }
   },
   "id": "e15cc1098cbe5305",
   "execution_count": 52
  },
  {
   "cell_type": "code",
   "outputs": [
    {
     "data": {
      "text/plain": "Timestamp('2010-11-01 00:00:00')"
     },
     "execution_count": 53,
     "metadata": {},
     "output_type": "execute_result"
    }
   ],
   "source": [
    "idx[0].start_time\n"
   ],
   "metadata": {
    "collapsed": false,
    "ExecuteTime": {
     "end_time": "2024-05-19T15:59:24.876984Z",
     "start_time": "2024-05-19T15:59:24.870810Z"
    }
   },
   "id": "da4d2bb4dd010b47",
   "execution_count": 53
  },
  {
   "cell_type": "code",
   "outputs": [
    {
     "data": {
      "text/plain": "Timestamp('2011-01-31 23:59:59.999999999')"
     },
     "execution_count": 54,
     "metadata": {},
     "output_type": "execute_result"
    }
   ],
   "source": [
    "idx[0].end_time"
   ],
   "metadata": {
    "collapsed": false,
    "ExecuteTime": {
     "end_time": "2024-05-19T15:59:24.885978Z",
     "start_time": "2024-05-19T15:59:24.878992Z"
    }
   },
   "id": "4195effe0ebbb0b0",
   "execution_count": 54
  },
  {
   "cell_type": "code",
   "outputs": [
    {
     "data": {
      "text/plain": "  Line Item  2017Q1  2017Q2  2017Q3  2017Q4  2018Q1\n0   Revenue  115904  120854  118179  130936  117542\n1  Expenses   86544   89485   87484   97743   87688\n2    Profit   29360   31369   30695   33193   29854",
      "text/html": "<div>\n<style scoped>\n    .dataframe tbody tr th:only-of-type {\n        vertical-align: middle;\n    }\n\n    .dataframe tbody tr th {\n        vertical-align: top;\n    }\n\n    .dataframe thead th {\n        text-align: right;\n    }\n</style>\n<table border=\"1\" class=\"dataframe\">\n  <thead>\n    <tr style=\"text-align: right;\">\n      <th></th>\n      <th>Line Item</th>\n      <th>2017Q1</th>\n      <th>2017Q2</th>\n      <th>2017Q3</th>\n      <th>2017Q4</th>\n      <th>2018Q1</th>\n    </tr>\n  </thead>\n  <tbody>\n    <tr>\n      <th>0</th>\n      <td>Revenue</td>\n      <td>115904</td>\n      <td>120854</td>\n      <td>118179</td>\n      <td>130936</td>\n      <td>117542</td>\n    </tr>\n    <tr>\n      <th>1</th>\n      <td>Expenses</td>\n      <td>86544</td>\n      <td>89485</td>\n      <td>87484</td>\n      <td>97743</td>\n      <td>87688</td>\n    </tr>\n    <tr>\n      <th>2</th>\n      <td>Profit</td>\n      <td>29360</td>\n      <td>31369</td>\n      <td>30695</td>\n      <td>33193</td>\n      <td>29854</td>\n    </tr>\n  </tbody>\n</table>\n</div>"
     },
     "execution_count": 55,
     "metadata": {},
     "output_type": "execute_result"
    }
   ],
   "source": [
    "wmt_df = pd.read_csv('wmt.csv')\n",
    "\n",
    "wmt_df"
   ],
   "metadata": {
    "collapsed": false,
    "ExecuteTime": {
     "end_time": "2024-05-19T15:59:24.899151Z",
     "start_time": "2024-05-19T15:59:24.888149Z"
    }
   },
   "id": "4aa44df4d73117de",
   "execution_count": 55
  },
  {
   "cell_type": "code",
   "outputs": [
    {
     "data": {
      "text/plain": "['2017Q1', '2017Q2', '2017Q3', '2017Q4', '2018Q1']"
     },
     "execution_count": 56,
     "metadata": {},
     "output_type": "execute_result"
    }
   ],
   "source": [
    "all_quarters =  list(wmt_df.columns[1:])\n",
    "\n",
    "all_quarters"
   ],
   "metadata": {
    "collapsed": false,
    "ExecuteTime": {
     "end_time": "2024-05-19T15:59:24.906840Z",
     "start_time": "2024-05-19T15:59:24.900668Z"
    }
   },
   "id": "577d75e5978224b6",
   "execution_count": 56
  },
  {
   "cell_type": "code",
   "outputs": [
    {
     "data": {
      "text/plain": "['Revenue', 'Expenses', 'Profit']"
     },
     "execution_count": 57,
     "metadata": {},
     "output_type": "execute_result"
    }
   ],
   "source": [
    "new_column_names = list(wmt_df['Line Item'])\n",
    "\n",
    "new_column_names"
   ],
   "metadata": {
    "collapsed": false,
    "ExecuteTime": {
     "end_time": "2024-05-19T15:59:24.914312Z",
     "start_time": "2024-05-19T15:59:24.907850Z"
    }
   },
   "id": "87a85089cf4d4de8",
   "execution_count": 57
  },
  {
   "cell_type": "code",
   "outputs": [],
   "source": [
    "def transform_to_period(provided_date):\n",
    "    if str(provided_date).startswith('Line'):\n",
    "        return provided_date\n",
    "    \n",
    "    print('tsss' , provided_date)\n",
    "    return pd.Period(provided_date , freq='Q-JAN')\n",
    "\n",
    "\n",
    "\n",
    "new_wmt_df = pd.DataFrame({\n",
    "    \n",
    "\n",
    "    col_name : wmt_df.loc[idx,:]  for idx,col_name in  enumerate(new_column_names)\n",
    "})\n",
    "\n",
    "\n",
    "\n",
    "new_wmt_df = new_wmt_df.reset_index()\n",
    "new_wmt_df = new_wmt_df.drop(0, axis = 0)\n",
    "\n",
    "new_wmt_df['index'] = pd.PeriodIndex(new_wmt_df['index'] , freq='Q-JAN')\n",
    "new_wmt_df['Start_time'] = new_wmt_df['index'].apply(lambda x:x.start_time)\n",
    "new_wmt_df['End_time'] = new_wmt_df['index'].apply(lambda  x:x.end_time)\n",
    "new_wmt_df = new_wmt_df.set_index('index')"
   ],
   "metadata": {
    "collapsed": false,
    "ExecuteTime": {
     "end_time": "2024-05-19T15:59:24.929911Z",
     "start_time": "2024-05-19T15:59:24.916325Z"
    }
   },
   "id": "4ceab3a951345af5",
   "execution_count": 58
  },
  {
   "cell_type": "code",
   "outputs": [
    {
     "data": {
      "text/plain": "       Revenue Expenses Profit Start_time                      End_time\nindex                                                                  \n2017Q1  115904    86544  29360 2016-02-01 2016-04-30 23:59:59.999999999\n2017Q2  120854    89485  31369 2016-05-01 2016-07-31 23:59:59.999999999\n2017Q3  118179    87484  30695 2016-08-01 2016-10-31 23:59:59.999999999\n2017Q4  130936    97743  33193 2016-11-01 2017-01-31 23:59:59.999999999\n2018Q1  117542    87688  29854 2017-02-01 2017-04-30 23:59:59.999999999",
      "text/html": "<div>\n<style scoped>\n    .dataframe tbody tr th:only-of-type {\n        vertical-align: middle;\n    }\n\n    .dataframe tbody tr th {\n        vertical-align: top;\n    }\n\n    .dataframe thead th {\n        text-align: right;\n    }\n</style>\n<table border=\"1\" class=\"dataframe\">\n  <thead>\n    <tr style=\"text-align: right;\">\n      <th></th>\n      <th>Revenue</th>\n      <th>Expenses</th>\n      <th>Profit</th>\n      <th>Start_time</th>\n      <th>End_time</th>\n    </tr>\n    <tr>\n      <th>index</th>\n      <th></th>\n      <th></th>\n      <th></th>\n      <th></th>\n      <th></th>\n    </tr>\n  </thead>\n  <tbody>\n    <tr>\n      <th>2017Q1</th>\n      <td>115904</td>\n      <td>86544</td>\n      <td>29360</td>\n      <td>2016-02-01</td>\n      <td>2016-04-30 23:59:59.999999999</td>\n    </tr>\n    <tr>\n      <th>2017Q2</th>\n      <td>120854</td>\n      <td>89485</td>\n      <td>31369</td>\n      <td>2016-05-01</td>\n      <td>2016-07-31 23:59:59.999999999</td>\n    </tr>\n    <tr>\n      <th>2017Q3</th>\n      <td>118179</td>\n      <td>87484</td>\n      <td>30695</td>\n      <td>2016-08-01</td>\n      <td>2016-10-31 23:59:59.999999999</td>\n    </tr>\n    <tr>\n      <th>2017Q4</th>\n      <td>130936</td>\n      <td>97743</td>\n      <td>33193</td>\n      <td>2016-11-01</td>\n      <td>2017-01-31 23:59:59.999999999</td>\n    </tr>\n    <tr>\n      <th>2018Q1</th>\n      <td>117542</td>\n      <td>87688</td>\n      <td>29854</td>\n      <td>2017-02-01</td>\n      <td>2017-04-30 23:59:59.999999999</td>\n    </tr>\n  </tbody>\n</table>\n</div>"
     },
     "execution_count": 59,
     "metadata": {},
     "output_type": "execute_result"
    }
   ],
   "source": [
    "new_wmt_df"
   ],
   "metadata": {
    "collapsed": false,
    "ExecuteTime": {
     "end_time": "2024-05-19T15:59:24.939297Z",
     "start_time": "2024-05-19T15:59:24.931988Z"
    }
   },
   "id": "9e2c1153319033",
   "execution_count": 59
  },
  {
   "cell_type": "code",
   "outputs": [
    {
     "data": {
      "text/plain": "(DatetimeIndex(['2022-12-18 00:00:00', '2022-12-18 00:01:00',\n                '2022-12-18 00:02:00', '2022-12-18 00:03:00',\n                '2022-12-18 00:04:00', '2022-12-18 00:05:00',\n                '2022-12-18 00:06:00', '2022-12-18 00:07:00',\n                '2022-12-18 00:08:00', '2022-12-18 00:09:00',\n                '2022-12-18 00:10:00', '2022-12-18 00:11:00',\n                '2022-12-18 00:12:00', '2022-12-18 00:13:00',\n                '2022-12-18 00:14:00', '2022-12-18 00:15:00',\n                '2022-12-18 00:16:00', '2022-12-18 00:17:00',\n                '2022-12-18 00:18:00', '2022-12-18 00:19:00',\n                '2022-12-18 00:20:00', '2022-12-18 00:21:00',\n                '2022-12-18 00:22:00', '2022-12-18 00:23:00',\n                '2022-12-18 00:24:00', '2022-12-18 00:25:00',\n                '2022-12-18 00:26:00', '2022-12-18 00:27:00',\n                '2022-12-18 00:28:00', '2022-12-18 00:29:00',\n                '2022-12-18 00:30:00', '2022-12-18 00:31:00',\n                '2022-12-18 00:32:00', '2022-12-18 00:33:00',\n                '2022-12-18 00:34:00', '2022-12-18 00:35:00',\n                '2022-12-18 00:36:00', '2022-12-18 00:37:00',\n                '2022-12-18 00:38:00', '2022-12-18 00:39:00',\n                '2022-12-18 00:40:00', '2022-12-18 00:41:00',\n                '2022-12-18 00:42:00', '2022-12-18 00:43:00',\n                '2022-12-18 00:44:00', '2022-12-18 00:45:00',\n                '2022-12-18 00:46:00', '2022-12-18 00:47:00',\n                '2022-12-18 00:48:00', '2022-12-18 00:49:00',\n                '2022-12-18 00:50:00', '2022-12-18 00:51:00',\n                '2022-12-18 00:52:00', '2022-12-18 00:53:00',\n                '2022-12-18 00:54:00', '2022-12-18 00:55:00',\n                '2022-12-18 00:56:00', '2022-12-18 00:57:00',\n                '2022-12-18 00:58:00', '2022-12-18 00:59:00'],\n               dtype='datetime64[ns]', freq='min'),\n 2022-12-18 00:00:00    34\n 2022-12-18 00:01:00    19\n 2022-12-18 00:02:00     9\n 2022-12-18 00:03:00    41\n 2022-12-18 00:04:00    29\n 2022-12-18 00:05:00    97\n 2022-12-18 00:06:00    15\n 2022-12-18 00:07:00    79\n 2022-12-18 00:08:00    92\n 2022-12-18 00:09:00    90\n 2022-12-18 00:10:00    66\n 2022-12-18 00:11:00    62\n 2022-12-18 00:12:00    80\n 2022-12-18 00:13:00     7\n 2022-12-18 00:14:00    95\n 2022-12-18 00:15:00    51\n 2022-12-18 00:16:00     1\n 2022-12-18 00:17:00    45\n 2022-12-18 00:18:00    58\n 2022-12-18 00:19:00    77\n 2022-12-18 00:20:00    84\n 2022-12-18 00:21:00    99\n 2022-12-18 00:22:00    10\n 2022-12-18 00:23:00     7\n 2022-12-18 00:24:00    98\n 2022-12-18 00:25:00    63\n 2022-12-18 00:26:00    67\n 2022-12-18 00:27:00    62\n 2022-12-18 00:28:00    68\n 2022-12-18 00:29:00    40\n 2022-12-18 00:30:00    32\n 2022-12-18 00:31:00    16\n 2022-12-18 00:32:00    39\n 2022-12-18 00:33:00    13\n 2022-12-18 00:34:00    37\n 2022-12-18 00:35:00    24\n 2022-12-18 00:36:00    87\n 2022-12-18 00:37:00    85\n 2022-12-18 00:38:00    53\n 2022-12-18 00:39:00     1\n 2022-12-18 00:40:00     5\n 2022-12-18 00:41:00    33\n 2022-12-18 00:42:00    22\n 2022-12-18 00:43:00    36\n 2022-12-18 00:44:00    98\n 2022-12-18 00:45:00    15\n 2022-12-18 00:46:00    68\n 2022-12-18 00:47:00    93\n 2022-12-18 00:48:00    37\n 2022-12-18 00:49:00    76\n 2022-12-18 00:50:00    26\n 2022-12-18 00:51:00    43\n 2022-12-18 00:52:00    23\n 2022-12-18 00:53:00    76\n 2022-12-18 00:54:00    99\n 2022-12-18 00:55:00    26\n 2022-12-18 00:56:00    79\n 2022-12-18 00:57:00    40\n 2022-12-18 00:58:00    91\n 2022-12-18 00:59:00    81\n Freq: min, dtype: int32)"
     },
     "execution_count": 60,
     "metadata": {},
     "output_type": "execute_result"
    }
   ],
   "source": [
    "# Example: Resampling with Different Frequencies\n",
    "rng = pd.date_range(\"2022-12-18\", periods=60, freq=\"Min\")\n",
    "ts = pd.Series(np.random.randint(0, 100, len(rng)), index=rng)\n",
    "\n",
    "rng , ts"
   ],
   "metadata": {
    "collapsed": false,
    "ExecuteTime": {
     "end_time": "2024-05-19T15:59:24.949682Z",
     "start_time": "2024-05-19T15:59:24.940234Z"
    }
   },
   "id": "6b3066175372ce3c",
   "execution_count": 60
  },
  {
   "cell_type": "code",
   "outputs": [
    {
     "name": "stdout",
     "output_type": "stream",
     "text": [
      "\n",
      "Resampled Time Series by Minute:\n",
      "2022-12-18 00:00:00    505\n",
      "2022-12-18 00:10:00    542\n",
      "2022-12-18 00:20:00    598\n",
      "2022-12-18 00:30:00    387\n",
      "2022-12-18 00:40:00    483\n",
      "2022-12-18 00:50:00    584\n",
      "Freq: 10min, dtype: int32\n"
     ]
    }
   ],
   "source": [
    "\n",
    "\n",
    "\n",
    "print(\"\\nResampled Time Series by Minute:\")\n",
    "print(ts.resample(\"10Min\").sum())"
   ],
   "metadata": {
    "collapsed": false,
    "ExecuteTime": {
     "end_time": "2024-05-19T15:59:24.959459Z",
     "start_time": "2024-05-19T15:59:24.951212Z"
    }
   },
   "id": "bb52aa212c4a946d",
   "execution_count": 61
  },
  {
   "cell_type": "code",
   "outputs": [
    {
     "data": {
      "text/plain": "                     data\n2024-05-19 00:00:00     0\n2024-05-19 00:01:00     1\n2024-05-19 00:02:00     2\n2024-05-19 00:03:00     3\n2024-05-19 00:04:00     4\n2024-05-19 00:05:00     5\n2024-05-19 00:06:00     6\n2024-05-19 00:07:00     7\n2024-05-19 00:08:00     8\n2024-05-19 00:09:00     9",
      "text/html": "<div>\n<style scoped>\n    .dataframe tbody tr th:only-of-type {\n        vertical-align: middle;\n    }\n\n    .dataframe tbody tr th {\n        vertical-align: top;\n    }\n\n    .dataframe thead th {\n        text-align: right;\n    }\n</style>\n<table border=\"1\" class=\"dataframe\">\n  <thead>\n    <tr style=\"text-align: right;\">\n      <th></th>\n      <th>data</th>\n    </tr>\n  </thead>\n  <tbody>\n    <tr>\n      <th>2024-05-19 00:00:00</th>\n      <td>0</td>\n    </tr>\n    <tr>\n      <th>2024-05-19 00:01:00</th>\n      <td>1</td>\n    </tr>\n    <tr>\n      <th>2024-05-19 00:02:00</th>\n      <td>2</td>\n    </tr>\n    <tr>\n      <th>2024-05-19 00:03:00</th>\n      <td>3</td>\n    </tr>\n    <tr>\n      <th>2024-05-19 00:04:00</th>\n      <td>4</td>\n    </tr>\n    <tr>\n      <th>2024-05-19 00:05:00</th>\n      <td>5</td>\n    </tr>\n    <tr>\n      <th>2024-05-19 00:06:00</th>\n      <td>6</td>\n    </tr>\n    <tr>\n      <th>2024-05-19 00:07:00</th>\n      <td>7</td>\n    </tr>\n    <tr>\n      <th>2024-05-19 00:08:00</th>\n      <td>8</td>\n    </tr>\n    <tr>\n      <th>2024-05-19 00:09:00</th>\n      <td>9</td>\n    </tr>\n  </tbody>\n</table>\n</div>"
     },
     "execution_count": 62,
     "metadata": {},
     "output_type": "execute_result"
    }
   ],
   "source": [
    "index = pd.date_range('19-05-2024' , periods=10 , freq='Min')\n",
    "\n",
    "df  = pd.DataFrame({\n",
    "    'data': [idx for idx in range(len(index))]\n",
    "} , index = index)\n",
    "\n",
    "df"
   ],
   "metadata": {
    "collapsed": false,
    "ExecuteTime": {
     "end_time": "2024-05-19T15:59:24.967767Z",
     "start_time": "2024-05-19T15:59:24.960989Z"
    }
   },
   "id": "5bc464e5d0e53663",
   "execution_count": 62
  },
  {
   "cell_type": "code",
   "outputs": [
    {
     "data": {
      "text/plain": "                     data\n2024-05-19 00:00:00    10\n2024-05-19 00:05:00    35",
      "text/html": "<div>\n<style scoped>\n    .dataframe tbody tr th:only-of-type {\n        vertical-align: middle;\n    }\n\n    .dataframe tbody tr th {\n        vertical-align: top;\n    }\n\n    .dataframe thead th {\n        text-align: right;\n    }\n</style>\n<table border=\"1\" class=\"dataframe\">\n  <thead>\n    <tr style=\"text-align: right;\">\n      <th></th>\n      <th>data</th>\n    </tr>\n  </thead>\n  <tbody>\n    <tr>\n      <th>2024-05-19 00:00:00</th>\n      <td>10</td>\n    </tr>\n    <tr>\n      <th>2024-05-19 00:05:00</th>\n      <td>35</td>\n    </tr>\n  </tbody>\n</table>\n</div>"
     },
     "execution_count": 63,
     "metadata": {},
     "output_type": "execute_result"
    }
   ],
   "source": [
    "df.resample(rule='5Min' ).sum()\n"
   ],
   "metadata": {
    "collapsed": false,
    "ExecuteTime": {
     "end_time": "2024-05-19T15:59:24.976555Z",
     "start_time": "2024-05-19T15:59:24.968805Z"
    }
   },
   "id": "948154d540a3f8a0",
   "execution_count": 63
  },
  {
   "cell_type": "markdown",
   "source": [],
   "metadata": {
    "collapsed": false
   },
   "id": "c1775d1526caa560"
  },
  {
   "cell_type": "code",
   "outputs": [
    {
     "data": {
      "text/plain": "                     data\n2024-05-18 23:55:00     0\n2024-05-19 00:00:00    15\n2024-05-19 00:05:00    30",
      "text/html": "<div>\n<style scoped>\n    .dataframe tbody tr th:only-of-type {\n        vertical-align: middle;\n    }\n\n    .dataframe tbody tr th {\n        vertical-align: top;\n    }\n\n    .dataframe thead th {\n        text-align: right;\n    }\n</style>\n<table border=\"1\" class=\"dataframe\">\n  <thead>\n    <tr style=\"text-align: right;\">\n      <th></th>\n      <th>data</th>\n    </tr>\n  </thead>\n  <tbody>\n    <tr>\n      <th>2024-05-18 23:55:00</th>\n      <td>0</td>\n    </tr>\n    <tr>\n      <th>2024-05-19 00:00:00</th>\n      <td>15</td>\n    </tr>\n    <tr>\n      <th>2024-05-19 00:05:00</th>\n      <td>30</td>\n    </tr>\n  </tbody>\n</table>\n</div>"
     },
     "execution_count": 64,
     "metadata": {},
     "output_type": "execute_result"
    }
   ],
   "source": [
    "df.resample(rule='5Min' , closed='right').sum()\n",
    "\n"
   ],
   "metadata": {
    "collapsed": false,
    "ExecuteTime": {
     "end_time": "2024-05-19T15:59:24.984574Z",
     "start_time": "2024-05-19T15:59:24.977564Z"
    }
   },
   "id": "66eb3f3d0f09b9d6",
   "execution_count": 64
  },
  {
   "cell_type": "code",
   "outputs": [
    {
     "data": {
      "text/plain": "                     data\n2024-05-19 00:05:00    10\n2024-05-19 00:10:00    35",
      "text/html": "<div>\n<style scoped>\n    .dataframe tbody tr th:only-of-type {\n        vertical-align: middle;\n    }\n\n    .dataframe tbody tr th {\n        vertical-align: top;\n    }\n\n    .dataframe thead th {\n        text-align: right;\n    }\n</style>\n<table border=\"1\" class=\"dataframe\">\n  <thead>\n    <tr style=\"text-align: right;\">\n      <th></th>\n      <th>data</th>\n    </tr>\n  </thead>\n  <tbody>\n    <tr>\n      <th>2024-05-19 00:05:00</th>\n      <td>10</td>\n    </tr>\n    <tr>\n      <th>2024-05-19 00:10:00</th>\n      <td>35</td>\n    </tr>\n  </tbody>\n</table>\n</div>"
     },
     "execution_count": 65,
     "metadata": {},
     "output_type": "execute_result"
    }
   ],
   "source": [
    "df.resample(rule='5Min' , label='right').sum()\n",
    "\n"
   ],
   "metadata": {
    "collapsed": false,
    "ExecuteTime": {
     "end_time": "2024-05-19T15:59:24.993085Z",
     "start_time": "2024-05-19T15:59:24.985583Z"
    }
   },
   "id": "d1888f43b549fb61",
   "execution_count": 65
  },
  {
   "cell_type": "code",
   "outputs": [
    {
     "data": {
      "text/plain": "            data\n2024-06-30     0\n2024-09-30     1\n2024-12-31     2\n2025-03-31     3",
      "text/html": "<div>\n<style scoped>\n    .dataframe tbody tr th:only-of-type {\n        vertical-align: middle;\n    }\n\n    .dataframe tbody tr th {\n        vertical-align: top;\n    }\n\n    .dataframe thead th {\n        text-align: right;\n    }\n</style>\n<table border=\"1\" class=\"dataframe\">\n  <thead>\n    <tr style=\"text-align: right;\">\n      <th></th>\n      <th>data</th>\n    </tr>\n  </thead>\n  <tbody>\n    <tr>\n      <th>2024-06-30</th>\n      <td>0</td>\n    </tr>\n    <tr>\n      <th>2024-09-30</th>\n      <td>1</td>\n    </tr>\n    <tr>\n      <th>2024-12-31</th>\n      <td>2</td>\n    </tr>\n    <tr>\n      <th>2025-03-31</th>\n      <td>3</td>\n    </tr>\n  </tbody>\n</table>\n</div>"
     },
     "execution_count": 66,
     "metadata": {},
     "output_type": "execute_result"
    }
   ],
   "source": [
    "index = pd.date_range('19-05-2024' , periods=4 , freq='QE')\n",
    "\n",
    "df  = pd.DataFrame({\n",
    "    'data': [idx for idx in range(len(index))]\n",
    "} , index = index)\n",
    "\n",
    "df"
   ],
   "metadata": {
    "collapsed": false,
    "ExecuteTime": {
     "end_time": "2024-05-19T15:59:25.001338Z",
     "start_time": "2024-05-19T15:59:24.994092Z"
    }
   },
   "id": "d1fdca44175a4e4a",
   "execution_count": 66
  },
  {
   "cell_type": "code",
   "outputs": [
    {
     "name": "stderr",
     "output_type": "stream",
     "text": [
      "C:\\Users\\kacsa\\AppData\\Local\\Temp\\ipykernel_28080\\707324146.py:1: FutureWarning: The 'convention' keyword in DataFrame.resample is deprecated and will be removed in a future version. Explicitly cast PeriodIndex to DatetimeIndex before resampling instead.\n",
      "  df.resample('ME' , convention='start').sum()\n"
     ]
    },
    {
     "data": {
      "text/plain": "            data\n2024-06-30     0\n2024-07-31     0\n2024-08-31     0\n2024-09-30     1\n2024-10-31     0\n2024-11-30     0\n2024-12-31     2\n2025-01-31     0\n2025-02-28     0\n2025-03-31     3",
      "text/html": "<div>\n<style scoped>\n    .dataframe tbody tr th:only-of-type {\n        vertical-align: middle;\n    }\n\n    .dataframe tbody tr th {\n        vertical-align: top;\n    }\n\n    .dataframe thead th {\n        text-align: right;\n    }\n</style>\n<table border=\"1\" class=\"dataframe\">\n  <thead>\n    <tr style=\"text-align: right;\">\n      <th></th>\n      <th>data</th>\n    </tr>\n  </thead>\n  <tbody>\n    <tr>\n      <th>2024-06-30</th>\n      <td>0</td>\n    </tr>\n    <tr>\n      <th>2024-07-31</th>\n      <td>0</td>\n    </tr>\n    <tr>\n      <th>2024-08-31</th>\n      <td>0</td>\n    </tr>\n    <tr>\n      <th>2024-09-30</th>\n      <td>1</td>\n    </tr>\n    <tr>\n      <th>2024-10-31</th>\n      <td>0</td>\n    </tr>\n    <tr>\n      <th>2024-11-30</th>\n      <td>0</td>\n    </tr>\n    <tr>\n      <th>2024-12-31</th>\n      <td>2</td>\n    </tr>\n    <tr>\n      <th>2025-01-31</th>\n      <td>0</td>\n    </tr>\n    <tr>\n      <th>2025-02-28</th>\n      <td>0</td>\n    </tr>\n    <tr>\n      <th>2025-03-31</th>\n      <td>3</td>\n    </tr>\n  </tbody>\n</table>\n</div>"
     },
     "execution_count": 67,
     "metadata": {},
     "output_type": "execute_result"
    }
   ],
   "source": [
    "df.resample('ME' , convention='start').sum()"
   ],
   "metadata": {
    "collapsed": false,
    "ExecuteTime": {
     "end_time": "2024-05-19T15:59:25.011105Z",
     "start_time": "2024-05-19T15:59:25.002349Z"
    }
   },
   "id": "8aa1a66210e90bd8",
   "execution_count": 67
  },
  {
   "cell_type": "code",
   "outputs": [
    {
     "name": "stdout",
     "output_type": "stream",
     "text": [
      "\n",
      "Monthly Time Series:\n",
      "2022-12-31    0\n",
      "2023-01-31    1\n",
      "2023-02-28    2\n",
      "Freq: ME, dtype: int64\n",
      "Shifted Monthly Time Series:\n",
      "2023-01-01    0\n",
      "2023-02-01    1\n",
      "2023-03-01    2\n",
      "dtype: int64\n"
     ]
    }
   ],
   "source": [
    "\n",
    "\n",
    "# Example: Shifting and Lagging with Different Frequency Shifts\n",
    "rng = pd.date_range(\"2022-12-18\", periods=3, freq=\"ME\")\n",
    "ts = pd.Series(range(len(rng)), index=rng)\n",
    "\n",
    "print(\"\\nMonthly Time Series:\")\n",
    "print(ts)\n",
    "print(\"Shifted Monthly Time Series:\")\n",
    "print(ts.shift(1, freq=\"D\"))\n"
   ],
   "metadata": {
    "collapsed": false,
    "ExecuteTime": {
     "end_time": "2024-05-19T15:59:25.018094Z",
     "start_time": "2024-05-19T15:59:25.012114Z"
    }
   },
   "id": "bfb02fd2a98ff758",
   "execution_count": 68
  },
  {
   "cell_type": "code",
   "outputs": [
    {
     "name": "stdout",
     "output_type": "stream",
     "text": [
      "Date     datetime64[ns]\n",
      "Price           float64\n",
      "dtype: object\n"
     ]
    }
   ],
   "source": [
    "from datetime import datetime\n",
    "\n",
    "df =  pd.read_csv('fb.csv' )\n",
    "\n",
    "\n",
    "df['Date']  = pd.to_datetime(df['Date'] , format ='%d-%b-%Y')\n",
    "print(df.dtypes)\n",
    "df = df.set_index('Date')\n",
    "\n",
    " \n",
    "\n",
    "\n",
    "\n"
   ],
   "metadata": {
    "collapsed": false,
    "ExecuteTime": {
     "end_time": "2024-05-19T15:59:25.028088Z",
     "start_time": "2024-05-19T15:59:25.020108Z"
    }
   },
   "id": "e659ad3391979e1e",
   "execution_count": 69
  },
  {
   "cell_type": "code",
   "outputs": [
    {
     "data": {
      "text/plain": "             Price\nDate              \n2017-08-15     NaN\n2017-08-16     NaN\n2017-08-17     NaN\n2017-08-18     NaN\n2017-08-21     NaN\n2017-08-22  171.00\n2017-08-23  170.00\n2017-08-24  166.91\n2017-08-25  167.41\n2017-08-28  167.78",
      "text/html": "<div>\n<style scoped>\n    .dataframe tbody tr th:only-of-type {\n        vertical-align: middle;\n    }\n\n    .dataframe tbody tr th {\n        vertical-align: top;\n    }\n\n    .dataframe thead th {\n        text-align: right;\n    }\n</style>\n<table border=\"1\" class=\"dataframe\">\n  <thead>\n    <tr style=\"text-align: right;\">\n      <th></th>\n      <th>Price</th>\n    </tr>\n    <tr>\n      <th>Date</th>\n      <th></th>\n    </tr>\n  </thead>\n  <tbody>\n    <tr>\n      <th>2017-08-15</th>\n      <td>NaN</td>\n    </tr>\n    <tr>\n      <th>2017-08-16</th>\n      <td>NaN</td>\n    </tr>\n    <tr>\n      <th>2017-08-17</th>\n      <td>NaN</td>\n    </tr>\n    <tr>\n      <th>2017-08-18</th>\n      <td>NaN</td>\n    </tr>\n    <tr>\n      <th>2017-08-21</th>\n      <td>NaN</td>\n    </tr>\n    <tr>\n      <th>2017-08-22</th>\n      <td>171.00</td>\n    </tr>\n    <tr>\n      <th>2017-08-23</th>\n      <td>170.00</td>\n    </tr>\n    <tr>\n      <th>2017-08-24</th>\n      <td>166.91</td>\n    </tr>\n    <tr>\n      <th>2017-08-25</th>\n      <td>167.41</td>\n    </tr>\n    <tr>\n      <th>2017-08-28</th>\n      <td>167.78</td>\n    </tr>\n  </tbody>\n</table>\n</div>"
     },
     "execution_count": 70,
     "metadata": {},
     "output_type": "execute_result"
    }
   ],
   "source": [
    "df.shift(5)"
   ],
   "metadata": {
    "collapsed": false,
    "ExecuteTime": {
     "end_time": "2024-05-19T15:59:25.036651Z",
     "start_time": "2024-05-19T15:59:25.029099Z"
    }
   },
   "id": "df336053e729c339",
   "execution_count": 70
  },
  {
   "cell_type": "code",
   "outputs": [
    {
     "data": {
      "text/plain": "             Price  Prev Day Price\nDate                              \n2017-08-15  171.00             NaN\n2017-08-16  170.00          171.00\n2017-08-17  166.91          170.00\n2017-08-18  167.41          166.91\n2017-08-21  167.78          167.41\n2017-08-22  169.64          167.78\n2017-08-23  168.71          169.64\n2017-08-24  167.74          168.71\n2017-08-25  166.32          167.74\n2017-08-28  167.24          166.32",
      "text/html": "<div>\n<style scoped>\n    .dataframe tbody tr th:only-of-type {\n        vertical-align: middle;\n    }\n\n    .dataframe tbody tr th {\n        vertical-align: top;\n    }\n\n    .dataframe thead th {\n        text-align: right;\n    }\n</style>\n<table border=\"1\" class=\"dataframe\">\n  <thead>\n    <tr style=\"text-align: right;\">\n      <th></th>\n      <th>Price</th>\n      <th>Prev Day Price</th>\n    </tr>\n    <tr>\n      <th>Date</th>\n      <th></th>\n      <th></th>\n    </tr>\n  </thead>\n  <tbody>\n    <tr>\n      <th>2017-08-15</th>\n      <td>171.00</td>\n      <td>NaN</td>\n    </tr>\n    <tr>\n      <th>2017-08-16</th>\n      <td>170.00</td>\n      <td>171.00</td>\n    </tr>\n    <tr>\n      <th>2017-08-17</th>\n      <td>166.91</td>\n      <td>170.00</td>\n    </tr>\n    <tr>\n      <th>2017-08-18</th>\n      <td>167.41</td>\n      <td>166.91</td>\n    </tr>\n    <tr>\n      <th>2017-08-21</th>\n      <td>167.78</td>\n      <td>167.41</td>\n    </tr>\n    <tr>\n      <th>2017-08-22</th>\n      <td>169.64</td>\n      <td>167.78</td>\n    </tr>\n    <tr>\n      <th>2017-08-23</th>\n      <td>168.71</td>\n      <td>169.64</td>\n    </tr>\n    <tr>\n      <th>2017-08-24</th>\n      <td>167.74</td>\n      <td>168.71</td>\n    </tr>\n    <tr>\n      <th>2017-08-25</th>\n      <td>166.32</td>\n      <td>167.74</td>\n    </tr>\n    <tr>\n      <th>2017-08-28</th>\n      <td>167.24</td>\n      <td>166.32</td>\n    </tr>\n  </tbody>\n</table>\n</div>"
     },
     "execution_count": 71,
     "metadata": {},
     "output_type": "execute_result"
    }
   ],
   "source": [
    "df['Prev Day Price'] = df['Price'].shift(1)\n",
    "\n",
    "df"
   ],
   "metadata": {
    "collapsed": false,
    "ExecuteTime": {
     "end_time": "2024-05-19T15:59:25.045189Z",
     "start_time": "2024-05-19T15:59:25.037666Z"
    }
   },
   "id": "ce9fe8f248b54ad8",
   "execution_count": 71
  },
  {
   "cell_type": "code",
   "outputs": [
    {
     "data": {
      "text/plain": "             Price  Prev Day Price  1 day change\nDate                                            \n2017-08-15  171.00             NaN           NaN\n2017-08-16  170.00          171.00         -1.00\n2017-08-17  166.91          170.00         -3.09\n2017-08-18  167.41          166.91          0.50\n2017-08-21  167.78          167.41          0.37\n2017-08-22  169.64          167.78          1.86\n2017-08-23  168.71          169.64         -0.93\n2017-08-24  167.74          168.71         -0.97\n2017-08-25  166.32          167.74         -1.42\n2017-08-28  167.24          166.32          0.92",
      "text/html": "<div>\n<style scoped>\n    .dataframe tbody tr th:only-of-type {\n        vertical-align: middle;\n    }\n\n    .dataframe tbody tr th {\n        vertical-align: top;\n    }\n\n    .dataframe thead th {\n        text-align: right;\n    }\n</style>\n<table border=\"1\" class=\"dataframe\">\n  <thead>\n    <tr style=\"text-align: right;\">\n      <th></th>\n      <th>Price</th>\n      <th>Prev Day Price</th>\n      <th>1 day change</th>\n    </tr>\n    <tr>\n      <th>Date</th>\n      <th></th>\n      <th></th>\n      <th></th>\n    </tr>\n  </thead>\n  <tbody>\n    <tr>\n      <th>2017-08-15</th>\n      <td>171.00</td>\n      <td>NaN</td>\n      <td>NaN</td>\n    </tr>\n    <tr>\n      <th>2017-08-16</th>\n      <td>170.00</td>\n      <td>171.00</td>\n      <td>-1.00</td>\n    </tr>\n    <tr>\n      <th>2017-08-17</th>\n      <td>166.91</td>\n      <td>170.00</td>\n      <td>-3.09</td>\n    </tr>\n    <tr>\n      <th>2017-08-18</th>\n      <td>167.41</td>\n      <td>166.91</td>\n      <td>0.50</td>\n    </tr>\n    <tr>\n      <th>2017-08-21</th>\n      <td>167.78</td>\n      <td>167.41</td>\n      <td>0.37</td>\n    </tr>\n    <tr>\n      <th>2017-08-22</th>\n      <td>169.64</td>\n      <td>167.78</td>\n      <td>1.86</td>\n    </tr>\n    <tr>\n      <th>2017-08-23</th>\n      <td>168.71</td>\n      <td>169.64</td>\n      <td>-0.93</td>\n    </tr>\n    <tr>\n      <th>2017-08-24</th>\n      <td>167.74</td>\n      <td>168.71</td>\n      <td>-0.97</td>\n    </tr>\n    <tr>\n      <th>2017-08-25</th>\n      <td>166.32</td>\n      <td>167.74</td>\n      <td>-1.42</td>\n    </tr>\n    <tr>\n      <th>2017-08-28</th>\n      <td>167.24</td>\n      <td>166.32</td>\n      <td>0.92</td>\n    </tr>\n  </tbody>\n</table>\n</div>"
     },
     "execution_count": 72,
     "metadata": {},
     "output_type": "execute_result"
    }
   ],
   "source": [
    "df['1 day change'] = df['Price'] - df['Prev Day Price']\n",
    "\n",
    "df"
   ],
   "metadata": {
    "collapsed": false,
    "ExecuteTime": {
     "end_time": "2024-05-19T15:59:25.054655Z",
     "start_time": "2024-05-19T15:59:25.046201Z"
    }
   },
   "id": "9b9a470e42d8fbb7",
   "execution_count": 72
  },
  {
   "cell_type": "code",
   "outputs": [
    {
     "data": {
      "text/plain": "             Price  Prev Day Price  1 day change  5 day % return\nDate                                                            \n2017-08-15  171.00             NaN           NaN             NaN\n2017-08-16  170.00          171.00         -1.00             NaN\n2017-08-17  166.91          170.00         -3.09             NaN\n2017-08-18  167.41          166.91          0.50             NaN\n2017-08-21  167.78          167.41          0.37             NaN\n2017-08-22  169.64          167.78          1.86       -0.795322\n2017-08-23  168.71          169.64         -0.93       -0.758824\n2017-08-24  167.74          168.71         -0.97        0.497274\n2017-08-25  166.32          167.74         -1.42       -0.651096\n2017-08-28  167.24          166.32          0.92       -0.321850",
      "text/html": "<div>\n<style scoped>\n    .dataframe tbody tr th:only-of-type {\n        vertical-align: middle;\n    }\n\n    .dataframe tbody tr th {\n        vertical-align: top;\n    }\n\n    .dataframe thead th {\n        text-align: right;\n    }\n</style>\n<table border=\"1\" class=\"dataframe\">\n  <thead>\n    <tr style=\"text-align: right;\">\n      <th></th>\n      <th>Price</th>\n      <th>Prev Day Price</th>\n      <th>1 day change</th>\n      <th>5 day % return</th>\n    </tr>\n    <tr>\n      <th>Date</th>\n      <th></th>\n      <th></th>\n      <th></th>\n      <th></th>\n    </tr>\n  </thead>\n  <tbody>\n    <tr>\n      <th>2017-08-15</th>\n      <td>171.00</td>\n      <td>NaN</td>\n      <td>NaN</td>\n      <td>NaN</td>\n    </tr>\n    <tr>\n      <th>2017-08-16</th>\n      <td>170.00</td>\n      <td>171.00</td>\n      <td>-1.00</td>\n      <td>NaN</td>\n    </tr>\n    <tr>\n      <th>2017-08-17</th>\n      <td>166.91</td>\n      <td>170.00</td>\n      <td>-3.09</td>\n      <td>NaN</td>\n    </tr>\n    <tr>\n      <th>2017-08-18</th>\n      <td>167.41</td>\n      <td>166.91</td>\n      <td>0.50</td>\n      <td>NaN</td>\n    </tr>\n    <tr>\n      <th>2017-08-21</th>\n      <td>167.78</td>\n      <td>167.41</td>\n      <td>0.37</td>\n      <td>NaN</td>\n    </tr>\n    <tr>\n      <th>2017-08-22</th>\n      <td>169.64</td>\n      <td>167.78</td>\n      <td>1.86</td>\n      <td>-0.795322</td>\n    </tr>\n    <tr>\n      <th>2017-08-23</th>\n      <td>168.71</td>\n      <td>169.64</td>\n      <td>-0.93</td>\n      <td>-0.758824</td>\n    </tr>\n    <tr>\n      <th>2017-08-24</th>\n      <td>167.74</td>\n      <td>168.71</td>\n      <td>-0.97</td>\n      <td>0.497274</td>\n    </tr>\n    <tr>\n      <th>2017-08-25</th>\n      <td>166.32</td>\n      <td>167.74</td>\n      <td>-1.42</td>\n      <td>-0.651096</td>\n    </tr>\n    <tr>\n      <th>2017-08-28</th>\n      <td>167.24</td>\n      <td>166.32</td>\n      <td>0.92</td>\n      <td>-0.321850</td>\n    </tr>\n  </tbody>\n</table>\n</div>"
     },
     "execution_count": 73,
     "metadata": {},
     "output_type": "execute_result"
    }
   ],
   "source": [
    "df['5 day % return'] = (df['Price'] - df['Price'].shift(5))*100 / df['Price'].shift(5)\n",
    "\n",
    "df"
   ],
   "metadata": {
    "collapsed": false,
    "ExecuteTime": {
     "end_time": "2024-05-19T15:59:25.065400Z",
     "start_time": "2024-05-19T15:59:25.055666Z"
    }
   },
   "id": "9e935f9b0cfcbd74",
   "execution_count": 73
  },
  {
   "cell_type": "code",
   "outputs": [
    {
     "data": {
      "text/plain": "DatetimeIndex(['2017-08-15', '2017-08-16', '2017-08-17', '2017-08-18',\n               '2017-08-21', '2017-08-22', '2017-08-23', '2017-08-24',\n               '2017-08-25', '2017-08-28'],\n              dtype='datetime64[ns]', name='Date', freq=None)"
     },
     "execution_count": 74,
     "metadata": {},
     "output_type": "execute_result"
    }
   ],
   "source": [
    "df =  df[['Price']]\n",
    "\n",
    "df.index"
   ],
   "metadata": {
    "collapsed": false,
    "ExecuteTime": {
     "end_time": "2024-05-19T15:59:25.072288Z",
     "start_time": "2024-05-19T15:59:25.066747Z"
    }
   },
   "id": "4984b5fff56b2766",
   "execution_count": 74
  },
  {
   "cell_type": "code",
   "outputs": [
    {
     "data": {
      "text/plain": "DatetimeIndex(['2017-08-15', '2017-08-16', '2017-08-17', '2017-08-18',\n               '2017-08-21', '2017-08-22', '2017-08-23', '2017-08-24',\n               '2017-08-25', '2017-08-28'],\n              dtype='datetime64[ns]', freq='B')"
     },
     "execution_count": 75,
     "metadata": {},
     "output_type": "execute_result"
    }
   ],
   "source": [
    "df.index = pd.date_range(start =  '2017-08-15' , periods = 10 , freq='B')\n",
    "\n",
    "df.index"
   ],
   "metadata": {
    "collapsed": false,
    "ExecuteTime": {
     "end_time": "2024-05-19T15:59:25.078755Z",
     "start_time": "2024-05-19T15:59:25.073297Z"
    }
   },
   "id": "a03e2f927915dc17",
   "execution_count": 75
  },
  {
   "cell_type": "code",
   "outputs": [
    {
     "data": {
      "text/plain": "             Price\n2017-08-16  171.00\n2017-08-17  170.00\n2017-08-18  166.91\n2017-08-19  167.41\n2017-08-22  167.78\n2017-08-23  169.64\n2017-08-24  168.71\n2017-08-25  167.74\n2017-08-26  166.32\n2017-08-29  167.24",
      "text/html": "<div>\n<style scoped>\n    .dataframe tbody tr th:only-of-type {\n        vertical-align: middle;\n    }\n\n    .dataframe tbody tr th {\n        vertical-align: top;\n    }\n\n    .dataframe thead th {\n        text-align: right;\n    }\n</style>\n<table border=\"1\" class=\"dataframe\">\n  <thead>\n    <tr style=\"text-align: right;\">\n      <th></th>\n      <th>Price</th>\n    </tr>\n  </thead>\n  <tbody>\n    <tr>\n      <th>2017-08-16</th>\n      <td>171.00</td>\n    </tr>\n    <tr>\n      <th>2017-08-17</th>\n      <td>170.00</td>\n    </tr>\n    <tr>\n      <th>2017-08-18</th>\n      <td>166.91</td>\n    </tr>\n    <tr>\n      <th>2017-08-19</th>\n      <td>167.41</td>\n    </tr>\n    <tr>\n      <th>2017-08-22</th>\n      <td>167.78</td>\n    </tr>\n    <tr>\n      <th>2017-08-23</th>\n      <td>169.64</td>\n    </tr>\n    <tr>\n      <th>2017-08-24</th>\n      <td>168.71</td>\n    </tr>\n    <tr>\n      <th>2017-08-25</th>\n      <td>167.74</td>\n    </tr>\n    <tr>\n      <th>2017-08-26</th>\n      <td>166.32</td>\n    </tr>\n    <tr>\n      <th>2017-08-29</th>\n      <td>167.24</td>\n    </tr>\n  </tbody>\n</table>\n</div>"
     },
     "execution_count": 76,
     "metadata": {},
     "output_type": "execute_result"
    }
   ],
   "source": [
    "df.shift(1 , freq='D')"
   ],
   "metadata": {
    "collapsed": false,
    "ExecuteTime": {
     "end_time": "2024-05-19T15:59:25.087028Z",
     "start_time": "2024-05-19T15:59:25.079953Z"
    }
   },
   "id": "e1b21706105cfcf0",
   "execution_count": 76
  },
  {
   "cell_type": "code",
   "outputs": [
    {
     "data": {
      "text/plain": "DatetimeIndex(['2023-12-18 00:00:00+00:00', '2023-12-19 00:00:00+00:00',\n               '2023-12-20 00:00:00+00:00'],\n              dtype='datetime64[ns, Europe/London]', freq='D')"
     },
     "execution_count": 77,
     "metadata": {},
     "output_type": "execute_result"
    }
   ],
   "source": [
    "rng = pd.date_range(\"18/12/2023 00:00\", periods=3, freq=\"D\", tz=\"Europe/London\")\n",
    "rng"
   ],
   "metadata": {
    "collapsed": false,
    "ExecuteTime": {
     "end_time": "2024-05-19T15:59:25.099999Z",
     "start_time": "2024-05-19T15:59:25.088045Z"
    }
   },
   "id": "c1080249ff386151",
   "execution_count": 77
  },
  {
   "cell_type": "code",
   "outputs": [
    {
     "data": {
      "text/plain": "DatetimeIndex(['2023-12-20 00:00:00+09:00', '2023-12-21 00:00:00+09:00',\n               '2023-12-22 00:00:00+09:00'],\n              dtype='datetime64[ns, Asia/Tokyo]', freq=None)"
     },
     "execution_count": 78,
     "metadata": {},
     "output_type": "execute_result"
    }
   ],
   "source": [
    "rng =  pd.date_range(\"20/12/2023 00:00\", periods=3, freq=\"D\")\n",
    "rng = rng.tz_localize(\"Asia/Tokyo\")\n",
    "rng"
   ],
   "metadata": {
    "collapsed": false,
    "ExecuteTime": {
     "end_time": "2024-05-19T15:59:25.111502Z",
     "start_time": "2024-05-19T15:59:25.104993Z"
    }
   },
   "id": "225fc69f85674eb1",
   "execution_count": 78
  },
  {
   "cell_type": "code",
   "outputs": [],
   "source": [],
   "metadata": {
    "collapsed": false,
    "ExecuteTime": {
     "end_time": "2024-05-19T15:59:25.115457Z",
     "start_time": "2024-05-19T15:59:25.112511Z"
    }
   },
   "id": "e48971826ca2680f",
   "execution_count": 78
  }
 ],
 "metadata": {
  "kernelspec": {
   "display_name": "Python 3",
   "language": "python",
   "name": "python3"
  },
  "language_info": {
   "codemirror_mode": {
    "name": "ipython",
    "version": 2
   },
   "file_extension": ".py",
   "mimetype": "text/x-python",
   "name": "python",
   "nbconvert_exporter": "python",
   "pygments_lexer": "ipython2",
   "version": "2.7.6"
  }
 },
 "nbformat": 4,
 "nbformat_minor": 5
}

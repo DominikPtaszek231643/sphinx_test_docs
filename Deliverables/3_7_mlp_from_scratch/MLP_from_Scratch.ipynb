{
 "cells": [
  {
   "cell_type": "code",
   "execution_count": 22,
   "id": "initial_id",
   "metadata": {
    "collapsed": true,
    "ExecuteTime": {
     "end_time": "2024-04-09T09:08:28.798822Z",
     "start_time": "2024-04-09T09:08:28.792796Z"
    }
   },
   "outputs": [],
   "source": [
    "def split_path_name(path):\n",
    "    path = str(path).split('\\\\')[-1]\n",
    "\n",
    "    return path"
   ]
  },
  {
   "cell_type": "code",
   "outputs": [],
   "source": [
    "def transform_labels(labels_list):\n",
    "    \n",
    "    unique_values = list(set(labels_list))\n",
    "    \n",
    "    for idx, v in enumerate(unique_values):\n",
    "        labels_list = list(map(lambda x: idx if v == x else x ,  labels_list))\n",
    "        \n",
    "    return labels_list"
   ],
   "metadata": {
    "collapsed": false,
    "ExecuteTime": {
     "end_time": "2024-04-09T09:08:28.814254Z",
     "start_time": "2024-04-09T09:08:28.808254Z"
    }
   },
   "id": "df80a31535179962",
   "execution_count": 23
  },
  {
   "cell_type": "code",
   "outputs": [],
   "source": [
    "from pathlib import Path\n",
    "import tensorflow as tf\n",
    "import skimage as ski\n",
    "import numpy as np\n",
    "from skimage.color import gray2rgb\n",
    "\n",
    "\n",
    "keras = tf.keras \n",
    "\n",
    "\n",
    "def import_images(paths:str ='dataset' , target_size:(int,int) = (64,64) ) -> [dict,dict,dict] :\n",
    "    paths = Path(paths)\n",
    "\n",
    "    images = {\n",
    "        'folders': {},\n",
    "        'input_values' : {}\n",
    "    }\n",
    "    \n",
    "    \n",
    "\n",
    "    for class_path in Path(paths).iterdir():\n",
    "\n",
    "        class_path_splitted = split_path_name(class_path)\n",
    "\n",
    "        images['folders'][class_path_splitted] = {}\n",
    "        \n",
    "        \n",
    "        images['input_values'][class_path_splitted] = {\n",
    "            'imgs':[],\n",
    "            'labels':[]\n",
    "        }\n",
    "\n",
    "        for dir_name in Path(class_path).iterdir():\n",
    "\n",
    "            dir_name_splitted = split_path_name(dir_name)\n",
    "\n",
    "            images['folders'][class_path_splitted][dir_name_splitted] = []\n",
    "            \n",
    "            \n",
    "            for file_name in Path(dir_name).iterdir():\n",
    "                try :\n",
    "                    \n",
    "                    print(file_name)\n",
    "                    file_extension = str(file_name).split('.')[-1]\n",
    "                    if file_extension != 'jpeg' and file_extension != 'jpg':\n",
    "                        raise Exception( f'You can not have forbidden file  extensions in dataset, this file is incorrect : {file_name}')\n",
    "    \n",
    "                    \n",
    "                    img = ski.io.imread(str(file_name))\n",
    "                    \n",
    "                    if len(img.shape) == 2:\n",
    "                          img = gray2rgb(img)\n",
    "                        \n",
    "                    elif len(img.shape) > 3:\n",
    "                        raise Exception(f'This image is not correct, it has more than 3 dimensions: {file_name}')\n",
    "                    \n",
    "                    image_resized = ski.transform.resize(img, target_size)  \n",
    "                    img_as_float = ski.util.img_as_float(image_resized)\n",
    "                    \n",
    "                except Exception as e:\n",
    "                    print(e)\n",
    "                    return\n",
    "                \n",
    "                \n",
    "              \n",
    "                \n",
    "           \n",
    "                images['folders'][class_path_splitted][dir_name_splitted].append(img_as_float)\n",
    "                \n",
    "             \n",
    "                images['input_values'][class_path_splitted]['imgs'].append(img_as_float)\n",
    "                \n",
    "                images['input_values'][class_path_splitted]['labels'].append(dir_name_splitted)\n",
    "                \n",
    "        \n",
    "        images['input_values'][class_path_splitted]['imgs'] =  np.array(images['input_values'][class_path_splitted]['imgs'])\n",
    "        \n",
    "        \n",
    "        one_hot_encoded = keras.utils.to_categorical(transform_labels(   images['input_values'][class_path_splitted]['labels']) , num_classes = 2 )\n",
    "       \n",
    "        images['input_values'][class_path_splitted]['labels'] =    one_hot_encoded\n",
    "                   \n",
    "    \n",
    "    return  images['input_values'] , images['folders'],  images\n",
    "\n",
    "\n"
   ],
   "metadata": {
    "collapsed": false,
    "ExecuteTime": {
     "end_time": "2024-04-09T09:08:28.830254Z",
     "start_time": "2024-04-09T09:08:28.816257Z"
    }
   },
   "id": "a61993c5844125cd",
   "execution_count": 24
  },
  {
   "cell_type": "code",
   "outputs": [
    {
     "name": "stdout",
     "output_type": "stream",
     "text": [
      "dataset\\test\\empty_class\\empty_classroom_100.jpeg\n",
      "dataset\\test\\empty_class\\empty_classroom_2.jpeg\n",
      "dataset\\test\\empty_class\\empty_classroom_20.jpeg\n",
      "dataset\\test\\empty_class\\empty_classroom_23.jpeg\n",
      "dataset\\test\\empty_class\\empty_classroom_33.jpeg\n",
      "dataset\\test\\empty_class\\empty_classroom_36.jpeg\n",
      "dataset\\test\\empty_class\\empty_classroom_4.jpeg\n",
      "dataset\\test\\empty_class\\empty_classroom_70.jpeg\n",
      "dataset\\test\\empty_class\\empty_classroom_81.jpeg\n",
      "dataset\\test\\empty_class\\empty_classroom_86.jpeg\n",
      "dataset\\test\\empty_class\\empty_classroom_93.jpeg\n",
      "dataset\\test\\full_class\\full_classroom_100.jpeg\n",
      "dataset\\test\\full_class\\full_classroom_19.jpeg\n",
      "dataset\\test\\full_class\\full_classroom_2.jpeg\n",
      "dataset\\test\\full_class\\full_classroom_22.jpeg\n",
      "dataset\\test\\full_class\\full_classroom_32.jpeg\n",
      "dataset\\test\\full_class\\full_classroom_35.jpeg\n",
      "dataset\\test\\full_class\\full_classroom_39.jpeg\n",
      "dataset\\test\\full_class\\full_classroom_7.jpeg\n",
      "dataset\\test\\full_class\\full_classroom_80.jpeg\n",
      "dataset\\test\\full_class\\full_classroom_85.jpeg\n",
      "dataset\\test\\full_class\\full_classroom_92.jpeg\n",
      "dataset\\train\\empty_class\\empty_classroom_1.jpg\n",
      "dataset\\train\\empty_class\\empty_classroom_10.jpeg\n",
      "dataset\\train\\empty_class\\empty_classroom_12.jpeg\n",
      "dataset\\train\\empty_class\\empty_classroom_13.jpg\n",
      "dataset\\train\\empty_class\\empty_classroom_14.jpeg\n",
      "dataset\\train\\empty_class\\empty_classroom_15.jpeg\n",
      "dataset\\train\\empty_class\\empty_classroom_16.jpeg\n",
      "dataset\\train\\empty_class\\empty_classroom_17.jpeg\n",
      "dataset\\train\\empty_class\\empty_classroom_19.jpeg\n",
      "dataset\\train\\empty_class\\empty_classroom_21.jpeg\n",
      "dataset\\train\\empty_class\\empty_classroom_22.jpeg\n",
      "dataset\\train\\empty_class\\empty_classroom_24.jpeg\n",
      "dataset\\train\\empty_class\\empty_classroom_25.jpeg\n",
      "dataset\\train\\empty_class\\empty_classroom_27.jpeg\n",
      "dataset\\train\\empty_class\\empty_classroom_28.jpg\n",
      "dataset\\train\\empty_class\\empty_classroom_29.jpeg\n",
      "dataset\\train\\empty_class\\empty_classroom_3.jpeg\n",
      "dataset\\train\\empty_class\\empty_classroom_31.jpeg\n",
      "dataset\\train\\empty_class\\empty_classroom_35.jpeg\n",
      "dataset\\train\\empty_class\\empty_classroom_37.jpeg\n",
      "dataset\\train\\empty_class\\empty_classroom_38.jpeg\n",
      "dataset\\train\\empty_class\\empty_classroom_39.jpeg\n",
      "dataset\\train\\empty_class\\empty_classroom_40.jpeg\n",
      "dataset\\train\\empty_class\\empty_classroom_41.jpeg\n",
      "dataset\\train\\empty_class\\empty_classroom_42.jpeg\n",
      "dataset\\train\\empty_class\\empty_classroom_43.jpg\n",
      "dataset\\train\\empty_class\\empty_classroom_44.jpeg\n",
      "dataset\\train\\empty_class\\empty_classroom_45.jpeg\n",
      "dataset\\train\\empty_class\\empty_classroom_46.jpeg\n",
      "dataset\\train\\empty_class\\empty_classroom_47.jpeg\n",
      "dataset\\train\\empty_class\\empty_classroom_48.jpeg\n",
      "dataset\\train\\empty_class\\empty_classroom_49.jpeg\n",
      "dataset\\train\\empty_class\\empty_classroom_5.jpeg\n",
      "dataset\\train\\empty_class\\empty_classroom_50.jpeg\n",
      "dataset\\train\\empty_class\\empty_classroom_51.jpeg\n",
      "dataset\\train\\empty_class\\empty_classroom_52.jpeg\n",
      "dataset\\train\\empty_class\\empty_classroom_53.jpeg\n",
      "dataset\\train\\empty_class\\empty_classroom_54.jpeg\n",
      "dataset\\train\\empty_class\\empty_classroom_55.jpeg\n",
      "dataset\\train\\empty_class\\empty_classroom_58.jpeg\n",
      "dataset\\train\\empty_class\\empty_classroom_59.jpeg\n",
      "dataset\\train\\empty_class\\empty_classroom_60.jpeg\n",
      "dataset\\train\\empty_class\\empty_classroom_61.jpeg\n",
      "dataset\\train\\empty_class\\empty_classroom_62.jpeg\n",
      "dataset\\train\\empty_class\\empty_classroom_63.jpg\n",
      "dataset\\train\\empty_class\\empty_classroom_64.jpeg\n",
      "dataset\\train\\empty_class\\empty_classroom_65.jpeg\n",
      "dataset\\train\\empty_class\\empty_classroom_67.jpeg\n",
      "dataset\\train\\empty_class\\empty_classroom_68.jpeg\n",
      "dataset\\train\\empty_class\\empty_classroom_69.jpeg\n",
      "dataset\\train\\empty_class\\empty_classroom_7.jpeg\n",
      "dataset\\train\\empty_class\\empty_classroom_71.jpeg\n",
      "dataset\\train\\empty_class\\empty_classroom_73.jpeg\n",
      "dataset\\train\\empty_class\\empty_classroom_74.jpeg\n",
      "dataset\\train\\empty_class\\empty_classroom_75.jpeg\n",
      "dataset\\train\\empty_class\\empty_classroom_77.jpeg\n",
      "dataset\\train\\empty_class\\empty_classroom_79.jpeg\n",
      "dataset\\train\\empty_class\\empty_classroom_8.jpg\n",
      "dataset\\train\\empty_class\\empty_classroom_80.jpeg\n",
      "dataset\\train\\empty_class\\empty_classroom_82.jpeg\n",
      "dataset\\train\\empty_class\\empty_classroom_83.jpeg\n",
      "dataset\\train\\empty_class\\empty_classroom_84.jpg\n",
      "dataset\\train\\empty_class\\empty_classroom_87.jpeg\n",
      "dataset\\train\\empty_class\\empty_classroom_88.jpeg\n",
      "dataset\\train\\empty_class\\empty_classroom_90.jpeg\n",
      "dataset\\train\\empty_class\\empty_classroom_91.jpeg\n",
      "dataset\\train\\empty_class\\empty_classroom_92.jpeg\n",
      "dataset\\train\\empty_class\\empty_classroom_94.jpeg\n",
      "dataset\\train\\empty_class\\empty_classroom_98.jpeg\n",
      "dataset\\train\\empty_class\\empty_classroom_99.jpeg\n",
      "dataset\\train\\full_class\\full_classroom_1.jpeg\n",
      "dataset\\train\\full_class\\full_classroom_10.jpeg\n",
      "dataset\\train\\full_class\\full_classroom_11.jpeg\n",
      "dataset\\train\\full_class\\full_classroom_12.jpeg\n",
      "dataset\\train\\full_class\\full_classroom_13.jpeg\n",
      "dataset\\train\\full_class\\full_classroom_14.jpeg\n",
      "dataset\\train\\full_class\\full_classroom_15.jpeg\n",
      "dataset\\train\\full_class\\full_classroom_16.jpeg\n",
      "dataset\\train\\full_class\\full_classroom_18.jpeg\n",
      "dataset\\train\\full_class\\full_classroom_20.jpeg\n",
      "dataset\\train\\full_class\\full_classroom_21.jpeg\n",
      "dataset\\train\\full_class\\full_classroom_23.jpeg\n",
      "dataset\\train\\full_class\\full_classroom_24.jpeg\n",
      "dataset\\train\\full_class\\full_classroom_26.jpeg\n",
      "dataset\\train\\full_class\\full_classroom_27.jpeg\n",
      "dataset\\train\\full_class\\full_classroom_28.jpeg\n",
      "dataset\\train\\full_class\\full_classroom_29.jpeg\n",
      "dataset\\train\\full_class\\full_classroom_30.jpeg\n",
      "dataset\\train\\full_class\\full_classroom_34.jpeg\n",
      "dataset\\train\\full_class\\full_classroom_36.jpeg\n",
      "dataset\\train\\full_class\\full_classroom_37.jpeg\n",
      "dataset\\train\\full_class\\full_classroom_38.jpeg\n",
      "dataset\\train\\full_class\\full_classroom_4.jpeg\n",
      "dataset\\train\\full_class\\full_classroom_40.jpeg\n",
      "dataset\\train\\full_class\\full_classroom_41.jpeg\n",
      "dataset\\train\\full_class\\full_classroom_42.jpeg\n",
      "dataset\\train\\full_class\\full_classroom_43.jpeg\n",
      "dataset\\train\\full_class\\full_classroom_44.jpeg\n",
      "dataset\\train\\full_class\\full_classroom_45.jpeg\n",
      "dataset\\train\\full_class\\full_classroom_46.jpeg\n",
      "dataset\\train\\full_class\\full_classroom_47.jpeg\n",
      "dataset\\train\\full_class\\full_classroom_48.jpeg\n",
      "dataset\\train\\full_class\\full_classroom_49.jpeg\n",
      "dataset\\train\\full_class\\full_classroom_5.jpeg\n",
      "dataset\\train\\full_class\\full_classroom_50.jpeg\n",
      "dataset\\train\\full_class\\full_classroom_51.jpeg\n",
      "dataset\\train\\full_class\\full_classroom_52.jpeg\n",
      "dataset\\train\\full_class\\full_classroom_53.jpeg\n",
      "dataset\\train\\full_class\\full_classroom_54.jpeg\n",
      "dataset\\train\\full_class\\full_classroom_57.jpeg\n",
      "dataset\\train\\full_class\\full_classroom_58.jpeg\n",
      "dataset\\train\\full_class\\full_classroom_6.jpeg\n",
      "dataset\\train\\full_class\\full_classroom_60.jpeg\n",
      "dataset\\train\\full_class\\full_classroom_61.jpeg\n",
      "dataset\\train\\full_class\\full_classroom_62.jpeg\n",
      "dataset\\train\\full_class\\full_classroom_63.jpeg\n",
      "dataset\\train\\full_class\\full_classroom_64.jpeg\n",
      "dataset\\train\\full_class\\full_classroom_66.jpeg\n",
      "dataset\\train\\full_class\\full_classroom_67.jpeg\n",
      "dataset\\train\\full_class\\full_classroom_68.jpeg\n",
      "dataset\\train\\full_class\\full_classroom_69.jpeg\n",
      "dataset\\train\\full_class\\full_classroom_70.jpeg\n",
      "dataset\\train\\full_class\\full_classroom_72.jpeg\n",
      "dataset\\train\\full_class\\full_classroom_73.jpeg\n",
      "dataset\\train\\full_class\\full_classroom_74.jpeg\n",
      "dataset\\train\\full_class\\full_classroom_76.jpeg\n",
      "dataset\\train\\full_class\\full_classroom_78.jpeg\n",
      "dataset\\train\\full_class\\full_classroom_79.jpeg\n",
      "dataset\\train\\full_class\\full_classroom_8.jpeg\n",
      "dataset\\train\\full_class\\full_classroom_81.jpeg\n",
      "dataset\\train\\full_class\\full_classroom_82.jpeg\n",
      "dataset\\train\\full_class\\full_classroom_83.jpeg\n",
      "dataset\\train\\full_class\\full_classroom_84.jpeg\n",
      "dataset\\train\\full_class\\full_classroom_86.jpeg\n",
      "dataset\\train\\full_class\\full_classroom_87.jpeg\n",
      "dataset\\train\\full_class\\full_classroom_88.jpeg\n",
      "dataset\\train\\full_class\\full_classroom_91.jpeg\n",
      "dataset\\train\\full_class\\full_classroom_94.jpeg\n",
      "dataset\\train\\full_class\\full_classroom_96.jpeg\n",
      "dataset\\train\\full_class\\full_classroom_98.jpeg\n",
      "dataset\\train\\full_class\\full_classroom_99.jpeg\n",
      "dataset\\val\\empty_class\\empty_classroom_0.jpg\n",
      "dataset\\val\\empty_class\\empty_classroom_11.jpeg\n",
      "dataset\\val\\empty_class\\empty_classroom_18.jpeg\n",
      "dataset\\val\\empty_class\\empty_classroom_26.jpg\n",
      "dataset\\val\\empty_class\\empty_classroom_30.jpeg\n",
      "dataset\\val\\empty_class\\empty_classroom_32.jpeg\n",
      "dataset\\val\\empty_class\\empty_classroom_34.jpeg\n",
      "dataset\\val\\empty_class\\empty_classroom_56.jpeg\n",
      "dataset\\val\\empty_class\\empty_classroom_57.jpg\n",
      "dataset\\val\\empty_class\\empty_classroom_6.jpeg\n",
      "dataset\\val\\empty_class\\empty_classroom_66.jpeg\n",
      "dataset\\val\\empty_class\\empty_classroom_72.jpeg\n",
      "dataset\\val\\empty_class\\empty_classroom_76.jpeg\n",
      "dataset\\val\\empty_class\\empty_classroom_78.jpeg\n",
      "dataset\\val\\empty_class\\empty_classroom_85.jpeg\n",
      "dataset\\val\\empty_class\\empty_classroom_89.jpeg\n",
      "dataset\\val\\empty_class\\empty_classroom_9.jpeg\n",
      "dataset\\val\\empty_class\\empty_classroom_95.jpeg\n",
      "dataset\\val\\empty_class\\empty_classroom_96.jpeg\n",
      "dataset\\val\\empty_class\\empty_classroom_97.jpeg\n",
      "dataset\\val\\full_class\\full_classroom_0.jpeg\n",
      "dataset\\val\\full_class\\full_classroom_101.jpeg\n",
      "dataset\\val\\full_class\\full_classroom_17.jpeg\n",
      "dataset\\val\\full_class\\full_classroom_25.jpeg\n",
      "dataset\\val\\full_class\\full_classroom_3.jpeg\n",
      "dataset\\val\\full_class\\full_classroom_31.jpeg\n",
      "dataset\\val\\full_class\\full_classroom_33.jpeg\n",
      "dataset\\val\\full_class\\full_classroom_55.jpeg\n",
      "dataset\\val\\full_class\\full_classroom_56.jpeg\n",
      "dataset\\val\\full_class\\full_classroom_59.jpeg\n",
      "dataset\\val\\full_class\\full_classroom_65.jpeg\n",
      "dataset\\val\\full_class\\full_classroom_71.jpeg\n",
      "dataset\\val\\full_class\\full_classroom_75.jpeg\n",
      "dataset\\val\\full_class\\full_classroom_77.jpeg\n",
      "dataset\\val\\full_class\\full_classroom_89.jpeg\n",
      "dataset\\val\\full_class\\full_classroom_9.jpeg\n",
      "dataset\\val\\full_class\\full_classroom_90.jpeg\n",
      "dataset\\val\\full_class\\full_classroom_93.jpeg\n",
      "dataset\\val\\full_class\\full_classroom_95.jpeg\n",
      "dataset\\val\\full_class\\full_classroom_97.jpeg\n"
     ]
    }
   ],
   "source": [
    "\n",
    "\n",
    "input_values , all_folders, all_imgs  = import_images()"
   ],
   "metadata": {
    "collapsed": false,
    "ExecuteTime": {
     "end_time": "2024-04-09T09:10:01.209059Z",
     "start_time": "2024-04-09T09:08:28.838255Z"
    }
   },
   "id": "2674897145e658b",
   "execution_count": 25
  },
  {
   "cell_type": "code",
   "outputs": [],
   "source": [
    "X_train,y_train = input_values['train']['imgs'], input_values['train']['labels']\n"
   ],
   "metadata": {
    "collapsed": false,
    "ExecuteTime": {
     "end_time": "2024-04-09T09:10:01.225067Z",
     "start_time": "2024-04-09T09:10:01.211045Z"
    }
   },
   "id": "3184948ad4357137",
   "execution_count": 26
  },
  {
   "cell_type": "code",
   "outputs": [
    {
     "data": {
      "text/plain": "((141, 64, 64, 3), (141, 2))"
     },
     "execution_count": 27,
     "metadata": {},
     "output_type": "execute_result"
    }
   ],
   "source": [
    "X_train.shape, y_train.shape"
   ],
   "metadata": {
    "collapsed": false,
    "ExecuteTime": {
     "end_time": "2024-04-09T09:10:01.240229Z",
     "start_time": "2024-04-09T09:10:01.226069Z"
    }
   },
   "id": "972f26af73b09b49",
   "execution_count": 27
  },
  {
   "cell_type": "code",
   "outputs": [],
   "source": [
    "X_val,y_val = input_values['val']['imgs'], input_values['val']['labels']"
   ],
   "metadata": {
    "collapsed": false,
    "ExecuteTime": {
     "end_time": "2024-04-09T09:10:01.256235Z",
     "start_time": "2024-04-09T09:10:01.241234Z"
    }
   },
   "id": "47d78390834f050e",
   "execution_count": 28
  },
  {
   "cell_type": "code",
   "outputs": [],
   "source": [],
   "metadata": {
    "collapsed": false,
    "ExecuteTime": {
     "end_time": "2024-04-09T09:10:01.271664Z",
     "start_time": "2024-04-09T09:10:01.258238Z"
    }
   },
   "id": "d9d7cebab6ffabb7",
   "execution_count": 28
  },
  {
   "cell_type": "code",
   "outputs": [],
   "source": [
    "X_test,y_test = input_values['test']['imgs'], input_values['test']['labels']"
   ],
   "metadata": {
    "collapsed": false,
    "ExecuteTime": {
     "end_time": "2024-04-09T09:10:01.287012Z",
     "start_time": "2024-04-09T09:10:01.274641Z"
    }
   },
   "id": "8f14d6756fdb2fda",
   "execution_count": 29
  },
  {
   "cell_type": "code",
   "outputs": [],
   "source": [
    "X_train_flat = X_train.reshape(X_train.shape[0], -1)\n",
    "X_val_flat = X_val.reshape(X_val.shape[0], -1)\n",
    "X_test_flat = X_test.reshape(X_test.shape[0], -1)\n",
    "\n"
   ],
   "metadata": {
    "collapsed": false,
    "ExecuteTime": {
     "end_time": "2024-04-09T09:10:01.302333Z",
     "start_time": "2024-04-09T09:10:01.287994Z"
    }
   },
   "id": "6c18c884e41b4e25",
   "execution_count": 30
  },
  {
   "cell_type": "code",
   "outputs": [
    {
     "data": {
      "text/plain": "((141, 12288), (141, 2), (40, 12288), (40, 2), (22, 12288), (22, 2))"
     },
     "execution_count": 31,
     "metadata": {},
     "output_type": "execute_result"
    }
   ],
   "source": [
    "X_train_flat.shape, y_train.shape, X_val_flat.shape, y_val.shape, X_test_flat.shape, y_test.shape"
   ],
   "metadata": {
    "collapsed": false,
    "ExecuteTime": {
     "end_time": "2024-04-09T09:10:01.317783Z",
     "start_time": "2024-04-09T09:10:01.303343Z"
    }
   },
   "id": "b4b77a62fd5cdc",
   "execution_count": 31
  },
  {
   "cell_type": "code",
   "outputs": [],
   "source": [
    "# Task 1\n",
    "def initializer(nn_architecture):\n",
    "    '''\n",
    "    Given\n",
    "    - the number of layers \n",
    "    - the number of units in each layer\n",
    "    initializes network parameters (weights and biases)\n",
    "    \n",
    "    Arguments\n",
    "        nn_architecture: a list of integers\n",
    "                         length of the list is the number of layers\n",
    "                         each item in the list specifies \n",
    "                         the number of units in that layer\n",
    "    Returns\n",
    "        weights: list of numpy arrays, w0, w1, ...\n",
    "        biases: list of numpy arrays, b0, b1, ...\n",
    "        \n",
    "    '''\n",
    "    weights = []\n",
    "    biases = []\n",
    "    \n",
    "    for idx, layer in enumerate(nn_architecture):\n",
    "        input_shape = layer\n",
    "        \n",
    "        if idx + 1 < len(nn_architecture):\n",
    "            output_shape = nn_architecture[idx +1 ]\n",
    "            weights.append(np.random.randn(input_shape , output_shape))\n",
    "            biases.append(np.random.randn(1 , output_shape ))\n",
    "           \n",
    "    return weights, biases"
   ],
   "metadata": {
    "collapsed": false,
    "ExecuteTime": {
     "end_time": "2024-04-09T09:10:01.333763Z",
     "start_time": "2024-04-09T09:10:01.318764Z"
    }
   },
   "id": "9ca184fb2f568cc0",
   "execution_count": 32
  },
  {
   "cell_type": "code",
   "outputs": [],
   "source": [
    "input_dim = X_train_flat.shape[1]"
   ],
   "metadata": {
    "collapsed": false,
    "ExecuteTime": {
     "end_time": "2024-04-09T09:10:01.348763Z",
     "start_time": "2024-04-09T09:10:01.334763Z"
    }
   },
   "id": "aa872a8b05dc3349",
   "execution_count": 33
  },
  {
   "cell_type": "code",
   "outputs": [
    {
     "data": {
      "text/plain": "12288"
     },
     "execution_count": 34,
     "metadata": {},
     "output_type": "execute_result"
    }
   ],
   "source": [
    "input_dim"
   ],
   "metadata": {
    "collapsed": false,
    "ExecuteTime": {
     "end_time": "2024-04-09T09:10:01.364479Z",
     "start_time": "2024-04-09T09:10:01.350019Z"
    }
   },
   "id": "cc9d595bcbed14c5",
   "execution_count": 34
  },
  {
   "cell_type": "code",
   "outputs": [],
   "source": [
    "weights, biases = initializer([input_dim, 30, 2])"
   ],
   "metadata": {
    "collapsed": false,
    "ExecuteTime": {
     "end_time": "2024-04-09T09:10:01.380157Z",
     "start_time": "2024-04-09T09:10:01.365480Z"
    }
   },
   "id": "4b67b751188e4e27",
   "execution_count": 35
  },
  {
   "cell_type": "code",
   "outputs": [
    {
     "data": {
      "text/plain": "((12288, 30), (1, 30))"
     },
     "execution_count": 36,
     "metadata": {},
     "output_type": "execute_result"
    }
   ],
   "source": [
    "weights[0].shape, biases[0].shape"
   ],
   "metadata": {
    "collapsed": false,
    "ExecuteTime": {
     "end_time": "2024-04-09T09:10:01.395402Z",
     "start_time": "2024-04-09T09:10:01.382643Z"
    }
   },
   "id": "5d42223da3dcf3b2",
   "execution_count": 36
  },
  {
   "cell_type": "code",
   "outputs": [],
   "source": [],
   "metadata": {
    "collapsed": false,
    "ExecuteTime": {
     "end_time": "2024-04-09T09:10:01.411268Z",
     "start_time": "2024-04-09T09:10:01.397404Z"
    }
   },
   "id": "92edb289dda4792a",
   "execution_count": 36
  }
 ],
 "metadata": {
  "kernelspec": {
   "display_name": "Python 3",
   "language": "python",
   "name": "python3"
  },
  "language_info": {
   "codemirror_mode": {
    "name": "ipython",
    "version": 2
   },
   "file_extension": ".py",
   "mimetype": "text/x-python",
   "name": "python",
   "nbconvert_exporter": "python",
   "pygments_lexer": "ipython2",
   "version": "2.7.6"
  }
 },
 "nbformat": 4,
 "nbformat_minor": 5
}

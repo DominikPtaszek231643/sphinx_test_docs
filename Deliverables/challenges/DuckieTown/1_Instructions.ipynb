{
 "cells": [
  {
   "cell_type": "markdown",
   "metadata": {},
   "source": [
    "# 🏎️🦆 Duckietown Data Science & AI Challenge: Start Your Engines! 🦆🚦\n",
    "\n",
    "Hello Aspiring Data Scientists and AI Engineers!\n",
    "\n",
    "Get ready to embark on an exhilarating two-week adventure in the world of self-driving cars with Duckietown—an innovative platform for hands-on learning about artificial intelligence and robotics. 🤖\n",
    "\n",
    "We have a thrilling lineup of challenges designed to test and enhance your skills in applied data science and AI. Whether you're just getting your wheels or you're ready to race at top speed, there's something here for everyone across Year 1 and Year 2.\n",
    "\n",
    "_This is just the beginning, these challenges will be expanded and you will be able to build on your work in these two weeks in the coming blocks._\n",
    "\n",
    "You will only be provided with the bare minimum tools to get you started from then onwards the goal is to develop your independant learning abilities and see how many of the challenges you can complete (you are not expected to complete all the challenges during these two weeks).\n",
    "\n",
    "**🔰 Getting Started Challenges**\n",
    "For those just joining the race, we'll begin with the basics. Your Duckiebot doesn't have a driver's license yet, but you'll help it earn its stripes!\n",
    "\n",
    "Before you get started with duckietown you will need some background information on Open AI Gym environments. Please complete the _getting_started_with_gym.ipynb_ notebook, and then attempt the following challenges:\n",
    "\n",
    "- **Drive Straight**: Code your Duckiebot to move in a straight line.\n",
    "- **Turn Left and Right**: Teach your Duckiebot the fundamentals of turning.\n",
    "- **Display the Observed State**: Show what your Duckiebot sees as it navigates the track.\n",
    "\n",
    "**🟢 Basic Challenges**\n",
    "Once you’ve got the basics down, it’s time to pick up the pace.\n",
    "\n",
    "- **Turn 90 Degrees**: Precision is key. Can your Duckiebot execute a perfect angle turn? (Once you have this down, try with other angles)\n",
    "- **Complete Simple Track**: Navigate a basic track with four 90-degree turns. Can your Duckiebot stay within the lines?\n",
    "- **Race Simple Track**: It's time for speed. Who will top the leaderboard with the fastest lap?\n",
    "\n",
    "**🟡 Medium Challenges**\n",
    "Ready to shift gears? These challenges will require a keener eye and sharper reflexes.\n",
    "\n",
    "- **Lane Detection**: Implement lane detection algorithms to keep your Duckiebot on track.\n",
    "- **Complete Complex Track**: Twist and turns ahead! Program your Duckiebot to handle a more challenging circuit.\n",
    "- **Race Complex Track**: Speed and smarts. Fastest times on a complex track take the glory!\n",
    "\n",
    "**🔴 Advanced Challenges**\n",
    "For the crème de la crème, these tasks will push your Duckiebot—and your coding skills—to their limits.\n",
    "\n",
    "- **Object Detection**: Equip your Duckiebot with the eyes to see and the brain to recognize objects.\n",
    "- **Obstacle Avoidance**: It's not just about going fast, but also about not crashing. Navigate a track with unexpected obstacles.\n",
    "- **Race with Obstacles**: Combine speed, smarts, and situational awareness. Fastest time through an obstacle-laden course wins!\n",
    "\n",
    "Throughout the challenge, we encourage collaboration, experimentation, and, above all, fun! 🎉\n",
    "\n",
    "This is your chance to apply theoretical knowledge to practical tasks, get hands-on experience, and dive deep into the fascinating world of autonomous vehicles.\n",
    "\n",
    "So, start your coding engines, and may the best algorithm win! 🏆\n",
    "\n",
    "Keep an eye out for updates and resources. Let's make these two weeks unforgettable.\n",
    "\n",
    "Happy coding!\n"
   ]
  }
 ],
 "metadata": {
  "kernelspec": {
   "display_name": "Python 3 (ipykernel)",
   "language": "python",
   "name": "python3"
  },
  "language_info": {
   "codemirror_mode": {
    "name": "ipython",
    "version": 3
   },
   "file_extension": ".py",
   "mimetype": "text/x-python",
   "name": "python",
   "nbconvert_exporter": "python",
   "pygments_lexer": "ipython3",
   "version": "3.8.18"
  }
 },
 "nbformat": 4,
 "nbformat_minor": 4
}

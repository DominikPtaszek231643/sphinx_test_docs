{
 "cells": [
  {
   "cell_type": "markdown",
   "metadata": {},
   "source": [
    "# Coming Soon 🦆"
   ]
  },
  {
   "cell_type": "markdown",
   "metadata": {},
   "source": [
    "## Watch this Space"
   ]
  },
  {
   "cell_type": "code",
   "execution_count": 1,
   "metadata": {},
   "outputs": [
    {
     "data": {
      "image/jpeg": "[encoded data removed]",
      "image/png": "[encoded data removed]",
      "text/plain": [
       "<PIL.Image.Image image mode=RGB size=320x240>"
      ]
     },
     "metadata": {},
     "output_type": "display_data"
    },
    {
     "name": "stderr",
     "output_type": "stream",
     "text": [
      "DEBUG:gym-duckietown:No tile found at [1.8104518  0.         1.07087193] (3, 1)\n",
      "DEBUG:gym-duckietown:Invalid pose. Collision free: True On drivable area: False\n",
      "DEBUG:gym-duckietown:safety_factor: 1.3\n",
      "DEBUG:gym-duckietown:pos: [1.74877866 0.         1.14638798]\n",
      "DEBUG:gym-duckietown:l_pos: [1.68710551 0.         1.22190403]\n",
      "DEBUG:gym-duckietown:r_pos: [1.8104518  0.         1.07087193]\n",
      "DEBUG:gym-duckietown:f_pos: [1.6581594  0.         1.07238021]\n",
      "DEBUG:gym-duckietown:No tile found at [1.7789085  0.         1.21037587] (3, 2)\n",
      "DEBUG:gym-duckietown:Invalid pose. Collision free: True On drivable area: False\n",
      "DEBUG:gym-duckietown:safety_factor: 1.3\n",
      "DEBUG:gym-duckietown:pos: [1.71129715 0.         1.14012664]\n",
      "DEBUG:gym-duckietown:l_pos: [1.7789085  0.         1.21037587]\n",
      "DEBUG:gym-duckietown:r_pos: [1.6436858 0.        1.0698774]\n",
      "DEBUG:gym-duckietown:f_pos: [1.62699807 0.         1.22126026]\n",
      "INFO:gym-duckietown:Starting at [1.56095379 0.         0.67665462] 5.226920331688803\n"
     ]
    }
   ],
   "source": [
    "import gym\n",
    "import gym_duckietown\n",
    "from IPython.display import display, clear_output\n",
    "from PIL import Image\n",
    "\n",
    "# Create the environment\n",
    "env = gym.make('Duckietown-small_loop-v0')\n",
    "env.reset()\n",
    "\n",
    "# Helper function to display an image in Jupyter notebook\n",
    "def show_array(arr):\n",
    "    img = Image.fromarray(arr, 'RGB')\n",
    "    # Make the image smaller to increase the FPS of the notebook\n",
    "    img = img.resize((320, 240))\n",
    "    display(img)\n",
    "\n",
    "# Run the simulation until we're done\n",
    "done = False\n",
    "while not done:\n",
    "    action = env.action_space.sample()\n",
    "    observation, reward, done, info = env.step(action)\n",
    "    frame = env.render(mode='rgb_array')\n",
    "\n",
    "    # Clear the previous output and display the new frame\n",
    "    clear_output(wait=True)\n",
    "    show_array(frame)\n",
    "    \n",
    "    if done:\n",
    "        env.reset()\n",
    "\n",
    "env.close()"
   ]
  },
  {
   "cell_type": "code",
   "execution_count": null,
   "metadata": {},
   "outputs": [],
   "source": []
  }
 ],
 "metadata": {
  "kernelspec": {
   "display_name": "Python 3 (ipykernel)",
   "language": "python",
   "name": "python3"
  },
  "language_info": {
   "codemirror_mode": {
    "name": "ipython",
    "version": 3
   },
   "file_extension": ".py",
   "mimetype": "text/x-python",
   "name": "python",
   "nbconvert_exporter": "python",
   "pygments_lexer": "ipython3",
   "version": "3.8.18"
  }
 },
 "nbformat": 4,
 "nbformat_minor": 4
}

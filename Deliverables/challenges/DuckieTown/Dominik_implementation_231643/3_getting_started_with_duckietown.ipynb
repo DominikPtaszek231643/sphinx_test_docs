{
 "cells": [
  {
   "cell_type": "markdown",
   "metadata": {},
   "source": [
    "# Coming Soon 🦆"
   ]
  },
  {
   "cell_type": "markdown",
   "metadata": {},
   "source": [
    "## Watch this Space"
   ]
  },
  {
   "cell_type": "code",
   "execution_count": 1,
   "metadata": {},
   "outputs": [
    {
     "name": "stderr",
     "output_type": "stream",
     "text": [
      "\n",
      "DEBUG:commons:version: 6.2.4 *\n",
      "DEBUG:typing:version: 6.2.3\n",
      "DEBUG:duckietown_world:duckietown-world version 6.4.3 path /usr/local/lib/python3.8/site-packages\n",
      "DEBUG:geometry:PyGeometry-z6 version 2.1.4 path /usr/local/lib/python3.8/site-packages\n",
      "DEBUG:aido_schemas:aido-protocols version 6.1.1 path /usr/local/lib/python3.8/site-packages\n",
      "DEBUG:nodes:version 6.2.17 path /usr/local/lib/python3.8/site-packages pyparsing 3.1.1\n",
      "DEBUG:gym-duckietown:gym-duckietown version 6.1.34 path /gym-duckietown/src\n",
      "\n"
     ]
    },
    {
     "name": "stdout",
     "output_type": "stream",
     "text": [
      "{'audio': ('xaudio2', 'directsound', 'openal', 'pulse', 'silent'), 'debug_font': False, 'debug_gl': True, 'debug_gl_trace': False, 'debug_gl_trace_args': False, 'debug_graphics_batch': False, 'debug_lib': False, 'debug_media': False, 'debug_texture': False, 'debug_trace': False, 'debug_trace_args': False, 'debug_trace_depth': 1, 'debug_trace_flush': True, 'debug_win32': False, 'debug_x11': False, 'graphics_vbo': True, 'shadow_window': True, 'vsync': None, 'xsync': True, 'xlib_fullscreen_override_redirect': False, 'darwin_cocoa': True, 'search_local_libs': True, 'advanced_font_features': False, 'headless': False, 'headless_device': 0}\n"
     ]
    },
    {
     "name": "stderr",
     "output_type": "stream",
     "text": [
      "INFO:gym-duckietown:Information about the graphics card:\n",
      " pyglet_version: 1.5.18\n",
      "    information: dict[4]\n",
      "                 │ \u001b[33mvendor\u001b[0m: Mesa/X.org\n",
      "                 │ \u001b[33mrenderer\u001b[0m: llvmpipe (LLVM 15.0.6, 256 bits)\n",
      "                 │ \u001b[33mversion\u001b[0m: 4.5 (Compatibility Profile) Mesa 22.3.6\n",
      "                 │ \u001b[33mshading-language-version\u001b[0m: 4.50\n",
      "  nvidia_around: True\n",
      "INFO:duckietown_world: data: /usr/local/lib/python3.8/site-packages/duckietown_world/data\n",
      "DEBUG:gym-duckietown:loading map file \"/usr/local/lib/python3.8/site-packages/duckietown_world/data/gd1/maps/small_loop.yaml\"\n",
      "INFO:gym-duckietown:done\n",
      "DEBUG:gym-duckietown:loading mesh 'duckiebot' from file_path '/usr/local/lib/python3.8/site-packages/duckietown_world/data/gd1/meshes/duckiebot/duckiebot.obj'\n",
      "DEBUG:gym-duckietown:loading materials from /usr/local/lib/python3.8/site-packages/duckietown_world/data/gd1/meshes/duckiebot/duckiebot.mtl\n",
      "DEBUG:gym-duckietown:loading texture: /usr/local/lib/python3.8/site-packages/duckietown_world/data/gd1/meshes/duckiebot/circlegrid-square.jpg\n",
      "DEBUG:gym-duckietown:loading texture: /usr/local/lib/python3.8/site-packages/duckietown_world/data/gd1/meshes/duckie/duckie.png\n",
      "DEBUG:gym-duckietown:loading texture: /usr/local/lib/python3.8/site-packages/duckietown_world/data/gd1/textures/tiles-processed/photos/curve_left/texture.jpg\n",
      "DEBUG:gym-duckietown:loading texture: /usr/local/lib/python3.8/site-packages/duckietown_world/data/gd1/textures/tiles-processed/photos/straight/texture.jpg\n",
      "DEBUG:gym-duckietown:loading texture: /usr/local/lib/python3.8/site-packages/duckietown_world/data/gd1/textures/tiles-processed/photos/asphalt/texture.jpg\n",
      "DEBUG:gym-duckietown:[0.90618476 0.         0.60804387] corresponds to tile at (1, 1) which is not drivable: {'coords': (1, 1), 'kind': 'asphalt', 'angle': 1, 'drivable': False, 'texture': <gym_duckietown.graphics.Texture object at 0x7f98077e4cd0>, 'color': array([1.10366728, 0.98388994, 1.04130349, 1.        ])}\n",
      "DEBUG:gym-duckietown:Invalid pose. Collision free: True On drivable area: False\n",
      "DEBUG:gym-duckietown:safety_factor: 1.3\n",
      "DEBUG:gym-duckietown:pos: [0.89686007 0.         0.5109908 ]\n",
      "DEBUG:gym-duckietown:l_pos: [0.88753538 0.         0.41393772]\n",
      "DEBUG:gym-duckietown:r_pos: [0.90618476 0.         0.60804387]\n",
      "DEBUG:gym-duckietown:f_pos: [1.01332376 0.         0.49980117]\n",
      "INFO:gym-duckietown:Starting at [0.78092614 0.         0.48329204] 0.4325389349886889\n",
      "INFO:gym-duckietown:using DuckietownEnv\n",
      "/usr/local/lib/python3.8/site-packages/gym/spaces/box.py:78: UserWarning: \u001b[33mWARN: Box bound precision lowered by casting to float32\u001b[0m\n",
      "  logger.warn(f\"Box bound precision lowered by casting to {self.dtype}\")\n",
      "DEBUG:gym-duckietown:No tile found at [-0.01371386  0.          0.22177319] (-1, 0)\n",
      "DEBUG:gym-duckietown:Invalid pose. Collision free: True On drivable area: False\n",
      "DEBUG:gym-duckietown:safety_factor: 1.3\n",
      "DEBUG:gym-duckietown:pos: [0.06534601 0.         0.16471369]\n",
      "DEBUG:gym-duckietown:l_pos: [0.14440588 0.         0.10765418]\n",
      "DEBUG:gym-duckietown:r_pos: [-0.01371386  0.          0.22177319]\n",
      "DEBUG:gym-duckietown:f_pos: [0.13381742 0.         0.25958553]\n",
      "DEBUG:gym-duckietown:No tile found at [-0.00238618  0.          0.2389467 ] (-1, 0)\n",
      "DEBUG:gym-duckietown:Invalid pose. Collision free: True On drivable area: False\n",
      "DEBUG:gym-duckietown:safety_factor: 1.3\n",
      "DEBUG:gym-duckietown:pos: [0.10979332 0.         0.27218463]\n",
      "DEBUG:gym-duckietown:l_pos: [0.08209505 0.         0.36566754]\n",
      "DEBUG:gym-duckietown:r_pos: [0.13749159 0.         0.17870171]\n",
      "DEBUG:gym-duckietown:f_pos: [-0.00238618  0.          0.2389467 ]\n",
      "INFO:gym-duckietown:Starting at [0.39113456 0.         0.35119554] 0.6020130948887659\n",
      "INFO:gym-duckietown:Starting at [1.3923026  0.         0.74621312] 5.440311964141493\n",
      "DEBUG:gym-duckietown:No tile found at [ 1.64380981  0.         -0.00568388] (2, -1)\n",
      "DEBUG:gym-duckietown:Invalid pose. Collision free: True On drivable area: False\n",
      "DEBUG:gym-duckietown:safety_factor: 1.3\n",
      "DEBUG:gym-duckietown:pos: [1.64697956 0.         0.11127317]\n",
      "DEBUG:gym-duckietown:l_pos: [1.54951535 0.         0.11391464]\n",
      "DEBUG:gym-duckietown:r_pos: [1.74444377 0.         0.10863171]\n",
      "DEBUG:gym-duckietown:f_pos: [ 1.64380981  0.         -0.00568388]\n",
      "INFO:gym-duckietown:Starting at [1.39745682 0.         0.36903388] 5.565369216988531\n"
     ]
    },
    {
     "name": "stdout",
     "output_type": "stream",
     "text": [
      "action [0.4903665  0.64974666]\n"
     ]
    },
    {
     "ename": "ValueError",
     "evalue": "setting an array element with a sequence. The requested array has an inhomogeneous shape after 1 dimensions. The detected shape was (2,) + inhomogeneous part.",
     "output_type": "error",
     "traceback": [
      "\u001b[0;31m---------------------------------------------------------------------------\u001b[0m",
      "\u001b[0;31mValueError\u001b[0m                                Traceback (most recent call last)",
      "Cell \u001b[0;32mIn[1], line 25\u001b[0m\n\u001b[1;32m     23\u001b[0m action \u001b[38;5;241m=\u001b[39m env\u001b[38;5;241m.\u001b[39maction_space\u001b[38;5;241m.\u001b[39msample()\n\u001b[1;32m     24\u001b[0m \u001b[38;5;28mprint\u001b[39m(\u001b[38;5;124m'\u001b[39m\u001b[38;5;124maction\u001b[39m\u001b[38;5;124m'\u001b[39m, action)\n\u001b[0;32m---> 25\u001b[0m observation, reward, done, info,\u001b[38;5;241m*\u001b[39mrest \u001b[38;5;241m=\u001b[39m \u001b[43menv\u001b[49m\u001b[38;5;241;43m.\u001b[39;49m\u001b[43mstep\u001b[49m\u001b[43m(\u001b[49m\u001b[43maction\u001b[49m\u001b[43m)\u001b[49m\n\u001b[1;32m     26\u001b[0m frame \u001b[38;5;241m=\u001b[39m env\u001b[38;5;241m.\u001b[39mrender(mode\u001b[38;5;241m=\u001b[39m\u001b[38;5;124m'\u001b[39m\u001b[38;5;124mrgb_array\u001b[39m\u001b[38;5;124m'\u001b[39m)\n\u001b[1;32m     28\u001b[0m \u001b[38;5;66;03m# Clear the previous output and display the new frame\u001b[39;00m\n",
      "File \u001b[0;32m/usr/local/lib/python3.8/site-packages/gym/wrappers/order_enforcing.py:13\u001b[0m, in \u001b[0;36mOrderEnforcing.step\u001b[0;34m(self, action)\u001b[0m\n\u001b[1;32m     11\u001b[0m \u001b[38;5;28;01mdef\u001b[39;00m \u001b[38;5;21mstep\u001b[39m(\u001b[38;5;28mself\u001b[39m, action):\n\u001b[1;32m     12\u001b[0m     \u001b[38;5;28;01massert\u001b[39;00m \u001b[38;5;28mself\u001b[39m\u001b[38;5;241m.\u001b[39m_has_reset, \u001b[38;5;124m\"\u001b[39m\u001b[38;5;124mCannot call env.step() before calling reset()\u001b[39m\u001b[38;5;124m\"\u001b[39m\n\u001b[0;32m---> 13\u001b[0m     observation, reward, done, info \u001b[38;5;241m=\u001b[39m \u001b[38;5;28;43mself\u001b[39;49m\u001b[38;5;241;43m.\u001b[39;49m\u001b[43menv\u001b[49m\u001b[38;5;241;43m.\u001b[39;49m\u001b[43mstep\u001b[49m\u001b[43m(\u001b[49m\u001b[43maction\u001b[49m\u001b[43m)\u001b[49m\n\u001b[1;32m     14\u001b[0m     \u001b[38;5;28;01mreturn\u001b[39;00m observation, reward, done, info\n",
      "File \u001b[0;32m/gym-duckietown/src/gym_duckietown/envs/duckietown_env.py:63\u001b[0m, in \u001b[0;36mDuckietownEnv.step\u001b[0;34m(self, action)\u001b[0m\n\u001b[1;32m     59\u001b[0m u_l_limited \u001b[38;5;241m=\u001b[39m \u001b[38;5;28mmax\u001b[39m(\u001b[38;5;28mmin\u001b[39m(u_l, \u001b[38;5;28mself\u001b[39m\u001b[38;5;241m.\u001b[39mlimit), \u001b[38;5;241m-\u001b[39m\u001b[38;5;28mself\u001b[39m\u001b[38;5;241m.\u001b[39mlimit)\n\u001b[1;32m     61\u001b[0m vels \u001b[38;5;241m=\u001b[39m np\u001b[38;5;241m.\u001b[39marray([u_l_limited, u_r_limited])\n\u001b[0;32m---> 63\u001b[0m obs, reward, done, info \u001b[38;5;241m=\u001b[39m \u001b[43mSimulator\u001b[49m\u001b[38;5;241;43m.\u001b[39;49m\u001b[43mstep\u001b[49m\u001b[43m(\u001b[49m\u001b[38;5;28;43mself\u001b[39;49m\u001b[43m,\u001b[49m\u001b[43m \u001b[49m\u001b[43mvels\u001b[49m\u001b[43m)\u001b[49m\n\u001b[1;32m     64\u001b[0m mine \u001b[38;5;241m=\u001b[39m {}\n\u001b[1;32m     65\u001b[0m mine[\u001b[38;5;124m\"\u001b[39m\u001b[38;5;124mk\u001b[39m\u001b[38;5;124m\"\u001b[39m] \u001b[38;5;241m=\u001b[39m \u001b[38;5;28mself\u001b[39m\u001b[38;5;241m.\u001b[39mk\n",
      "File \u001b[0;32m/gym-duckietown/src/gym_duckietown/simulator.py:1674\u001b[0m, in \u001b[0;36mSimulator.step\u001b[0;34m(self, action)\u001b[0m\n\u001b[1;32m   1672\u001b[0m action \u001b[38;5;241m=\u001b[39m np\u001b[38;5;241m.\u001b[39marray(action)\n\u001b[1;32m   1673\u001b[0m \u001b[38;5;28;01mfor\u001b[39;00m _ \u001b[38;5;129;01min\u001b[39;00m \u001b[38;5;28mrange\u001b[39m(\u001b[38;5;28mself\u001b[39m\u001b[38;5;241m.\u001b[39mframe_skip):\n\u001b[0;32m-> 1674\u001b[0m     \u001b[38;5;28;43mself\u001b[39;49m\u001b[38;5;241;43m.\u001b[39;49m\u001b[43mupdate_physics\u001b[49m\u001b[43m(\u001b[49m\u001b[43maction\u001b[49m\u001b[43m)\u001b[49m\n\u001b[1;32m   1676\u001b[0m \u001b[38;5;66;03m# Generate the current camera image\u001b[39;00m\n\u001b[1;32m   1677\u001b[0m obs \u001b[38;5;241m=\u001b[39m \u001b[38;5;28mself\u001b[39m\u001b[38;5;241m.\u001b[39mrender_obs()\n",
      "File \u001b[0;32m/gym-duckietown/src/gym_duckietown/simulator.py:1559\u001b[0m, in \u001b[0;36mSimulator.update_physics\u001b[0;34m(self, action, delta_time)\u001b[0m\n\u001b[1;32m   1556\u001b[0m prev_pos \u001b[38;5;241m=\u001b[39m \u001b[38;5;28mself\u001b[39m\u001b[38;5;241m.\u001b[39mcur_pos\n\u001b[1;32m   1558\u001b[0m \u001b[38;5;66;03m# Update the robot's position\u001b[39;00m\n\u001b[0;32m-> 1559\u001b[0m \u001b[38;5;28mself\u001b[39m\u001b[38;5;241m.\u001b[39mcur_pos, \u001b[38;5;28mself\u001b[39m\u001b[38;5;241m.\u001b[39mcur_angle \u001b[38;5;241m=\u001b[39m \u001b[43m_update_pos\u001b[49m\u001b[43m(\u001b[49m\u001b[38;5;28;43mself\u001b[39;49m\u001b[43m,\u001b[49m\u001b[43m \u001b[49m\u001b[43maction\u001b[49m\u001b[43m)\u001b[49m\n\u001b[1;32m   1561\u001b[0m \u001b[38;5;28mself\u001b[39m\u001b[38;5;241m.\u001b[39mstep_count \u001b[38;5;241m+\u001b[39m\u001b[38;5;241m=\u001b[39m \u001b[38;5;241m1\u001b[39m\n\u001b[1;32m   1562\u001b[0m \u001b[38;5;28mself\u001b[39m\u001b[38;5;241m.\u001b[39mtimestamp \u001b[38;5;241m+\u001b[39m\u001b[38;5;241m=\u001b[39m delta_time\n",
      "File \u001b[0;32m/gym-duckietown/src/gym_duckietown/simulator.py:2084\u001b[0m, in \u001b[0;36m_update_pos\u001b[0;34m(self, action)\u001b[0m\n\u001b[1;32m   2077\u001b[0m \u001b[38;5;250m\u001b[39m\u001b[38;5;124;03m\"\"\"\u001b[39;00m\n\u001b[1;32m   2078\u001b[0m \u001b[38;5;124;03mUpdate the position of the robot, simulating differential drive\u001b[39;00m\n\u001b[1;32m   2079\u001b[0m \n\u001b[1;32m   2080\u001b[0m \u001b[38;5;124;03mreturns pos, angle\u001b[39;00m\n\u001b[1;32m   2081\u001b[0m \u001b[38;5;124;03m\"\"\"\u001b[39;00m\n\u001b[1;32m   2083\u001b[0m action \u001b[38;5;241m=\u001b[39m DynamicsInfo(motor_left\u001b[38;5;241m=\u001b[39maction[\u001b[38;5;241m0\u001b[39m], motor_right\u001b[38;5;241m=\u001b[39maction[\u001b[38;5;241m1\u001b[39m])\n\u001b[0;32m-> 2084\u001b[0m \u001b[38;5;28mself\u001b[39m\u001b[38;5;241m.\u001b[39mstate \u001b[38;5;241m=\u001b[39m \u001b[38;5;28;43mself\u001b[39;49m\u001b[38;5;241;43m.\u001b[39;49m\u001b[43mstate\u001b[49m\u001b[38;5;241;43m.\u001b[39;49m\u001b[43mintegrate\u001b[49m\u001b[43m(\u001b[49m\u001b[38;5;28;43mself\u001b[39;49m\u001b[38;5;241;43m.\u001b[39;49m\u001b[43mdelta_time\u001b[49m\u001b[43m,\u001b[49m\u001b[43m \u001b[49m\u001b[43maction\u001b[49m\u001b[43m)\u001b[49m\n\u001b[1;32m   2085\u001b[0m q \u001b[38;5;241m=\u001b[39m \u001b[38;5;28mself\u001b[39m\u001b[38;5;241m.\u001b[39mstate\u001b[38;5;241m.\u001b[39mTSE2_from_state()[\u001b[38;5;241m0\u001b[39m]\n\u001b[1;32m   2086\u001b[0m pos, angle \u001b[38;5;241m=\u001b[39m \u001b[38;5;28mself\u001b[39m\u001b[38;5;241m.\u001b[39mweird_from_cartesian(q)\n",
      "File \u001b[0;32m/usr/local/lib/python3.8/site-packages/duckietown_world/world_duckietown/dynamics_delay.py:80\u001b[0m, in \u001b[0;36mDelayedDynamics.integrate\u001b[0;34m(self, dt, commands)\u001b[0m\n\u001b[1;32m     78\u001b[0m i, told, use_commands \u001b[38;5;241m=\u001b[39m \u001b[38;5;28mself\u001b[39m\u001b[38;5;241m.\u001b[39mget_commands_at(\u001b[38;5;28mself\u001b[39m\u001b[38;5;241m.\u001b[39mt \u001b[38;5;241m-\u001b[39m \u001b[38;5;28mself\u001b[39m\u001b[38;5;241m.\u001b[39mdelay)\n\u001b[1;32m     79\u001b[0m \u001b[38;5;66;03m# print(f't = {self.t}, t old = {told}'  )\u001b[39;00m\n\u001b[0;32m---> 80\u001b[0m state2 \u001b[38;5;241m=\u001b[39m \u001b[38;5;28;43mself\u001b[39;49m\u001b[38;5;241;43m.\u001b[39;49m\u001b[43mstate\u001b[49m\u001b[38;5;241;43m.\u001b[39;49m\u001b[43mintegrate\u001b[49m\u001b[43m(\u001b[49m\u001b[43mdt\u001b[49m\u001b[43m,\u001b[49m\u001b[43m \u001b[49m\u001b[43muse_commands\u001b[49m\u001b[43m)\u001b[49m\n\u001b[1;32m     82\u001b[0m next_state \u001b[38;5;241m=\u001b[39m DelayedDynamics(\n\u001b[1;32m     83\u001b[0m     state2,\n\u001b[1;32m     84\u001b[0m     \u001b[38;5;28mself\u001b[39m\u001b[38;5;241m.\u001b[39mdelay,\n\u001b[0;32m   (...)\u001b[0m\n\u001b[1;32m     88\u001b[0m     timestamps\u001b[38;5;241m=\u001b[39m\u001b[38;5;28mlist\u001b[39m(\u001b[38;5;28mself\u001b[39m\u001b[38;5;241m.\u001b[39mtimestamps),\n\u001b[1;32m     89\u001b[0m )\n\u001b[1;32m     90\u001b[0m \u001b[38;5;28;01mreturn\u001b[39;00m next_state\n",
      "File \u001b[0;32m/usr/local/lib/python3.8/site-packages/duckietown_world/world_duckietown/pwm_dynamics.py:196\u001b[0m, in \u001b[0;36mDynamicModel.integrate\u001b[0;34m(self, dt, commands)\u001b[0m\n\u001b[1;32m    193\u001b[0m linear \u001b[38;5;241m=\u001b[39m [longitudinal, lateral]\n\u001b[1;32m    195\u001b[0m \u001b[38;5;66;03m# represent this as se(2)\u001b[39;00m\n\u001b[0;32m--> 196\u001b[0m commands_se2 \u001b[38;5;241m=\u001b[39m \u001b[43mgeo\u001b[49m\u001b[38;5;241;43m.\u001b[39;49m\u001b[43mse2_from_linear_angular\u001b[49m\u001b[43m(\u001b[49m\u001b[43mlinear\u001b[49m\u001b[43m,\u001b[49m\u001b[43m \u001b[49m\u001b[43mangular\u001b[49m\u001b[43m)\u001b[49m\n\u001b[1;32m    198\u001b[0m \u001b[38;5;66;03m# call the \"integrate\" function of GenericKinematicsSE2\u001b[39;00m\n\u001b[1;32m    199\u001b[0m s1 \u001b[38;5;241m=\u001b[39m GenericKinematicsSE2\u001b[38;5;241m.\u001b[39mintegrate(\u001b[38;5;28mself\u001b[39m, dt, commands_se2)\n",
      "File \u001b[0;32m/usr/local/lib/python3.8/site-packages/geometry/poses.py:274\u001b[0m, in \u001b[0;36mse2_from_linear_angular\u001b[0;34m(linear, angular)\u001b[0m\n\u001b[1;32m    271\u001b[0m \u001b[38;5;129m@contract\u001b[39m(linear\u001b[38;5;241m=\u001b[39m\u001b[38;5;124m\"\u001b[39m\u001b[38;5;124m(array[2],finite)|seq[2](number,finite)\u001b[39m\u001b[38;5;124m\"\u001b[39m, angular\u001b[38;5;241m=\u001b[39m\u001b[38;5;124m\"\u001b[39m\u001b[38;5;124mnumber,finite\u001b[39m\u001b[38;5;124m\"\u001b[39m, returns\u001b[38;5;241m=\u001b[39m\u001b[38;5;124m\"\u001b[39m\u001b[38;5;124mse2\u001b[39m\u001b[38;5;124m\"\u001b[39m)\n\u001b[1;32m    272\u001b[0m \u001b[38;5;28;01mdef\u001b[39;00m \u001b[38;5;21mse2_from_linear_angular\u001b[39m(linear: Union[T2value, List[\u001b[38;5;28mfloat\u001b[39m]], angular: \u001b[38;5;28mfloat\u001b[39m) \u001b[38;5;241m-\u001b[39m\u001b[38;5;241m>\u001b[39m SE2value:\n\u001b[1;32m    273\u001b[0m \u001b[38;5;250m    \u001b[39m\u001b[38;5;124;03m\"\"\" Returns an element of se2 from linear and angular velocity. \"\"\"\u001b[39;00m\n\u001b[0;32m--> 274\u001b[0m     linear \u001b[38;5;241m=\u001b[39m \u001b[43mnp\u001b[49m\u001b[38;5;241;43m.\u001b[39;49m\u001b[43marray\u001b[49m\u001b[43m(\u001b[49m\u001b[43mlinear\u001b[49m\u001b[43m,\u001b[49m\u001b[43m \u001b[49m\u001b[43mdtype\u001b[49m\u001b[38;5;241;43m=\u001b[39;49m\u001b[38;5;124;43m'\u001b[39;49m\u001b[38;5;124;43mfloat64\u001b[39;49m\u001b[38;5;124;43m'\u001b[39;49m\u001b[43m)\u001b[49m\n\u001b[1;32m    275\u001b[0m     M \u001b[38;5;241m=\u001b[39m hat_map_2d(angular)\n\u001b[1;32m    276\u001b[0m     \u001b[38;5;28;01mreturn\u001b[39;00m combine_pieces(M, linear, linear \u001b[38;5;241m*\u001b[39m \u001b[38;5;241m0\u001b[39m, \u001b[38;5;241m0\u001b[39m)\n",
      "\u001b[0;31mValueError\u001b[0m: setting an array element with a sequence. The requested array has an inhomogeneous shape after 1 dimensions. The detected shape was (2,) + inhomogeneous part."
     ]
    }
   ],
   "source": [
    "import gym\n",
    "import gym_duckietown\n",
    "from IPython.display import display, clear_output\n",
    "from PIL import Image\n",
    "\n",
    "# Create the environment\n",
    "env = gym.make('Duckietown-small_loop-v0')\n",
    "env.reset()\n",
    "\n",
    "# Helper function to display an image in Jupyter notebook\n",
    "def show_array(arr):\n",
    "    img = Image.fromarray(arr, 'RGB')\n",
    "    # Make the image smaller to increase the FPS of the notebook\n",
    "    img = img.resize((320, 240))\n",
    "    display(img)\n",
    "\n",
    "# Run the simulation until we're done\n",
    "done = False\n",
    "\n",
    "env.reset()\n",
    "while not done:\n",
    "    env.reset()\n",
    "    action = env.action_space.sample()\n",
    "    print('action', action)\n",
    "    observation, reward, done, info,*rest = env.step(action)\n",
    "    frame = env.render(mode='rgb_array')\n",
    "\n",
    "    # Clear the previous output and display the new frame\n",
    "    clear_output(wait=True)\n",
    "    show_array(frame)\n",
    "    \n",
    "    if done:\n",
    "        env.reset()\n",
    "\n",
    "env.close()"
   ]
  },
  {
   "cell_type": "code",
   "execution_count": null,
   "metadata": {},
   "outputs": [],
   "source": []
  }
 ],
 "metadata": {
  "kernelspec": {
   "display_name": "Python 3 (ipykernel)",
   "language": "python",
   "name": "python3"
  },
  "language_info": {
   "codemirror_mode": {
    "name": "ipython",
    "version": 3
   },
   "file_extension": ".py",
   "mimetype": "text/x-python",
   "name": "python",
   "nbconvert_exporter": "python",
   "pygments_lexer": "ipython3",
   "version": "3.8.18"
  }
 },
 "nbformat": 4,
 "nbformat_minor": 4
}
